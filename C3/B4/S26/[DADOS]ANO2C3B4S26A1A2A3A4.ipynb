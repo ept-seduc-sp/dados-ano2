{
 "cells": [
  {
   "cell_type": "markdown",
   "id": "e5ae43ac",
   "metadata": {},
   "source": [
    "\n",
    "**Componente:** Análise Exploratória de Dados e Inteligência de Negócios \n",
    "<br>\n",
    "**Unidade Curricular:** Software de Análise de Dados\n",
    "<br>\n",
    "**Tema da Semana:** Revisão e Exercicios\n",
    "<br>\n"
   ]
  },
  {
   "cell_type": "markdown",
   "id": "43b3b24e",
   "metadata": {
    "vscode": {
     "languageId": "plaintext"
    }
   },
   "source": [
    "# Aula 1\n",
    "\n"
   ]
  },
  {
   "cell_type": "markdown",
   "id": "28c0debd",
   "metadata": {},
   "source": [
    "## Ingestão Web Scrap"
   ]
  },
  {
   "cell_type": "markdown",
   "id": "899876fb",
   "metadata": {},
   "source": [
    "<img src=\"S26A1 - 1- Ingestão WebScrap_.gif\" alt=\"Descrição do GIF\" width=\"900\"/>"
   ]
  },
  {
   "cell_type": "markdown",
   "id": "ffc8bf65",
   "metadata": {},
   "source": [
    "## TRatamento climate_changes_indicators.csv"
   ]
  },
  {
   "cell_type": "markdown",
   "id": "5fcd3ec4",
   "metadata": {},
   "source": [
    "<img src=\"S26A1 - 2 - climate_changes_indicators_csv.gif\" alt=\"Descrição do GIF\" width=\"900\"/>"
   ]
  },
  {
   "cell_type": "markdown",
   "id": "64ed72f3",
   "metadata": {},
   "source": [
    "## Tratamento Global Temperature.csv"
   ]
  },
  {
   "cell_type": "markdown",
   "id": "6b15f4a1",
   "metadata": {},
   "source": [
    "<img src=\"S26A1 - 3 - Global Temperature_csv.gif\" alt=\"Descrição do GIF\" width=\"900\"/>"
   ]
  },
  {
   "cell_type": "markdown",
   "id": "67d717bf",
   "metadata": {},
   "source": [
    "## Tratamento GlobalLandTemperatureByCountry.csv"
   ]
  },
  {
   "cell_type": "markdown",
   "id": "00997229",
   "metadata": {
    "vscode": {
     "languageId": "plaintext"
    }
   },
   "source": [
    "<img src=\"S26A1 - 4 - GlobalLandTemperatureByCountry_csv.gif\" alt=\"Descrição do GIF\" width=\"900\"/>"
   ]
  },
  {
   "cell_type": "markdown",
   "id": "77f49b4b",
   "metadata": {},
   "source": [
    "## Tratamento GlobalLandTemperatureByMajorCity.csv"
   ]
  },
  {
   "cell_type": "markdown",
   "id": "505857cd",
   "metadata": {
    "vscode": {
     "languageId": "plaintext"
    }
   },
   "source": [
    "<img src=\"S26A1 - 5 - GlobalLandTemperatureByMajorCity_csv.gif\" alt=\"Descrição do GIF\" width=\"900\"/>"
   ]
  },
  {
   "cell_type": "markdown",
   "id": "b36e4125",
   "metadata": {},
   "source": [
    "## Tratamento GlobalLandTemperatureByState.csv"
   ]
  },
  {
   "cell_type": "markdown",
   "id": "ebfba87d",
   "metadata": {},
   "source": [
    "<img src=\"S26A1 - 6 - GlobalLandTemperatureByState_csv.gif\" alt=\"Descrição do GIF\" width=\"900\"/>"
   ]
  },
  {
   "cell_type": "markdown",
   "id": "e3aba459",
   "metadata": {},
   "source": [
    "# Aula 2\n",
    "\n"
   ]
  },
  {
   "cell_type": "markdown",
   "id": "da0dea3a",
   "metadata": {
    "vscode": {
     "languageId": "plaintext"
    }
   },
   "source": [
    "## Criando Dimensão Calendário"
   ]
  },
  {
   "cell_type": "markdown",
   "id": "340e979e",
   "metadata": {},
   "source": [
    "<img src=\"S26A2 - 1 criando dimensão calendário.gif\" alt=\"Descrição do GIF\" width=\"900\"/>"
   ]
  },
  {
   "cell_type": "markdown",
   "id": "920af807",
   "metadata": {},
   "source": [
    "## Criando Dimensão Paises"
   ]
  },
  {
   "cell_type": "markdown",
   "id": "4a02d9e8",
   "metadata": {},
   "source": [
    "<img src=\"S26A2 - 2 criando dimensão paises.gif\" alt=\"Descrição do GIF\" width=\"900\"/>"
   ]
  },
  {
   "cell_type": "markdown",
   "id": "dd716df7",
   "metadata": {},
   "source": [
    "## Padronizando Nomes das Fatos"
   ]
  },
  {
   "cell_type": "markdown",
   "id": "ce810bd5",
   "metadata": {},
   "source": [
    "<img src=\"S26A2 - 3 Padronizando nomes das fatos.gif\" alt=\"Descrição do GIF\" width=\"900\"/>"
   ]
  },
  {
   "cell_type": "markdown",
   "id": "5c7adb12",
   "metadata": {},
   "source": [
    "## Criação de Fatos Agregadas"
   ]
  },
  {
   "cell_type": "markdown",
   "id": "b6bd688c",
   "metadata": {},
   "source": [
    "<img src=\"S26A2 - 4 Criação de Fatos Agregadas.gif\" alt=\"Descrição do GIF\" width=\"900\"/>"
   ]
  },
  {
   "cell_type": "markdown",
   "id": "e3678b92",
   "metadata": {},
   "source": [
    "## Criação da Dimensão Cidade"
   ]
  },
  {
   "cell_type": "markdown",
   "id": "38f002f9",
   "metadata": {},
   "source": [
    "<img src=\"S26A2 - 5 Criação de Dimensão Cidade.gif\" alt=\"Descrição do GIF\" width=\"900\"/>"
   ]
  },
  {
   "cell_type": "markdown",
   "id": "67650443",
   "metadata": {},
   "source": [
    "## Categoriação dos tipos dos Campos"
   ]
  },
  {
   "cell_type": "markdown",
   "id": "9901f228",
   "metadata": {},
   "source": [
    "<img src=\"S26A2 - 6 Categoriação dos tipos dos Campos.gif\" alt=\"Descrição do GIF\" width=\"900\"/>"
   ]
  },
  {
   "cell_type": "markdown",
   "id": "2d7eadf3",
   "metadata": {},
   "source": [
    "## Criando Relacionamentos"
   ]
  },
  {
   "cell_type": "markdown",
   "id": "4cba1dba",
   "metadata": {},
   "source": [
    "<img src=\"S26A2 - 7 criando os Relacionamentos.gif\" alt=\"Descrição do GIF\" width=\"900\"/>"
   ]
  },
  {
   "cell_type": "markdown",
   "id": "9601f275",
   "metadata": {},
   "source": [
    "# Aula 3\n",
    "\n"
   ]
  },
  {
   "cell_type": "markdown",
   "id": "2e4e5b45",
   "metadata": {},
   "source": [
    "## Importando Tema"
   ]
  },
  {
   "cell_type": "markdown",
   "id": "925c15e8",
   "metadata": {},
   "source": [
    "\n",
    "<img src=\"S26A3 - 1 - Importando Tema.gif\" alt=\"Descrição do GIF\" width=\"900\"/>"
   ]
  },
  {
   "cell_type": "markdown",
   "id": "aa5cddfb",
   "metadata": {},
   "source": [
    "## Criando Gráfico Variação Anual de Temperatura"
   ]
  },
  {
   "cell_type": "markdown",
   "id": "57873ec4",
   "metadata": {},
   "source": [
    "<img src=\"S26A3 - 2 - Criando Gráfico Variação Anual de Temperatura.gif\" alt=\"Descrição do GIF\" width=\"900\"/>"
   ]
  },
  {
   "cell_type": "markdown",
   "id": "dd95707c",
   "metadata": {},
   "source": [
    "## Criando Gráfico Variação Anual Durante as Décadas"
   ]
  },
  {
   "cell_type": "markdown",
   "id": "7780803f",
   "metadata": {},
   "source": [
    "\n",
    "<img src=\"S26A3 - 3- Criando Gráfico Variação Anual Durante as Décadas.gif\" alt=\"Descrição do GIF\" width=\"900\"/>"
   ]
  },
  {
   "cell_type": "markdown",
   "id": "cda51198",
   "metadata": {},
   "source": [
    "## Criando Gráfico Heat Map Mensal"
   ]
  },
  {
   "cell_type": "markdown",
   "id": "d1b1fd14",
   "metadata": {},
   "source": [
    "<img src=\"S26A3 - 4 - Criando Gráfico Heat Map Mensal.gif\" alt=\"Descrição do GIF\" width=\"900\"/>"
   ]
  },
  {
   "cell_type": "markdown",
   "id": "5a607a55",
   "metadata": {},
   "source": [
    "## Criando Gráfico Heat Map Decadas"
   ]
  },
  {
   "cell_type": "markdown",
   "id": "c8128527",
   "metadata": {},
   "source": [
    "<img src=\"S26A3 - 5 - Criando Gráfico Heat Map Decadas.gif\" alt=\"Descrição do GIF\" width=\"900\"/>"
   ]
  },
  {
   "cell_type": "markdown",
   "id": "e478577a",
   "metadata": {},
   "source": [
    "## Criando Gráfico Maps Calor por Cidade Grande"
   ]
  },
  {
   "cell_type": "markdown",
   "id": "8434e7f0",
   "metadata": {},
   "source": [
    "<img src=\"S26A3 - 6 - Criando Gráfico Maps Calor por Cidade Grande.gif\" alt=\"Descrição do GIF\" width=\"900\"/>"
   ]
  },
  {
   "cell_type": "markdown",
   "id": "cb57ec95",
   "metadata": {},
   "source": [
    "## Criando Gráfico Mapa por estado"
   ]
  },
  {
   "cell_type": "markdown",
   "id": "5c6ddea0",
   "metadata": {},
   "source": [
    "<img src=\"S26A3 - 8 - Criando Gráfico Mapa por estado.gif\" alt=\"Descrição do GIF\" width=\"900\"/>"
   ]
  },
  {
   "cell_type": "markdown",
   "id": "491ea3cd",
   "metadata": {},
   "source": [
    "## Temp Média pais - Mes"
   ]
  },
  {
   "cell_type": "markdown",
   "id": "50fafef7",
   "metadata": {},
   "source": [
    "<img src=\"S26A3 - 9 - Temp Média pais - Mes.gif\" alt=\"Descrição do GIF\" width=\"900\"/>"
   ]
  },
  {
   "cell_type": "markdown",
   "id": "85b4cd28",
   "metadata": {},
   "source": [
    "# Aula 4"
   ]
  },
  {
   "cell_type": "markdown",
   "id": "aea302fe",
   "metadata": {},
   "source": [
    "## Adicionando Filtro de data"
   ]
  },
  {
   "cell_type": "markdown",
   "id": "3cc2c853",
   "metadata": {},
   "source": [
    "<img src=\"S26A4 - 1 - Adicionando Filtro de data.gif\" alt=\"Descrição do GIF\" width=\"900\"/>"
   ]
  },
  {
   "cell_type": "markdown",
   "id": "7fbc90c8",
   "metadata": {},
   "source": [
    "## Adicionando Filtro de Continente"
   ]
  },
  {
   "cell_type": "markdown",
   "id": "81fe2216",
   "metadata": {},
   "source": [
    "<img src=\"S26A4 - 2 - Adicionando Filtro de Continente.gif\" alt=\"Descrição do GIF\" width=\"900\"/>"
   ]
  },
  {
   "cell_type": "markdown",
   "id": "2a591730",
   "metadata": {},
   "source": [
    "## Adicionando Botões Navegação"
   ]
  },
  {
   "cell_type": "markdown",
   "id": "997076c6",
   "metadata": {},
   "source": [
    "<img src=\"S26A4 - 3 - Adicionando Botões Navegação.gif\" alt=\"Descrição do GIF\" width=\"900\"/>"
   ]
  },
  {
   "cell_type": "markdown",
   "id": "c3df4c86",
   "metadata": {},
   "source": [
    "## Adicionando Botões Voltar"
   ]
  },
  {
   "cell_type": "markdown",
   "id": "e1ce2132",
   "metadata": {},
   "source": [
    "<img src=\"S26A4 - 4 - Adicionando Botões Voltar.gif\" alt=\"Descrição do GIF\" width=\"900\"/>"
   ]
  }
 ],
 "metadata": {
  "kernelspec": {
   "display_name": "Python 3 (ipykernel)",
   "language": "python",
   "name": "python3"
  },
  "language_info": {
   "codemirror_mode": {
    "name": "ipython",
    "version": 3
   },
   "file_extension": ".py",
   "mimetype": "text/x-python",
   "name": "python",
   "nbconvert_exporter": "python",
   "pygments_lexer": "ipython3",
   "version": "3.12.8"
  }
 },
 "nbformat": 4,
 "nbformat_minor": 5
}
