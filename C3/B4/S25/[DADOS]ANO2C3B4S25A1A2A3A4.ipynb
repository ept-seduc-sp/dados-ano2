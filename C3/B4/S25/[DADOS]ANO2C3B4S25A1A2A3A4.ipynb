{
 "cells": [
  {
   "cell_type": "markdown",
   "id": "e5ae43ac",
   "metadata": {},
   "source": [
    "# ANIMAÇÕES PARA PRÁTICA\n",
    "\n",
    "**Componente:** Análise Exploratória de Dados e Inteligência de Negócios \n",
    "<br>\n",
    "**Unidade Curricular:** Software de Análise de Dados\n",
    "<br>\n",
    "**Tema da Semana:** PowerBI Service (Parte 3)\n",
    "<br>\n"
   ]
  },
  {
   "cell_type": "markdown",
   "id": "43b3b24e",
   "metadata": {
    "vscode": {
     "languageId": "plaintext"
    }
   },
   "source": [
    "# Aula 1 - Como Criar um Relatório Paginado\n",
    "\n"
   ]
  },
  {
   "cell_type": "markdown",
   "id": "899876fb",
   "metadata": {},
   "source": [
    "<img src=\"S25A1 - Relatório Paginado.gif\" alt=\"Descrição do GIF\" width=\"900\"/>"
   ]
  },
  {
   "cell_type": "markdown",
   "id": "e3aba459",
   "metadata": {},
   "source": [
    "# Aula 2 - Como Criar ScoreCards\n",
    "\n"
   ]
  },
  {
   "cell_type": "markdown",
   "id": "340e979e",
   "metadata": {},
   "source": [
    "<img src=\"S25A2 - Scorecard.gif\" alt=\"Descrição do GIF\" width=\"900\"/>"
   ]
  },
  {
   "cell_type": "markdown",
   "id": "9601f275",
   "metadata": {},
   "source": [
    "# Aula 3 - Como Criar Paineis\n",
    "\n"
   ]
  },
  {
   "cell_type": "markdown",
   "id": "ac87ce89",
   "metadata": {},
   "source": [
    "<img src=\"S25A3 - Paineis.gif\" alt=\"Descrição do GIF\" width=\"900\"/>"
   ]
  },
  {
   "cell_type": "markdown",
   "id": "20ae44c0",
   "metadata": {},
   "source": [
    "# Aula 4 - Como Criar Aplicativos\n",
    "\n"
   ]
  },
  {
   "cell_type": "markdown",
   "id": "6ca49c48",
   "metadata": {},
   "source": [
    "<img src=\"S25A4 - Aplicativos.gif\" alt=\"Descrição do GIF\" width=\"900\"/>"
   ]
  }
 ],
 "metadata": {
  "kernelspec": {
   "display_name": "Python 3 (ipykernel)",
   "language": "python",
   "name": "python3"
  },
  "language_info": {
   "codemirror_mode": {
    "name": "ipython",
    "version": 3
   },
   "file_extension": ".py",
   "mimetype": "text/x-python",
   "name": "python",
   "nbconvert_exporter": "python",
   "pygments_lexer": "ipython3",
   "version": "3.12.8"
  }
 },
 "nbformat": 4,
 "nbformat_minor": 5
}
