{
 "cells": [
  {
   "cell_type": "markdown",
   "id": "6f4fedb8-508c-4b8d-9a77-3911bed4ddac",
   "metadata": {},
   "source": [
    "\n",
    "<h1 style=\"text-align: center;\">TÉCNICO EM CIÊNCIA DE DADOS</h1>\n",
    "<h1 style=\"text-align: center;\">Roteiro de Atividade Prática</h1>\n",
    "<br>\n",
    "<br>\n",
    "\n",
    "**Componente:** Programação Aplicada à Ciência de Dados \n",
    "<br>\n",
    "**Unidade Curricular:** Lógica de Programação e Fundamentos de Python\n",
    "<br>\n",
    "**Tema da Semana:** Variáveis e tipos de dados em Python\n",
    "<br>"
   ]
  },
  {
   "cell_type": "markdown",
   "id": "49cd9e12",
   "metadata": {},
   "source": [
    "# Aula 3 — Conversão de tipos em Python (casting)"
   ]
  },
  {
   "cell_type": "markdown",
   "id": "6f46f8f4",
   "metadata": {},
   "source": [
    "## 1) Por que converter tipos?\n",
    "Em muitos contextos, os dados chegam como **texto** (por exemplo: *input* do teclado, planilhas, formulários online ou APIs).\n",
    "Para fazer cálculos ou comparações numéricas, precisamos **converter** esse texto para tipos numéricos (\"*casting*\").\n",
    "\n",
    "**Exemplos:**\n",
    "- Calcular a **média de notas** digitadas como texto.\n",
    "- Somar a **quantidade de ingressos** vendidos em um evento.\n",
    "- Aplicar **desconto** em preços que vieram como string (ex.: '4,50')."
   ]
  },
  {
   "cell_type": "markdown",
   "id": "112fd447",
   "metadata": {},
   "source": [
    "## 2) Revisão rápida: tipos básicos e `type()`\n",
    "\n",
    "Tipos mais comuns: `int` (inteiro), `float` (decimal), `str` (texto), `bool` (lógico).\n",
    "Use `type()` para inspecionar o tipo de uma variável."
   ]
  },
  {
   "cell_type": "code",
   "execution_count": null,
   "id": "87e92608",
   "metadata": {},
   "outputs": [],
   "source": [
    "# Criando variáveis de tipos diferentes e inspecionando seus tipos\n",
    "\n",
    "a = 10          # int (inteiro)\n",
    "b = 3.14        # float (número decimal)\n",
    "c = '25'        # str (texto)\n",
    "d = True        # bool (lógico)\n",
    "\n",
    "print(a, '->', type(a))\n",
    "print(b, '->', type(b))\n",
    "print(c, '->', type(c))\n",
    "print(d, '->', type(d))"
   ]
  },
  {
   "cell_type": "markdown",
   "id": "19a6c99b",
   "metadata": {},
   "source": [
    "## 3) Casting **implícito**\n",
    "Às vezes, o Python converte tipos **automaticamente** durante operações. Isso é chamado de *casting implícito*.\n",
    "\n",
    "**Regras comuns:**\n",
    "- `int + float` resulta em `float` (promoção de tipo).\n",
    "- `bool` em operações aritméticas se comporta como `0` (False) e `1` (True).\n",
    "- **Atenção:** combinar `str` com número **não** faz conversão automática."
   ]
  },
  {
   "cell_type": "code",
   "execution_count": null,
   "id": "6587844c",
   "metadata": {},
   "outputs": [],
   "source": [
    "# Exemplo 1: promoção de tipo (int + float -> float)\n",
    "\n",
    "x = 2       # int\n",
    "y = 2.5     # float\n",
    "z = x + y   # resultado será float\n",
    "print(z, type(z))\n",
    "\n",
    "# Exemplo 2: bool em operações aritméticas (True = 1, False = 0)\n",
    "\n",
    "print(True * 5, type(True * 5))\n",
    "print(False + 10, type(False + 10))\n",
    "\n",
    "# Exemplo 3: quando NÃO ocorre casting implícito\n",
    "# Descomente as duas linhas abaixo para ver o erro (TypeError):\n",
    "#resultado = '3' + 2\n",
    "#print(resultado)"
   ]
  },
  {
   "cell_type": "markdown",
   "id": "1eb70523",
   "metadata": {},
   "source": [
    "## 4) Casting **explícito**\n",
    "Quando **forçamos** a conversão, usamos funções de conversão.\n",
    "\n",
    "| Função | Exemplo | Resultado | Observação |\n",
    "|---|---|---|---|\n",
    "| `int(x)` | `int('42')` | `42` (int) | Converte para inteiro (trunca decimais). |\n",
    "| `float(x)` | `float('19.90')` | `19.9` (float) | Usa **ponto** como separador decimal. |\n",
    "| `str(x)` | `str(7)` | `'7'` (str) | Converte para texto. |\n",
    "| `bool(x)` | `bool('')` | `False` | Vazio é `False`; não vazio geralmente é `True`. |\n"
   ]
  },
  {
   "cell_type": "code",
   "execution_count": null,
   "id": "4949bb9a",
   "metadata": {},
   "outputs": [],
   "source": [
    "# Exemplos de casting explícito\n",
    "\n",
    "idade_str = '16'\n",
    "idade = int(idade_str)     # '16' -> 16\n",
    "\n",
    "preco_str = '19.90'\n",
    "preco = float(preco_str)   # '19.90' -> 19.9\n",
    "\n",
    "qtd = 7\n",
    "qtd_str = str(qtd)         # 7 -> '7'\n",
    "\n",
    "print(idade, type(idade))\n",
    "print(preco, type(preco))\n",
    "print(qtd_str, type(qtd_str))\n",
    "\n",
    "# bool() e valores truthy/falsy\n",
    "print(bool(0), bool(1), bool(''), bool('qualquer texto'))"
   ]
  },
  {
   "cell_type": "markdown",
   "id": "7e0a49d3",
   "metadata": {},
   "source": [
    "## 5) Funções de conversão\n",
    "\n",
    "- `int('3.5')` gera **ValueError** (string com ponto decimal não vira int direto).\n",
    "- No padrão brasileiro, decimal usa vírgula: `'3,5'`. Precisamos trocar vírgula por ponto antes de `float()`.\n",
    "- Espaços e sinais costumam ser aceitos: `int('  -42  ')` funciona."
   ]
  },
  {
   "cell_type": "code",
   "execution_count": null,
   "id": "5692e669",
   "metadata": {},
   "outputs": [],
   "source": [
    "# Não se preocupe em entender a estrutura de repetição agora, foque nos tipos de dados e erros que acontecem\n",
    "valores = ['25', '3.5', '3,5', 'abc', '  -42 ']\n",
    "for v in valores:\n",
    "    try:\n",
    "        print(v, '-> int:', int(v))\n",
    "    except ValueError:\n",
    "        print(v, '-> int: ERRO - Não é possível converter para inteiro')\n",
    "\n",
    "# Tratando vírgula para converter em float, use a função replace para substituir a vírgula por ponto\n",
    "v = '3,5'\n",
    "v_float = float(v.replace(',', '.'))\n",
    "print(v, '->', v_float, type(v_float))"
   ]
  },
  {
   "cell_type": "markdown",
   "id": "09367252",
   "metadata": {},
   "source": [
    "## 6) Prática guiada 1 — Somando entradas do usuário\n",
    "\n",
    "**Enunciado:** o usuário digita duas quantidades (texto). Converta para números e some."
   ]
  },
  {
   "cell_type": "code",
   "execution_count": null,
   "id": "ff6eff13",
   "metadata": {},
   "outputs": [],
   "source": [
    "a = input('Digite a quantidade A: ')\n",
    "b = input('Digite a quantidade B: ')\n",
    "\n",
    "a_num = int(a)\n",
    "b_num = int(b)\n",
    "total = a_num + b_num\n",
    "print(f'Soma de {a_num} e {b_num} = {total}')"
   ]
  },
  {
   "cell_type": "markdown",
   "id": "907483e9",
   "metadata": {},
   "source": [
    "## 7) Prática guiada 2 — Média de nota com textos\n",
    "**Enunciado:** notas vêm como `str` (podem ter vírgula). Converta para `float`, calcule a média e exiba com 1 casa decimal."
   ]
  },
  {
   "cell_type": "code",
   "execution_count": null,
   "id": "45e38468",
   "metadata": {},
   "outputs": [],
   "source": [
    "n1, n2, n3 = '7,5', '8.0', '6,0'\n",
    "\n",
    "def to_float_pt(valor_str):\n",
    "    \"\"\"Converte string com vírgula decimal para float com ponto.\n",
    "    Ex.: '3,5' -> 3.5\n",
    "    \"\"\"\n",
    "    return float(valor_str.replace(',', '.'))\n",
    "\n",
    "media = (to_float_pt(n1) + to_float_pt(n2) + to_float_pt(n3)) / 3\n",
    "print(f'Média = {media:.1f}')"
   ]
  },
  {
   "cell_type": "markdown",
   "id": "63249f77",
   "metadata": {},
   "source": [
    "## 8) Prática guiada 3 — Caixa da cantina\n",
    "**Cenário:** preços chegam como texto; quantidade é número; aplicar desconto e calcular total.\n",
    "Dicas: `float()`, `int()`, `str()`, formatação com `f-string` (`:.2f`), cuidado com separador decimal."
   ]
  },
  {
   "cell_type": "code",
   "execution_count": null,
   "id": "ad7e515a",
   "metadata": {},
   "outputs": [],
   "source": [
    "preco_pao_str = '1,99'\n",
    "preco_suco_str = '4.50'\n",
    "qtd_pao = 3\n",
    "qtd_suco = 2\n",
    "desconto = 0.10  # 10%\n",
    "\n",
    "def to_float_pt(s):\n",
    "    return float(s.replace(',', '.'))\n",
    "\n",
    "total = qtd_pao * to_float_pt(preco_pao_str) + qtd_suco * to_float_pt(preco_suco_str)\n",
    "total_com_desc = total * (1 - desconto)\n",
    "print(f'Total sem desconto: R${total:.2f}')\n",
    "print(f'Total com desconto: R${total_com_desc:.2f}')"
   ]
  },
  {
   "cell_type": "markdown",
   "id": "60dbfbcd",
   "metadata": {},
   "source": [
    "## 9) Erros comuns e dicas\n",
    "- `ValueError` ao converter `str` com ponto/vírgula para `int`.\n",
    "- Perda de dados ao usar `int()` em `float` (truncamento).\n",
    "- `bool('0')` é `True` (qualquer string **não vazia** é `True`).\n",
    "- Boas práticas: validar entrada, tratar vírgula (`replace`), usar mensagens claras."
   ]
  },
  {
   "cell_type": "markdown",
   "id": "ae0c6bda",
   "metadata": {},
   "source": [
    "## 10) Recapitulando\n",
    "- **Implícito:** o Python às vezes promove tipos automaticamente (ex.: `int + float -> float`).\n",
    "- **Explícito:** usamos `int()`, `float()`, `str()`, `bool()` quando precisamos **forçar** a conversão.\n",
    "- **Atenção:** strings com vírgula/ponto exigem cuidado; `int('12.3')` não funciona."
   ]
  },
  {
   "cell_type": "markdown",
   "id": "a4929145",
   "metadata": {},
   "source": [
    "## 11) Referências rápidas\n",
    "- `int(x)`: converte para inteiro (trunca decimais).\n",
    "- `float(x)`: converte para decimal (usa **ponto** como separador).\n",
    "- `str(x)`: converte para texto.\n",
    "- `bool(x)`: vazio/zero -> `False`; demais -> `True`.\n",
    "- Dica: para vírgula decimal, use `valor.replace(',', '.')`."
   ]
  }
 ],
 "metadata": {
  "kernelspec": {
   "display_name": "Python 3 (ipykernel)",
   "language": "python",
   "name": "python3"
  },
  "language_info": {
   "codemirror_mode": {
    "name": "ipython",
    "version": 3
   },
   "file_extension": ".py",
   "mimetype": "text/x-python",
   "name": "python",
   "nbconvert_exporter": "python",
   "pygments_lexer": "ipython3",
   "version": "3.12.8"
  }
 },
 "nbformat": 4,
 "nbformat_minor": 5
}
