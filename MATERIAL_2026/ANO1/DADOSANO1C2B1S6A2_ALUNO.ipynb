{
 "cells": [
  {
   "attachments": {},
   "cell_type": "markdown",
   "id": "1b55dffc-8459-42f6-9cf4-7281d675b9e3",
   "metadata": {},
   "source": [
    "\n",
    "<h1 style=\"text-align: center;\">TÉCNICO EM CIÊNCIA DE DADOS</h1>\n",
    "<h1 style=\"text-align: center;\">Roteiro de Atividade Prática</h1>\n",
    "<br>\n",
    "<br>\n",
    "\n",
    "**Componente:** Programação Aplicada à Ciência de Dados \n",
    "<br>\n",
    "**Unidade Curricular:** Lógica de Programação e Fundamentos de Python\n",
    "<br>\n",
    "**Tema da Semana:** Estruturas condicionais: if, else\n",
    "<br>"
   ]
  },
  {
   "cell_type": "markdown",
   "id": "af8e2c21",
   "metadata": {},
   "source": [
    "# Aula 2: Condicionais compostas\n",
    "\n",
    "Nesta aula, você aprenderá a usar o comando `if-else` em Python.\n",
    "Vamos entender como o computador toma decisões com duas possibilidades:\n",
    "- quando uma condição é **verdadeira** (True)\n",
    "- quando é **falsa** (False)"
   ]
  },
  {
   "cell_type": "markdown",
   "id": "439aea7b",
   "metadata": {},
   "source": [
    "## 1. Relembrando o comando if\n",
    "\n",
    "O comando `if` serve para executar um bloco de código apenas se uma condição for verdadeira.\n",
    "\n",
    "**Sintaxe básica:**"
   ]
  },
  {
   "cell_type": "code",
   "execution_count": null,
   "id": "45577fc6",
   "metadata": {},
   "outputs": [],
   "source": [
    "if condição:\n",
    "    # bloco de código executado se a condição for verdadeira"
   ]
  },
  {
   "cell_type": "markdown",
   "id": "b43b33df",
   "metadata": {},
   "source": [
    "O Python lê a condição e, se ela for verdadeira (`True`), executa o código dentro do bloco.\n",
    "Se for falsa (`False`), neste exemplo, o programa não faz nada."
   ]
  },
  {
   "cell_type": "code",
   "execution_count": null,
   "id": "691440e0",
   "metadata": {},
   "outputs": [],
   "source": [
    "# Exemplo simples\n",
    "nota = 8\n",
    "\n",
    "if nota >= 6:\n",
    "    print(\"Aprovado!\")"
   ]
  },
  {
   "cell_type": "markdown",
   "id": "6bd327ed",
   "metadata": {},
   "source": [
    "Como a condição `nota >= 6` é verdadeira, o Python exibe a mensagem.\n",
    "Mas se a nota fosse 5, nada aconteceria. É aqui que entra o comando `else`."
   ]
  },
  {
   "cell_type": "markdown",
   "id": "33956359",
   "metadata": {},
   "source": [
    "## 2. Introdução ao if-else\n",
    "\n",
    "O comando `else` é usado junto com o `if` para indicar o que o programa deve fazer quando a condição é falsa.\n",
    "\n",
    "**Sintaxe básica:**"
   ]
  },
  {
   "cell_type": "code",
   "execution_count": null,
   "id": "0590af7f",
   "metadata": {},
   "outputs": [],
   "source": [
    "if condição:\n",
    "    # executa este bloco se for verdadeira\n",
    "else:\n",
    "    # executa este bloco se for falsa"
   ]
  },
  {
   "cell_type": "markdown",
   "id": "5741503c",
   "metadata": {},
   "source": [
    "Dessa forma, o programa sempre tem um caminho a seguir, independentemente do resultado da condição."
   ]
  },
  {
   "cell_type": "code",
   "execution_count": null,
   "id": "97b24c7d",
   "metadata": {},
   "outputs": [],
   "source": [
    "# Exemplo completo\n",
    "nota = 5\n",
    "\n",
    "if nota >= 6:\n",
    "    print(\"Aprovado!\")\n",
    "else:\n",
    "    print(\"Reprovado!\")"
   ]
  },
  {
   "cell_type": "markdown",
   "id": "5716c78c",
   "metadata": {},
   "source": [
    "O programa verifica se a condição é verdadeira.\n",
    "Se for, executa o bloco do `if`.\n",
    "Se for falsa, executa o bloco do `else`."
   ]
  },
  {
   "cell_type": "markdown",
   "id": "5beb3b1d",
   "metadata": {},
   "source": [
    "## 3. Exemplos práticos do uso de if e if-else"
   ]
  },
  {
   "cell_type": "code",
   "execution_count": null,
   "id": "65d7bf8c",
   "metadata": {},
   "outputs": [],
   "source": [
    "# Exemplo 1 – Uso de if\n",
    "\n",
    "# Um laboratório precisa emitir um aviso quando a temperatura estiver acima de 37°C.\n",
    "\n",
    "temperatura = 38\n",
    "\n",
    "if temperatura > 37:\n",
    "    print(\"Temperatura acima do normal. Verifique o equipamento.\")"
   ]
  },
  {
   "cell_type": "code",
   "execution_count": null,
   "id": "3aeb2492",
   "metadata": {},
   "outputs": [],
   "source": [
    "# Exemplo 2 – Uso de if-else\n",
    "\n",
    "# Um sistema escolar deve informar se o aluno foi aprovado ou reprovado com base na média final.\n",
    "\n",
    "media = 5.8\n",
    "\n",
    "if media >= 6:\n",
    "    print(\"Aprovado\")\n",
    "else:\n",
    "    print(\"Reprovado\")"
   ]
  },
  {
   "cell_type": "code",
   "execution_count": null,
   "id": "19af3b3f",
   "metadata": {},
   "outputs": [],
   "source": [
    "# Exemplo 3 – Uso de if-else\n",
    "\n",
    "# Um aplicativo de transporte precisa verificar se há crédito suficiente para iniciar uma corrida.\n",
    "\n",
    "saldo = 12\n",
    "valor_corrida = 15\n",
    "\n",
    "if saldo >= valor_corrida:\n",
    "    print(\"Corrida iniciada.\")\n",
    "else:\n",
    "    print(\"Saldo insuficiente. Adicione créditos para continuar.\")"
   ]
  },
  {
   "cell_type": "markdown",
   "id": "86bad9c2",
   "metadata": {},
   "source": [
    "## 4. Atividades práticas\n",
    "\n",
    "Resolva as atividades a seguir no espaço indicado.\n",
    "Leia com atenção o enunciado de cada exercício antes de programar."
   ]
  },
  {
   "cell_type": "markdown",
   "id": "ec8656ba",
   "metadata": {},
   "source": [
    "### Atividade 1 – Apenas if\n",
    "Um sistema meteorológico deve emitir um aviso quando a temperatura for menor que 15°C.\n",
    "\n",
    "**Comando:**\n",
    "Escreva um programa que leia o valor da temperatura e mostre a mensagem 'Está muito frio!' somente se a condição for verdadeira."
   ]
  },
  {
   "cell_type": "code",
   "execution_count": null,
   "id": "cf910294",
   "metadata": {},
   "outputs": [],
   "source": [
    "# Escreva seu código aqui"
   ]
  },
  {
   "cell_type": "markdown",
   "id": "a03d0784",
   "metadata": {},
   "source": [
    "### Atividade 2 – Apenas if\n",
    "Uma loja oferece frete grátis para compras acima de R$ 200,00.\n",
    "\n",
    "**Comando:**\n",
    "Crie um programa que leia o valor da compra e mostre a mensagem 'Frete grátis disponível!' apenas se o valor for maior ou igual a 200."
   ]
  },
  {
   "cell_type": "code",
   "execution_count": null,
   "id": "9a0fceb3",
   "metadata": {},
   "outputs": [],
   "source": [
    "# Escreva seu código aqui"
   ]
  },
  {
   "cell_type": "markdown",
   "id": "f6a15cde",
   "metadata": {},
   "source": [
    "### Atividade 3 – if e else\n",
    "Um sistema escolar precisa informar se o aluno foi aprovado ou reprovado.\n",
    "\n",
    "**Comando:**\n",
    "Crie um programa que leia a média final do aluno e:\n",
    "- mostre 'Aprovado' se a média for maior ou igual a 6;\n",
    "- caso contrário, mostre 'Reprovado'."
   ]
  },
  {
   "cell_type": "code",
   "execution_count": null,
   "id": "d6d7facd",
   "metadata": {},
   "outputs": [],
   "source": [
    "# Escreva seu código aqui"
   ]
  },
  {
   "cell_type": "markdown",
   "id": "a12b4bce",
   "metadata": {},
   "source": [
    "### Atividade 4 – if e else\n",
    "Um site de cinema quer verificar se a pessoa pode comprar ingresso com desconto.\n",
    "\n",
    "**Comando:**\n",
    "Crie um programa que leia a idade e:\n",
    "- se a idade for menor que 18, exiba 'Desconto aplicado';\n",
    "- caso contrário, exiba 'Valor integral'."
   ]
  },
  {
   "cell_type": "code",
   "execution_count": null,
   "id": "9b8ba0a1",
   "metadata": {},
   "outputs": [],
   "source": [
    "# Escreva seu código aqui"
   ]
  },
  {
   "cell_type": "markdown",
   "id": "e4ac6d4b",
   "metadata": {},
   "source": [
    "### Atividade 5 – if e else\n",
    "Um caixa eletrônico deve verificar se há saldo suficiente para o saque.\n",
    "\n",
    "**Comando:**\n",
    "Crie um programa que leia o saldo e o valor desejado para saque e:\n",
    "- exiba 'Saque realizado' se houver saldo suficiente;\n",
    "- senão, exiba 'Saldo insuficiente para saque'."
   ]
  },
  {
   "cell_type": "code",
   "execution_count": null,
   "id": "9dfaabe2",
   "metadata": {},
   "outputs": [],
   "source": [
    "# Escreva seu código aqui"
   ]
  },
  {
   "cell_type": "markdown",
   "id": "f9937687",
   "metadata": {},
   "source": [
    "## 5. Conclusão\n",
    "\n",
    "Nesta aula, aprendemos a:\n",
    "- usar o comando `if` para executar ações apenas quando uma condição é verdadeira;\n",
    "- usar o `if-else` para criar decisões com duas possibilidades.\n",
    "\n",
    "O `if-else` torna o programa mais inteligente e preparado para reagir a diferentes situações."
   ]
  }
 ],
 "metadata": {
  "kernelspec": {
   "display_name": "Python 3 (ipykernel)",
   "language": "python",
   "name": "python3"
  },
  "language_info": {
   "codemirror_mode": {
    "name": "ipython",
    "version": 3
   },
   "file_extension": ".py",
   "mimetype": "text/x-python",
   "name": "python",
   "nbconvert_exporter": "python",
   "pygments_lexer": "ipython3",
   "version": "3.12.8"
  }
 },
 "nbformat": 4,
 "nbformat_minor": 5
}
