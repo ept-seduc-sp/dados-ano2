{
 "cells": [
  {
   "cell_type": "markdown",
   "metadata": {},
   "source": [
    "<h1 style=\"text-align: center;\">TÉCNICO EM CIÊNCIA DE DADOS</h1>\n",
    "<h1 style=\"text-align: center;\">Roteiro de Atividade Prática</h1>\n",
    "<br>\n",
    "<br>\n",
    "\n",
    "**Componente:** Programação Aplicada à Ciência de Dados\n",
    "<br>\n",
    "**Unidade Curricular:** Lógica de Programação e Fundamentos de Python\n",
    "<br>\n",
    "**Tema da Semana:** Estruturas condicionais: if-elif-else\n",
    "<br>"
   ]
  },
  {
   "cell_type": "markdown",
   "metadata": {},
   "source": [
    "# Aula 2 - Boas práticas com condicionais\n",
    "\n",
    "Na seção \"Relembre\", conversamos sobre a importância de escrever um código que não apenas **funciona**, but que também é **limpo, legível e inteligente**.\n",
    "\n",
    "Agora, vamos colocar a mão na massa! Nesta seção, vamos:\n",
    "\n",
    "1.  **Revisar** os 3 pilares de um bom código condicional.\n",
    "2.  **Analisar e refatorar** um código juntos.\n",
    "3.  **Resolver desafios** para fixar o conhecimento.\n"
   ]
  },
  {
   "cell_type": "markdown",
   "metadata": {},
   "source": [
    "## Lembre-se das nossas 3 dicas de ouro para escrever condicionais de qualidade:\n",
    "\n",
    "* **1. Mantenha a Simplicidade:** Evite passos desnecessários. Se uma variável já é `True` ou `False`, não precisa comparar com `== True`.\n",
    "    \n",
    "* **2. A Ordem Importa:** Em um bloco `if-elif-else`, sempre verifique as condições **mais específicas primeiro** e deixe as mais gerais para o final. Pense em um funil!\n",
    "    \n",
    "* **3. Use Nomes Significativos:** Suas variáveis devem contar uma história. `media_final` é muito mais claro do que `x`. Isso torna seu código \"autodocumentado\"."
   ]
  },
  {
   "cell_type": "markdown",
   "metadata": {},
   "source": [
    "## Mão na Massa Guiada: Refatorando Juntos\n",
    "\n",
    "Vamos analisar um trecho de código que funciona, mas que pode ser muito melhorado. Nosso objetivo é atuar como \"detetives de código\", encontrando os pontos fracos e corrigindo-os.\n",
    "\n",
    "### Exemplo: Sistema de Categorias de Clientes\n",
    "\n",
    "Uma empresa quer categorizar seus clientes com base no valor total de compras. As regras são:\n",
    "* **Cliente Ouro:** Gastou mais de R\\$ 5.000,00.\n",
    "* **Cliente Prata:** Gastou mais de R\\$ 1.500,00.\n",
    "* **Cliente Bronze:** Qualquer outro valor.\n",
    "\n",
    "Veja o código que um estagiário escreveu. Copie, cole e execute para ver o que acontece."
   ]
  },
  {
   "cell_type": "code",
   "execution_count": null,
   "metadata": {},
   "outputs": [],
   "source": [
    "# Código a ser analisado\n",
    "# Teste com o valor 6000. O esperado é \"Cliente Ouro\", mas o que aparece?\n",
    "\n",
    "valor = 6000\n",
    "\n",
    "if valor > 1500:\n",
    "    cat = \"Prata\"\n",
    "elif valor > 5000:\n",
    "    cat = \"Ouro\"\n",
    "else:\n",
    "    cat = \"Bronze\"\n",
    "\n",
    "print(f\"Um cliente que gastou R$ {valor} é da categoria: {cat}\")"
   ]
  },
  {
   "cell_type": "markdown",
   "metadata": {},
   "source": [
    "**O que deu errado?**\n",
    "\n",
    "O código classificou um cliente que gastou R$ 6.000 como \"Prata\"! Isso aconteceu por causa do **erro na ordem da lógica**. Como `6000` é maior que `1500`, o Python executou o primeiro bloco `if` que encontrou como verdadeiro e ignorou o resto.\n",
    "\n",
    "Além disso, os nomes das variáveis (`valor`, `cat`) poderiam ser mais claros.\n",
    "\n",
    "**Vamos refatorar juntos!** Este é o jeito certo de escrever, aplicando as boas práticas:"
   ]
  },
  {
   "cell_type": "code",
   "execution_count": null,
   "metadata": {},
   "outputs": [],
   "source": [
    "# Versão Refatorada e Corrigida\n",
    "\n",
    "valor_gasto_cliente = 6000\n",
    "\n",
    "# 1. Ordem correta: do mais específico (Ouro) para o mais geral (Bronze)\n",
    "if valor_gasto_cliente > 5000:\n",
    "    categoria_cliente = \"Ouro\"\n",
    "elif valor_gasto_cliente > 1500:\n",
    "    categoria_cliente = \"Prata\"\n",
    "else:\n",
    "    categoria_cliente = \"Bronze\"\n",
    "\n",
    "# 2. Nomes de variáveis significativos!\n",
    "print(f\"Um cliente que gastou R$ {valor_gasto_cliente} é da categoria: {categoria_cliente}\")"
   ]
  },
  {
   "cell_type": "markdown",
   "metadata": {},
   "source": [
    "---\n",
    "## Agora é com Você!\n",
    "\n",
    "Chegou a sua vez de praticar! Resolva as atividades abaixo. O objetivo não é apenas fazer funcionar, mas aplicar as **boas práticas** que discutimos."
   ]
  },
  {
   "cell_type": "markdown",
   "metadata": {},
   "source": [
    "### Atividade 1: Verificação de Estoque\n",
    "\n",
    "O código abaixo verifica se um produto em um e-commerce precisa ser reposto. Ele funciona, mas não está \"limpo\".\n",
    "\n",
    "**Sua missão:**\n",
    "1.  Renomeie as variáveis para que fiquem mais claras.\n",
    "2.  Remova a comparação redundante (`== True`) na estrutura `if`."
   ]
  },
  {
   "cell_type": "code",
   "execution_count": null,
   "metadata": {},
   "outputs": [],
   "source": [
    "# Código para refatorar\n",
    "x = 5\n",
    "y = 10\n",
    "z = False\n",
    "\n",
    "if x < y:\n",
    "    z = True\n",
    "\n",
    "if z == True:\n",
    "    print(\"O produto precisa ser reposto no estoque!\")\n",
    "else:\n",
    "    print(\"Produto com estoque suficiente.\")"
   ]
  },
  {
   "cell_type": "code",
   "execution_count": null,
   "metadata": {},
   "outputs": [],
   "source": [
    "# Escreva sua solução aqui\n",
    "\n"
   ]
  },
  {
   "cell_type": "markdown",
   "metadata": {},
   "source": [
    "---\n",
    "### Atividade 2: Sistema de Frete Progressivo\n",
    "\n",
    "Uma transportadora calcula o valor do frete com base na distância em km. A tabela de preços é:\n",
    "* Até 50 km: R\\$ 25,00\n",
    "* Entre 51 km e 200 km: R\\$ 45,00\n",
    "* Acima de 200 km: R$ 70,00\n",
    "\n",
    "O código abaixo contém um erro de lógica que faz com que todas as entregas acima de 50 km custem R$ 45,00.\n",
    "\n",
    "**Sua missão:**\n",
    "1.  Encontre o erro na ordem das condições `if/elif`.\n",
    "2.  Corrija a lógica para que o cálculo do frete funcione corretamente para todas as distâncias."
   ]
  },
  {
   "cell_type": "code",
   "execution_count": null,
   "metadata": {},
   "outputs": [],
   "source": [
    "# Código com erro de lógica\n",
    "distancia_km = 300 # O frete deveria ser R$ 70,00\n",
    "\n",
    "if distancia_km <= 50:\n",
    "    valor_frete = 25.00\n",
    "elif distancia_km > 50: # Este é o problema! 300 é > 50.\n",
    "    valor_frete = 45.00\n",
    "elif distancia_km > 200:\n",
    "    valor_frete = 70.00\n",
    "else:\n",
    "    valor_frete = 0 # Caso de erro\n",
    "\n",
    "print(f\"Para uma distância de {distancia_km} km, o frete é de R$ {valor_frete:.2f}\")"
   ]
  },
  {
   "cell_type": "code",
   "execution_count": null,
   "metadata": {},
   "outputs": [],
   "source": [
    "# Escreva sua solução aqui\n",
    "\n"
   ]
  },
  {
   "cell_type": "markdown",
   "metadata": {},
   "source": [
    "---\n",
    "### Atividade 3 (Desafio): Classificação de Risco\n",
    "\n",
    "Você está ajudando a desenvolver um sistema para uma seguradora. O sistema classifica o risco de um cliente com base na sua idade.\n",
    "* **Alto Risco:** Idade abaixo de 20 anos ou acima de 65 anos.\n",
    "* **Médio Risco:** Idade entre 20 e 30 anos (inclusive).\n",
    "* **Baixo Risco:** Todas as outras idades (entre 31 e 65).\n",
    "\n",
    "O código abaixo foi escrito, mas está confuso e difícil de ler.\n",
    "\n",
    "**Sua missão:**\n",
    "1.  Reescreva o código do zero, mantendo a mesma funcionalidade.\n",
    "2.  Use nomes de variáveis claros.\n",
    "3.  Estruture o `if/elif/else` da maneira mais lógica e legível possível."
   ]
  },
  {
   "cell_type": "code",
   "execution_count": null,
   "metadata": {},
   "outputs": [],
   "source": [
    "# Código confuso para refatorar\n",
    "i = 45 # Idade do cliente\n",
    "\n",
    "if i < 20:\n",
    "    print(\"Alto Risco\")\n",
    "else:\n",
    "    if i > 65:\n",
    "        print(\"Alto Risco\")\n",
    "    else:\n",
    "        if i >= 20 and i <= 30:\n",
    "            print(\"Médio Risco\")\n",
    "        else:\n",
    "            print(\"Baixo Risco\")"
   ]
  },
  {
   "cell_type": "code",
   "execution_count": null,
   "metadata": {},
   "outputs": [],
   "source": [
    "# Escreva sua solução aqui\n",
    "\n"
   ]
  },
  {
   "cell_type": "markdown",
   "metadata": {},
   "source": [
    "---\n",
    "## Atividades Extras\n",
    "\n",
    "Programação é uma ferramenta poderosa para resolver problemas em TODAS as áreas. Vamos ver como a lógica condicional se aplica à química, saúde e finanças."
   ]
  },
  {
   "cell_type": "markdown",
   "metadata": {},
   "source": [
    "### Atividade 4: O Químico Digital\n",
    "\n",
    "Você está criando um simulador de laboratório que determina o estado físico da água (em condições normais de pressão) com base na temperatura.\n",
    "\n",
    "**Sua missão:**\n",
    "1.  Peça ao usuário para digitar a temperatura da água em graus Celsius. Lembre-se de converter o valor para `float`.\n",
    "2.  Use operadores relacionais (`<=`, `>=`) e uma estrutura `if-elif-else` para determinar o estado físico.\n",
    "3.  Imprima uma das seguintes mensagens: \"A água está no estado Sólido (gelo).\", \"A água está no estado Líquido.\" ou \"A água está no estado Gasoso (vapor).\""
   ]
  },
  {
   "cell_type": "code",
   "execution_count": null,
   "metadata": {},
   "outputs": [],
   "source": [
    "# Escreva sua solução aqui\n",
    "\n"
   ]
  },
  {
   "cell_type": "markdown",
   "metadata": {},
   "source": [
    "---\n",
    "### Atividade 5: Calculadora de IMC\n",
    "\n",
    "O Índice de Massa Corporal (IMC) é um cálculo utilizado para avaliar se a pessoa está dentro do seu peso ideal. A fórmula é: `IMC = peso / (altura * altura)`.\n",
    "\n",
    "**Sua missão:**\n",
    "1.  Peça ao usuário seu peso em kg (ex: `70.5`) e sua altura em metros (ex: `1.75`).\n",
    "2.  Use **operadores aritméticos** para calcular o IMC.\n",
    "3.  Use uma estrutura `if-elif-else` bem ordenada para classificar o resultado de acordo com a tabela abaixo:\n",
    "    * Abaixo de 18.5: Abaixo do peso\n",
    "    * 18.5 a 24.9: Peso normal\n",
    "    * 25.0 a 29.9: Sobrepeso\n",
    "    * 30.0 ou mais: Obesidade\n",
    "4.  Imprima o valor do IMC calculado (com 2 casas decimais) e a sua respectiva classificação."
   ]
  },
  {
   "cell_type": "code",
   "execution_count": null,
   "metadata": {},
   "outputs": [],
   "source": [
    "# Escreva sua solução aqui\n",
    "\n"
   ]
  },
  {
   "cell_type": "markdown",
   "metadata": {},
   "source": [
    "---\n",
    "### Atividade 6 \n",
    "\n",
    "A livraria do seu bairro está com uma promoção especial. As regras são as seguintes:\n",
    "1.  Compras acima de R$ 100,00 recebem 10% de desconto.\n",
    "2.  Se o cliente for estudante, ele recebe um **desconto adicional** de 5% (cumulativo com o primeiro).\n",
    "\n",
    "**Sua missão:**\n",
    "1.  Pergunte ao usuário o valor total da compra.\n",
    "2.  Pergunte se ele é estudante (peça para digitar 's' para sim ou 'n' para não).\n",
    "3.  Calcule o percentual de desconto total com base nas regras.\n",
    "4.  Calcule o valor do desconto em reais e o preço final a ser pago.\n",
    "5.  Imprima uma mensagem clara para o cliente, informando o desconto total aplicado e o valor final da compra. Ex: \"Você recebeu 15% de desconto! O valor final da sua compra é R$ 102.00\"."
   ]
  },
  {
   "cell_type": "code",
   "execution_count": null,
   "metadata": {},
   "outputs": [],
   "source": [
    "# Escreva sua solução aqui\n",
    "\n"
   ]
  }
 ],
 "metadata": {
  "kernelspec": {
   "display_name": "Python 3 (ipykernel)",
   "language": "python",
   "name": "python3"
  },
  "language_info": {
   "codemirror_mode": {
    "name": "ipython",
    "version": 3
   },
   "file_extension": ".py",
   "mimetype": "text/x-python",
   "name": "python",
   "nbconvert_exporter": "python",
   "pygments_lexer": "ipython3",
   "version": "3.12.8"
  }
 },
 "nbformat": 4,
 "nbformat_minor": 4
}
