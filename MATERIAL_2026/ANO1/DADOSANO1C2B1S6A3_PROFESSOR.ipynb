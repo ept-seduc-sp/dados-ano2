{
 "cells": [
  {
   "cell_type": "markdown",
   "id": "886843e5-a108-4dd8-ae4b-d9ee74544aeb",
   "metadata": {},
   "source": [
    "\n",
    "<h1 style=\"text-align: center;\">TÉCNICO EM CIÊNCIA DE DADOS</h1>\n",
    "<h1 style=\"text-align: center;\">Roteiro de Atividade Prática - PROFESSOR</h1>\n",
    "<br>\n",
    "<br>\n",
    "\n",
    "**Componente:** Programação Aplicada à Ciência de Dados \n",
    "<br>\n",
    "**Unidade Curricular:** Lógica de Programação e Fundamentos de Python\n",
    "<br>\n",
    "**Tema da Semana:** Estruturas condicionais: if, else\n",
    "<br>"
   ]
  },
  {
   "cell_type": "markdown",
   "id": "0e018887",
   "metadata": {},
   "source": [
    "# Aula 3 – Condicionais Aninhadas (if, elif, else) – Versão do Professor\n",
    "\n",
    "Este notebook contém:\n",
    "- exemplos e explicações para exibição em aula;\n",
    "- gabaritos completos das atividades;\n",
    "- orientações pedagógicas para a condução da aula prática.\n",
    "\n",
    "**Objetivo da aula:**\n",
    "Desenvolver algoritmos que utilizem decisões encadeadas com `if`, `elif` e `else`, aplicando raciocínio lógico e operações aritméticas em contextos reais."
   ]
  },
  {
   "cell_type": "markdown",
   "id": "c9a9de00",
   "metadata": {},
   "source": [
    "## Orientações para o professor\n",
    "\n",
    "- Utilize o Jupyter Notebook em tempo real, executando os exemplos com os alunos.\n",
    "- Estimule previsões antes de executar cada trecho de código.\n",
    "- Valorize o raciocínio lógico e a clareza da indentação.\n",
    "- Incentive que os alunos testem diferentes valores e discutam as saídas.\n",
    "- Relacione os exemplos à tomada de decisão em sistemas reais (notas, finanças, controle de temperatura)."
   ]
  },
  {
   "cell_type": "markdown",
   "id": "00f9a95b",
   "metadata": {},
   "source": [
    "## Gabaritos e orientações pedagógicas das atividades"
   ]
  },
  {
   "cell_type": "markdown",
   "id": "00835ad6",
   "metadata": {},
   "source": [
    "### Atividade 1 – Situação escolar ampliada\n",
    "**Enunciado:** Calcular a média final e exibir a situação do aluno."
   ]
  },
  {
   "cell_type": "code",
   "execution_count": 1,
   "id": "e2323cc9",
   "metadata": {},
   "outputs": [
    {
     "name": "stdin",
     "output_type": "stream",
     "text": [
      "Informe a primeira nota:  8\n",
      "Informe a segunda nota:  3\n"
     ]
    },
    {
     "name": "stdout",
     "output_type": "stream",
     "text": [
      "Média: 5.5 – Recuperação\n"
     ]
    }
   ],
   "source": [
    "nota1 = float(input('Informe a primeira nota: '))\n",
    "nota2 = float(input('Informe a segunda nota: '))\n",
    "media = (nota1 + nota2) / 2\n",
    "\n",
    "if media >= 6:\n",
    "    print(f'Média: {media:.1f} – Aprovado')\n",
    "elif media >= 4:\n",
    "    print(f'Média: {media:.1f} – Recuperação')\n",
    "else:\n",
    "    print(f'Média: {media:.1f} – Reprovado')"
   ]
  },
  {
   "cell_type": "markdown",
   "id": "9e764530",
   "metadata": {},
   "source": [
    "**Orientação pedagógica:**\n",
    "- Relembre como calcular a média e use valores variados.\n",
    "- Mostre como o `elif` amplia as possibilidades de decisão.\n",
    "- Questione: e se quisermos incluir 'Aprovado com mérito'? (para futura extensão)."
   ]
  },
  {
   "cell_type": "markdown",
   "id": "b83da83b",
   "metadata": {},
   "source": [
    "### Atividade 2 – Faixa etária com cálculo de diferença"
   ]
  },
  {
   "cell_type": "code",
   "execution_count": 2,
   "id": "f52cd97c",
   "metadata": {},
   "outputs": [
    {
     "name": "stdin",
     "output_type": "stream",
     "text": [
      "Informe o ano de nascimento:  1999\n"
     ]
    },
    {
     "name": "stdout",
     "output_type": "stream",
     "text": [
      "26 anos – Adulto\n"
     ]
    }
   ],
   "source": [
    "ano_nasc = int(input('Informe o ano de nascimento: '))\n",
    "idade = 2025 - ano_nasc\n",
    "\n",
    "if idade < 12:\n",
    "    print(f'{idade} anos – Criança')\n",
    "elif idade < 18:\n",
    "    falta = 18 - idade\n",
    "    print(f'{idade} anos – Adolescente, faltam {falta} anos para a maioridade')\n",
    "else:\n",
    "    print(f'{idade} anos – Adulto')"
   ]
  },
  {
   "cell_type": "markdown",
   "id": "223ef43d",
   "metadata": {},
   "source": [
    "**Orientação pedagógica:**\n",
    "- Relacione a lógica condicional com o conceito de faixa etária.\n",
    "- Peça que testem casos-limite (12 e 18 anos).\n",
    "- Destaque o uso de operações aritméticas simples."
   ]
  },
  {
   "cell_type": "markdown",
   "id": "c17d1fa3",
   "metadata": {},
   "source": [
    "### Atividade 3 – Situação financeira com cálculo de saldo"
   ]
  },
  {
   "cell_type": "code",
   "execution_count": 3,
   "id": "28ae8fe0",
   "metadata": {},
   "outputs": [
    {
     "name": "stdin",
     "output_type": "stream",
     "text": [
      "Informe o saldo atual:  150\n",
      "Informe o valor da operação (use negativo para saque):  -50\n"
     ]
    },
    {
     "name": "stdout",
     "output_type": "stream",
     "text": [
      "Saldo final: R$100.00 – Conta positiva\n"
     ]
    }
   ],
   "source": [
    "saldo = float(input('Informe o saldo atual: '))\n",
    "operacao = float(input('Informe o valor da operação (use negativo para saque): '))\n",
    "novo_saldo = saldo + operacao\n",
    "\n",
    "if novo_saldo > 0:\n",
    "    print(f'Saldo final: R${novo_saldo:.2f} – Conta positiva')\n",
    "elif novo_saldo == 0:\n",
    "    print(f'Saldo final: R${novo_saldo:.2f} – Conta zerada')\n",
    "else:\n",
    "    print(f'Saldo final: R${novo_saldo:.2f} – Conta negativa')"
   ]
  },
  {
   "cell_type": "markdown",
   "id": "3db7251e",
   "metadata": {},
   "source": [
    "**Orientação pedagógica:**\n",
    "- Incentive a turma a testar operações diferentes (depósito, saque).\n",
    "- Mostre o uso de sinais matemáticos (+ e -).\n",
    "- Relacione com a importância de controle financeiro em sistemas reais."
   ]
  },
  {
   "cell_type": "markdown",
   "id": "422ffe4a",
   "metadata": {},
   "source": [
    "### Atividade 4 – Temperatura ambiente e ajuste"
   ]
  },
  {
   "cell_type": "code",
   "execution_count": 4,
   "id": "03a624a0",
   "metadata": {},
   "outputs": [
    {
     "name": "stdin",
     "output_type": "stream",
     "text": [
      "Informe a temperatura atual:  25\n"
     ]
    },
    {
     "name": "stdout",
     "output_type": "stream",
     "text": [
      "Diminuir temperatura em 1.0°C\n"
     ]
    }
   ],
   "source": [
    "temperatura = float(input('Informe a temperatura atual: '))\n",
    "ideal = 24\n",
    "diferenca = abs(temperatura - ideal)\n",
    "\n",
    "if temperatura < ideal:\n",
    "    print(f'Aumentar temperatura em {diferenca:.1f}°C')\n",
    "elif temperatura > ideal:\n",
    "    print(f'Diminuir temperatura em {diferenca:.1f}°C')\n",
    "else:\n",
    "    print('Temperatura ideal')"
   ]
  },
  {
   "cell_type": "markdown",
   "id": "53ddfc7f",
   "metadata": {},
   "source": [
    "**Orientação pedagógica:**\n",
    "- Mostre a aplicação do `abs()` para obter valores absolutos.\n",
    "- Discuta como esse tipo de lógica é usada em sistemas de climatização automatizados."
   ]
  },
  {
   "cell_type": "markdown",
   "id": "530b9d12",
   "metadata": {},
   "source": [
    "### Atividade 5 – Sistema de vendas com desconto"
   ]
  },
  {
   "cell_type": "code",
   "execution_count": 5,
   "id": "09171cb0",
   "metadata": {},
   "outputs": [
    {
     "name": "stdin",
     "output_type": "stream",
     "text": [
      "Informe o valor da compra:  500\n"
     ]
    },
    {
     "name": "stdout",
     "output_type": "stream",
     "text": [
      "Desconto: R$50.00\n",
      "Total a pagar: R$450.00\n"
     ]
    }
   ],
   "source": [
    "valor = float(input('Informe o valor da compra: '))\n",
    "\n",
    "if valor <= 100:\n",
    "    desconto = valor * 0.05\n",
    "elif valor <= 500:\n",
    "    desconto = valor * 0.10\n",
    "else:\n",
    "    desconto = valor * 0.15\n",
    "\n",
    "final = valor - desconto\n",
    "print(f'Desconto: R${desconto:.2f}')\n",
    "print(f'Total a pagar: R${final:.2f}')"
   ]
  },
  {
   "cell_type": "markdown",
   "id": "68d962ec",
   "metadata": {},
   "source": [
    "**Orientação pedagógica:**\n",
    "- Mostre a importância das porcentagens e cálculos percentuais.\n",
    "- Peça para os alunos alterarem os limites e porcentagens.\n",
    "- Relacione com promoções e políticas de preço dinâmico."
   ]
  },
  {
   "cell_type": "markdown",
   "id": "33a768ff",
   "metadata": {},
   "source": [
    "## Encerramento da aula\n",
    "\n",
    "**Pontos a reforçar:**\n",
    "- O `elif` permite múltiplas decisões em sequência.\n",
    "- Integramos cálculo e lógica condicional.\n",
    "- O raciocínio condicional é a base para sistemas inteligentes.\n",
    "\n",
    "**Discussão final sugerida:**\n",
    "> “Como o `elif` ajuda o computador a lidar com situações que têm mais de duas respostas possíveis?”\n",
    "\n",
    "**Transição para a próxima aula:**\n",
    "A próxima aula abordará a comparação entre estruturas condicionais e a correção de lógicas equivocadas."
   ]
  }
 ],
 "metadata": {
  "kernelspec": {
   "display_name": "Python 3 (ipykernel)",
   "language": "python",
   "name": "python3"
  },
  "language_info": {
   "codemirror_mode": {
    "name": "ipython",
    "version": 3
   },
   "file_extension": ".py",
   "mimetype": "text/x-python",
   "name": "python",
   "nbconvert_exporter": "python",
   "pygments_lexer": "ipython3",
   "version": "3.12.8"
  }
 },
 "nbformat": 4,
 "nbformat_minor": 5
}
