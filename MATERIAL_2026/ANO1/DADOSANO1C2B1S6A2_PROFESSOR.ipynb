{
 "cells": [
  {
   "cell_type": "markdown",
   "id": "a34447ea-f73a-4797-8531-2b52c726c677",
   "metadata": {},
   "source": [
    "\n",
    "<h1 style=\"text-align: center;\">TÉCNICO EM CIÊNCIA DE DADOS</h1>\n",
    "<h1 style=\"text-align: center;\">Roteiro de Atividade Prática - PROFESSOR</h1>\n",
    "<br>\n",
    "<br>\n",
    "\n",
    "**Componente:** Programação Aplicada à Ciência de Dados \n",
    "<br>\n",
    "**Unidade Curricular:** Lógica de Programação e Fundamentos de Python\n",
    "<br>\n",
    "**Tema da Semana:** Estruturas condicionais: if, else\n",
    "<br>"
   ]
  },
  {
   "cell_type": "markdown",
   "id": "84c99ef9",
   "metadata": {},
   "source": [
    "# Aula 2 – Estruturas Condicionais Compostas – Versão do Professor\n",
    "\n",
    "Este notebook contém:\n",
    "- explicações e exemplos mostrados aos alunos;\n",
    "- gabaritos comentados das atividades;\n",
    "- orientações pedagógicas para condução da aula prática.\n",
    "\n",
    "**Objetivo da aula:**\n",
    "Compreender o uso do comando `if-else` para permitir decisões com duas possibilidades."
   ]
  },
  {
   "cell_type": "markdown",
   "id": "17c1fc00",
   "metadata": {},
   "source": [
    "## Orientações para o professor\n",
    "\n",
    "- Utilize o Jupyter Notebook em tempo real, executando os exemplos com os alunos.\n",
    "- Dê espaço para que os estudantes prevejam o resultado antes de rodar cada código.\n",
    "- Explique com clareza o papel da indentação e da estrutura lógica.\n",
    "- Estimule que os alunos modifiquem valores (notas, idades, saldos) para observar diferentes saídas.\n",
    "\n",
    "**Estrutura sugerida da aula:**\n",
    "1. Relembrar o comando if\n",
    "2. Introduzir o else\n",
    "3. Demonstrar exemplos práticos\n",
    "4. Resolver as 5 atividades com discussão orientada\n",
    "5. Retomar e consolidar o conceito"
   ]
  },
  {
   "cell_type": "markdown",
   "id": "5aec4ddc",
   "metadata": {},
   "source": [
    "## Revisão de if e introdução ao if-else\n",
    "\n",
    "Mesmo conteúdo apresentado aos alunos, usado como referência em sala."
   ]
  },
  {
   "cell_type": "markdown",
   "id": "cc2a6093",
   "metadata": {},
   "source": [
    "## Gabaritos e orientações pedagógicas das atividades"
   ]
  },
  {
   "cell_type": "markdown",
   "id": "b42f5141",
   "metadata": {},
   "source": [
    "### Atividade 1 – Apenas if\n",
    "**Enunciado:** Um sistema meteorológico deve emitir um aviso quando a temperatura for menor que 15°C.\n",
    "\n",
    "**Gabarito:**"
   ]
  },
  {
   "cell_type": "code",
   "execution_count": 1,
   "id": "0a77fa9b",
   "metadata": {},
   "outputs": [
    {
     "name": "stdin",
     "output_type": "stream",
     "text": [
      "Informe a temperatura atual:  7\n"
     ]
    },
    {
     "name": "stdout",
     "output_type": "stream",
     "text": [
      "Está muito frio!\n"
     ]
    }
   ],
   "source": [
    "temperatura = float(input('Informe a temperatura atual: '))\n",
    "\n",
    "if temperatura < 15:\n",
    "    print('Está muito frio!')"
   ]
  },
  {
   "cell_type": "markdown",
   "id": "429b6426",
   "metadata": {},
   "source": [
    "**Orientação pedagógica:**\n",
    "- Reforce que o `if` não exige `else`.\n",
    "- Mostre que, se a temperatura for 15 ou maior, nenhuma mensagem é exibida.\n",
    "- Discuta: Por que às vezes é importante não mostrar nada?"
   ]
  },
  {
   "cell_type": "markdown",
   "id": "8490fc0a",
   "metadata": {},
   "source": [
    "### Atividade 2 – Apenas if\n",
    "**Enunciado:** Uma loja oferece frete grátis para compras acima de R$ 200,00.\n",
    "\n",
    "**Gabarito:**"
   ]
  },
  {
   "cell_type": "code",
   "execution_count": 2,
   "id": "2d8844d4",
   "metadata": {},
   "outputs": [
    {
     "name": "stdin",
     "output_type": "stream",
     "text": [
      "Informe o valor da compra:  300\n"
     ]
    },
    {
     "name": "stdout",
     "output_type": "stream",
     "text": [
      "Frete grátis disponível!\n"
     ]
    }
   ],
   "source": [
    "valor_compra = float(input('Informe o valor da compra: '))\n",
    "\n",
    "if valor_compra >= 200:\n",
    "    print('Frete grátis disponível!')"
   ]
  },
  {
   "cell_type": "markdown",
   "id": "8c4d1231",
   "metadata": {},
   "source": [
    "**Orientação pedagógica:**\n",
    "- Peça aos alunos para testarem com valores abaixo e acima de 200.\n",
    "- Discuta a ideia de condições limítrofes (por exemplo, valor igual a 200)."
   ]
  },
  {
   "cell_type": "markdown",
   "id": "1eec805c",
   "metadata": {},
   "source": [
    "### Atividade 3 – if e else\n",
    "**Enunciado:** Um sistema escolar precisa informar se o aluno foi aprovado ou reprovado.\n",
    "\n",
    "**Gabarito:**"
   ]
  },
  {
   "cell_type": "code",
   "execution_count": 3,
   "id": "8eddbb34",
   "metadata": {},
   "outputs": [
    {
     "name": "stdin",
     "output_type": "stream",
     "text": [
      "Informe a média final do aluno:  7\n"
     ]
    },
    {
     "name": "stdout",
     "output_type": "stream",
     "text": [
      "Aprovado\n"
     ]
    }
   ],
   "source": [
    "media = float(input('Informe a média final do aluno: '))\n",
    "\n",
    "if media >= 6:\n",
    "    print('Aprovado')\n",
    "else:\n",
    "    print('Reprovado')"
   ]
  },
  {
   "cell_type": "markdown",
   "id": "a81b207d",
   "metadata": {},
   "source": [
    "**Orientação pedagógica:**\n",
    "- Mostre que o `else` garante uma resposta quando a condição é falsa.\n",
    "- Questione: E se quiséssemos uma terceira opção, como Recuperação? (introdução ao `elif`)."
   ]
  },
  {
   "cell_type": "markdown",
   "id": "e81e3bcd",
   "metadata": {},
   "source": [
    "### Atividade 4 – if e else\n",
    "**Enunciado:** Um site de cinema quer verificar se a pessoa pode comprar ingresso com desconto.\n",
    "\n",
    "**Gabarito:**"
   ]
  },
  {
   "cell_type": "code",
   "execution_count": 4,
   "id": "b1481593",
   "metadata": {},
   "outputs": [
    {
     "name": "stdin",
     "output_type": "stream",
     "text": [
      "Informe a idade:  16\n"
     ]
    },
    {
     "name": "stdout",
     "output_type": "stream",
     "text": [
      "Desconto aplicado\n"
     ]
    }
   ],
   "source": [
    "idade = int(input('Informe a idade: '))\n",
    "\n",
    "if idade < 18:\n",
    "    print('Desconto aplicado')\n",
    "else:\n",
    "    print('Valor integral')"
   ]
  },
  {
   "cell_type": "markdown",
   "id": "c60456a1",
   "metadata": {},
   "source": [
    "**Orientação pedagógica:**\n",
    "- Reforce a comparação com `<`.\n",
    "- Peça exemplos de contextos em que isso ocorre (transporte, museus, eventos)."
   ]
  },
  {
   "cell_type": "markdown",
   "id": "dd5ddc4c",
   "metadata": {},
   "source": [
    "### Atividade 5 – if e else\n",
    "**Enunciado:** Um caixa eletrônico deve verificar se há saldo suficiente para o saque.\n",
    "\n",
    "**Gabarito:**"
   ]
  },
  {
   "cell_type": "code",
   "execution_count": 5,
   "id": "ea284435",
   "metadata": {},
   "outputs": [
    {
     "name": "stdin",
     "output_type": "stream",
     "text": [
      "Informe o saldo atual:  100\n",
      "Informe o valor do saque:  120\n"
     ]
    },
    {
     "name": "stdout",
     "output_type": "stream",
     "text": [
      "Saldo insuficiente para saque\n"
     ]
    }
   ],
   "source": [
    "saldo = float(input('Informe o saldo atual: '))\n",
    "saque = float(input('Informe o valor do saque: '))\n",
    "\n",
    "if saldo >= saque:\n",
    "    print('Saque realizado')\n",
    "else:\n",
    "    print('Saldo insuficiente para saque')"
   ]
  },
  {
   "cell_type": "markdown",
   "id": "ae7f4297",
   "metadata": {},
   "source": [
    "**Orientação pedagógica:**\n",
    "- Incentive testes com diferentes valores de saldo e saque.\n",
    "- Discuta o papel da comparação `>=`.\n",
    "- Relacione com validação de sistemas bancários."
   ]
  },
  {
   "cell_type": "markdown",
   "id": "5656dcfd",
   "metadata": {},
   "source": [
    "## Encerramento da aula\n",
    "\n",
    "**Pontos a reforçar:**\n",
    "- O `if` analisa uma condição e executa o bloco apenas se for verdadeira.\n",
    "- O `else` define o que fazer quando a condição é falsa.\n",
    "- O programa sempre segue um dos dois caminhos.\n",
    "\n",
    "**Discussão final sugerida:**\n",
    "- Em que situações o computador precisa escolher entre duas ações possíveis?\n",
    "- Como o `if-else` ajuda nisso?\n",
    "\n",
    "**Transição para a próxima aula:**\n",
    "Na próxima aula, trabalharemos com condicionais aninhadas e o comando `elif`."
   ]
  }
 ],
 "metadata": {
  "kernelspec": {
   "display_name": "Python 3 (ipykernel)",
   "language": "python",
   "name": "python3"
  },
  "language_info": {
   "codemirror_mode": {
    "name": "ipython",
    "version": 3
   },
   "file_extension": ".py",
   "mimetype": "text/x-python",
   "name": "python",
   "nbconvert_exporter": "python",
   "pygments_lexer": "ipython3",
   "version": "3.12.8"
  }
 },
 "nbformat": 4,
 "nbformat_minor": 5
}
