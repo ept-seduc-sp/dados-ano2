{
 "cells": [
  {
   "cell_type": "markdown",
   "metadata": {},
   "source": [
    "> **_ÁREA DO PROFESSOR_**\n",
    "> \n",
    "> **Arquivo:** DADOSANO1C2B1S7A2_PROFESSOR.ipynb\n",
    "> \n",
    "> Este notebook é a versão do professor para a Aula 2 da Semana 7. Ele contém todo o conteúdo do notebook do aluno, acrescido de caixas de texto como esta, com orientações de condução, pontos de atenção, dicas pedagógicas e a solução comentada para cada uma das atividades.\n",
    "> \n",
    "> **Objetivo Geral da Aula Prática:** Conduzir o aluno a refatorar códigos e resolver problemas contextualizados, aplicando as boas práticas de legibilidade e lógica correta em estruturas condicionais."
   ]
  },
  {
   "cell_type": "markdown",
   "metadata": {},
   "source": [
    "<h1 style=\"text-align: center;\">TÉCNICO EM CIÊNCIA DE DADOS</h1>\n",
    "<h1 style=\"text-align: center;\">Roteiro de Atividade Prática - PROFESSOR</h1>\n",
    "<br>\n",
    "<br>\n",
    "\n",
    "**Componente:** Programação Aplicada à Ciência de Dados\n",
    "<br>\n",
    "**Unidade Curricular:** Lógica de Programação e Fundamentos de Python\n",
    "<br>\n",
    "**Tema da Semana:** Estruturas condicionais: if-elif-else\n",
    "<br>"
   ]
  },
  {
   "cell_type": "markdown",
   "metadata": {},
   "source": [
    "# Aula 2 - Boas práticas com condicionais\n",
    "\n",
    "Olá, pessoal! Na seção \"Relembre\", conversamos sobre a importância de escrever um código que não apenas **funciona**, mas que também é **limpo, legível e inteligente**.\n",
    "\n",
    "Agora, vamos colocar a mão na massa! Nesta seção, vamos:\n",
    "\n",
    "1.  **Revisar** os 3 pilares de um bom código condicional.\n",
    "2.  **Analisar e refatorar** um código juntos.\n",
    "3.  **Resolver desafios** para fixar o conhecimento.\n",
    "\n"
   ]
  },
  {
   "cell_type": "markdown",
   "metadata": {},
   "source": [
    "## Relembrando os Conceitos\n",
    "\n",
    "Lembre-se das nossas 3 dicas de ouro para escrever condicionais de qualidade:\n",
    "\n",
    "* **1. Mantenha a Simplicidade:** Evite passos desnecessários. Se uma variável já é `True` ou `False`, não precisa comparar com `== True`.\n",
    "    \n",
    "* **2. A Ordem Importa:** Em um bloco `if-elif-else`, sempre verifique as condições **mais específicas primeiro** e deixe as mais gerais para o final. Pense em um funil!\n",
    "    \n",
    "* **3. Use Nomes Significativos:** Suas variáveis devem contar uma história. `media_final` é muito mais claro do que `x`. Isso torna seu código \"autodocumentado\"."
   ]
  },
  {
   "cell_type": "markdown",
   "metadata": {},
   "source": [
    "> **_Para o Professor:_**\n",
    "> \n",
    "> **Dica de Condução:** Ao passar por essa seção, peça aos alunos para darem exemplos práticos de cada uma das 3 dicas. Por exemplo: \"Onde mais a ordem importa no dia a dia?\" (Ex: vestir-se, cozinhar). Isso ajuda a ancorar o conceito abstrato em experiências concretas."
   ]
  },
  {
   "cell_type": "markdown",
   "metadata": {},
   "source": [
    "## Mão na Massa Guiada: Refatorando Juntos\n",
    "\n",
    "Vamos analisar um trecho de código que funciona, mas que pode ser muito melhorado. Nosso objetivo é atuar como \"detetives de código\", encontrando os pontos fracos e corrigindo-os.\n",
    "\n",
    "### Exemplo: Sistema de Categorias de Clientes\n",
    "\n",
    "Uma empresa quer categorizar seus clientes com base no valor total de compras. As regras são:\n",
    "* **Cliente Ouro:** Gastou mais de R$ 5.000.\n",
    "* **Cliente Prata:** Gastou mais de R$ 1.500.\n",
    "* **Cliente Bronze:** Qualquer outro valor.\n",
    "\n",
    "Veja o código que um estagiário escreveu. Copie, cole e execute para ver o que acontece."
   ]
  },
  {
   "cell_type": "code",
   "execution_count": 1,
   "metadata": {},
   "outputs": [
    {
     "name": "stdout",
     "output_type": "stream",
     "text": [
      "Um cliente que gastou R$ 6000 é da categoria: Prata\n"
     ]
    }
   ],
   "source": [
    "# Código a ser analisado\n",
    "# Teste com o valor 6000. O esperado é \"Cliente Ouro\", mas o que aparece?\n",
    "\n",
    "valor = 6000\n",
    "\n",
    "if valor > 1500:\n",
    "    cat = \"Prata\"\n",
    "elif valor > 5000:\n",
    "    cat = \"Ouro\"\n",
    "else:\n",
    "    cat = \"Bronze\"\n",
    "\n",
    "print(f\"Um cliente que gastou R$ {valor} é da categoria: {cat}\")"
   ]
  },
  {
   "cell_type": "markdown",
   "metadata": {},
   "source": [
    "> **_Para o Professor:_**\n",
    "> \n",
    "> **Dica de Condução:** Antes de mostrar o erro, instigue a turma. Execute o código e pergunte: \"O resultado está certo? Por que um cliente que gastou R$ 6.000 foi classificado como Prata?\". Deixe que eles cheguem à conclusão sobre a ordem da lógica. Este é um momento chave de aprendizado (insight)."
   ]
  },
  {
   "cell_type": "markdown",
   "metadata": {},
   "source": [
    "**O que deu errado?**\n",
    "\n",
    "O código classificou um cliente que gastou R$ 6.000 como \"Prata\"! Isso aconteceu por causa do **erro na ordem da lógica**. Como `6000` é maior que `1500`, o Python executou o primeiro bloco `if` que encontrou como verdadeiro e ignorou o resto.\n",
    "\n",
    "Além disso, os nomes das variáveis (`valor`, `cat`) poderiam ser mais claros.\n",
    "\n",
    "**Vamos refatorar juntos!** Este é o jeito certo de escrever, aplicando as boas práticas:"
   ]
  },
  {
   "cell_type": "code",
   "execution_count": 2,
   "metadata": {},
   "outputs": [
    {
     "name": "stdout",
     "output_type": "stream",
     "text": [
      "Um cliente que gastou R$ 6000 é da categoria: Ouro\n"
     ]
    }
   ],
   "source": [
    "# Versão Refatorada e Corrigida\n",
    "\n",
    "valor_gasto_cliente = 6000\n",
    "\n",
    "# 1. Ordem correta: do mais específico (Ouro) para o mais geral (Bronze)\n",
    "if valor_gasto_cliente > 5000:\n",
    "    categoria_cliente = \"Ouro\"\n",
    "elif valor_gasto_cliente > 1500:\n",
    "    categoria_cliente = \"Prata\"\n",
    "else:\n",
    "    categoria_cliente = \"Bronze\"\n",
    "\n",
    "# 2. Nomes de variáveis significativos!\n",
    "print(f\"Um cliente que gastou R$ {valor_gasto_cliente} é da categoria: {categoria_cliente}\")"
   ]
  },
  {
   "cell_type": "markdown",
   "metadata": {},
   "source": [
    "---\n",
    "## Agora é com Você! \n",
    "\n",
    "Chegou a sua vez de praticar! Resolva as atividades abaixo. O objetivo não é apenas fazer funcionar, mas aplicar as **boas práticas** que discutimos."
   ]
  },
  {
   "cell_type": "markdown",
   "metadata": {},
   "source": [
    "### Atividade 1: Verificação de Estoque\n",
    "\n",
    "O código abaixo verifica se um produto em um e-commerce precisa ser reposto. Ele funciona, mas não está \"limpo\".\n",
    "\n",
    "**Sua missão:**\n",
    "1.  Renomeie as variáveis para que fiquem mais claras.\n",
    "2.  Remova a comparação redundante (`== True`) na estrutura `if`."
   ]
  },
  {
   "cell_type": "code",
   "execution_count": 3,
   "metadata": {},
   "outputs": [
    {
     "name": "stdout",
     "output_type": "stream",
     "text": [
      "O produto precisa ser reposto no estoque!\n"
     ]
    }
   ],
   "source": [
    "# Código para refatorar\n",
    "x = 5\n",
    "y = 10\n",
    "z = False\n",
    "\n",
    "if x < y:\n",
    "    z = True\n",
    "\n",
    "if z == True:\n",
    "    print(\"O produto precisa ser reposto no estoque!\")\n",
    "else:\n",
    "    print(\"Produto com estoque suficiente.\")"
   ]
  },
  {
   "cell_type": "code",
   "execution_count": 4,
   "metadata": {},
   "outputs": [],
   "source": [
    "# Escreva sua solução aqui\n",
    "\n"
   ]
  },
  {
   "cell_type": "markdown",
   "metadata": {},
   "source": [
    "> **_Para o Professor - Atividade 1:_**\n",
    "> \n",
    "> **Objetivo da Atividade:** Focar na clareza e legibilidade do código, trabalhando os conceitos de nomes de variáveis e simplificação de expressões booleanas.\n",
    "> \n",
    "> **Pontos de Atenção:** Verifique se os alunos escolheram nomes realmente significativos para as variáveis, como `estoque_atual`, `estoque_minimo`, `precisa_repor`, etc. É um bom momento para discutir como a escolha de nomes impacta a manutenção do código.\n",
    "> \n",
    "> **Dica de Condução:** Circule pela sala e incentive os alunos a pensarem nos melhores nomes possíveis. Pergunte: \"Se outra pessoa lesse seu código, ela entenderia o que `x` e `y` significam?\".\n",
    "> \n",
    "> ---\n",
    "> \n",
    "> **_Solução Comentada:_**"
   ]
  },
  {
   "cell_type": "code",
   "execution_count": 5,
   "metadata": {},
   "outputs": [
    {
     "name": "stdout",
     "output_type": "stream",
     "text": [
      "O produto precisa ser reposto no estoque!\n"
     ]
    }
   ],
   "source": [
    "# Solução da Atividade 1\n",
    "\n",
    "# 1. Nomes de variáveis foram melhorados para serem mais descritivos\n",
    "estoque_atual = 5\n",
    "estoque_minimo = 10\n",
    "precisa_repor = False # A variável já pode começar com um valor padrão\n",
    "\n",
    "if estoque_atual < estoque_minimo:\n",
    "    precisa_repor = True\n",
    "\n",
    "# 2. A comparação \"== True\" foi removida, tornando o código mais limpo\n",
    "if precisa_repor:\n",
    "    print(\"O produto precisa ser reposto no estoque!\")\n",
    "else:\n",
    "    print(\"Produto com estoque suficiente.\")"
   ]
  },
  {
   "cell_type": "markdown",
   "metadata": {},
   "source": [
    "---\n",
    "### Atividade 2: Sistema de Frete Progressivo\n",
    "\n",
    "Uma transportadora calcula o valor do frete com base na distância em km. A tabela de preços é:\n",
    "* Até 50 km: R\\$ 25,00\n",
    "* Entre 51 km e 200 km: R\\$ 45,00\n",
    "* Acima de 200 km: R\\$ 70,00\n",
    "\n",
    "O código abaixo contém um erro de lógica que faz com que todas as entregas acima de 50 km custem R$ 45,00.\n",
    "\n",
    "**Sua missão:**\n",
    "1.  Encontre o erro na ordem das condições `if/elif`.\n",
    "2.  Corrija a lógica para que o cálculo do frete funcione corretamente para todas as distâncias."
   ]
  },
  {
   "cell_type": "code",
   "execution_count": 6,
   "metadata": {},
   "outputs": [
    {
     "name": "stdout",
     "output_type": "stream",
     "text": [
      "Para uma distância de 300 km, o frete é de R$ 45.00\n"
     ]
    }
   ],
   "source": [
    "# Código com erro de lógica\n",
    "distancia_km = 300 # O frete deveria ser R$ 70,00\n",
    "\n",
    "if distancia_km <= 50:\n",
    "    valor_frete = 25.00\n",
    "elif distancia_km > 50: # Este é o problema! 300 é > 50.\n",
    "    valor_frete = 45.00\n",
    "elif distancia_km > 200:\n",
    "    valor_frete = 70.00\n",
    "else:\n",
    "    valor_frete = 0 # Caso de erro\n",
    "\n",
    "print(f\"Para uma distância de {distancia_km} km, o frete é de R$ {valor_frete:.2f}\")"
   ]
  },
  {
   "cell_type": "code",
   "execution_count": 7,
   "metadata": {},
   "outputs": [],
   "source": [
    "# Escreva sua solução aqui\n",
    "\n"
   ]
  },
  {
   "cell_type": "markdown",
   "metadata": {},
   "source": [
    "> **_Para o Professor - Atividade 2:_**\n",
    "> \n",
    "> **Objetivo da Atividade:** Reforçar a importância da ordem correta das condições em uma estrutura `if-elif-else` para evitar bugs lógicos.\n",
    "> \n",
    "> **Pontos de Atenção:** Alguns alunos podem tentar resolver usando `and` (ex: `elif distancia_km > 50 and distancia_km <= 200:`). Embora funcione, explique que, se a ordem estiver correta, o `and` se torna desnecessário, tornando o código mais eficiente e legível.\n",
    "> \n",
    "> **Dica de Condução:** Apresente as duas soluções (com e sem `and`) e promova um debate sobre qual é mais \"limpa\" e por quê. Isso estimula o pensamento crítico sobre a qualidade do código.\n",
    "> \n",
    "> ---\n",
    "> \n",
    "> **_Solução Comentada:_**"
   ]
  },
  {
   "cell_type": "code",
   "execution_count": 8,
   "metadata": {},
   "outputs": [
    {
     "name": "stdout",
     "output_type": "stream",
     "text": [
      "Para uma distância de 300 km, o frete é de R$ 70.00\n"
     ]
    }
   ],
   "source": [
    "# Solução da Atividade 2\n",
    "\n",
    "distancia_km = 300\n",
    "\n",
    "# A lógica foi reordenada. O Python agora testa a condição mais específica (distância > 200) primeiro.\n",
    "# Se essa falhar, ele testa a próxima mais específica, e assim por diante.\n",
    "if distancia_km > 200:\n",
    "    valor_frete = 70.00\n",
    "elif distancia_km > 50: # Esta condição só será testada se a primeira for falsa.\n",
    "    valor_frete = 45.00\n",
    "else: # Esta é a condição mais geral (distâncias de 0 a 50 km)\n",
    "    valor_frete = 25.00\n",
    "\n",
    "print(f\"Para uma distância de {distancia_km} km, o frete é de R$ {valor_frete:.2f}\")"
   ]
  },
  {
   "cell_type": "markdown",
   "metadata": {},
   "source": [
    "---\n",
    "### Atividade 3 (Desafio): Classificação de Risco\n",
    "\n",
    "Você está ajudando a desenvolver um sistema para uma seguradora. O sistema classifica o risco de um cliente com base na sua idade.\n",
    "* **Alto Risco:** Idade abaixo de 20 anos ou acima de 65 anos.\n",
    "* **Médio Risco:** Idade entre 20 e 30 anos (inclusive).\n",
    "* **Baixo Risco:** Todas as outras idades (entre 31 e 65).\n",
    "\n",
    "O código abaixo foi escrito, mas está confuso e difícil de ler.\n",
    "\n",
    "**Sua missão:**\n",
    "1.  Reescreva o código do zero, mantendo a mesma funcionalidade.\n",
    "2.  Use nomes de variáveis claros.\n",
    "3.  Estruture o `if/elif/else` da maneira mais lógica e legível possível."
   ]
  },
  {
   "cell_type": "code",
   "execution_count": 9,
   "metadata": {},
   "outputs": [
    {
     "name": "stdout",
     "output_type": "stream",
     "text": [
      "Baixo Risco\n"
     ]
    }
   ],
   "source": [
    "# Código confuso para refatorar\n",
    "i = 45 # Idade do cliente\n",
    "\n",
    "if i < 20:\n",
    "    print(\"Alto Risco\")\n",
    "else:\n",
    "    if i > 65:\n",
    "        print(\"Alto Risco\")\n",
    "    else:\n",
    "        if i >= 20 and i <= 30:\n",
    "            print(\"Médio Risco\")\n",
    "        else:\n",
    "            print(\"Baixo Risco\")"
   ]
  },
  {
   "cell_type": "code",
   "execution_count": 10,
   "metadata": {},
   "outputs": [],
   "source": [
    "# Escreva sua solução aqui\n",
    "\n"
   ]
  },
  {
   "cell_type": "markdown",
   "metadata": {},
   "source": [
    "> **_Para o Professor - Atividade 3:_**\n",
    "> \n",
    "> **Objetivo da Atividade:** Desenvolver a habilidade de refatorar código, transformando uma estrutura aninhada e confusa em uma estrutura linear, clara e legível, usando `if/elif/else` e operadores lógicos como `or`.\n",
    "> \n",
    "> **Pontos de Atenção:** O desafio aqui é combinar as duas condições de \"Alto Risco\" em uma única verificação usando o operador `or`. Observe se os alunos conseguem fazer essa abstração.\n",
    "> \n",
    "> **Dica de Condução:** Para os alunos que tiverem dificuldade, desenhe uma linha do tempo no quadro com as idades e as classificações. Visualizar os intervalos ajuda a construir a lógica do código.\n",
    "> \n",
    "> ---\n",
    "> \n",
    "> **_Solução Comentada:_**"
   ]
  },
  {
   "cell_type": "code",
   "execution_count": 11,
   "metadata": {},
   "outputs": [
    {
     "name": "stdout",
     "output_type": "stream",
     "text": [
      "Um cliente com 45 anos tem classificação de: Baixo Risco\n"
     ]
    }
   ],
   "source": [
    "# Solução da Atividade 3\n",
    "\n",
    "idade_cliente = 45\n",
    "\n",
    "# Usamos o operador 'or' para unir as duas condições de alto risco em uma só linha.\n",
    "# Isso torna o código muito mais legível do que os 'ifs' aninhados.\n",
    "if idade_cliente < 20 or idade_cliente > 65:\n",
    "    classificacao_risco = \"Alto Risco\"\n",
    "\n",
    "# A ordem continua importando: verificamos o médio risco em seguida.\n",
    "elif idade_cliente >= 20 and idade_cliente <= 30:\n",
    "    classificacao_risco = \"Médio Risco\"\n",
    "\n",
    "# Se nenhuma das condições acima for verdadeira, só pode ser baixo risco.\n",
    "else:\n",
    "    classificacao_risco = \"Baixo Risco\"\n",
    "\n",
    "print(f\"Um cliente com {idade_cliente} anos tem classificação de: {classificacao_risco}\")"
   ]
  },
  {
   "cell_type": "markdown",
   "metadata": {},
   "source": [
    "---\n",
    "## Atividades Extras\n",
    "\n",
    "Programação é uma ferramenta poderosa para resolver problemas em TODAS as áreas. Vamos ver como a lógica condicional se aplica à química, saúde e finanças."
   ]
  },
  {
   "cell_type": "markdown",
   "metadata": {},
   "source": [
    "### Atividade 4: O Químico Digital (Físico-Química)\n",
    "\n",
    "Você está criando um simulador de laboratório que determina o estado físico da água (em condições normais de pressão) com base na temperatura.\n",
    "\n",
    "**Sua missão:**\n",
    "1.  Peça ao usuário para digitar a temperatura da água em graus Celsius. Lembre-se de converter o valor para `float`.\n",
    "2.  Use operadores relacionais (`<=`, `>=`) e uma estrutura `if-elif-else` para determinar o estado físico.\n",
    "3.  Imprima uma das seguintes mensagens: \"A água está no estado Sólido (gelo).\", \"A água está no estado Líquido.\" ou \"A água está no estado Gasoso (vapor).\""
   ]
  },
  {
   "cell_type": "code",
   "execution_count": 12,
   "metadata": {},
   "outputs": [],
   "source": [
    "# Escreva sua solução aqui\n",
    "\n"
   ]
  },
  {
   "cell_type": "markdown",
   "metadata": {},
   "source": [
    "> **_Para o Professor - Atividade 4:_**\n",
    "> \n",
    "> **Objetivo da Atividade:** Integrar a leitura de dados do teclado (`input`) com a lógica condicional, aplicando o conhecimento em um contexto de outra disciplina (Química).\n",
    "> \n",
    "> **Pontos de Atenção:** O principal erro pode ser esquecer de converter o `input` (que é sempre string) para um tipo numérico (`float` ou `int`). Reforce a importância do `float()` para permitir temperaturas não inteiras.\n",
    "> \n",
    "> **Dica de Condução:** Peça para os alunos testarem o programa com valores limite, como 0 e 100, para ver se a lógica está correta nas transições de estado.\n",
    "> \n",
    "> ---\n",
    "> \n",
    "> **_Solução Comentada:_**"
   ]
  },
  {
   "cell_type": "code",
   "execution_count": 13,
   "metadata": {},
   "outputs": [
    {
     "name": "stdin",
     "output_type": "stream",
     "text": [
      "Digite a temperatura da água em °C:  80\n"
     ]
    },
    {
     "name": "stdout",
     "output_type": "stream",
     "text": [
      "A água está no estado Líquido.\n"
     ]
    }
   ],
   "source": [
    "# Solução da Atividade 4\n",
    "\n",
    "# 1. Lemos o dado do teclado e o convertemos para float.\n",
    "temperatura_celsius = float(input(\"Digite a temperatura da água em °C: \"))\n",
    "\n",
    "# 2. Usamos uma estrutura if-elif-else para testar as condições.\n",
    "# A ordem aqui também é importante para a lógica funcionar.\n",
    "if temperatura_celsius <= 0:\n",
    "    estado_fisico = \"Sólido (gelo)\"\n",
    "elif temperatura_celsius < 100: # Não precisa verificar se é > 0, pois isso já é implícito.\n",
    "    estado_fisico = \"Líquido\"\n",
    "else: # Se não for <= 0 nem < 100, só pode ser >= 100.\n",
    "    estado_fisico = \"Gasoso (vapor)\"\n",
    "\n",
    "# 3. Imprimimos o resultado de forma clara.\n",
    "print(f\"A água está no estado {estado_fisico}.\")"
   ]
  },
  {
   "cell_type": "markdown",
   "metadata": {},
   "source": [
    "---\n",
    "### Atividade 5: Calculadora de IMC (Saúde e Biologia)\n",
    "\n",
    "O Índice de Massa Corporal (IMC) é um cálculo utilizado para avaliar se a pessoa está dentro do seu peso ideal. A fórmula é: `IMC = peso / (altura * altura)`.\n",
    "\n",
    "**Sua missão:**\n",
    "1.  Peça ao usuário seu peso em kg (ex: `70.5`) e sua altura em metros (ex: `1.75`).\n",
    "2.  Use **operadores aritméticos** para calcular o IMC.\n",
    "3.  Use uma estrutura `if-elif-else` bem ordenada para classificar o resultado de acordo com a tabela abaixo:\n",
    "    * Abaixo de 18.5: Abaixo do peso\n",
    "    * 18.5 a 24.9: Peso normal\n",
    "    * 25.0 a 29.9: Sobrepeso\n",
    "    * 30.0 ou mais: Obesidade\n",
    "4.  Imprima o valor do IMC calculado (com 2 casas decimais) e a sua respectiva classificação."
   ]
  },
  {
   "cell_type": "code",
   "execution_count": 14,
   "metadata": {},
   "outputs": [],
   "source": [
    "# Escreva sua solução aqui\n",
    "\n"
   ]
  },
  {
   "cell_type": "markdown",
   "metadata": {},
   "source": [
    "> **_Para o Professor - Atividade 5:_**\n",
    "> \n",
    "> **Objetivo da Atividade:** Combinar `input`, operadores aritméticos, formatação de strings (`f-string` com `: .2f`) e lógica condicional em um único problema prático e multidisciplinar.\n",
    "> \n",
    "> **Pontos de Atenção:** O cálculo do IMC (`altura * altura`) pode ser escrito como `altura ** 2`. Verifique se os alunos conhecem o operador de exponenciação. A formatação do print para 2 casas decimais também é um ponto importante a ser observado.\n",
    "> \n",
    "> **Dica de Condução:** Discuta a importância de fornecer instruções claras ao usuário no `input` (ex: \"Digite seu peso **em kg**\"). Isso é parte fundamental do desenvolvimento de programas amigáveis.\n",
    "> \n",
    "> ---\n",
    "> \n",
    "> **_Solução Comentada:_**"
   ]
  },
  {
   "cell_type": "code",
   "execution_count": 15,
   "metadata": {},
   "outputs": [
    {
     "name": "stdin",
     "output_type": "stream",
     "text": [
      "Digite seu peso em kg (ex: 70.5):  75\n",
      "Digite sua altura em metros (ex: 1.75):  1.75\n"
     ]
    },
    {
     "name": "stdout",
     "output_type": "stream",
     "text": [
      "Seu IMC é 24.49. Classificação: Peso normal.\n"
     ]
    }
   ],
   "source": [
    "# Solução da Atividade 5\n",
    "\n",
    "# 1. Coleta e conversão dos dados de entrada\n",
    "peso_kg = float(input(\"Digite seu peso em kg (ex: 70.5): \"))\n",
    "altura_m = float(input(\"Digite sua altura em metros (ex: 1.75): \"))\n",
    "\n",
    "# 2. Cálculo do IMC usando operadores aritméticos\n",
    "imc = peso_kg / (altura_m ** 2)\n",
    "\n",
    "# 3. Estrutura condicional para classificar o IMC\n",
    "if imc < 18.5:\n",
    "    classificacao = \"Abaixo do peso\"\n",
    "elif imc < 25: # O intervalo 18.5 a 24.9 está implícito aqui\n",
    "    classificacao = \"Peso normal\"\n",
    "elif imc < 30: # O intervalo 25.0 a 29.9 está implícito aqui\n",
    "    classificacao = \"Sobrepeso\"\n",
    "else: # Se nenhuma das anteriores, só pode ser >= 30.0\n",
    "    classificacao = \"Obesidade\"\n",
    "\n",
    "# 4. Impressão formatada do resultado\n",
    "print(f\"Seu IMC é {imc:.2f}. Classificação: {classificacao}.\")"
   ]
  },
  {
   "cell_type": "markdown",
   "metadata": {},
   "source": [
    "---\n",
    "### Atividade 6 (Desafio Multidisciplinar): Desconto da Livraria Universitária (Matemática Financeira)\n",
    "\n",
    "A livraria do seu bairro está com uma promoção especial. As regras são as seguintes:\n",
    "1.  Compras acima de R$ 100,00 recebem 10% de desconto.\n",
    "2.  Se o cliente for estudante, ele recebe um **desconto adicional** de 5% (cumulativo com o primeiro).\n",
    "\n",
    "**Sua missão:**\n",
    "1.  Pergunte ao usuário o valor total da compra.\n",
    "2.  Pergunte se ele é estudante (peça para digitar 's' para sim ou 'n' para não).\n",
    "3.  Calcule o percentual de desconto total com base nas regras.\n",
    "4.  Calcule o valor do desconto em reais e o preço final a ser pago.\n",
    "5.  Imprima uma mensagem clara para o cliente, informando o desconto total aplicado e o valor final da compra. Ex: \"Você recebeu 15% de desconto! O valor final da sua compra é R$ 102.00\"."
   ]
  },
  {
   "cell_type": "code",
   "execution_count": 16,
   "metadata": {},
   "outputs": [],
   "source": [
    "# Escreva sua solução aqui\n",
    "\n"
   ]
  },
  {
   "cell_type": "markdown",
   "metadata": {},
   "source": [
    "> **_Para o Professor - Atividade 6:_**\n",
    "> \n",
    "> **Objetivo da Atividade:** Trabalhar com lógica condicional aninhada ou composta (`and`) e a manipulação de variáveis para acumular valores (desconto). É um problema mais complexo que integra todos os conceitos da aula.\n",
    "> \n",
    "> **Pontos de Atenção:** A lógica de acumular o desconto é o ponto crucial. Muitos alunos podem ter dificuldade em inicializar a variável de desconto com 0 e depois somar os percentuais. Outro ponto é o tratamento da entrada do usuário para 's' ou 'n', onde usar `.lower()` é uma boa prática para evitar erros.\n",
    "> \n",
    "> **Dica de Condução:** Desenhe o fluxograma deste problema no quadro. A representação visual das decisões (Valor > 100? É estudante?) ajuda a quebrar o problema em partes menores e mais fáceis de codificar.\n",
    "> \n",
    "> ---\n",
    "> \n",
    "> **_Solução Comentada:_**"
   ]
  },
  {
   "cell_type": "code",
   "execution_count": 17,
   "metadata": {},
   "outputs": [
    {
     "name": "stdin",
     "output_type": "stream",
     "text": [
      "Digite o valor total da compra: R$  600\n",
      "Você é estudante? (s/n):  s\n"
     ]
    },
    {
     "name": "stdout",
     "output_type": "stream",
     "text": [
      "Você recebeu 15% de desconto!\n",
      "O valor final da sua compra é R$ 510.00\n"
     ]
    }
   ],
   "source": [
    "# Solução da Atividade 6\n",
    "\n",
    "# 1 e 2. Coleta dos dados do usuário\n",
    "valor_compra = float(input(\"Digite o valor total da compra: R$ \"))\n",
    "eh_estudante = input(\"Você é estudante? (s/n): \")\n",
    "\n",
    "# 3. Lógica para calcular o desconto\n",
    "desconto_percentual = 0 # Inicializamos a variável de desconto\n",
    "\n",
    "# Primeira condição: desconto pelo valor\n",
    "if valor_compra > 100:\n",
    "    desconto_percentual = desconto_percentual + 10 # ou desconto_percentual += 10\n",
    "\n",
    "# Segunda condição: desconto adicional para estudantes\n",
    "# Usamos .lower() para garantir que 'S' também seja aceito\n",
    "if eh_estudante.lower() == 's':\n",
    "    desconto_percentual = desconto_percentual + 5\n",
    "\n",
    "# 4. Cálculo do valor final\n",
    "valor_desconto = (valor_compra * desconto_percentual) / 100\n",
    "valor_final = valor_compra - valor_desconto\n",
    "\n",
    "# 5. Impressão do resultado\n",
    "print(f\"Você recebeu {desconto_percentual}% de desconto!\")\n",
    "print(f\"O valor final da sua compra é R$ {valor_final:.2f}\")"
   ]
  }
 ],
 "metadata": {
  "kernelspec": {
   "display_name": "Python 3 (ipykernel)",
   "language": "python",
   "name": "python3"
  },
  "language_info": {
   "codemirror_mode": {
    "name": "ipython",
    "version": 3
   },
   "file_extension": ".py",
   "mimetype": "text/x-python",
   "name": "python",
   "nbconvert_exporter": "python",
   "pygments_lexer": "ipython3",
   "version": "3.12.8"
  }
 },
 "nbformat": 4,
 "nbformat_minor": 4
}
