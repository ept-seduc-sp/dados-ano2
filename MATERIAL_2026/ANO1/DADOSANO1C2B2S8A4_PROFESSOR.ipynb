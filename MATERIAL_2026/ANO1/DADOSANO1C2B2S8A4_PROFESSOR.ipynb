{
 "cells": [
  {
   "cell_type": "markdown",
   "metadata": {},
   "source": [
    "> **_ÁREA DO PROFESSOR_**\n",
    "> \n",
    "> **Arquivo:** DADOSANO1C2B2S8A4_PROFESSOR.ipynb\n",
    "> \n",
    "> Este notebook contém a versão do professor para a Aula 4 da Semana 8. Ele inclui todo o conteúdo do aluno, além de orientações, dicas de condução e a solução comentada para cada exercício, formatadas em caixas de citação como esta.\n",
    "> \n",
    "> **Objetivo Geral da Aula Prática:** Consolidar o conhecimento da semana, levando os alunos a analisar problemas e escolher a estrutura de repetição (`for` ou `while`) e os comandos de controle (`break`, `continue`) mais adequados para cada cenário."
   ]
  },
  {
   "cell_type": "markdown",
   "metadata": {},
   "source": [
    "<h1 style=\"text-align: center;\">TÉCNICO EM CIÊNCIA DE DADOS</h1>\n",
    "<h1 style=\"text-align: center;\">Roteiro de Atividade Prática - PROFESSOR</h1>\n",
    "<br>\n",
    "<br>\n",
    "\n",
    "**Componente:** Programação Aplicada à Ciência de Dados\n",
    "<br>\n",
    "**Unidade Curricular:** Lógica de Programação e Fundamentos de Python\n",
    "<br>\n",
    "**Tema da Semana:** Revisão geral e prática de condicionais\n",
    "<br>"
   ]
  },
  {
   "cell_type": "markdown",
   "metadata": {},
   "source": [
    "# Aula 4 - Exercícios com for e while em diferentes contextos\n",
    "\n",
    "Nesta aula prática final, vamos juntar todo o conhecimento da semana para resolver desafios. O objetivo principal é analisar cada problema e decidir qual é a melhor ferramenta (`if`, `for`, `while`, `break`) para construir a solução mais eficiente."
   ]
  },
  {
   "cell_type": "markdown",
   "metadata": {},
   "source": [
    "## Colocando em Prática"
   ]
  },
  {
   "cell_type": "markdown",
   "metadata": {},
   "source": [
    "### Parte 1: Revisando Nossas Ferramentas\n",
    "\n",
    "Antes dos desafios, vamos fazer uma rápida revisão das ferramentas que temos em nosso \"cinto de utilidades\" de programação.\n",
    "\n",
    "#### A Ferramenta de Decisão: `if / elif / else`\n",
    "É a nossa ferramenta para tomar decisões. O programa verifica uma condição e escolhe **um único caminho** para seguir. Nunca executa dois blocos ao mesmo tempo.\n",
    "\n",
    "#### A Ferramenta de Repetição Contada: `for`\n",
    "É ideal quando sabemos **exatamente quantas vezes** queremos repetir uma ação. Usamos com `range()` para percorrer uma sequência numérica definida.\n",
    "\n",
    "#### A Ferramenta de Repetição Condicional: `while`\n",
    "É perfeita para quando a repetição depende de uma **condição que pode mudar**. O laço continua **enquanto** a condição for verdadeira, sem sabermos de antemão quantas vezes isso levará.\n",
    "\n",
    "---\n",
    "### Como Escolher a Ferramenta Certa?\n",
    "\n",
    "Ao ler um problema, faça estas perguntas:\n",
    "\n",
    "1.  **Preciso tomar uma decisão uma única vez?**\n",
    "    - Sim? Use **`if / elif / else`**.\n",
    "\n",
    "2.  **Preciso repetir algo um número fixo de vezes (ex: 10 vezes, ou para cada item de uma lista)?**\n",
    "    - Sim? Use **`for`**.\n",
    "\n",
    "3.  **Preciso repetir algo até que uma condição mude (ex: até o usuário digitar 'sair', ou até a senha estar correta)?**\n",
    "    - Sim? Use **`while`**."
   ]
  },
  {
   "cell_type": "markdown",
   "metadata": {},
   "source": [
    "## Parte 2: Desafios Práticos\n",
    "\n",
    "Analise cada problema, pense em qual ferramenta é a mais adequada e construa a solução."
   ]
  },
  {
   "cell_type": "markdown",
   "metadata": {},
   "source": [
    "---\n",
    "### Exercício 1: O Professor de Matemática Digital\n",
    "\n",
    "**Contexto:** Imagine que você quer criar uma ferramenta para ajudar um colega a estudar a tabuada. O programa deve ser interativo, pedindo um número e mostrando a tabuada completa dele, do 1 ao 10.\n",
    "\n",
    "**Exemplo:** Se o usuário digitar o número `7`, a saída do programa deve ser:\n",
    "```\n",
    "7 x 1 = 7\n",
    "7 x 2 = 14\n",
    "...\n",
    "7 x 10 = 70\n",
    "```"
   ]
  },
  {
   "cell_type": "code",
   "execution_count": 1,
   "metadata": {},
   "outputs": [],
   "source": [
    "# Escreva sua solução aqui\n",
    "\n"
   ]
  },
  {
   "cell_type": "markdown",
   "metadata": {},
   "source": [
    "> **_Para o Professor - Exercício 1:_**\n",
    "> \n",
    "> **Objetivo da Atividade:** Solidificar o uso do `for` com `range()` para um problema de repetição contada e definida.\n",
    "> \n",
    "> **Ponto de Atenção:** O enunciado deixa claro que a repetição vai de 1 a 10. Verifique se o aluno usa o `range(1, 11)` corretamente. Este é um bom momento para reforçar o `input()` com conversão para `int()` e a formatação do `print` com f-strings.\n",
    "> \n",
    "> ---\n",
    "> \n",
    "> **_Solução Comentada:_**"
   ]
  },
  {
   "cell_type": "code",
   "execution_count": 2,
   "metadata": {},
   "outputs": [
    {
     "name": "stdout",
     "output_type": "stream",
     "text": [
      "Digite um número para ver sua tabuada:  8\n"
     ]
    },
    {
     "name": "stdout",
     "output_type": "stream",
     "text": [
      "\n",
      "--- Tabuada do 8 ---\n",
      "8 x 1 = 8\n",
      "8 x 2 = 16\n",
      "8 x 3 = 24\n",
      "8 x 4 = 32\n",
      "8 x 5 = 40\n",
      "8 x 6 = 48\n",
      "8 x 7 = 56\n",
      "8 x 8 = 64\n",
      "8 x 9 = 72\n",
      "8 x 10 = 80\n"
     ]
    }
   ],
   "source": [
    "# Pede um número ao usuário e converte para inteiro\n",
    "numero_tabuada = int(input(\"Digite um número para ver sua tabuada: \"))\n",
    "\n",
    "print(f\"\\n--- Tabuada do {numero_tabuada} ---\")\n",
    "\n",
    "# O laço for é ideal, pois sabemos que a repetição acontecerá 10 vezes.\n",
    "# Usamos range(1, 11) para gerar os números de 1 a 10.\n",
    "for i in range(1, 11):\n",
    "    resultado = numero_tabuada * i\n",
    "    print(f\"{numero_tabuada} x {i} = {resultado}\")"
   ]
  },
  {
   "cell_type": "markdown",
   "metadata": {},
   "source": [
    "---\n",
    "### Exercício 2: O Guardião do Enigma\n",
    "\n",
    "**Contexto:** Você está em um jogo e encontra um guardião que bloqueia uma passagem. Ele só o deixará passar se você acertar o enigma: \"Qual a capital da França?\". O programa deve continuar fazendo a pergunta, sem parar, até que o usuário digite a resposta correta.\n",
    "\n",
    "**Dica:** A resposta correta é \"Paris\". Cuidado com letras maiúsculas e minúsculas! Você pode usar `.lower()` ou `.capitalize()` na resposta do usuário para padronizá-la."
   ]
  },
  {
   "cell_type": "code",
   "execution_count": 3,
   "metadata": {},
   "outputs": [],
   "source": [
    "# Escreva sua solução aqui\n",
    "\n"
   ]
  },
  {
   "cell_type": "markdown",
   "metadata": {},
   "source": [
    "> **_Para o Professor - Exercício 2:_**\n",
    "> \n",
    "> **Objetivo da Atividade:** Praticar o `while` para uma repetição condicional que depende de uma entrada de texto do usuário.\n",
    "> \n",
    "> **Dica de Condução:** Este é um ótimo momento para revisar métodos de string como `.lower()`, `.upper()` ou `.capitalize()`. Mostre aos alunos como o uso desses métodos torna a condição de parada mais robusta, aceitando \"paris\", \"Paris\" ou \"PARIS\" como respostas corretas e evitando frustração.\n",
    "> \n",
    "> ---\n",
    "> \n",
    "> **_Solução Comentada:_**"
   ]
  },
  {
   "cell_type": "code",
   "execution_count": 4,
   "metadata": {},
   "outputs": [
    {
     "name": "stdout",
     "output_type": "stream",
     "text": [
      "Qual a capital da França?  TESTE\n",
      "Qual a capital da França?  MADRI\n",
      "Qual a capital da França?  PARISS\n",
      "Qual a capital da França?  PARIS\n"
     ]
    },
    {
     "name": "stdout",
     "output_type": "stream",
     "text": [
      "Resposta correta! Você pode passar.\n"
     ]
    }
   ],
   "source": [
    "resposta_correta = \"Paris\"\n",
    "\n",
    "# A repetição é indefinida, então o while é a ferramenta ideal.\n",
    "resposta_usuario = \"\"\n",
    "\n",
    "while resposta_usuario.capitalize() != resposta_correta:\n",
    "    resposta_usuario = input(\"Qual a capital da França? \")\n",
    "\n",
    "print(\"Resposta correta! Você pode passar.\")"
   ]
  },
  {
   "cell_type": "markdown",
   "metadata": {},
   "source": [
    "---\n",
    "### Exercício 3: O Analista de Dados do Estoque\n",
    "\n",
    "**Contexto:** Você trabalha em um armazém e recebe uma tarefa simples de análise de dados. Você tem uma lista de códigos de produtos, que são todos os números de 1 a 100. Seu chefe pede um relatório com la **soma de todos os códigos que são pares**.\n",
    "\n",
    "**Sua Missão:** Crie um programa que percorra os números de 1 a 100, verifique se cada número é par e, se for, o adicione a uma soma total. No final, imprima o resultado."
   ]
  },
  {
   "cell_type": "code",
   "execution_count": 5,
   "metadata": {},
   "outputs": [],
   "source": [
    "# Escreva sua solução aqui\n",
    "\n"
   ]
  },
  {
   "cell_type": "markdown",
   "metadata": {},
   "source": [
    "> **_Para o Professor - Exercício 3:_**\n",
    "> \n",
    "> **Objetivo da Atividade:** Combinar a repetição contada (`for`) com uma decisão interna (`if`) e a lógica de um acumulador.\n",
    "> \n",
    "> **Ponto de Atenção:** O erro mais comum é colocar o `print` do resultado final dentro do laço, o que mostraria a soma parcial a cada passo. Reforce que o acumulador é inicializado fora do laço, atualizado dentro, e o resultado final é exibido apenas após o laço terminar.\n",
    "> \n",
    "> ---\n",
    "> \n",
    "> **_Solução Comentada:_**"
   ]
  },
  {
   "cell_type": "code",
   "execution_count": 6,
   "metadata": {},
   "outputs": [
    {
     "name": "stdout",
     "output_type": "stream",
     "text": [
      "A soma de todos os códigos de produto pares é: 2550\n"
     ]
    }
   ],
   "source": [
    "# Inicializa o acumulador\n",
    "soma_dos_pares = 0\n",
    "\n",
    "# O for é ideal, pois vamos percorrer uma sequência de 1 a 100.\n",
    "for numero in range(1, 101):\n",
    "    # A cada passo, usamos um if para tomar uma decisão\n",
    "    if numero % 2 == 0:\n",
    "        # Se o número for par, o adicionamos à soma\n",
    "        soma_dos_pares = soma_dos_pares + numero\n",
    "\n",
    "# O print final é feito fora do laço\n",
    "print(f\"A soma de todos os códigos de produto pares é: {soma_dos_pares}\")"
   ]
  }
 ],
 "metadata": {
  "kernelspec": {
   "display_name": "base",
   "language": "python",
   "name": "python3"
  },
  "language_info": {
   "codemirror_mode": {
    "name": "ipython",
    "version": 3
   },
   "file_extension": ".py",
   "mimetype": "text/x-python",
   "name": "python",
   "nbconvert_exporter": "python",
   "pygments_lexer": "ipython3",
   "version": "3.12.4"
  }
 },
 "nbformat": 4,
 "nbformat_minor": 4
}
