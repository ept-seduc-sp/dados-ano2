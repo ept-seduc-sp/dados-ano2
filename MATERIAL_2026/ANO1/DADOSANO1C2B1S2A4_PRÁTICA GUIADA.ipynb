{
 "cells": [
  {
   "cell_type": "markdown",
   "id": "415feb28-7691-435b-8c12-f199235ebb61",
   "metadata": {},
   "source": [
    "\n",
    "<h1 style=\"text-align: center;\">TÉCNICO EM CIÊNCIA DE DADOS</h1>\n",
    "<h1 style=\"text-align: center;\">Roteiro de Atividade Prática</h1>\n",
    "<br>\n",
    "<br>\n",
    "\n",
    "**Componente:** Programação Aplicada à Ciência de Dados \n",
    "<br>\n",
    "**Unidade Curricular:** Lógica de Programação e Fundamentos de Python\n",
    "<br>\n",
    "**Tema da Semana:** Introdução ao Python\n",
    "<br>"
   ]
  },
  {
   "cell_type": "markdown",
   "id": "d7bf73dd-7e0d-4b21-a480-feecd7a05ff3",
   "metadata": {},
   "source": [
    "# Aula 4: Comandos básicos e sintaxe com exemplos guiados"
   ]
  },
  {
   "cell_type": "markdown",
   "id": "103af588",
   "metadata": {},
   "source": [
    "## 1) Comandos simples de entrada e saída\n",
    "\n",
    "O Python permite **interagir com o usuário** através de comandos básicos:\n",
    "\n",
    "- `print()` → mostra informações na tela  \n",
    "- `input()` → recebe informações do usuário  \n",
    "\n",
    "Esses comandos são a base para todo programa."
   ]
  },
  {
   "cell_type": "code",
   "execution_count": null,
   "id": "73d2565c",
   "metadata": {},
   "outputs": [],
   "source": [
    "# Exemplos de saída com print()\n",
    "\n",
    "print(\"Olá, mundo!\")                  # texto simples\n",
    "print(\"A soma de 2 + 3 é:\", 2 + 3)    # misturando texto e cálculo\n",
    "print(\"Python é\", \"legal!\")           # múltiplos argumentos"
   ]
  },
  {
   "cell_type": "code",
   "execution_count": null,
   "id": "b51641ed-4a5a-4ab3-8767-f4e5b5e6be55",
   "metadata": {},
   "outputs": [],
   "source": [
    "# Exemplos de entrada com input()\n",
    "\n",
    "nome = input(\"Digite seu nome: \")\n",
    "print(\"Prazer em conhecer você,\", nome)\n",
    "\n",
    "idade = input(\"Digite sua idade: \")\n",
    "print(\"Você tem\", idade, \"anos\")"
   ]
  },
  {
   "cell_type": "markdown",
   "id": "6b8c6166",
   "metadata": {},
   "source": [
    "## 2) Sintaxe\n",
    "\n",
    "A sintaxe em Python precisa ser seguida corretamente:  \n",
    "- Parênteses `()` são **obrigatórios** no `print`  \n",
    "- Textos precisam estar entre **aspas**  \n",
    "- Variáveis devem ser criadas antes de serem usadas  \n",
    "\n",
    "Veja exemplos corretos e incorretos:"
   ]
  },
  {
   "cell_type": "code",
   "execution_count": null,
   "id": "49cd2304",
   "metadata": {},
   "outputs": [],
   "source": [
    "# ✅ Correto\n",
    "\n",
    "print(\"Olá\")        \n",
    "print(123)\n",
    "\n",
    "mensagem = \"Seja bem-vindo\"\n",
    "print(mensagem)\n",
    "\n",
    "# ❌ Incorreto\n",
    "# print(\"Olá\"        # falta fechar parêntese\n",
    "# print(Olá)         # falta aspas\n",
    "# print \"Olá\"        # erro no Python 3\n",
    "# print(mensagem)    # erro se mensagem não foi criada antes"
   ]
  },
  {
   "cell_type": "code",
   "execution_count": null,
   "id": "fd3a75a1",
   "metadata": {},
   "outputs": [],
   "source": [
    "# Exemplo de boas práticas de sintaxe\n",
    "cidade = \"São Paulo\"\n",
    "estado = \"SP\"\n",
    "\n",
    "print(\"Cidade:\", cidade)\n",
    "print(\"Estado:\", estado)\n",
    "print(\"Endereço completo:\", cidade, \"-\", estado)"
   ]
  },
  {
   "cell_type": "markdown",
   "id": "8f8bd741",
   "metadata": {},
   "source": [
    "## 3) Erros comuns\n",
    "\n",
    "Erros fazem parte do aprendizado!  \n",
    "Aprender a **ler a mensagem de erro** é essencial para corrigi-los.  \n",
    "\n",
    "### Tipos de erros frequentes:\n",
    "1. **SyntaxError** → Problema na forma do código  \n",
    "2. **NameError** → Variável não existe ou não foi definida  \n",
    "3. **TypeError** → Operações incompatíveis (texto + número, por exemplo)  "
   ]
  },
  {
   "cell_type": "code",
   "execution_count": null,
   "id": "ed15c8d9",
   "metadata": {},
   "outputs": [],
   "source": [
    "# 1. SyntaxError\n",
    "# print(\"Olá\"       # ❌ Parêntese não fechado\n",
    "\n",
    "# 2. NameError\n",
    "# print(nome)       # ❌ 'nome' não foi definido antes\n",
    "\n",
    "# 3. TypeError\n",
    "idade = input(\"Digite sua idade: \")\n",
    "# print(\"Ano que vem você terá \" + idade + 1)   # ❌ string + número"
   ]
  },
  {
   "cell_type": "code",
   "execution_count": null,
   "id": "3686ae89",
   "metadata": {},
   "outputs": [],
   "source": [
    "# ✅ Correção do TypeError usando int()\n",
    "idade = int(input(\"Digite sua idade: \"))\n",
    "print(\"Ano que vem você terá\", idade + 1, \"anos\")"
   ]
  },
  {
   "cell_type": "code",
   "execution_count": null,
   "id": "c1b47b24",
   "metadata": {},
   "outputs": [],
   "source": [
    "# Outro exemplo de erro comum: esquecer os dois pontos (:)\n",
    "# if idade >= 18\n",
    "#     print(\"Você é maior de idade\")   # ❌ SyntaxError"
   ]
  },
  {
   "cell_type": "code",
   "execution_count": null,
   "id": "6a9b998e",
   "metadata": {},
   "outputs": [],
   "source": [
    "# ✅ Correto\n",
    "idade = int(input(\"Digite sua idade: \"))\n",
    "if idade >= 18:\n",
    "    print(\"Você é maior de idade\")\n",
    "else:\n",
    "    print(\"Você é menor de idade\")"
   ]
  },
  {
   "cell_type": "markdown",
   "id": "7ff6430b",
   "metadata": {},
   "source": [
    "## Atividade Final\n",
    "\n",
    "Crie um programa que:\n",
    "\n",
    "1. Pergunte o nome, idade e cidade da pessoa  \n",
    "2. Exiba uma mensagem de boas-vindas personalizada  \n",
    "3. Mostre quantos anos ela terá no próximo ano  \n",
    "4. Mostre a cidade em que ela mora  "
   ]
  },
  {
   "cell_type": "code",
   "execution_count": null,
   "id": "4ec45db1",
   "metadata": {},
   "outputs": [],
   "source": [
    "# Exemplo esperado (cada aluno pode adaptar com seus dados)\n",
    "nome = input(\"Digite seu nome: \")\n",
    "idade = int(input(\"Digite sua idade: \"))\n",
    "cidade = input(\"Digite sua cidade: \")\n",
    "\n",
    "print(\"Olá,\", nome, \"!\")\n",
    "print(\"Ano que vem você terá\", idade + 1, \"anos.\")\n",
    "print(\"Você mora em\", cidade)"
   ]
  }
 ],
 "metadata": {
  "kernelspec": {
   "display_name": "Python 3 (ipykernel)",
   "language": "python",
   "name": "python3"
  },
  "language_info": {
   "codemirror_mode": {
    "name": "ipython",
    "version": 3
   },
   "file_extension": ".py",
   "mimetype": "text/x-python",
   "name": "python",
   "nbconvert_exporter": "python",
   "pygments_lexer": "ipython3",
   "version": "3.12.8"
  }
 },
 "nbformat": 4,
 "nbformat_minor": 5
}
