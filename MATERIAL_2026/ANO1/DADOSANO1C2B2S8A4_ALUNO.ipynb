{
 "cells": [
  {
   "cell_type": "markdown",
   "metadata": {},
   "source": [
    "<h1 style=\"text-align: center;\">TÉCNICO EM CIÊNCIA DE DADOS</h1>\n",
    "<h1 style=\"text-align: center;\">Roteiro de Atividade Prática</h1>\n",
    "<br>\n",
    "<br>\n",
    "\n",
    "**Componente:** Programação Aplicada à Ciência de Dados\n",
    "<br>\n",
    "**Unidade Curricular:** Lógica de Programação e Fundamentos de Python\n",
    "<br>\n",
    "**Tema da Semana:** Revisão geral e prática de condicionais\n",
    "<br>"
   ]
  },
  {
   "cell_type": "markdown",
   "metadata": {},
   "source": [
    "# Aula 4 - Exercícios com for e while em diferentes contextos\n",
    "\n",
    "Nesta aula prática final, vamos juntar todo o conhecimento da semana para resolver desafios. O objetivo principal é analisar cada problema e decidir qual é a melhor ferramenta (`if`, `for`, `while`, `break`) para construir a solução mais eficiente."
   ]
  },
  {
   "cell_type": "markdown",
   "metadata": {},
   "source": [
    "## Colocando em Prática"
   ]
  },
  {
   "cell_type": "markdown",
   "metadata": {},
   "source": [
    "### Parte 1: Revisando Nossas Ferramentas\n",
    "\n",
    "Antes dos desafios, vamos fazer uma rápida revisão das ferramentas que temos em nosso \"cinto de utilidades\" de programação.\n",
    "\n",
    "#### A Ferramenta de Decisão: `if / elif / else`\n",
    "É a nossa ferramenta para tomar decisões. O programa verifica uma condição e escolhe **um único caminho** para seguir. Nunca executa dois blocos ao mesmo tempo.\n",
    "\n",
    "#### A Ferramenta de Repetição Contada: `for`\n",
    "É ideal quando sabemos **exatamente quantas vezes** queremos repetir uma ação. Usamos com `range()` para percorrer uma sequência numérica definida.\n",
    "\n",
    "#### A Ferramenta de Repetição Condicional: `while`\n",
    "É perfeita para quando a repetição depende de uma **condição que pode mudar**. O laço continua **enquanto** a condição for verdadeira, sem sabermos de antemão quantas vezes isso levará.\n",
    "\n",
    "---\n",
    "### Como Escolher a Ferramenta Certa?\n",
    "\n",
    "Ao ler um problema, faça estas perguntas:\n",
    "\n",
    "1.  **Preciso tomar uma decisão uma única vez?**\n",
    "    - Sim? Use **`if / elif / else`**.\n",
    "\n",
    "2.  **Preciso repetir algo um número fixo de vezes (ex: 10 vezes, ou para cada item de uma lista)?**\n",
    "    - Sim? Use **`for`**.\n",
    "\n",
    "3.  **Preciso repetir algo até que uma condição mude (ex: até o usuário digitar 'sair', ou até a senha estar correta)?**\n",
    "    - Sim? Use **`while`**."
   ]
  },
  {
   "cell_type": "markdown",
   "metadata": {},
   "source": [
    "## Parte 2: Desafios Práticos\n",
    "\n",
    "Analise cada problema, pense em qual ferramenta é a mais adequada e construa a solução."
   ]
  },
  {
   "cell_type": "markdown",
   "metadata": {},
   "source": [
    "---\n",
    "### Exercício 1: O Professor de Matemática Digital\n",
    "\n",
    "**Contexto:** Imagine que você quer criar uma ferramenta para ajudar um colega a estudar a tabuada. O programa deve ser interativo, pedindo um número e mostrando a tabuada completa dele, do 1 ao 10.\n",
    "\n",
    "**Exemplo:** Se o usuário digitar o número `7`, a saída do programa deve ser:\n",
    "```\n",
    "7 x 1 = 7\n",
    "7 x 2 = 14\n",
    "...\n",
    "7 x 10 = 70\n",
    "```"
   ]
  },
  {
   "cell_type": "code",
   "execution_count": null,
   "metadata": {},
   "outputs": [],
   "source": [
    "# Escreva sua solução aqui\n",
    "\n"
   ]
  },
  {
   "cell_type": "markdown",
   "metadata": {},
   "source": [
    "---\n",
    "### Exercício 2: O Guardião do Enigma\n",
    "\n",
    "**Contexto:** Você está em um jogo e encontra um guardião que bloqueia uma passagem. Ele só o deixará passar se você acertar o enigma: \"Qual a capital da França?\". O programa deve continuar fazendo a pergunta, sem parar, até que o usuário digite a resposta correta.\n",
    "\n",
    "**Dica:** A resposta correta é \"Paris\". Cuidado com letras maiúsculas e minúsculas! Você pode usar `.lower()` ou `.capitalize()` na resposta do usuário para padronizá-la."
   ]
  },
  {
   "cell_type": "code",
   "execution_count": null,
   "metadata": {},
   "outputs": [],
   "source": [
    "# Escreva sua solução aqui\n",
    "\n"
   ]
  },
  {
   "cell_type": "markdown",
   "metadata": {},
   "source": [
    "---\n",
    "### Exercício 3: O Analista de Dados do Estoque\n",
    "\n",
    "**Contexto:** Você trabalha em um armazém e recebe uma tarefa simples de análise de dados. Você tem uma lista de códigos de produtos, que são todos os números de 1 a 100. Seu chefe pede um relatório com a **soma de todos os códigos que são pares**.\n",
    "\n",
    "**Sua Missão:** Crie um programa que percorra os números de 1 a 100, verifique se cada número é par e, se for, o adicione a uma soma total. No final, imprima o resultado."
   ]
  },
  {
   "cell_type": "code",
   "execution_count": null,
   "metadata": {},
   "outputs": [],
   "source": [
    "# Escreva sua solução aqui\n",
    "\n"
   ]
  },
  {
   "cell_type": "markdown",
   "metadata": {},
   "source": [
    "---\n",
    "### Exercício 4 (Desafio): Simulador de Caixa Eletrônico\n",
    "\n",
    "**Contexto:** Vamos criar uma versão simplificada de um caixa eletrônico. O sistema deve ser um menu interativo que só para quando o usuário escolhe a opção de sair.\n",
    "\n",
    "**Sua Missão:**\n",
    "1.  Comece com um `saldo` inicial de R$ 1000.00.\n",
    "2.  Crie um laço que continue para sempre (`while True:`).\n",
    "3.  Dentro do laço, exiba o saldo atual e o menu de opções: **1. Saque**, **2. Depósito**, **3. Sair**.\n",
    "4.  Peça ao usuário para escolher uma opção.\n",
    "5.  Use `if/elif/else` para tratar a escolha:\n",
    "    - Se for **Saque**, peça o valor e subtraia do saldo.\n",
    "    - Se for **Depósito**, peça o valor e adicione ao saldo.\n",
    "    - Se for **Sair**, exiba uma mensagem de despedida e use o comando `break` para encerrar o laço."
   ]
  },
  {
   "cell_type": "code",
   "execution_count": null,
   "metadata": {},
   "outputs": [],
   "source": [
    "# Escreva sua solução aqui\n",
    "\n"
   ]
  },
  {
   "cell_type": "markdown",
   "metadata": {},
   "source": [
    "---\n",
    "### Exercício 5 (Desafio Mestre): O Validador de Cadastro Exigente\n",
    "\n",
    "**Contexto:** Você está criando um formulário de cadastro e precisa garantir que a idade digitada pelo usuário seja válida (um número entre 0 e 150). Para não frustrar o usuário com tentativas infinitas, o sistema só permitirá **3 chances**.\n",
    "\n",
    "**Sua Missão:**\n",
    "- Se o usuário digitar uma idade válida dentro das 3 tentativas, o programa deve imprimir a idade e uma mensagem de sucesso, e parar.\n",
    "- Se o usuário errar 3 vezes, o programa deve imprimir \"Número de tentativas excedido.\" e parar.\n",
    "\n",
    "**Dica:** Você precisará de um laço e de uma variável para contar as tentativas!"
   ]
  },
  {
   "cell_type": "code",
   "execution_count": null,
   "metadata": {},
   "outputs": [],
   "source": [
    "# Escreva sua solução aqui\n",
    "\n"
   ]
  }
 ],
 "metadata": {
  "kernelspec": {
   "display_name": "Python 3 (ipykernel)",
   "language": "python",
   "name": "python3"
  },
  "language_info": {
   "codemirror_mode": {
    "name": "ipython",
    "version": 3
   },
   "file_extension": ".py",
   "mimetype": "text/x-python",
   "name": "python",
   "nbconvert_exporter": "python",
   "pygments_lexer": "ipython3",
   "version": "3.12.8"
  }
 },
 "nbformat": 4,
 "nbformat_minor": 4
}
