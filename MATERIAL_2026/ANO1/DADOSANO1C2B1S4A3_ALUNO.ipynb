{
 "cells": [
  {
   "cell_type": "markdown",
   "metadata": {},
   "source": [
    "\n",
    "<h1 style=\"text-align: center;\">TÉCNICO EM CIÊNCIA DE DADOS</h1>\n",
    "<h1 style=\"text-align: center;\">Roteiro de Atividade Prática</h1>\n",
    "<br>\n",
    "<br>\n",
    "\n",
    "**Componente:** Programação Aplicada à Ciência de Dados \n",
    "<br>\n",
    "**Unidade Curricular:** Lógica de Programação e Fundamentos de Python\n",
    "<br>\n",
    "**Tema da Semana:** Operadores aritméticos e relacionais\n",
    "<br>"
   ]
  },
  {
   "cell_type": "markdown",
   "metadata": {},
   "source": [
    "# Aula 3 – Expressões compostas\n",
    "\n",
    "Nesta aula, vamos praticar a construção de **expressões compostas**, combinando **operadores aritméticos** (+, -, *, /) com **operadores relacionais** (==, !=, >, <, >=, <=).\n",
    "\n",
    "Nosso objetivo é entender **como o Python avalia expressões compostas** e como a **ordem dos operadores** (precedência) influencia no resultado final.\n",
    "\n",
    "Vamos praticar?"
   ]
  },
  {
   "cell_type": "markdown",
   "metadata": {},
   "source": [
    "## Precedência de Operadores no Python\n",
    "\n",
    "Antes de inciarmos, vamos ver um pouco sobre a precedência de operadores! \n",
    "\n",
    "Quando você escreve uma expressão com **vários operadores**, o Python segue uma ordem para decidir **o que resolver primeiro**. Essa ordem é chamada de **precedência de operadores**.\n",
    "\n",
    "Veja a ordem de prioridade, do mais alto para o mais baixo:\n",
    "\n",
    "1. **Parênteses** `( )`  \n",
    "2. **Potência** `**`  \n",
    "3. **Multiplicação, Divisão, Módulo** `*`, `/`, `//`, `%`  \n",
    "4. **Soma e Subtração** `+`, `-`  \n",
    "5. **Operadores relacionais** `==`, `!=`, `>`, `<`, `>=`, `<=`\n",
    "\n",
    "**Importante**: O Python **resolve primeiro as operações com maior prioridade**, mesmo que venham depois na linha.\n",
    "\n",
    "---\n",
    "\n",
    "### Exemplo:\n",
    "```python\n",
    "resultado = 3 + 4 * 2 > 10\n",
    "print(resultado)\n",
    "```\n",
    "\n",
    "**Como o Python resolve isso?**\n",
    "1. Multiplica: `4 * 2` → `8`  \n",
    "2. Soma: `3 + 8` → `11`  \n",
    "3. Compara: `11 > 10` → `True`\n",
    "\n",
    "---\n",
    "\n",
    "### E se eu usar parênteses?\n",
    "\n",
    "```python\n",
    "resultado = (3 + 4) * 2 > 10\n",
    "print(resultado)\n",
    "```\n",
    "\n",
    "Agora o Python faz:\n",
    "1. Soma: `3 + 4` → `7`  \n",
    "2. Multiplica: `7 * 2` → `14`  \n",
    "3. Compara: `14 > 10` → `True`\n",
    "\n",
    "**Parênteses mudam a ordem da conta! Use sempre que quiser deixar claro o que deve ser feito primeiro.**\n"
   ]
  },
  {
   "cell_type": "markdown",
   "metadata": {},
   "source": [
    "---\n",
    "# Atividades"
   ]
  },
  {
   "cell_type": "markdown",
   "metadata": {},
   "source": [
    "## 1) Preveja o resultado de cada expressão abaixo (sem rodar ainda). Escreva True ou False como resposta esperada:\n"
   ]
  },
  {
   "cell_type": "code",
   "execution_count": null,
   "metadata": {},
   "outputs": [],
   "source": [
    "# A\n",
    "5 + 2 > 6\n",
    "\n",
    "# B\n",
    "10 - 3 == 4 + 3\n",
    "\n",
    "# C\n",
    "8 / 2 < 3 + 1\n",
    "\n",
    "# D\n",
    "4 * 2 != 16 / 2\n"
   ]
  },
  {
   "cell_type": "code",
   "execution_count": null,
   "metadata": {},
   "outputs": [],
   "source": [
    "# Agora rode o código abaixo e compare com sua previsão:\n",
    "print(5 + 2 > 6)       # A\n",
    "print(10 - 3 == 4 + 3) # B\n",
    "print(8 / 2 < 3 + 1)   # C\n",
    "print(4 * 2 != 16 / 2) # D"
   ]
  },
  {
   "cell_type": "markdown",
   "metadata": {},
   "source": [
    "## 2) Qual é o resultado de cada etapa da expressão abaixo?\n"
   ]
  },
  {
   "cell_type": "code",
   "execution_count": null,
   "metadata": {},
   "outputs": [],
   "source": [
    "# Vamos analisar com comentários:\n",
    "\n",
    "resultado = 3 + 2 * 4 > 10 - 1\n",
    "print(resultado)\n",
    "\n",
    "# Etapas:\n",
    "# 1. Multiplicação: 2 * 4 = \n",
    "# 2. Soma: 3 + 8 = \n",
    "# 3. Subtração: 10 - 1 =\n",
    "# 4. Comparação: 11 > 9 → "
   ]
  },
  {
   "cell_type": "markdown",
   "metadata": {},
   "source": [
    "## 3) Complete os espaços com operadores aritméticos e relacionais para que o resultado da expressão seja True. Use +, -, *, /, >, <, ==, etc.\n"
   ]
  },
  {
   "cell_type": "code",
   "execution_count": null,
   "metadata": {},
   "outputs": [],
   "source": [
    "# Exemplo: print(4 ___ 2 ___ 5)\n",
    "# Você deve completar: print(4 + 2 > 5)\n",
    "\n",
    "print(4 _ 2 _ 5)\n",
    "print(3 _ 2 _ 1 _ 7)\n",
    "print(10 _ 2 _ 2 _ 5 _ 1)"
   ]
  },
  {
   "cell_type": "markdown",
   "metadata": {},
   "source": [
    "## 4) Compare os resultados das duas expressões abaixo e observe o que mudou no resultado. Depois, crie sua própria expressão com parênteses que altere para um novo resultado."
   ]
  },
  {
   "cell_type": "code",
   "execution_count": null,
   "metadata": {},
   "outputs": [],
   "source": [
    "print(4 + 3 * 2 > 10)      # Sem parênteses\n",
    "print((4 + 3) * 2 > 10)    # Com parênteses\n"
   ]
  },
  {
   "cell_type": "markdown",
   "metadata": {},
   "source": [
    "## 5) Crie 3 expressões compostas que usem:\n",
    "### - Pelo menos 2 operadores aritméticos\n",
    "### - Pelo menos 1 operador relacional\n",
    "\n",
    "## Para cada expressão:\n",
    "### 1. Escreva sua previsão (True ou False)\n",
    "### 2. Execute e veja se estava certo"
   ]
  },
  {
   "cell_type": "code",
   "execution_count": null,
   "metadata": {},
   "outputs": [],
   "source": [
    "# Exemplo:\n",
    "# Previsão: True\n",
    "print(3 * 2 + 1 == 7)\n",
    "\n",
    "# Agora é com você:\n",
    "# Expressão 1:\n",
    "# Previsão:\n",
    "print()\n",
    "\n",
    "# Expressão 2:\n",
    "# Previsão:\n",
    "print()\n",
    "\n",
    "# Expressão 3:\n",
    "# Previsão:\n",
    "print()"
   ]
  }
 ],
 "metadata": {
  "kernelspec": {
   "display_name": "Python 3 (ipykernel)",
   "language": "python",
   "name": "python3"
  },
  "language_info": {
   "codemirror_mode": {
    "name": "ipython",
    "version": 3
   },
   "file_extension": ".py",
   "mimetype": "text/x-python",
   "name": "python",
   "nbconvert_exporter": "python",
   "pygments_lexer": "ipython3",
   "version": "3.12.8"
  }
 },
 "nbformat": 4,
 "nbformat_minor": 4
}
