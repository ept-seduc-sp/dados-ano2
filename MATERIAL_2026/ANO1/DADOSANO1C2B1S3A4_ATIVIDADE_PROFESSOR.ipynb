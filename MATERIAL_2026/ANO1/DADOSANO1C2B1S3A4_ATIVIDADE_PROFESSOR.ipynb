{
 "cells": [
  {
   "cell_type": "markdown",
   "id": "79fdcd35-e7d8-4aae-b1f8-51566ce63bf6",
   "metadata": {},
   "source": [
    "\n",
    "<h1 style=\"text-align: center;\">TÉCNICO EM CIÊNCIA DE DADOS</h1>\n",
    "<h1 style=\"text-align: center;\">GABARITO PROFESSOR</h1>\n",
    "<br>\n",
    "<br>\n",
    "\n",
    "**Componente:** Programação Aplicada à Ciência de Dados \n",
    "<br>\n",
    "**Unidade Curricular:** Lógica de Programação e Fundamentos de Python\n",
    "<br>\n",
    "**Tema da Semana:** Variáveis e tipos de dados em Python\n",
    "<br>"
   ]
  },
  {
   "cell_type": "markdown",
   "id": "c552e7ec",
   "metadata": {},
   "source": [
    "# Aula 4 — Fixação de variáveis e tipos com desafios\n"
   ]
  },
  {
   "cell_type": "markdown",
   "id": "f6aaea9b",
   "metadata": {},
   "source": [
    "## 1) Relembre rápido: variáveis, tipos e f-strings\n",
    "Sem usar laços de repetição ou condicionais.\n",
    "Tipos comuns: `int`, `float`, `str`, `bool`.\n"
   ]
  },
  {
   "cell_type": "code",
   "execution_count": 1,
   "id": "748b864b",
   "metadata": {},
   "outputs": [
    {
     "name": "stdout",
     "output_type": "stream",
     "text": [
      "<class 'str'>\n",
      "<class 'int'>\n",
      "<class 'float'>\n",
      "<class 'bool'>\n",
      "Ana tem 16 anos e 1.63 m. Matriculado? True\n"
     ]
    }
   ],
   "source": [
    "nome = 'Ana'\n",
    "idade = 16           # int\n",
    "altura = 1.63        # float\n",
    "matriculado = True   # bool\n",
    "\n",
    "print(type(nome))\n",
    "print(type(idade))\n",
    "print(type(altura))\n",
    "print(type(matriculado))\n",
    "\n",
    "print(f'{nome} tem {idade} anos e {altura} m. Matriculado? {matriculado}')\n"
   ]
  },
  {
   "cell_type": "markdown",
   "id": "0f62c7de",
   "metadata": {},
   "source": [
    "## 2) Entradas e saídas: `input()` e `print()`"
   ]
  },
  {
   "cell_type": "code",
   "execution_count": 2,
   "id": "247a3e55",
   "metadata": {},
   "outputs": [
    {
     "name": "stdin",
     "output_type": "stream",
     "text": [
      "Produto:  Nome do Produto\n",
      "Preço (use ponto ou vírgula):  2,50\n"
     ]
    },
    {
     "name": "stdout",
     "output_type": "stream",
     "text": [
      "Produto: Nome do Produto | Preço: R$2.50\n"
     ]
    }
   ],
   "source": [
    "produto = input('Produto: ')\n",
    "preco_texto = input('Preço (use ponto ou vírgula): ')\n",
    "\n",
    "preco = float(preco_texto.replace(',', '.'))\n",
    "print(f'Produto: {produto} | Preço: R${preco:.2f}')\n"
   ]
  },
  {
   "cell_type": "markdown",
   "id": "078ccbba",
   "metadata": {},
   "source": [
    "## 3) Desafio 1 — Cartão de identificação do estudante\n",
    "\n",
    "**Tarefa:** definir `nome` (*str*), `ano_nascimento` (*str*), `ano_atual` (*int*); converter e calcular idade; exibir com `f-string`.\n"
   ]
  },
  {
   "cell_type": "code",
   "execution_count": 3,
   "id": "291cb984",
   "metadata": {},
   "outputs": [
    {
     "name": "stdout",
     "output_type": "stream",
     "text": [
      "Aluno: Luan | Idade: 16 anos\n"
     ]
    }
   ],
   "source": [
    "nome = 'Luan'\n",
    "ano_nascimento_str = '2009'\n",
    "ano_atual = 2025\n",
    "\n",
    "ano_nascimento = int(ano_nascimento_str)\n",
    "idade = ano_atual - ano_nascimento\n",
    "\n",
    "print(f'Aluno: {nome} | Idade: {idade} anos')\n"
   ]
  },
  {
   "cell_type": "markdown",
   "id": "f0a1c9e5",
   "metadata": {},
   "source": [
    "## 4) Desafio 2 — Cantina: total da compra com desconto\n",
    "\n",
    "**Tarefa:** preços chegam como texto (um com vírgula, outro com ponto). Converter, somar e aplicar desconto fixo de 5%.\n"
   ]
  },
  {
   "cell_type": "code",
   "execution_count": 4,
   "id": "0a0eb10d",
   "metadata": {},
   "outputs": [
    {
     "name": "stdout",
     "output_type": "stream",
     "text": [
      "Itens: Pão de queijo e Suco\n",
      "Subtotal: R$9.50\n",
      "Desconto: 5% | Total: R$9.03\n"
     ]
    }
   ],
   "source": [
    "item1 = 'Pão de queijo'\n",
    "preco1_str = '4,50'\n",
    "item2 = 'Suco'\n",
    "preco2_str = '5.00'\n",
    "desconto = 0.05  # 5%\n",
    "\n",
    "preco1 = float(preco1_str.replace(',', '.'))\n",
    "preco2 = float(preco2_str)\n",
    "\n",
    "subtotal = preco1 + preco2\n",
    "total = subtotal * (1 - desconto)\n",
    "\n",
    "print(f'Itens: {item1} e {item2}')\n",
    "print(f'Subtotal: R${subtotal:.2f}')\n",
    "print(f'Desconto: {desconto*100:.0f}% | Total: R${total:.2f}')\n"
   ]
  },
  {
   "cell_type": "markdown",
   "id": "2a29133a",
   "metadata": {},
   "source": [
    "## 5) Desafio 3 — Conversor simples de unidades\n",
    "\n",
    "**Tarefa:** receber/definir metros (*str*), converter para *float*, calcular centímetros e milímetros.\n"
   ]
  },
  {
   "cell_type": "code",
   "execution_count": 5,
   "id": "aeb9726b",
   "metadata": {},
   "outputs": [
    {
     "name": "stdout",
     "output_type": "stream",
     "text": [
      "1.75 m = 175 cm = 1750 mm\n"
     ]
    }
   ],
   "source": [
    "metros_str = '1,75'\n",
    "metros = float(metros_str.replace(',', '.'))\n",
    "centimetros = metros * 100\n",
    "milimetros = metros * 1000\n",
    "\n",
    "print(f'{metros:.2f} m = {centimetros:.0f} cm = {milimetros:.0f} mm')\n"
   ]
  },
  {
   "cell_type": "markdown",
   "id": "96bcfe4b",
   "metadata": {},
   "source": [
    "## 6) Testes de tipo: `type()` e `isinstance()`\n",
    "Verificar tipos retornando booleanos, sem usar condicionais.\n",
    "Comparação: `type(x) == int` vs `isinstance(x, int)`.\n"
   ]
  },
  {
   "cell_type": "code",
   "execution_count": 6,
   "id": "de3aab03",
   "metadata": {},
   "outputs": [
    {
     "name": "stdout",
     "output_type": "stream",
     "text": [
      "True True\n",
      "True True\n",
      "True True\n",
      "True True\n",
      "True\n",
      "False\n",
      "False\n"
     ]
    }
   ],
   "source": [
    "valor1 = 10\n",
    "valor2 = 3.2\n",
    "valor3 = '10'\n",
    "valor4 = False\n",
    "\n",
    "print(type(valor1) == int, isinstance(valor1, int))\n",
    "print(type(valor2) == float, isinstance(valor2, float))\n",
    "print(type(valor3) == str, isinstance(valor3, str))\n",
    "print(type(valor4) == bool, isinstance(valor4, bool))\n",
    "\n",
    "print('2025'.isdigit())   # True\n",
    "print('12.5'.isdigit())   # False\n",
    "print('12,5'.isdigit())   # False\n"
   ]
  },
  {
   "cell_type": "markdown",
   "id": "cbf9d3bd",
   "metadata": {},
   "source": [
    "## 7) Erros comuns e como evitar (sem try/except)\n",
    "- `int('12.3')` dá erro → use `float('12.3')` primeiro ou ajuste vírgula.\n",
    "- Espaços e sinais em números de texto → use `strip()` antes de converter.\n"
   ]
  },
  {
   "cell_type": "code",
   "execution_count": 7,
   "id": "2aea54da",
   "metadata": {},
   "outputs": [
    {
     "name": "stdout",
     "output_type": "stream",
     "text": [
      "-42\n",
      "12.3\n",
      "12.3\n"
     ]
    }
   ],
   "source": [
    "texto = '  -42  '\n",
    "print(int(texto.strip()))\n",
    "\n",
    "print(float('12.3'))\n",
    "print(float('12,3'.replace(',', '.')))\n"
   ]
  },
  {
   "cell_type": "markdown",
   "id": "935f9c56",
   "metadata": {},
   "source": [
    "## 8) Exercícios de fixação\n",
    "Resolva cada item em uma célula separada.\n",
    "\n",
    "1. Converta `'202'` para inteiro e multiplique por `3.5` (resultado `float`).\n",
    "2. Converta `'3,1415'` para `float` e mostre com **3 casas** decimais.\n",
    "3. Verifique o tipo de `True` e `False` e imprima o resultado.\n",
    "4. Transforme o número `7` em texto e **concatene** com `' dias'`.\n",
    "5. Use `isinstance()` para checar se `'25'` é `str` e se `25` é `int` (imprima os dois resultados).\n"
   ]
  },
  {
   "cell_type": "code",
   "execution_count": 8,
   "id": "5e8d03b2",
   "metadata": {},
   "outputs": [
    {
     "name": "stdout",
     "output_type": "stream",
     "text": [
      "707.0 <class 'float'>\n"
     ]
    }
   ],
   "source": [
    "# Exercício 1\n",
    "num = int('202')\n",
    "resultado = num * 3.5\n",
    "print(resultado, type(resultado))\n"
   ]
  },
  {
   "cell_type": "code",
   "execution_count": 9,
   "id": "f524296b",
   "metadata": {},
   "outputs": [
    {
     "name": "stdout",
     "output_type": "stream",
     "text": [
      "3.142\n"
     ]
    }
   ],
   "source": [
    "# Exercício 2\n",
    "pi = float('3,1415'.replace(',', '.'))\n",
    "print(f'{pi:.3f}')\n"
   ]
  },
  {
   "cell_type": "code",
   "execution_count": 10,
   "id": "ac42cc3c",
   "metadata": {},
   "outputs": [
    {
     "name": "stdout",
     "output_type": "stream",
     "text": [
      "<class 'bool'>\n",
      "<class 'bool'>\n"
     ]
    }
   ],
   "source": [
    "# Exercício 3\n",
    "print(type(True))\n",
    "print(type(False))\n"
   ]
  },
  {
   "cell_type": "code",
   "execution_count": 11,
   "id": "37e5c6f7",
   "metadata": {},
   "outputs": [
    {
     "name": "stdout",
     "output_type": "stream",
     "text": [
      "7 dias\n"
     ]
    }
   ],
   "source": [
    "# Exercício 4\n",
    "dias = str(7) + ' dias'\n",
    "print(dias)\n"
   ]
  },
  {
   "cell_type": "code",
   "execution_count": 12,
   "id": "8a858c18",
   "metadata": {},
   "outputs": [
    {
     "name": "stdout",
     "output_type": "stream",
     "text": [
      "True\n",
      "True\n"
     ]
    }
   ],
   "source": [
    "# Exercício 5\n",
    "print(isinstance('25', str))\n",
    "print(isinstance(25, int))\n"
   ]
  },
  {
   "cell_type": "markdown",
   "id": "f304f6e6",
   "metadata": {},
   "source": [
    "## 9) Desafio final — Orçamento rápido do evento da escola\n",
    "**Contexto:**\n",
    "A turma está organizando um evento na escola e precisa calcular rapidamente os custos de três itens comprados para o lanche (exemplo: suco, bolo e copos descartáveis). Os preços foram anotados em texto por diferentes colegas, mas alguns usaram vírgula e outros usaram ponto como separador decimal. Além disso, cada item tem uma quantidade inteira a ser comprada.\n",
    "\n",
    "**Tarefa:**\n",
    "- Declarar variáveis para preço unitário (em texto) e quantidade (em número inteiro) de cada item.\n",
    "- Converter os preços em texto para valores numéricos corretos (float), substituindo vírgula por ponto quando necessário.\n",
    "\n",
    "**Calcular:**\n",
    "- O custo total de cada item (preço unitário × quantidade).\n",
    "- O total geral do orçamento.\n",
    "- A média simples do custo dos três itens.\n",
    "\n"
   ]
  },
  {
   "cell_type": "code",
   "execution_count": 13,
   "id": "bea82828",
   "metadata": {},
   "outputs": [
    {
     "name": "stdout",
     "output_type": "stream",
     "text": [
      "Total 1: R$59.70\n",
      "Total 2: R$22.50\n",
      "Total 3: R$27.50\n",
      "Total geral: R$109.70\n",
      "Média por item: R$36.57\n"
     ]
    }
   ],
   "source": [
    "# Definição dos preços (texto) e quantidades (int)\n",
    "preco1_str, qtd1 = '19,90', 3\n",
    "preco2_str, qtd2 = '4.50',  5\n",
    "preco3_str, qtd3 = '2,75',  10\n",
    "\n",
    "# Conversão: vírgula -> ponto (quando necessário) e para float\n",
    "preco1 = float(preco1_str.replace(',', '.'))\n",
    "preco2 = float(preco2_str)\n",
    "preco3 = float(preco3_str.replace(',', '.'))\n",
    "\n",
    "# Totais por item\n",
    "total1 = preco1 * qtd1\n",
    "total2 = preco2 * qtd2\n",
    "total3 = preco3 * qtd3\n",
    "\n",
    "# Total geral e média simples por item\n",
    "total_geral = total1 + total2 + total3\n",
    "media_por_item = total_geral / 3\n",
    "\n",
    "print(f'Total 1: R${total1:.2f}')\n",
    "print(f'Total 2: R${total2:.2f}')\n",
    "print(f'Total 3: R${total3:.2f}')\n",
    "print(f'Total geral: R${total_geral:.2f}')\n",
    "print(f'Média por item: R${media_por_item:.2f}')\n"
   ]
  },
  {
   "cell_type": "markdown",
   "id": "ed3b4789",
   "metadata": {},
   "source": [
    "## 10) Referência rápida\n",
    "- `int(x)`: inteiro · `float(x)`: decimal · `str(x)`: texto · `bool(x)`: lógico.\n",
    "- `type(x)`: retorna o tipo do valor; `isinstance(x, TIPO)`: testa pertencimento.\n",
    "- Dicas: `valor.replace(',', '.')` para vírgula decimal · `texto.strip()` para remover espaços.\n"
   ]
  }
 ],
 "metadata": {
  "kernelspec": {
   "display_name": "Python 3 (ipykernel)",
   "language": "python",
   "name": "python3"
  },
  "language_info": {
   "codemirror_mode": {
    "name": "ipython",
    "version": 3
   },
   "file_extension": ".py",
   "mimetype": "text/x-python",
   "name": "python",
   "nbconvert_exporter": "python",
   "pygments_lexer": "ipython3",
   "version": "3.12.8"
  }
 },
 "nbformat": 4,
 "nbformat_minor": 5
}
