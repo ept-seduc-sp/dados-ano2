{
 "cells": [
  {
   "cell_type": "markdown",
   "id": "1604a283-71bb-45d8-8a89-4f3266846226",
   "metadata": {},
   "source": [
    "\n",
    "<h1 style=\"text-align: center;\">TÉCNICO EM CIÊNCIA DE DADOS</h1>\n",
    "<h1 style=\"text-align: center;\">GABARITO PROFESSOR</h1>\n",
    "<br>\n",
    "<br>\n",
    "\n",
    "**Componente:** Programação Aplicada à Ciência de Dados \n",
    "<br>\n",
    "**Unidade Curricular:** Lógica de Programação e Fundamentos de Python\n",
    "<br>\n",
    "**Tema da Semana:** Operadores Lógicos\n",
    "<br>"
   ]
  },
  {
   "cell_type": "markdown",
   "id": "70b759d0",
   "metadata": {},
   "source": [
    "\n",
    "# Aula 4\n",
    "Nesta aula, vamos revisar os **operadores aritméticos, relacionais e lógicos**  \n",
    "e aplicar em **situações contextualizadas**, resolvendo problemas reais **sem usar estruturas condicionais (assunto da próxima semana)**.\n",
    "\n",
    "---\n",
    "\n",
    "## Revisão rápida\n",
    "\n"
   ]
  },
  {
   "cell_type": "markdown",
   "id": "a1c270b6",
   "metadata": {},
   "source": [
    "\n",
    "### Orientação ao professor  \n",
    "Na revisão, incentive os alunos a **executar os exemplos e alterar os valores**  \n",
    "para observar diferentes resultados. Ressalte:  \n",
    "\n",
    "- Aritméticos → operações básicas de soma, divisão inteira, resto.  \n",
    "- Relacionais → comparam valores e retornam `True` ou `False`.  \n",
    "- Lógicos → permitem combinar comparações.  \n",
    "\n"
   ]
  },
  {
   "cell_type": "code",
   "execution_count": 1,
   "id": "027515da",
   "metadata": {},
   "outputs": [
    {
     "name": "stdout",
     "output_type": "stream",
     "text": [
      "Soma: 15\n",
      "Subtração: 7\n",
      "Multiplicação: 8\n",
      "Divisão inteira: 2\n",
      "Resto da divisão: 2\n",
      "5 > 3: True\n",
      "7 == 2: False\n",
      "8 != 4: True\n",
      "(5 > 3) and (10 < 20): True\n",
      "not(7 == 5): True\n"
     ]
    }
   ],
   "source": [
    "\n",
    "# Revisão dos operadores\n",
    "\n",
    "print(\"Soma:\", 10 + 5)\n",
    "print(\"Subtração:\", 10 - 3)\n",
    "print(\"Multiplicação:\", 4 * 2)\n",
    "print(\"Divisão inteira:\", 7 // 3)\n",
    "print(\"Resto da divisão:\", 12 % 5)\n",
    "\n",
    "print(\"5 > 3:\", 5 > 3)\n",
    "print(\"7 == 2:\", 7 == 2)\n",
    "print(\"8 != 4:\", 8 != 4)\n",
    "\n",
    "print(\"(5 > 3) and (10 < 20):\", (5 > 3) and (10 < 20))\n",
    "print(\"not(7 == 5):\", not(7 == 5))\n"
   ]
  },
  {
   "cell_type": "markdown",
   "id": "0f63b0e2",
   "metadata": {},
   "source": [
    "\n",
    "### Exercício 1 – Notas e aprovação 🎓  \n",
    "\n",
    "**Orientações ao professor**:  \n",
    "- Explique que os alunos devem usar operadores relacionais e lógicos.  \n",
    "- Oriente-os a testar casos diferentes (ex.: nota = 5, frequência = 80).  \n",
    "- Pontos de atenção: alguns alunos podem tentar usar `if`. Reforce que devem apenas escrever expressões lógicas.  \n"
   ]
  },
  {
   "cell_type": "code",
   "execution_count": 2,
   "id": "cb4fbebe",
   "metadata": {},
   "outputs": [
    {
     "name": "stdin",
     "output_type": "stream",
     "text": [
      "Digite a média do aluno:  60\n",
      "Digite a frequência (%):  70\n"
     ]
    },
    {
     "name": "stdout",
     "output_type": "stream",
     "text": [
      "Aprovado? False\n"
     ]
    }
   ],
   "source": [
    "\n",
    "nota = float(input(\"Digite a média do aluno: \"))\n",
    "frequencia = int(input(\"Digite a frequência (%): \"))\n",
    "\n",
    "aprovado = (nota >= 6) and (frequencia >= 75)\n",
    "print(\"Aprovado?\", aprovado)\n",
    "# True se nota >= 6 e frequência >= 75; caso contrário, False.\n"
   ]
  },
  {
   "cell_type": "markdown",
   "id": "d727efd3",
   "metadata": {},
   "source": [
    "\n",
    "### Exercício 2 – Promoção no cinema 🎬  \n",
    "\n",
    "**Orientações ao professor**:  \n",
    "- O objetivo é praticar operadores relacionais (idade <, idade >=).  \n",
    "- Discuta casos-limite (ex.: 12 anos, 60 anos).  \n",
    "- Reforce que a expressão deve resultar apenas em `True` ou `False`.  \n"
   ]
  },
  {
   "cell_type": "code",
   "execution_count": 3,
   "id": "9fee706c",
   "metadata": {},
   "outputs": [
    {
     "name": "stdin",
     "output_type": "stream",
     "text": [
      "Digite a idade do cliente:  25\n"
     ]
    },
    {
     "name": "stdout",
     "output_type": "stream",
     "text": [
      "Tem direito ao desconto? False\n"
     ]
    }
   ],
   "source": [
    "\n",
    "idade = int(input(\"Digite a idade do cliente: \"))\n",
    "\n",
    "desconto = (idade < 12) or (idade >= 60)\n",
    "print(\"Tem direito ao desconto?\", desconto)\n",
    "# True para menores de 12 ou maiores de 59; caso contrário, False.\n"
   ]
  },
  {
   "cell_type": "markdown",
   "id": "b39bb21c",
   "metadata": {},
   "source": [
    "\n",
    "### Exercício 3 – Campeonato esportivo ⚽  \n",
    "\n",
    "**Orientações ao professor**:  \n",
    "- Ajude os alunos a entenderem a faixa etária usando operadores compostos.  \n",
    "- Destaque o uso de `and` para combinar condições.  \n",
    "- Pontos de atenção: alunos podem esquecer os limites (16 e 18 inclusos).  \n"
   ]
  },
  {
   "cell_type": "code",
   "execution_count": 4,
   "id": "1f9368a9",
   "metadata": {},
   "outputs": [
    {
     "name": "stdin",
     "output_type": "stream",
     "text": [
      "Digite a idade do jogador:  10\n",
      "Possui atestado médico? (s/n):  S\n"
     ]
    },
    {
     "name": "stdout",
     "output_type": "stream",
     "text": [
      "Pode participar? False\n"
     ]
    }
   ],
   "source": [
    "\n",
    "idade = int(input(\"Digite a idade do jogador: \"))\n",
    "atestado = input(\"Possui atestado médico? (s/n): \")\n",
    "\n",
    "pode_jogar = (idade >= 16 and idade <= 18) and (atestado == \"s\")\n",
    "print(\"Pode participar?\", pode_jogar)\n",
    "# True apenas se idade entre 16 e 18 (inclusive) e atestado == \"s\".\n"
   ]
  },
  {
   "cell_type": "markdown",
   "id": "89272288",
   "metadata": {},
   "source": [
    "\n",
    "### Exercício 4 – Loja online 🛒  \n",
    "\n",
    "**Orientações ao professor**:  \n",
    "- O exercício combina valor (operador aritmético) com lógica.  \n",
    "- Estimule a turma a pensar em casos: valor 199 (sem frete grátis) e 200 (com frete grátis).  \n",
    "- Pontos de atenção: lembrar que o operador `>=` inclui o limite.  \n"
   ]
  },
  {
   "cell_type": "code",
   "execution_count": 5,
   "id": "5d29b07b",
   "metadata": {},
   "outputs": [
    {
     "name": "stdin",
     "output_type": "stream",
     "text": [
      "Digite o valor da compra:  100\n",
      "É cliente premium? (s/n):  N\n"
     ]
    },
    {
     "name": "stdout",
     "output_type": "stream",
     "text": [
      "Frete grátis? False\n"
     ]
    }
   ],
   "source": [
    "\n",
    "compra = float(input(\"Digite o valor da compra: \"))\n",
    "premium = input(\"É cliente premium? (s/n): \")\n",
    "\n",
    "frete_gratis = (compra >= 200) or (premium == \"s\")\n",
    "print(\"Frete grátis?\", frete_gratis)\n",
    "# True se valor >= 200 ou se premium == \"s\".\n"
   ]
  },
  {
   "cell_type": "markdown",
   "id": "6b6da7cf",
   "metadata": {},
   "source": [
    "\n",
    "### Exercício 5 – Videogame à noite 🎮  \n",
    "\n",
    "**Orientações ao professor**:  \n",
    "- Reforce que os alunos devem usar **parênteses** para controlar a ordem.  \n",
    "- Discuta exemplos: terminou a lição mas precisa acordar cedo → False.  \n",
    "- Pontos de atenção: alunos podem esquecer de agrupar corretamente a expressão.  \n"
   ]
  },
  {
   "cell_type": "code",
   "execution_count": 6,
   "id": "df17ca79",
   "metadata": {},
   "outputs": [
    {
     "name": "stdin",
     "output_type": "stream",
     "text": [
      "Terminou a lição de casa? (s/n):  N\n",
      "Precisa acordar cedo amanhã? (s/n):  N\n",
      "Hoje é sexta-feira? (s/n):  N\n"
     ]
    },
    {
     "name": "stdout",
     "output_type": "stream",
     "text": [
      "Pode jogar videogame hoje? False\n"
     ]
    }
   ],
   "source": [
    "\n",
    "licao = input(\"Terminou a lição de casa? (s/n): \")\n",
    "cedo = input(\"Precisa acordar cedo amanhã? (s/n): \")\n",
    "sexta = input(\"Hoje é sexta-feira? (s/n): \")\n",
    "\n",
    "pode_jogar = (licao == \"s\") and ((cedo == \"n\") or (sexta == \"s\"))\n",
    "print(\"Pode jogar videogame hoje?\", pode_jogar)\n",
    "# True apenas se licao == \"s\" e (cedo == \"n\" ou sexta == \"s\").\n"
   ]
  },
  {
   "cell_type": "markdown",
   "id": "c2ad2984",
   "metadata": {},
   "source": [
    "\n",
    "### Exercício 6 – Bilhete de ônibus 🚌  \n",
    "\n",
    "**Orientações ao professor**:  \n",
    "- O objetivo é praticar operadores relacionais (idade >=) e aritméticos (divisão por 2).  \n",
    "- Reforce que não devem usar `if`, apenas expressões.  \n",
    "- Pontos de atenção: explorar diferentes combinações (idoso estudante, etc.).  \n"
   ]
  },
  {
   "cell_type": "code",
   "execution_count": 7,
   "id": "3cd03038",
   "metadata": {},
   "outputs": [
    {
     "name": "stdin",
     "output_type": "stream",
     "text": [
      "Digite a idade do passageiro:  50\n",
      "É estudante? (s/n):  S\n"
     ]
    },
    {
     "name": "stdout",
     "output_type": "stream",
     "text": [
      "Valor da passagem: R$ 0.0\n"
     ]
    }
   ],
   "source": [
    "\n",
    "idade = int(input(\"Digite a idade do passageiro: \"))\n",
    "estudante = input(\"É estudante? (s/n): \")\n",
    "\n",
    "valor_base = 4.40\n",
    "paga_inteira = (idade < 60) and (estudante == \"n\")\n",
    "paga_meia = (idade < 60) and (estudante == \"s\")\n",
    "gratuidade = (idade >= 60)\n",
    "\n",
    "valor = (valor_base * paga_inteira) + (valor_base * 0.5 * paga_meia) + (0 * gratuidade)\n",
    "print(\"Valor da passagem: R$\", valor)\n",
    "# Inteira se < 60 e não estudante; meia se < 60 e estudante; 0 se >= 60.\n"
   ]
  },
  {
   "cell_type": "markdown",
   "id": "8a078e8e",
   "metadata": {},
   "source": [
    "\n",
    "### Exercício 7 – Média das provas 📘  \n",
    "\n",
    "**Orientações ao professor**:  \n",
    "- Este exercício revisa operadores aritméticos e relacionais.  \n",
    "- Mostre que não é necessário `if` → apenas uma expressão booleana.  \n",
    "- Pontos de atenção: alguns alunos podem complicar a expressão.  \n"
   ]
  },
  {
   "cell_type": "code",
   "execution_count": 8,
   "id": "84861733",
   "metadata": {},
   "outputs": [
    {
     "name": "stdin",
     "output_type": "stream",
     "text": [
      "Digite a primeira nota:  100\n",
      "Digite a segunda nota:  50\n"
     ]
    },
    {
     "name": "stdout",
     "output_type": "stream",
     "text": [
      "Aprovado? True\n"
     ]
    }
   ],
   "source": [
    "\n",
    "nota1 = float(input(\"Digite a primeira nota: \"))\n",
    "nota2 = float(input(\"Digite a segunda nota: \"))\n",
    "\n",
    "media = (nota1 + nota2) / 2\n",
    "aprovado = media >= 6\n",
    "print(\"Aprovado?\", aprovado)\n",
    "# True se média >= 6; False caso contrário.\n"
   ]
  }
 ],
 "metadata": {
  "kernelspec": {
   "display_name": "Python 3 (ipykernel)",
   "language": "python",
   "name": "python3"
  },
  "language_info": {
   "codemirror_mode": {
    "name": "ipython",
    "version": 3
   },
   "file_extension": ".py",
   "mimetype": "text/x-python",
   "name": "python",
   "nbconvert_exporter": "python",
   "pygments_lexer": "ipython3",
   "version": "3.12.8"
  }
 },
 "nbformat": 4,
 "nbformat_minor": 5
}
