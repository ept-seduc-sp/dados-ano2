{
 "cells": [
  {
   "cell_type": "markdown",
   "metadata": {},
   "source": [
    "> **_ÁREA DO PROFESSOR_**\n",
    "> \n",
    "> **Arquivo:** DADOSANO1C2B1S7A3_PROFESSOR.ipynb\n",
    "> \n",
    "> Este notebook contém a versão do professor para a Aula 3 da Semana 7. Ele inclui todo o conteúdo do aluno, além de orientações, dicas de condução e a solução comentada para cada exercício, formatadas em caixas de citação como esta.\n",
    "> \n",
    "> **Objetivo Geral da Aula Prática:** Consolidar o uso de estruturas condicionais (`if`, `elif`, `else`) através da resolução de exercícios práticos com dificuldade progressiva, reforçando os conceitos de boas práticas e lógica de programação."
   ]
  },
  {
   "cell_type": "markdown",
   "metadata": {},
   "source": [
    "<h1 style=\"text-align: center;\">TÉCNICO EM CIÊNCIA DE DADOS</h1>\n",
    "<h1 style=\"text-align: center;\">Roteiro de Atividade Prática - PROFESSOR</h1>\n",
    "<br>\n",
    "<br>\n",
    "\n",
    "**Componente:** Programação Aplicada à Ciência de Dados\n",
    "<br>\n",
    "**Unidade Curricular:** Lógica de Programação e Fundamentos de Python\n",
    "<br>\n",
    "**Tema da Semana:** Estruturas condicionais: if-elif-else\n",
    "<br>"
   ]
  },
  {
   "cell_type": "markdown",
   "metadata": {},
   "source": [
    "# Aula 3 - Revisão e exercícios guiados\n",
    "\n",
    "Nesta atividade prática, nosso objetivo é consolidar o conhecimento sobre estruturas condicionais. Vamos revisar os conceitos fundamentais e, em seguida, resolver uma série de desafios que nos ajudarão a aplicar a lógica de programação em diferentes contextos."
   ]
  },
  {
   "cell_type": "markdown",
   "metadata": {},
   "source": [
    "## Parte 1: Revisão de Conceitos Essenciais\n",
    "\n",
    "Antes de começar, vamos revisar três pontos fundamentais.\n",
    "\n",
    "### 1. As Estruturas Condicionais: `if`, `elif` e `else`\n",
    "\n",
    "- **`if` (Se):** Inicia uma verificação. Se a condição for `True`, o bloco de código dentro dele é executado.\n",
    "- **`elif` (Senão se):** É uma nova verificação, testada apenas se o `if` anterior (ou outro `elif`) for `False`. Podemos ter vários `elif` em sequência.\n",
    "- **`else` (Senão):** É o caminho final, executado somente se NENHUMA das condições anteriores (`if` ou `elif`) for `True`.\n",
    "\n",
    "### 2. A Importância da Indentação\n",
    "\n",
    "Em Python, a **indentação** (o espaço no início da linha, geralmente 4 espaços) não é opcional. É ela que define quais linhas de código pertencem a um bloco. Um código com indentação errada não funciona.\n",
    "\n",
    "**Exemplo:**\n",
    "```python\n",
    "# CORRETO\n",
    "idade = 20\n",
    "if idade >= 18:\n",
    "    print(\"Esta linha está DENTRO do if.\")\n",
    "    print(\"Esta também.\")\n",
    "print(\"Esta linha está FORA do if.\")\n",
    "\n",
    "# ERRADO (gerará um IndentationError)\n",
    "# if idade >= 18:\n",
    "# print(\"Falta indentação aqui!\")\n",
    "```\n",
    "\n",
    "### 3. Código Limpo e Organizado\n",
    "\n",
    "Como vimos na aula anterior, um bom código é:\n",
    "- **Legível:** Use nomes de variáveis claros (ex: `media_final` em vez de `mf`).\n",
    "- **Lógico:** Organize as condições `if-elif-else` do caso mais específico para o mais geral.\n",
    "- **Eficiente:** Evite passos desnecessários."
   ]
  },
  {
   "cell_type": "markdown",
   "metadata": {},
   "source": [
    "## Parte 2: Exercícios Práticos\n",
    "\n",
    "Agora, vamos aplicar esses conceitos. Resolva os exercícios abaixo, prestando atenção não apenas na solução, mas também na qualidade e clareza do seu código."
   ]
  },
  {
   "cell_type": "markdown",
   "metadata": {},
   "source": [
    "---\n",
    "### Exercício 1: Verificador de Temperatura\n",
    "Crie um programa que verifica se a temperatura atual é considerada \"fria\" ou \"agradável\". Defina uma variável `temperatura` com um valor numérico e use uma estrutura `if-else` para imprimir a mensagem apropriada, considerando que abaixo de 18 graus é \"frio\"."
   ]
  },
  {
   "cell_type": "code",
   "execution_count": 1,
   "metadata": {},
   "outputs": [],
   "source": [
    "# Escreva sua solução aqui\n",
    "\n"
   ]
  },
  {
   "cell_type": "markdown",
   "metadata": {},
   "source": [
    "> **_Para o Professor - Exercício 1:_**\n",
    "> \n",
    "> **Objetivo da Atividade:** Introduzir a prática com a estrutura mais simples de decisão (`if-else`), garantindo que os alunos compreendam o conceito de bloco de código e condição.\n",
    "> \n",
    "> **Dica de Condução:** Peça aos alunos que testem o código alterando o valor da variável `temperatura` para um número maior e menor que 18, para que visualizem os dois caminhos possíveis do `if-else`.\n",
    "> \n",
    "> ---\n",
    "> \n",
    "> **_Solução Comentada:_**"
   ]
  },
  {
   "cell_type": "code",
   "execution_count": 2,
   "metadata": {},
   "outputs": [
    {
     "name": "stdout",
     "output_type": "stream",
     "text": [
      "Está frio!\n"
     ]
    }
   ],
   "source": [
    "# Define a variável com um valor para teste\n",
    "temperatura = 15\n",
    "\n",
    "# Verifica se a temperatura é menor que 18\n",
    "if temperatura < 18:\n",
    "    # Se a condição for verdadeira, imprime esta mensagem\n",
    "    print(\"Está frio!\")\n",
    "else:\n",
    "    # Se a condição for falsa, imprime esta outra mensagem\n",
    "    print(\"A temperatura está agradável.\")"
   ]
  },
  {
   "cell_type": "markdown",
   "metadata": {},
   "source": [
    "---\n",
    "### Exercício 2: Acesso por Idade\n",
    "Crie um programa que pergunta a idade do usuário e, com base no número digitado, informa se ele tem ou não idade para dirigir (considerando a idade mínima de 18 anos)."
   ]
  },
  {
   "cell_type": "code",
   "execution_count": 3,
   "metadata": {},
   "outputs": [],
   "source": [
    "# Escreva sua solução aqui\n",
    "\n"
   ]
  },
  {
   "cell_type": "markdown",
   "metadata": {},
   "source": [
    "> **_Para o Professor - Exercício 2:_**\n",
    "> \n",
    "> **Objetivo da Atividade:** Integrar a leitura de dados do teclado (`input`) com a estrutura condicional, reforçando a necessidade da conversão de tipo de dado (`str` para `int`).\n",
    "> \n",
    "> **Ponto de Atenção:** Este é o primeiro exercício da lista que usa `input`. O erro mais comum será esquecer de converter a entrada para um número inteiro usando `int()`, o que resultaria em um `TypeError`. Use esse possível erro como um momento de aprendizado.\n",
    "> \n",
    "> ---\n",
    "> \n",
    "> **_Solução Comentada:_**"
   ]
  },
  {
   "cell_type": "code",
   "execution_count": 4,
   "metadata": {},
   "outputs": [
    {
     "name": "stdin",
     "output_type": "stream",
     "text": [
      "Digite sua idade:  21\n"
     ]
    },
    {
     "name": "stdout",
     "output_type": "stream",
     "text": [
      "Você já tem idade para dirigir.\n"
     ]
    }
   ],
   "source": [
    "# Pede a idade ao usuário. A função input() retorna um texto (string).\n",
    "idade_texto = input(\"Digite sua idade: \")\n",
    "\n",
    "# Converte o texto para um número inteiro para podermos fazer a comparação.\n",
    "idade_numero = int(idade_texto)\n",
    "\n",
    "# Verifica se a idade é maior ou igual a 18\n",
    "if idade_numero >= 18:\n",
    "    print(\"Você já tem idade para dirigir.\")\n",
    "else:\n",
    "    print(\"Você ainda não tem idade para dirigir.\")"
   ]
  },
  {
   "cell_type": "markdown",
   "metadata": {},
   "source": [
    "---\n",
    "### Exercício 3: Classificação de Notas\n",
    "Crie um programa que recebe a nota final de um aluno (um valor de 0 a 10) e a classifica em uma das seguintes categorias:\n",
    "- **Reprovado:** nota menor que 5.0\n",
    "- **Recuperação:** nota entre 5.0 e 6.9\n",
    "- **Aprovado:** nota 7.0 ou superior"
   ]
  },
  {
   "cell_type": "code",
   "execution_count": 5,
   "metadata": {},
   "outputs": [],
   "source": [
    "# Escreva sua solução aqui\n",
    "\n"
   ]
  },
  {
   "cell_type": "markdown",
   "metadata": {},
   "source": [
    "> **_Para o Professor - Exercício 3:_**\n",
    "> \n",
    "> **Objetivo da Atividade:** Introduzir a estrutura `if-elif-else` para lidar com múltiplas condições exclusivas. É uma ótima oportunidade para discutir a importância da ordem das verificações.\n",
    "> \n",
    "> **Dica de Condução:** Pergunte aos alunos por que a ordem `if nota < 5`, `elif nota < 7` e `else` funciona. Explique que a condição do `elif` só é testada se a do `if` falhar, tornando a verificação `nota >= 5` implícita e desnecessária, o que reforça o conceito de código limpo.\n",
    "> \n",
    "> ---\n",
    "> \n",
    "> **_Solução Comentada:_**"
   ]
  },
  {
   "cell_type": "code",
   "execution_count": 14,
   "metadata": {},
   "outputs": [
    {
     "name": "stdin",
     "output_type": "stream",
     "text": [
      "Digite a nota final do aluno:  80\n"
     ]
    },
    {
     "name": "stdout",
     "output_type": "stream",
     "text": [
      "Situação: Aprovado.\n"
     ]
    }
   ],
   "source": [
    "# Pede a nota e converte para float (número com casas decimais)\n",
    "nota_final = float(input(\"Digite a nota final do aluno: \"))\n",
    "\n",
    "# Primeira verificação: Reprovado\n",
    "if nota_final < 5.0:\n",
    "    print(\"Situação: Reprovado.\")\n",
    "# Segunda verificação: Se não for menor que 5.0, testa se é menor que 7.0\n",
    "elif nota_final < 7.0: # Isso cobre o intervalo de 5.0 a 6.9\n",
    "    print(\"Situação: Recuperação.\")\n",
    "# Caso final: Se não for nenhuma das anteriores, só pode ser 7.0 ou mais\n",
    "else:\n",
    "    print(\"Situação: Aprovado.\")"
   ]
  },
  {
   "cell_type": "markdown",
   "metadata": {},
   "source": [
    "---\n",
    "### Exercício 4: Calculadora de Desconto Simples\n",
    "Crie um programa para uma loja que pergunta o valor de uma compra. Se o valor for maior que R$ 200,00, a loja aplica um desconto de 10%. O programa deve calcular e exibir o valor final que o cliente deve pagar."
   ]
  },
  {
   "cell_type": "code",
   "execution_count": 6,
   "metadata": {},
   "outputs": [],
   "source": [
    "# Escreva sua solução aqui\n",
    "\n"
   ]
  },
  {
   "cell_type": "markdown",
   "metadata": {},
   "source": [
    "> **_Para o Professor - Exercício 4:_**\n",
    "> \n",
    "> **Objetivo da Atividade:** Praticar o uso de operadores aritméticos dentro de um bloco condicional, alterando o fluxo de um cálculo com base em uma condição.\n",
    "> \n",
    "> **Ponto de Atenção:** Alguns alunos podem calcular o desconto mas esquecer de subtraí-lo do valor original. Mostre a importância de usar variáveis para guardar os resultados intermediários (`valor_desconto`, `valor_final`) para organizar o raciocínio.\n",
    "> \n",
    "> ---\n",
    "> \n",
    "> **_Solução Comentada:_**"
   ]
  },
  {
   "cell_type": "code",
   "execution_count": 7,
   "metadata": {},
   "outputs": [
    {
     "name": "stdin",
     "output_type": "stream",
     "text": [
      "Digite o valor da compra: R$  500\n"
     ]
    },
    {
     "name": "stdout",
     "output_type": "stream",
     "text": [
      "Você recebeu um desconto de R$ 50.00!\n",
      "O valor final a pagar é: R$ 450.00\n"
     ]
    }
   ],
   "source": [
    "# Pede o valor da compra e converte para float\n",
    "valor_compra = float(input(\"Digite o valor da compra: R$ \"))\n",
    "\n",
    "# Define o valor final inicialmente como o próprio valor da compra\n",
    "valor_final = valor_compra\n",
    "\n",
    "# Verifica se a compra é elegível para o desconto\n",
    "if valor_compra > 200.00:\n",
    "    # Se for, calcula o desconto e o novo valor final\n",
    "    desconto = valor_compra * 0.10 # 10% de desconto\n",
    "    valor_final = valor_compra - desconto\n",
    "    print(f\"Você recebeu um desconto de R$ {desconto:.2f}!\")\n",
    "\n",
    "# Imprime o valor final a ser pago (com ou sem desconto)\n",
    "# O uso do :.2f formata o número para exibir sempre 2 casas decimais\n",
    "print(f\"O valor final a pagar é: R$ {valor_final:.2f}\")"
   ]
  },
  {
   "cell_type": "markdown",
   "metadata": {},
   "source": [
    "---\n",
    "### Exercício 5: Validador de Login\n",
    "Crie um programa que simula uma tela de login. Peça ao usuário um nome de usuário e uma senha. O acesso só será concedido se o nome de usuário for \"admin\" E a senha for \"1234\". Caso contrário, o programa deve exibir uma mensagem de \"Acesso negado\"."
   ]
  },
  {
   "cell_type": "code",
   "execution_count": 8,
   "metadata": {},
   "outputs": [],
   "source": [
    "# Escreva sua solução aqui\n",
    "\n"
   ]
  },
  {
   "cell_type": "markdown",
   "metadata": {},
   "source": [
    "> **_Para o Professor - Exercício 5:_**\n",
    "> \n",
    "> **Objetivo da Atividade:** Introduzir o operador lógico `and` para criar condições compostas onde múltiplos critérios devem ser verdadeiros simultaneamente.\n",
    "> \n",
    "> **Dica de Condução:** Explique a tabela verdade do `and`. Mostre que se o nome de usuário estiver errado, o programa nem precisa verificar a senha, pois a condição como um todo já será falsa. Isso introduz sutilmente a ideia de avaliação de curto-circuito.\n",
    "> \n",
    "> ---\n",
    "> \n",
    "> **_Solução Comentada:_**"
   ]
  },
  {
   "cell_type": "code",
   "execution_count": 9,
   "metadata": {},
   "outputs": [
    {
     "name": "stdin",
     "output_type": "stream",
     "text": [
      "Digite o nome de usuário:  teste\n",
      "Digite a senha:  1234\n"
     ]
    },
    {
     "name": "stdout",
     "output_type": "stream",
     "text": [
      "Acesso negado. Usuário ou senha incorretos.\n"
     ]
    }
   ],
   "source": [
    "# Pede o usuário e a senha. Como são textos, não precisam de conversão.\n",
    "usuario = input(\"Digite o nome de usuário: \")\n",
    "senha = input(\"Digite a senha: \")\n",
    "\n",
    "# A condição verifica se AMBAS as comparações são verdadeiras\n",
    "if usuario == \"admin\" and senha == \"1234\":\n",
    "    print(\"Acesso concedido. Bem-vindo!\")\n",
    "else:\n",
    "    print(\"Acesso negado. Usuário ou senha incorretos.\")"
   ]
  },
  {
   "cell_type": "markdown",
   "metadata": {},
   "source": [
    "---\n",
    "### Exercício 6: Bônus para Funcionários\n",
    "Uma empresa decide dar um bônus aos seus funcionários. O critério é: o funcionário deve ter mais de 3 anos de casa OU ter uma avaliação de desempenho acima de 8.5. Crie um programa que pergunta o tempo de casa (em anos) e a nota de avaliação de um funcionário, e informa se ele está elegível para o bônus."
   ]
  },
  {
   "cell_type": "code",
   "execution_count": 10,
   "metadata": {},
   "outputs": [],
   "source": [
    "# Escreva sua solução aqui\n",
    "\n"
   ]
  },
  {
   "cell_type": "markdown",
   "metadata": {},
   "source": [
    "> **_Para o Professor - Exercício 6:_**\n",
    "> \n",
    "> **Objetivo da Atividade:** Introduzir o operador lógico `or`, contrastando-o com o `and` do exercício anterior. O aluno deve entender que basta uma das condições ser verdadeira para o resultado ser `True`.\n",
    "> \n",
    "> **Dica de Condução:** Após a resolução, peça para os alunos testarem três cenários: 1) tempo de casa OK, nota ruim; 2) tempo de casa ruim, nota OK; 3) ambos OK. Isso ajuda a solidificar o comportamento do operador `or`.\n",
    "> \n",
    "> ---\n",
    "> \n",
    "> **_Solução Comentada:_**"
   ]
  },
  {
   "cell_type": "code",
   "execution_count": 11,
   "metadata": {},
   "outputs": [
    {
     "name": "stdin",
     "output_type": "stream",
     "text": [
      "Digite o tempo de casa (em anos completos):  25\n",
      "Digite a nota de avaliação de desempenho:  95\n"
     ]
    },
    {
     "name": "stdout",
     "output_type": "stream",
     "text": [
      "Parabéns! Você está elegível para o bônus.\n"
     ]
    }
   ],
   "source": [
    "# Coleta dos dados do funcionário\n",
    "tempo_casa = int(input(\"Digite o tempo de casa (em anos completos): \"))\n",
    "nota_avaliacao = float(input(\"Digite a nota de avaliação de desempenho: \"))\n",
    "\n",
    "# A condição verifica se PELO MENOS UMA das comparações é verdadeira\n",
    "if tempo_casa > 3 or nota_avaliacao > 8.5:\n",
    "    print(\"Parabéns! Você está elegível para o bônus.\")\n",
    "else:\n",
    "    print(\"Você não atende aos critérios para o bônus este ano.\")"
   ]
  },
  {
   "cell_type": "markdown",
   "metadata": {},
   "source": [
    "---\n",
    "### Exercício 7 (Desafio): Análise de Crédito Simplificada\n",
    "Crie um programa que simula uma análise de crédito para um empréstimo. O programa deve solicitar três informações:\n",
    "1.  A renda mensal do solicitante.\n",
    "2.  A idade do solicitante.\n",
    "3.  O valor do empréstimo desejado.\n",
    "\n",
    "O empréstimo será **aprovado** apenas se TODAS as seguintes condições forem verdadeiras:\n",
    "- A renda mensal for de pelo menos R$ 3.000,00.\n",
    "- A idade for entre 21 e 65 anos.\n",
    "- O valor do empréstimo for no máximo 10 vezes a renda mensal.\n",
    "\n",
    "Caso contrário, o empréstimo será **negado**. O programa deve informar ao usuário o resultado da análise."
   ]
  },
  {
   "cell_type": "code",
   "execution_count": 12,
   "metadata": {},
   "outputs": [],
   "source": [
    "# Escreva sua solução aqui\n",
    "\n"
   ]
  },
  {
   "cell_type": "markdown",
   "metadata": {},
   "source": [
    "> **_Para o Professor - Exercício 7:_**\n",
    "> \n",
    "> **Objetivo da Atividade:** Consolidar todos os conceitos da aula em um único desafio: múltiplos `inputs`, conversão de tipos, operadores relacionais, operadores lógicos (`and`) e operadores aritméticos na própria condição.\n",
    "> \n",
    "> **Ponto de Atenção:** A condição da idade (`idade >= 21 and idade <= 65`) e a condição do valor do empréstimo (`valor_emprestimo <= renda_mensal * 10`) são as mais complexas. Auxilie os alunos a quebrarem o problema em partes e a construírem a longa condição do `if` passo a passo.\n",
    "> \n",
    "> ---\n",
    "> \n",
    "> **_Solução Comentada:_**"
   ]
  },
  {
   "cell_type": "code",
   "execution_count": 13,
   "metadata": {},
   "outputs": [
    {
     "name": "stdin",
     "output_type": "stream",
     "text": [
      "Digite sua renda mensal: R$  1500\n",
      "Digite sua idade:  22\n",
      "Digite o valor de empréstimo desejado: R$  500\n"
     ]
    },
    {
     "name": "stdout",
     "output_type": "stream",
     "text": [
      "Análise de crédito: NEGADO.\n"
     ]
    }
   ],
   "source": [
    "# 1. Coleta de todas as informações\n",
    "renda_mensal = float(input(\"Digite sua renda mensal: R$ \"))\n",
    "idade = int(input(\"Digite sua idade: \"))\n",
    "valor_emprestimo = float(input(\"Digite o valor de empréstimo desejado: R$ \"))\n",
    "\n",
    "# Juntamos todas as condições com o operador 'and'\n",
    "# Para facilitar a leitura, podemos quebrar a condição em várias linhas usando parênteses\n",
    "if (renda_mensal >= 3000 and\n",
    "    idade >= 21 and idade <= 65 and\n",
    "    valor_emprestimo <= renda_mensal * 10):\n",
    "    print(\"Análise de crédito: APROVADO.\")\n",
    "else:\n",
    "    print(\"Análise de crédito: NEGADO.\")"
   ]
  }
 ],
 "metadata": {
  "kernelspec": {
   "display_name": "Python 3 (ipykernel)",
   "language": "python",
   "name": "python3"
  },
  "language_info": {
   "codemirror_mode": {
    "name": "ipython",
    "version": 3
   },
   "file_extension": ".py",
   "mimetype": "text/x-python",
   "name": "python",
   "nbconvert_exporter": "python",
   "pygments_lexer": "ipython3",
   "version": "3.12.8"
  }
 },
 "nbformat": 4,
 "nbformat_minor": 4
}
