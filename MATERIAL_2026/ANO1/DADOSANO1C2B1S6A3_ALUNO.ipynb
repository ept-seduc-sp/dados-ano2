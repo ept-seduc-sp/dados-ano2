{
 "cells": [
  {
   "cell_type": "markdown",
   "id": "93f77c2e-e4b5-42c1-89fa-5de214b91e75",
   "metadata": {},
   "source": [
    "\n",
    "<h1 style=\"text-align: center;\">TÉCNICO EM CIÊNCIA DE DADOS</h1>\n",
    "<h1 style=\"text-align: center;\">Roteiro de Atividade Prática</h1>\n",
    "<br>\n",
    "<br>\n",
    "\n",
    "**Componente:** Programação Aplicada à Ciência de Dados \n",
    "<br>\n",
    "**Unidade Curricular:** Lógica de Programação e Fundamentos de Python\n",
    "<br>\n",
    "**Tema da Semana:** Estruturas condicionais: if, else\n",
    "<br>"
   ]
  },
  {
   "cell_type": "markdown",
   "id": "18d90fd0",
   "metadata": {},
   "source": [
    "# Aula 3 – Condicionais Aninhadas\n",
    "\n",
    "Nesta aula, você aprenderá a usar o comando `elif`, que permite criar decisões com **mais de duas possibilidades**.\n",
    "Vamos entender como o computador escolhe **entre vários caminhos**, dependendo das condições apresentadas."
   ]
  },
  {
   "cell_type": "markdown",
   "id": "10d7bc85",
   "metadata": {},
   "source": [
    "## Relembrando o que já aprendemos\n",
    "\n",
    "Nas aulas anteriores, vimos que o `if` executa uma ação quando a condição é **verdadeira**, e o `else` define o que acontece quando ela é **falsa**.\n",
    "\n",
    "Exemplo:"
   ]
  },
  {
   "cell_type": "code",
   "execution_count": null,
   "id": "20a83832",
   "metadata": {},
   "outputs": [],
   "source": [
    "nota = 6.5\n",
    "\n",
    "if nota >= 6:\n",
    "    print('Aprovado')\n",
    "else:\n",
    "    print('Reprovado')"
   ]
  },
  {
   "cell_type": "markdown",
   "id": "edf092d6",
   "metadata": {},
   "source": [
    "Esse programa só avalia **duas situações possíveis**: aprovado ou reprovado.\n",
    "Mas e se quisermos incluir uma **terceira opção**, como 'Recuperação'?"
   ]
  },
  {
   "cell_type": "markdown",
   "id": "f6c78fba",
   "metadata": {},
   "source": [
    "## Introduzindo o `elif`\n",
    "\n",
    "O comando `elif` é uma **combinação de 'else' e 'if'**, usado para verificar **outras condições** quando a primeira não é verdadeira.\n",
    "\n",
    "**Sintaxe básica:**"
   ]
  },
  {
   "cell_type": "code",
   "execution_count": null,
   "id": "00a9d77b",
   "metadata": {},
   "outputs": [],
   "source": [
    "if condição1:\n",
    "    # bloco executado se condição1 for verdadeira\n",
    "elif condição2:\n",
    "    # bloco executado se condição2 for verdadeira\n",
    "else:\n",
    "    # bloco executado se todas as anteriores forem falsas"
   ]
  },
  {
   "cell_type": "markdown",
   "id": "770eab77",
   "metadata": {},
   "source": [
    "Com o `elif`, podemos testar **várias situações diferentes** dentro do mesmo programa."
   ]
  },
  {
   "cell_type": "markdown",
   "id": "395c2d30",
   "metadata": {},
   "source": [
    "## Exemplos práticos de uso do `elif`"
   ]
  },
  {
   "cell_type": "code",
   "execution_count": null,
   "id": "e7b4622a",
   "metadata": {},
   "outputs": [],
   "source": [
    "# Exemplo 1 – Situação escolar\n",
    "nota = 5.5\n",
    "\n",
    "if nota >= 6:\n",
    "    print('Aprovado')\n",
    "elif nota >= 4:\n",
    "    print('Recuperação')\n",
    "else:\n",
    "    print('Reprovado')"
   ]
  },
  {
   "cell_type": "code",
   "execution_count": null,
   "id": "4a825386",
   "metadata": {},
   "outputs": [],
   "source": [
    "# Exemplo 2 – Situação de temperatura\n",
    "temperatura = 28\n",
    "\n",
    "if temperatura >= 35:\n",
    "    print('Muito quente')\n",
    "elif temperatura >= 25:\n",
    "    print('Clima agradável')\n",
    "else:\n",
    "    print('Temperatura amena')"
   ]
  },
  {
   "cell_type": "code",
   "execution_count": null,
   "id": "88a9434a",
   "metadata": {},
   "outputs": [],
   "source": [
    "# Exemplo 3 – Verificando status de conta\n",
    "saldo = 0\n",
    "\n",
    "if saldo > 0:\n",
    "    print('Conta positiva')\n",
    "elif saldo == 0:\n",
    "    print('Conta zerada')\n",
    "else:\n",
    "    print('Conta negativa')"
   ]
  },
  {
   "cell_type": "markdown",
   "id": "4cfc43ca",
   "metadata": {},
   "source": [
    "## Atividades práticas\n",
    "\n",
    "Resolva as atividades abaixo no espaço indicado. Teste com diferentes valores para observar o comportamento do programa."
   ]
  },
  {
   "cell_type": "markdown",
   "id": "dcea3788",
   "metadata": {},
   "source": [
    "### Atividade 1 – Situação escolar ampliada\n",
    "Um sistema escolar precisa calcular a média final de um aluno e exibir sua situação.\n",
    "\n",
    "**Comando:**\n",
    "1. Leia duas notas de um aluno;\n",
    "2. Calcule a média aritmética;\n",
    "3. Exiba:\n",
    "   - 'Aprovado' se a média for maior ou igual a 6;\n",
    "   - 'Recuperação' se a média for entre 4 e 5.9;\n",
    "   - 'Reprovado' se a média for menor que 4."
   ]
  },
  {
   "cell_type": "code",
   "execution_count": null,
   "id": "c02925b3",
   "metadata": {},
   "outputs": [],
   "source": [
    "# Escreva seu código aqui"
   ]
  },
  {
   "cell_type": "markdown",
   "id": "771a3021",
   "metadata": {},
   "source": [
    "### Atividade 2 – Faixa etária com cálculo de diferença\n",
    "Um sistema de cadastro precisa classificar pessoas de acordo com a idade e informar quanto falta para atingirem a maioridade.\n",
    "\n",
    "**Comando:**\n",
    "1. Leia o ano de nascimento de uma pessoa;\n",
    "2. Calcule a idade considerando o ano atual (2025);\n",
    "3. Exiba:\n",
    "   - 'Criança' se tiver menos de 12 anos;\n",
    "   - 'Adolescente' se tiver entre 12 e 17 anos (e quanto falta para 18);\n",
    "   - 'Adulto' se tiver 18 anos ou mais."
   ]
  },
  {
   "cell_type": "code",
   "execution_count": null,
   "id": "a33b1096",
   "metadata": {},
   "outputs": [],
   "source": [
    "# Escreva seu código aqui"
   ]
  },
  {
   "cell_type": "markdown",
   "id": "1115feab",
   "metadata": {},
   "source": [
    "### Atividade 3 – Situação financeira com cálculo de saldo\n",
    "Um sistema bancário precisa analisar o saldo de uma conta e informar o valor após uma movimentação.\n",
    "\n",
    "**Comando:**\n",
    "1. Leia o saldo atual e o valor da operação (depósito ou saque);\n",
    "2. Atualize o saldo (soma ou subtração);\n",
    "3. Exiba:\n",
    "   - 'Conta positiva' se o saldo final for maior que zero;\n",
    "   - 'Conta zerada' se o saldo final for igual a zero;\n",
    "   - 'Conta negativa' se o saldo final for menor que zero."
   ]
  },
  {
   "cell_type": "code",
   "execution_count": null,
   "id": "c35d5c85",
   "metadata": {},
   "outputs": [],
   "source": [
    "# Escreva seu código aqui"
   ]
  },
  {
   "cell_type": "markdown",
   "id": "0369f2af",
   "metadata": {},
   "source": [
    "### Atividade 4 – Temperatura ambiente e ajuste\n",
    "Um sistema de climatização precisa ajustar a temperatura de um ambiente com base nas medições.\n",
    "\n",
    "**Comando:**\n",
    "1. Leia a temperatura atual do ambiente;\n",
    "2. Calcule a diferença para a temperatura ideal (24°C);\n",
    "3. Exiba:\n",
    "   - 'Aumentar temperatura em X°C' se estiver abaixo de 24;\n",
    "   - 'Diminuir temperatura em X°C' se estiver acima de 24;\n",
    "   - 'Temperatura ideal' se for igual a 24."
   ]
  },
  {
   "cell_type": "code",
   "execution_count": null,
   "id": "7837f38a",
   "metadata": {},
   "outputs": [],
   "source": [
    "# Escreva seu código aqui"
   ]
  },
  {
   "cell_type": "markdown",
   "id": "f668e938",
   "metadata": {},
   "source": [
    "### Atividade 5 – Sistema de vendas com desconto\n",
    "Uma loja oferece descontos progressivos de acordo com o valor da compra.\n",
    "\n",
    "**Comando:**\n",
    "1. Leia o valor total da compra;\n",
    "2. Calcule o desconto e o valor final, conforme as regras:\n",
    "   - 5% de desconto para compras até R\\\\$ 100,00;\n",
    "   - 10% de desconto entre R\\\\$ 101,00 e R\\\\$ 500,00;\n",
    "   - 15% de desconto acima de R\\\\$ 500,00;\n",
    "3. Exiba o valor do desconto e o total a pagar."
   ]
  },
  {
   "cell_type": "code",
   "execution_count": null,
   "id": "d6d06732",
   "metadata": {},
   "outputs": [],
   "source": [
    "# Escreva seu código aqui"
   ]
  },
  {
   "cell_type": "markdown",
   "id": "973d12d1",
   "metadata": {},
   "source": [
    "## Conclusão\n",
    "\n",
    "Nesta aula, aprendemos a usar o `elif`, que permite criar programas com **múltiplas decisões**.\n",
    "Revisamos também cálculos com operações aritméticas, integrando **matemática e lógica de programação**.\n",
    "Com `if`, `elif` e `else`, o programa pode se adaptar a diferentes situações e tomar decisões mais complexas."
   ]
  }
 ],
 "metadata": {
  "kernelspec": {
   "display_name": "Python 3 (ipykernel)",
   "language": "python",
   "name": "python3"
  },
  "language_info": {
   "codemirror_mode": {
    "name": "ipython",
    "version": 3
   },
   "file_extension": ".py",
   "mimetype": "text/x-python",
   "name": "python",
   "nbconvert_exporter": "python",
   "pygments_lexer": "ipython3",
   "version": "3.12.8"
  }
 },
 "nbformat": 4,
 "nbformat_minor": 5
}
