{
 "cells": [
  {
   "cell_type": "markdown",
   "metadata": {},
   "source": [
    "> **_ÁREA DO PROFESSOR_**\n",
    "> \n",
    "> **Arquivo:** DADOSANO1C2B1S8A2_PROFESSOR.ipynb\n",
    "> \n",
    "> Este notebook contém a versão do professor para a Aula 2 da Semana 8. Ele inclui todo o conteúdo do aluno, além de orientações, dicas de condução e a solução comentada para cada exercício, formatadas em caixas de citação como esta.\n",
    "> \n",
    "> **Objetivo Geral da Aula Prática:** Levar os alunos a implementar laços com `while` para controlar repetições baseadas em condições lógicas, reforçando a necessidade de uma condição de parada clara para evitar loops infinitos."
   ]
  },
  {
   "cell_type": "markdown",
   "metadata": {},
   "source": [
    "<h1 style=\"text-align: center;\">TÉCNICO EM CIÊNCIA DE DADOS</h1>\n",
    "<h1 style=\"text-align: center;\">Roteiro de Atividade Prática - PROFESSOR</h1>\n",
    "<br>\n",
    "<br>\n",
    "\n",
    "**Componente:** Programação Aplicada à Ciência de Dados\n",
    "<br>\n",
    "**Unidade Curricular:** Lógica de Programação e Fundamentos de Python\n",
    "<br>\n",
    "**Tema da Semana:** Revisão geral e prática de condicionais\n",
    "<br>"
   ]
  },
  {
   "cell_type": "markdown",
   "metadata": {},
   "source": [
    "# Aula 2 - Estrutura de repetição while\n",
    "\n",
    "Nesta aula prática, vamos aprender a usar o laço `while`, uma ferramenta poderosa para criar repetições baseadas em condições. Veremos os conceitos, exemplos e resolveremos uma série de exercícios para consolidar o conhecimento."
   ]
  },
  {
   "cell_type": "markdown",
   "metadata": {},
   "source": [
    "## Colocando em Prática"
   ]
  },
  {
   "cell_type": "markdown",
   "metadata": {},
   "source": [
    "### Parte 1: Construindo o Conceito - O `while`\n",
    "\n",
    "O laço `while` é a ferramenta perfeita quando não sabemos quantas vezes uma ação precisa ser repetida. Ele funciona como um \"**`if` que se repete**\".\n",
    "\n",
    "#### A Sintaxe\n",
    "\n",
    "A sintaxe é muito parecida com a do `if`:\n",
    "```python\n",
    "while condicao:\n",
    "    # Bloco de código que se repete\n",
    "    # ENQUANTO a condição for verdadeira\n",
    "```\n",
    "- **`condicao`**: É uma expressão que resulta em `True` ou `False`, exatamente como em um `if`.\n",
    "- **Bloco de código**: É o conjunto de instruções que será executado repetidamente.\n",
    "\n",
    "#### O Ponto Mais Importante: A Condição de Parada\n",
    "\n",
    "Para que um laço `while` não se repita para sempre (um *loop infinito*), algo **dentro** do laço precisa, em algum momento, fazer com que a condição se torne `False`. Geralmente, isso envolve atualizar o valor de uma variável que está sendo testada."
   ]
  },
  {
   "cell_type": "markdown",
   "metadata": {},
   "source": [
    "> **_Para o Professor:_**\n",
    "> \n",
    "> **Dica de Condução:** Ao explicar a \"Condição de Parada\", reforce veementemente o perigo do *loop infinito*. Você pode até demonstrar rapidamente um código que causa isso (ex: `while True: print(\"Preso!\")`), mostrando como o programa trava e como interromper a execução no ambiente Jupyter (usando o botão de Parar/Stop). Essa demonstração prática tem um forte impacto didático."
   ]
  },
  {
   "cell_type": "markdown",
   "metadata": {},
   "source": [
    "### Parte 2: Exemplos Guiados\n",
    "\n",
    "Vamos ver na prática como isso funciona.\n",
    "\n",
    "#### Exemplo 1: Um Contador Simples de 1 a 5\n",
    "\n",
    "Queremos que o programa conte e imprima os números de 1 até 5. Para isso, precisamos de 3 coisas:\n",
    "1.  **Inicializar** uma variável contadora (começando em 1).\n",
    "2.  Criar um laço `while` que continue **enquanto** o contador for menor ou igual a 5.\n",
    "3.  **Atualizar** o contador a cada ciclo, somando 1 a ele."
   ]
  },
  {
   "cell_type": "code",
   "execution_count": 1,
   "metadata": {},
   "outputs": [
    {
     "name": "stdout",
     "output_type": "stream",
     "text": [
      "1\n",
      "2\n",
      "3\n",
      "4\n",
      "5\n",
      "Laço finalizado!\n"
     ]
    }
   ],
   "source": [
    "# 1. Inicialização\n",
    "contador = 1\n",
    "\n",
    "# 2. Condição\n",
    "while contador <= 5:\n",
    "    print(contador)\n",
    "    # 3. Atualização (essencial para não criar um loop infinito!)\n",
    "    contador = contador + 1\n",
    "\n",
    "print(\"Laço finalizado!\")"
   ]
  },
  {
   "cell_type": "markdown",
   "metadata": {},
   "source": [
    "> **_Para o Professor:_**\n",
    "> \n",
    "> **Dica de Condução:** Ao apresentar este exemplo, narre a execução passo a passo, como se você fosse o computador: \"O contador começa valendo 1. 1 é menor ou igual a 5? Sim. Imprimo 1 e somo 1 ao contador. Agora ele vale 2. 2 é menor ou igual a 5? Sim...\" e assim por diante, até o momento em que o contador vira 6 e a condição se torna falsa."
   ]
  },
  {
   "cell_type": "markdown",
   "metadata": {},
   "source": [
    "#### Exemplo 2: O Validador de Senha\n",
    "\n",
    "Agora, o problema que discutimos: pedir uma senha até que o usuário acerte.\n",
    "\n",
    "1.  **Definir** a senha secreta.\n",
    "2.  **Pedir** ao usuário para digitar uma senha pela primeira vez.\n",
    "3.  Criar um laço `while` que continue **enquanto** a senha digitada for diferente da senha secreta.\n",
    "4.  Dentro do laço, avisar que a senha está errada e **pedir novamente**."
   ]
  },
  {
   "cell_type": "code",
   "execution_count": 2,
   "metadata": {},
   "outputs": [
    {
     "name": "stdin",
     "output_type": "stream",
     "text": [
      "Digite a senha:  235\n"
     ]
    },
    {
     "name": "stdout",
     "output_type": "stream",
     "text": [
      "Senha incorreta. Tente novamente.\n"
     ]
    },
    {
     "name": "stdin",
     "output_type": "stream",
     "text": [
      "Digite a senha:  6\n"
     ]
    },
    {
     "name": "stdout",
     "output_type": "stream",
     "text": [
      "Senha incorreta. Tente novamente.\n"
     ]
    },
    {
     "name": "stdin",
     "output_type": "stream",
     "text": [
      "Digite a senha:  546456\n"
     ]
    },
    {
     "name": "stdout",
     "output_type": "stream",
     "text": [
      "Senha incorreta. Tente novamente.\n"
     ]
    },
    {
     "name": "stdin",
     "output_type": "stream",
     "text": [
      "Digite a senha:  1234\n"
     ]
    },
    {
     "name": "stdout",
     "output_type": "stream",
     "text": [
      "Acesso permitido!\n"
     ]
    }
   ],
   "source": [
    "senha_secreta = \"1234\"\n",
    "\n",
    "# Pedimos a senha uma vez, fora do laço\n",
    "senha_digitada = input(\"Digite a senha: \")\n",
    "\n",
    "# O laço só começa se a primeira tentativa estiver errada\n",
    "while senha_digitada != senha_secreta:\n",
    "    print(\"Senha incorreta. Tente novamente.\")\n",
    "    # Pedimos a senha novamente. Esta é a atualização da variável!\n",
    "    senha_digitada = input(\"Digite a senha: \")\n",
    "\n",
    "# Este código só será executado quando o laço terminar\n",
    "print(\"Acesso permitido!\")"
   ]
  },
  {
   "cell_type": "markdown",
   "metadata": {},
   "source": [
    "---\n",
    "### Parte 3: Exercícios Práticos\n",
    "\n",
    "Agora é a sua vez! Resolva os exercícios abaixo, focando na criação da **condição de parada** correta para cada laço `while`.\n",
    "\n",
    "**Importante:** Este é nosso primeiro contato prático com o `while`. Aprofundaremos seu uso e aplicações na **Semana 10**."
   ]
  },
  {
   "cell_type": "markdown",
   "metadata": {},
   "source": [
    "#### Exercício 1: Contagem Regressiva\n",
    "Crie um programa que faça uma contagem regressiva de 10 até 1 e, no final, exiba a mensagem \"Fogo!\"."
   ]
  },
  {
   "cell_type": "code",
   "execution_count": 3,
   "metadata": {},
   "outputs": [],
   "source": [
    "# Escreva sua solução aqui\n",
    "\n"
   ]
  },
  {
   "cell_type": "markdown",
   "metadata": {},
   "source": [
    "> **_Para o Professor - Exercício 1:_**\n",
    "> \n",
    "> **Objetivo da Atividade:** Praticar a estrutura básica do `while` (inicialização, condição, atualização) com uma lógica de decremento em vez de incremento.\n",
    "> \n",
    "> **Ponto de Atenção:** O erro mais comum será esquecer de subtrair 1 do contador a cada passo, causando um loop infinito. Verifique se os alunos implementaram a linha `contador = contador - 1` (ou `contador -= 1`).\n",
    "> \n",
    "> ---\n",
    "> \n",
    "> **_Solução Comentada:_**"
   ]
  },
  {
   "cell_type": "code",
   "execution_count": 4,
   "metadata": {},
   "outputs": [
    {
     "name": "stdout",
     "output_type": "stream",
     "text": [
      "10\n",
      "9\n",
      "8\n",
      "7\n",
      "6\n",
      "5\n",
      "4\n",
      "3\n",
      "2\n",
      "1\n",
      "Fogo!\n"
     ]
    }
   ],
   "source": [
    "# Inicializamos o contador com o valor de partida\n",
    "numero = 10\n",
    "\n",
    "# A condição continua enquanto o número for maior ou igual a 1\n",
    "while numero >= 1:\n",
    "    print(numero)\n",
    "    # A atualização agora subtrai 1\n",
    "    numero = numero - 1\n",
    "\n",
    "print(\"Fogo!\")"
   ]
  },
  {
   "cell_type": "markdown",
   "metadata": {},
   "source": [
    "---\n",
    "#### Exercício 2: Adivinhe o Número\n",
    "Crie um jogo simples onde o computador \"pensa\" em um número secreto (neste caso, vamos defini-lo como 42). O programa deve pedir ao usuário para adivinhar o número. Enquanto o palpite do usuário estiver errado, o programa deve dizer \"Errado, tente de novo!\" e pedir um novo palpite. Quando o usuário acertar, o programa deve exibir \"Parabéns, você acertou!\"."
   ]
  },
  {
   "cell_type": "code",
   "execution_count": 5,
   "metadata": {},
   "outputs": [],
   "source": [
    "# Escreva sua solução aqui\n",
    "\n"
   ]
  },
  {
   "cell_type": "markdown",
   "metadata": {},
   "source": [
    "> **_Para o Professor - Exercício 2:_**\n",
    "> \n",
    "> **Objetivo da Atividade:** Reforçar a lógica de repetição baseada na entrada do usuário, similar ao exemplo da senha, mas com dados numéricos.\n",
    "> \n",
    "> **Ponto de Atenção:** O erro mais provável é esquecer de converter o palpite do usuário (`input`) para um número inteiro (`int`) antes de compará-lo com o número secreto. Isso gerará um erro de lógica, pois a string \"42\" é diferente do número 42.\n",
    "> \n",
    "> ---\n",
    "> \n",
    "> **_Solução Comentada:_**"
   ]
  },
  {
   "cell_type": "code",
   "execution_count": 6,
   "metadata": {},
   "outputs": [
    {
     "name": "stdin",
     "output_type": "stream",
     "text": [
      "Adivinhe o número secreto:  50\n"
     ]
    },
    {
     "name": "stdout",
     "output_type": "stream",
     "text": [
      "Errado, tente de novo!\n"
     ]
    },
    {
     "name": "stdin",
     "output_type": "stream",
     "text": [
      "Adivinhe o número secreto:  42\n"
     ]
    },
    {
     "name": "stdout",
     "output_type": "stream",
     "text": [
      "Parabéns, você acertou!\n"
     ]
    }
   ],
   "source": [
    "numero_secreto = 42\n",
    "\n",
    "# Pedimos o palpite e o convertemos para inteiro\n",
    "palpite = int(input(\"Adivinhe o número secreto: \"))\n",
    "\n",
    "# A condição para o laço continuar é o palpite ser diferente do número secreto\n",
    "while palpite != numero_secreto:\n",
    "    print(\"Errado, tente de novo!\")\n",
    "    # A atualização é pedir um novo palpite ao usuário\n",
    "    palpite = int(input(\"Adivinhe o número secreto: \"))\n",
    "\n",
    "print(\"Parabéns, você acertou!\")"
   ]
  },
  {
   "cell_type": "markdown",
   "metadata": {},
   "source": [
    "---\n",
    "#### Exercício 3: Menu Interativo\n",
    "Crie um programa que exibe um menu simples com as opções: 1. Ver saldo, 2. Fazer depósito, 3. Sair. O programa deve continuar exibindo o menu e pedindo uma opção ao usuário enquanto a opção digitada não for \"3\" (a opção de sair). Para as opções 1 e 2, apenas exiba uma mensagem simples como \"Exibindo saldo...\" ou \"Realizando depósito...\"."
   ]
  },
  {
   "cell_type": "code",
   "execution_count": 7,
   "metadata": {},
   "outputs": [],
   "source": [
    "# Escreva sua solução aqui\n",
    "\n"
   ]
  },
  {
   "cell_type": "markdown",
   "metadata": {},
   "source": [
    "> **_Para o Professor - Exercício 3:_**\n",
    "> \n",
    "> **Objetivo da Atividade:** Praticar a criação de um loop controlado por uma opção de \"sair\" e o uso de `if-elif` dentro do `while` para tratar diferentes ações do usuário.\n",
    "> \n",
    "> **Dica de Condução:** Mostre como a variável `opcao` é inicializada com um valor qualquer (como \"0\") para garantir que o laço `while` execute pelo menos uma vez. Esta é uma técnica comum para menus interativos.\n",
    "> \n",
    "> ---\n",
    "> \n",
    "> **_Solução Comentada:_**"
   ]
  },
  {
   "cell_type": "code",
   "execution_count": 8,
   "metadata": {},
   "outputs": [
    {
     "name": "stdout",
     "output_type": "stream",
     "text": [
      "\n",
      "--- MENU ---\n",
      "1. Ver saldo\n",
      "2. Fazer depósito\n",
      "3. Sair\n"
     ]
    },
    {
     "name": "stdin",
     "output_type": "stream",
     "text": [
      "Escolha uma opção:  1\n"
     ]
    },
    {
     "name": "stdout",
     "output_type": "stream",
     "text": [
      "Exibindo saldo...\n",
      "\n",
      "--- MENU ---\n",
      "1. Ver saldo\n",
      "2. Fazer depósito\n",
      "3. Sair\n"
     ]
    },
    {
     "name": "stdin",
     "output_type": "stream",
     "text": [
      "Escolha uma opção:  2\n"
     ]
    },
    {
     "name": "stdout",
     "output_type": "stream",
     "text": [
      "Realizando depósito...\n",
      "\n",
      "--- MENU ---\n",
      "1. Ver saldo\n",
      "2. Fazer depósito\n",
      "3. Sair\n"
     ]
    },
    {
     "name": "stdin",
     "output_type": "stream",
     "text": [
      "Escolha uma opção:  3\n"
     ]
    },
    {
     "name": "stdout",
     "output_type": "stream",
     "text": [
      "Saindo do sistema. Até logo!\n"
     ]
    }
   ],
   "source": [
    "opcao = \"0\" # Inicializa a variável para garantir que o laço comece\n",
    "\n",
    "# O laço continua enquanto a opção não for '3'\n",
    "while opcao != \"3\":\n",
    "    print(\"\\n--- MENU ---\")\n",
    "    print(\"1. Ver saldo\")\n",
    "    print(\"2. Fazer depósito\")\n",
    "    print(\"3. Sair\")\n",
    "    \n",
    "    # A atualização da variável 'opcao' ocorre a cada ciclo\n",
    "    opcao = input(\"Escolha uma opção: \")\n",
    "\n",
    "    if opcao == \"1\":\n",
    "        print(\"Exibindo saldo...\")\n",
    "    elif opcao == \"2\":\n",
    "        print(\"Realizando depósito...\")\n",
    "    elif opcao == \"3\":\n",
    "        print(\"Saindo do sistema. Até logo!\")\n",
    "    else:\n",
    "        print(\"Opção inválida. Tente novamente.\")"
   ]
  },
  {
   "cell_type": "markdown",
   "metadata": {},
   "source": [
    "---\n",
    "#### Exercício 4 (Desafio): Somando até Parar\n",
    "Crie um programa que peça ao usuário para digitar números inteiros um após o outro. O programa deve somar todos os números digitados. A repetição deve parar quando o usuário digitar o número 0. No final, o programa deve exibir a soma total dos números inseridos (sem incluir o 0)."
   ]
  },
  {
   "cell_type": "code",
   "execution_count": 9,
   "metadata": {},
   "outputs": [],
   "source": [
    "# Escreva sua solução aqui\n",
    "\n"
   ]
  },
  {
   "cell_type": "markdown",
   "metadata": {},
   "source": [
    "> **_Para o Professor - Exercício 4:_**\n",
    "> \n",
    "> **Objetivo da Atividade:** Introduzir a ideia de um \"acumulador\" (`soma`) que é atualizado a cada ciclo, combinado com uma condição de parada baseada em um valor sentinela (o número 0).\n",
    "> \n",
    "> **Ponto de Atenção:** A lógica pode ser desafiadora. O `input` precisa estar dentro do laço para pedir novos números, e a soma (`soma = soma + numero`) também. O `print` do resultado final deve estar fora do laço para exibir apenas o total.\n",
    "> \n",
    "> ---\n",
    "> \n",
    "> **_Solução Comentada:_**"
   ]
  },
  {
   "cell_type": "code",
   "execution_count": 10,
   "metadata": {},
   "outputs": [
    {
     "name": "stdout",
     "output_type": "stream",
     "text": [
      "Digite números para somar. Digite 0 para parar.\n"
     ]
    },
    {
     "name": "stdin",
     "output_type": "stream",
     "text": [
      "Digite um número:  10\n",
      "Digite um número:  20\n",
      "Digite um número:  10\n",
      "Digite um número:  0\n"
     ]
    },
    {
     "name": "stdout",
     "output_type": "stream",
     "text": [
      "A soma total dos números digitados é: 40\n"
     ]
    }
   ],
   "source": [
    "# Inicializamos o acumulador da soma e a variável que guardará o número\n",
    "soma_total = 0\n",
    "numero_digitado = -1 # Qualquer valor diferente de 0 para iniciar o laço\n",
    "\n",
    "print(\"Digite números para somar. Digite 0 para parar.\")\n",
    "\n",
    "while numero_digitado != 0:\n",
    "    # Pedimos um número ao usuário a cada ciclo\n",
    "    numero_digitado = int(input(\"Digite um número: \"))\n",
    "    \n",
    "    # Adicionamos o número à soma total\n",
    "    soma_total = soma_total + numero_digitado\n",
    "\n",
    "print(f\"A soma total dos números digitados é: {soma_total}\")"
   ]
  }
 ],
 "metadata": {
  "kernelspec": {
   "display_name": "Python 3 (ipykernel)",
   "language": "python",
   "name": "python3"
  },
  "language_info": {
   "codemirror_mode": {
    "name": "ipython",
    "version": 3
   },
   "file_extension": ".py",
   "mimetype": "text/x-python",
   "name": "python",
   "nbconvert_exporter": "python",
   "pygments_lexer": "ipython3",
   "version": "3.12.8"
  }
 },
 "nbformat": 4,
 "nbformat_minor": 4
}
