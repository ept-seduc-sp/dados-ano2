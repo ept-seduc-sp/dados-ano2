{
 "cells": [
  {
   "cell_type": "markdown",
   "metadata": {},
   "source": [
    "\n",
    "<h1 style=\"text-align: center;\">TÉCNICO EM CIÊNCIA DE DADOS</h1>\n",
    "<h1 style=\"text-align: center;\">GABARITO PROFESSOR</h1>\n",
    "<br>\n",
    "<br>\n",
    "\n",
    "**Componente:** Programação Aplicada à Ciência de Dados \n",
    "<br>\n",
    "**Unidade Curricular:** Lógica de Programação e Fundamentos de Python\n",
    "<br>\n",
    "**Tema da Semana:** Operadores aritméticos e relacionais\n",
    "<br>"
   ]
  },
  {
   "cell_type": "markdown",
   "metadata": {},
   "source": [
    "# Aula 3 – Expressões compostas\n",
    "\n",
    "Nesta aula, vamos praticar a construção de **expressões compostas**, combinando **operadores aritméticos** (+, -, *, /) com **operadores relacionais** (==, !=, >, <, >=, <=).\n",
    "\n",
    "Nosso objetivo é entender **como o Python avalia expressões compostas** e como a **ordem dos operadores** (precedência) influencia no resultado final.\n",
    "\n",
    "Vamos praticar?"
   ]
  },
  {
   "cell_type": "markdown",
   "metadata": {},
   "source": [
    "## Precedência de Operadores no Python\n",
    "\n",
    "Antes de inciarmos, vamos ver um pouco sobre a precedência de operadores! \n",
    "\n",
    "Quando você escreve uma expressão com **vários operadores**, o Python segue uma ordem para decidir **o que resolver primeiro**. Essa ordem é chamada de **precedência de operadores**.\n",
    "\n",
    "Veja a ordem de prioridade, do mais alto para o mais baixo:\n",
    "\n",
    "1. **Parênteses** `( )`  \n",
    "2. **Potência** `**`  \n",
    "3. **Multiplicação, Divisão, Módulo** `*`, `/`, `//`, `%`  \n",
    "4. **Soma e Subtração** `+`, `-`  \n",
    "5. **Operadores relacionais** `==`, `!=`, `>`, `<`, `>=`, `<=`\n",
    "\n",
    "**Importante**: O Python **resolve primeiro as operações com maior prioridade**, mesmo que venham depois na linha.\n",
    "\n",
    "---\n",
    "\n",
    "### Exemplo:\n",
    "```python\n",
    "resultado = 3 + 4 * 2 > 10\n",
    "print(resultado)\n",
    "```\n",
    "\n",
    "**Como o Python resolve isso?**\n",
    "1. Multiplica: `4 * 2` → `8`  \n",
    "2. Soma: `3 + 8` → `11`  \n",
    "3. Compara: `11 > 10` → `True`\n",
    "\n",
    "---\n",
    "\n",
    "### E se eu usar parênteses?\n",
    "\n",
    "```python\n",
    "resultado = (3 + 4) * 2 > 10\n",
    "print(resultado)\n",
    "```\n",
    "\n",
    "Agora o Python faz:\n",
    "1. Soma: `3 + 4` → `7`  \n",
    "2. Multiplica: `7 * 2` → `14`  \n",
    "3. Compara: `14 > 10` → `True`\n",
    "\n",
    "**Parênteses mudam a ordem da conta! Use sempre que quiser deixar claro o que deve ser feito primeiro.**\n"
   ]
  },
  {
   "cell_type": "markdown",
   "metadata": {},
   "source": [
    "---\n",
    "# Atividades"
   ]
  },
  {
   "cell_type": "markdown",
   "metadata": {},
   "source": [
    "## 1) Preveja o resultado de cada expressão abaixo (sem rodar ainda). Escreva True ou False como resposta esperada:\n"
   ]
  },
  {
   "cell_type": "code",
   "execution_count": 1,
   "metadata": {},
   "outputs": [
    {
     "data": {
      "text/plain": [
       "False"
      ]
     },
     "execution_count": 1,
     "metadata": {},
     "output_type": "execute_result"
    }
   ],
   "source": [
    "# A\n",
    "5 + 2 > 6\n",
    "\n",
    "# B\n",
    "10 - 3 == 4 + 3\n",
    "\n",
    "# C\n",
    "8 / 2 < 3 + 1\n",
    "\n",
    "# D\n",
    "4 * 2 != 16 / 2\n",
    "\n",
    "\n",
    "# Gabarito:\n",
    "# A: 5 + 2 = 7 → 7 > 6 → True\n",
    "# B: 10 - 3 = 7 e 4 + 3 = 7 → 7 == 7 → True\n",
    "# C: 8 / 2 = 4, 3 + 1 = 4 → 4 < 4 → False\n",
    "# D: 4 * 2 = 8, 16 / 2 = 8 → 8 != 8 → False"
   ]
  },
  {
   "cell_type": "code",
   "execution_count": 2,
   "metadata": {},
   "outputs": [
    {
     "name": "stdout",
     "output_type": "stream",
     "text": [
      "True\n",
      "True\n",
      "False\n",
      "False\n"
     ]
    }
   ],
   "source": [
    "# Agora rode o código abaixo e compare com sua previsão:\n",
    "print(5 + 2 > 6)       # A\n",
    "print(10 - 3 == 4 + 3) # B\n",
    "print(8 / 2 < 3 + 1)   # C\n",
    "print(4 * 2 != 16 / 2) # D\n",
    "\n",
    "# Resultado final: True (11 > 9)\n",
    "# Avaliação passo a passo já está descrita nos comentários."
   ]
  },
  {
   "cell_type": "markdown",
   "metadata": {},
   "source": [
    "## 2) Qual é o resultado de cada etapa da expressão abaixo?\n"
   ]
  },
  {
   "cell_type": "code",
   "execution_count": 3,
   "metadata": {},
   "outputs": [
    {
     "name": "stdout",
     "output_type": "stream",
     "text": [
      "True\n"
     ]
    }
   ],
   "source": [
    "# Vamos analisar com comentários:\n",
    "\n",
    "resultado = 3 + 2 * 4 > 10 - 1\n",
    "print(resultado)\n",
    "\n",
    "# Etapas:\n",
    "# 1. Multiplicação: 2 * 4 = \n",
    "# 2. Soma: 3 + 8 = \n",
    "# 3. Subtração: 10 - 1 =\n",
    "# 4. Comparação: 11 > 9 → \n",
    "\n",
    "# Gabaritos sugeridos:\n",
    "# print(4 + 2 > 5)       # 6 > 5 → True\n",
    "# print(3 * 2 + 1 == 7)  # 6 + 1 == 7 → True\n",
    "# print(10 - 2 * 2 >= 5 + 1) # 10 - 4 = 6, 5 + 1 = 6 → 6 >= 6 → True"
   ]
  },
  {
   "cell_type": "markdown",
   "metadata": {},
   "source": [
    "## 3) Complete os espaços com operadores aritméticos e relacionais para que o resultado da expressão seja True. Use +, -, *, /, >, <, ==, etc.\n"
   ]
  },
  {
   "cell_type": "code",
   "execution_count": null,
   "metadata": {},
   "outputs": [],
   "source": [
    "# Exemplo: print(4 ___ 2 ___ 5)\n",
    "# Você deve completar: print(4 + 2 > 5)\n",
    "\n",
    "print(4 _ 2 _ 5)\n",
    "print(3 _ 2 _ 1 _ 7)\n",
    "print(10 _ 2 _ 2 _ 5 _ 1)\n",
    "\n",
    "# print(4 + 3 * 2 > 10) → 4 + 6 = 10 → 10 > 10 → False\n",
    "# print((4 + 3) * 2 > 10) → 7 * 2 = 14 → 14 > 10 → True"
   ]
  },
  {
   "cell_type": "markdown",
   "metadata": {},
   "source": [
    "## 4) Compare os resultados das duas expressões abaixo e observe o que mudou no resultado. Depois, crie sua própria expressão com parênteses que altere para um novo resultado."
   ]
  },
  {
   "cell_type": "code",
   "execution_count": 5,
   "metadata": {},
   "outputs": [
    {
     "name": "stdout",
     "output_type": "stream",
     "text": [
      "False\n",
      "True\n",
      "True\n",
      "True\n",
      "True\n"
     ]
    }
   ],
   "source": [
    "print(4 + 3 * 2 > 10)      # Sem parênteses\n",
    "print((4 + 3) * 2 > 10)    # Com parênteses\n",
    "\n",
    "\n",
    "# Gabarito sugerido (exemplos):\n",
    "# print(5 + 3 > 6)       → True\n",
    "# print(2 * 3 + 1 == 7)  → True\n",
    "# print(10 - 2 < 3 * 3)  → True\n",
    "# Gabarito sugerido (exemplos de respostas corretas com previsão):\n",
    "# Expressão 1:\n",
    "# Previsão: True\n",
    "print(5 + 3 > 6)  # 8 > 6 → True\n",
    "\n",
    "# Expressão 2:\n",
    "# Previsão: True\n",
    "print(2 * 3 + 1 == 7)  # 6 + 1 = 7 → 7 == 7 → True\n",
    "\n",
    "# Expressão 3:\n",
    "# Previsão: True\n",
    "print(10 - 2 < 3 * 3)  # 8 < 9 → True\n",
    "\n",
    "# Observação para o professor:\n",
    "# Os alunos podem criar diversas variações. O importante é:\n",
    "# - Usarem pelo menos dois operadores aritméticos\n",
    "# - Usarem pelo menos um operador relacional\n",
    "# - Avaliarem corretamente a expressão\n"
   ]
  },
  {
   "cell_type": "markdown",
   "metadata": {},
   "source": [
    "## 5) Crie 3 expressões compostas que usem:\n",
    "### - Pelo menos 2 operadores aritméticos\n",
    "### - Pelo menos 1 operador relacional\n",
    "\n",
    "## Para cada expressão:\n",
    "### 1. Escreva sua previsão (True ou False)\n",
    "### 2. Execute e veja se estava certo"
   ]
  },
  {
   "cell_type": "code",
   "execution_count": 6,
   "metadata": {},
   "outputs": [
    {
     "name": "stdout",
     "output_type": "stream",
     "text": [
      "True\n",
      "\n",
      "\n",
      "\n",
      "True\n",
      "True\n",
      "False\n"
     ]
    }
   ],
   "source": [
    "# Exemplo:\n",
    "# Previsão: True\n",
    "print(3 * 2 + 1 == 7)\n",
    "\n",
    "# Agora é com você:\n",
    "# Expressão 1:\n",
    "# Previsão:\n",
    "print()\n",
    "\n",
    "# Expressão 2:\n",
    "# Previsão:\n",
    "print()\n",
    "\n",
    "# Expressão 3:\n",
    "# Previsão:\n",
    "print()\n",
    "\n",
    "# Observação para o professor:\n",
    "# Os alunos podem criar diversas variações. O importante é:\n",
    "# - Usarem pelo menos dois operadores aritméticos\n",
    "# - Usarem pelo menos um operador relacional\n",
    "# - Avaliarem corretamente a expressão\n",
    "\n",
    "# Gabarito com 3 expressões completas:\n",
    "\n",
    "# Expressão 1:\n",
    "# Previsão: True\n",
    "a = 10\n",
    "b = 3\n",
    "print(a - b == 7)  # 10 - 3 = 7 → True\n",
    "\n",
    "# Expressão 2:\n",
    "# Previsão: True\n",
    "x = 4\n",
    "y = 2\n",
    "print(x * y + 1 <= 9)  # 8 + 1 = 9 → 9 <= 9 → True\n",
    "\n",
    "# Expressão 3:\n",
    "# Previsão: False\n",
    "p = 5\n",
    "q = 2\n",
    "print(p + q * 2 > 15)  # 5 + 4 = 9 → 9 > 15 → False"
   ]
  }
 ],
 "metadata": {
  "kernelspec": {
   "display_name": "Python 3 (ipykernel)",
   "language": "python",
   "name": "python3"
  },
  "language_info": {
   "codemirror_mode": {
    "name": "ipython",
    "version": 3
   },
   "file_extension": ".py",
   "mimetype": "text/x-python",
   "name": "python",
   "nbconvert_exporter": "python",
   "pygments_lexer": "ipython3",
   "version": "3.12.8"
  }
 },
 "nbformat": 4,
 "nbformat_minor": 4
}
