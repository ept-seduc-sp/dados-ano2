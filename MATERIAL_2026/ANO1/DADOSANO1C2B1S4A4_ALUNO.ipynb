{
 "cells": [
  {
   "cell_type": "markdown",
   "id": "df2bebc5-236a-4647-8dae-4e4b0738edb8",
   "metadata": {},
   "source": [
    "\n",
    "<h1 style=\"text-align: center;\">TÉCNICO EM CIÊNCIA DE DADOS</h1>\n",
    "<h1 style=\"text-align: center;\">Roteiro de Atividade Prática</h1>\n",
    "<br>\n",
    "<br>\n",
    "\n",
    "**Componente:** Programação Aplicada à Ciência de Dados \n",
    "<br>\n",
    "**Unidade Curricular:** Lógica de Programação e Fundamentos de Python\n",
    "<br>\n",
    "**Tema da Semana:** Operadores aritméticos e relacionais\n",
    "<br>"
   ]
  },
  {
   "cell_type": "markdown",
   "id": "52add307",
   "metadata": {},
   "source": [
    "# Aula 4 – Operadores e expressões compostas em prática\n",
    "\n",
    "Hoje vamos revisar e consolidar o que aprendemos sobre:\n",
    "\n",
    "- Operadores aritméticos e relacionais\n",
    "- Expressões compostas\n",
    "- Precedência de operadores\n",
    "- Operadores encadeados (ex: 5 < x < 10)\n",
    "\n",
    "Nosso objetivo é praticar a construção e interpretação de **expressões lógicas e matemáticas** em Python.\n",
    "\n",
    "Vamos colocar tudo em prática!"
   ]
  },
  {
   "cell_type": "markdown",
   "id": "7aff703b-1bb2-4058-a288-01e1834e8678",
   "metadata": {},
   "source": [
    "## 1) O que cada expressão abaixo retorna? (True ou False?)\n"
   ]
  },
  {
   "cell_type": "code",
   "execution_count": null,
   "id": "7d820ca3",
   "metadata": {},
   "outputs": [],
   "source": [
    "# Escreva sua previsão antes de executar.\n",
    "\n",
    "a = 10\n",
    "b = 5\n",
    "c = 2\n",
    "\n",
    "# A\n",
    "print(a > b + c)\n",
    "\n",
    "# B\n",
    "print(b * 2 == a - c)\n",
    "\n",
    "# C\n",
    "print(a / c < b + 1)\n",
    "\n",
    "# D\n",
    "print(a - b * c != 0)"
   ]
  },
  {
   "cell_type": "markdown",
   "id": "9cc9157f-64f0-46f2-bc41-bda7b786f904",
   "metadata": {},
   "source": [
    "## 2) Python permite escrever comparações encadeadas:"
   ]
  },
  {
   "cell_type": "code",
   "execution_count": null,
   "id": "e2c560d2",
   "metadata": {},
   "outputs": [],
   "source": [
    "# Exemplo: 5 < x < 10 (verifica se x está entre 5 e 10)\n",
    "\n",
    "x = 7\n",
    "print(5 < x < 10)  # True\n",
    "\n",
    "# Experimente com outros valores de x:\n",
    "x = 12\n",
    "print(5 < x < 10)  # False\n",
    "\n",
    "# Agora é com você: preveja e teste\n",
    "\n",
    "# Desafio 1\n",
    "x = 4\n",
    "print(2 _ x _ 4)\n",
    "\n",
    "# Desafio 2\n",
    "y = 15\n",
    "print(10 _ y _ 20)\n",
    "\n",
    "# Desafio 3\n",
    "z = 5\n",
    "print(3 _ z _ 4)"
   ]
  },
  {
   "cell_type": "markdown",
   "id": "aedf98a6-28f8-41a1-8151-420114311abd",
   "metadata": {},
   "source": [
    "## 3) Complete as expressões abaixo com operadores para que o resultado seja True\n"
   ]
  },
  {
   "cell_type": "code",
   "execution_count": null,
   "id": "f97a67de",
   "metadata": {},
   "outputs": [],
   "source": [
    "# Use +, -, *, /, ==, !=, >, <, >=, <=\n",
    "\n",
    "# A\n",
    "print(3 _ 1 _ 4)  # True\n",
    "\n",
    "# B\n",
    "print(4 _ 2 _ 7 _ 1)  # True\n",
    "\n",
    "# C\n",
    "print(10 _ 3 _ 2 _ 5)  # True"
   ]
  },
  {
   "cell_type": "markdown",
   "id": "66c4db1c-102a-44f8-9f42-ccc8c58448a0",
   "metadata": {},
   "source": [
    "## 4) Interprete as situações abaixo e transforme em expressões em Python\n"
   ]
  },
  {
   "cell_type": "code",
   "execution_count": null,
   "id": "8f322e0d",
   "metadata": {},
   "outputs": [],
   "source": [
    "# Situação 1:\n",
    "# Um ingresso só pode ser comprado se a idade for entre 12 e 17 anos (inclusive).\n",
    "idade = 15\n",
    "print()  # True\n",
    "\n",
    "# Situação 2:\n",
    "# Um estudante passou se a nota for maior ou igual a 6.\n",
    "nota = 5.8\n",
    "print()  # False\n",
    "\n",
    "# Situação 3:\n",
    "# Uma promoção é válida apenas se o valor estiver entre 100 e 200 reais.\n",
    "valor = 150\n",
    "print()  # True\n",
    "\n",
    "# Agora escreva uma expressão para a seguinte situação:\n",
    "# Um aluno tem que ter mais de 13 anos e menos de 18 anos para participar de um grupo.\n",
    "idade = 14\n",
    "print()"
   ]
  },
  {
   "cell_type": "markdown",
   "id": "225fdb7a-b4df-4691-a0d7-7aea3c3d2148",
   "metadata": {},
   "source": [
    "## 5) Crie 3 expressões compostas envolvendo:\n",
    "### - Operadores aritméticos\n",
    "### - Operadores relacionais\n",
    "### - (Se quiser) operadores encadeados\n",
    "\n",
    "## Para cada uma:\n",
    "### 1. Escreva o valor das variáveis\n",
    "### 2. Escreva a expressão\n",
    "### 3. Preveja o resultado\n",
    "### 4. Teste no Python"
   ]
  },
  {
   "cell_type": "code",
   "execution_count": null,
   "id": "7d6d2e58",
   "metadata": {},
   "outputs": [],
   "source": [
    "# Exemplo:\n",
    "a = 8\n",
    "b = 3\n",
    "# Previsão: True\n",
    "print(a - b == 5)\n",
    "\n",
    "# Agora você cria:\n",
    "\n",
    "# Expressão 1:\n",
    "print()\n",
    "\n",
    "# Expressão 2:\n",
    "print()\n",
    "\n",
    "# Expressão 3:\n",
    "print()"
   ]
  }
 ],
 "metadata": {
  "kernelspec": {
   "display_name": "Python 3 (ipykernel)",
   "language": "python",
   "name": "python3"
  },
  "language_info": {
   "codemirror_mode": {
    "name": "ipython",
    "version": 3
   },
   "file_extension": ".py",
   "mimetype": "text/x-python",
   "name": "python",
   "nbconvert_exporter": "python",
   "pygments_lexer": "ipython3",
   "version": "3.12.8"
  }
 },
 "nbformat": 4,
 "nbformat_minor": 5
}
