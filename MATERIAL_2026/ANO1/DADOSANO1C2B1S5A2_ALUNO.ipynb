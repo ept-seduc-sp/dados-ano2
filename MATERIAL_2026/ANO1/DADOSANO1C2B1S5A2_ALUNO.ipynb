{
 "cells": [
  {
   "cell_type": "markdown",
   "id": "484aa54d-a755-4c04-ab9a-1acbc50eed95",
   "metadata": {},
   "source": [
    "\n",
    "<h1 style=\"text-align: center;\">TÉCNICO EM CIÊNCIA DE DADOS</h1>\n",
    "<h1 style=\"text-align: center;\">Roteiro de Atividade Prática</h1>\n",
    "<br>\n",
    "<br>\n",
    "\n",
    "**Componente:** Programação Aplicada à Ciência de Dados \n",
    "<br>\n",
    "**Unidade Curricular:** Lógica de Programação e Fundamentos de Python\n",
    "<br>\n",
    "**Tema da Semana:** Operadores Lógicos\n",
    "<br>"
   ]
  },
  {
   "cell_type": "markdown",
   "id": "8a8fd715",
   "metadata": {},
   "source": [
    "# Aula 2 – Construção de expressões lógicas\n",
    "\n",
    "Nesta aula, vamos aprender a **elaborar expressões booleanas que combinem diferentes operadores**.  \n",
    "\n",
    "**Objetivo:** Entender como unir operadores lógicos (`and`, `or`, `not`) com operadores relacionais para construir expressões mais complexas.\n",
    "\n",
    "---"
   ]
  },
  {
   "cell_type": "markdown",
   "id": "29bca52d",
   "metadata": {},
   "source": [
    "## 🔎 Revisão rápida\n",
    "\n",
    "Na aula anterior, você aprendeu sobre **operadores lógicos básicos** e a **tabela verdade**.\n",
    "\n",
    "| Operador | Descrição | Exemplo | Resultado |\n",
    "|----------|-----------|---------|-----------|\n",
    "| `and`    | Verdadeiro se **ambos** forem verdadeiros | `True and False` | False |\n",
    "| `or`     | Verdadeiro se **pelo menos um** for verdadeiro | `True or False` | True |\n",
    "| `not`    | Inverte o valor lógico | `not True` | False |\n",
    "\n",
    "---"
   ]
  },
  {
   "cell_type": "markdown",
   "id": "5e609d71",
   "metadata": {},
   "source": [
    "## Exemplo 1 – Combinando relacionais e lógicos\n",
    "\n",
    "Podemos usar operadores relacionais (`>`, `<`, `==`, `!=`) com operadores lógicos para criar expressões mais poderosas.\n",
    "\n",
    "Exemplo:"
   ]
  },
  {
   "cell_type": "code",
   "execution_count": null,
   "id": "1b64d500",
   "metadata": {},
   "outputs": [],
   "source": [
    "idade = 16\n",
    "tem_carteirinha = True\n",
    "\n",
    "# A pessoa pode entrar se tiver 18 anos ou mais, OU se tiver carteirinha.\n",
    "print(idade >= 18 or tem_carteirinha)\n",
    "\n",
    "# Previsão: True (mesmo não tendo 18 anos, tem carteirinha)"
   ]
  },
  {
   "cell_type": "markdown",
   "id": "3f540d40",
   "metadata": {},
   "source": [
    "## Exemplo 2 – Uso do `and`\n",
    "\n",
    "Exemplo:"
   ]
  },
  {
   "cell_type": "code",
   "execution_count": null,
   "id": "61a83bf6",
   "metadata": {},
   "outputs": [],
   "source": [
    "nota = 7.5\n",
    "frequencia = 0.80\n",
    "\n",
    "# O aluno passa se tiver nota >= 6 E frequência >= 0.75\n",
    "print(nota >= 6 and frequencia >= 0.75)\n",
    "\n",
    "# Resultado esperado: True"
   ]
  },
  {
   "cell_type": "markdown",
   "id": "db07a60e",
   "metadata": {},
   "source": [
    "## Exemplo 3 – Uso do `not`\n",
    "\n",
    "Exemplo:"
   ]
  },
  {
   "cell_type": "code",
   "execution_count": null,
   "id": "44cc53ca",
   "metadata": {},
   "outputs": [],
   "source": [
    "tem_ingresso = False\n",
    "\n",
    "# Se NÃO tiver ingresso, não pode entrar\n",
    "print(not tem_ingresso)\n",
    "\n",
    "# Resultado esperado: True (pois não tem ingresso)"
   ]
  },
  {
   "cell_type": "markdown",
   "id": "3d514f71",
   "metadata": {},
   "source": [
    "## Atividade 1 – Preveja e teste\n",
    "\n",
    "Escreva no caderno o resultado esperado (`True` ou `False`) antes de rodar o código no Python.\n",
    "\n",
    "1. `10 > 5 and 3 == 3`  \n",
    "2. `7 < 2 or 4 != 4`  \n",
    "3. `not (8 >= 8)`  \n",
    "4. `(5 + 2 > 6) and (3 * 2 == 6)`  \n",
    "5. `(10 - 4 < 3) or (2 ** 3 == 8)`"
   ]
  },
  {
   "cell_type": "code",
   "execution_count": null,
   "id": "7753dcfa",
   "metadata": {},
   "outputs": [],
   "source": [
    "print(10 > 5 and 3 == 3)\n",
    "print(7 < 2 or 4 != 4)\n",
    "print(not (8 >= 8))\n",
    "print((5 + 2 > 6) and (3 * 2 == 6))\n",
    "print((10 - 4 < 3) or (2 ** 3 == 8))"
   ]
  },
  {
   "cell_type": "markdown",
   "id": "f822e86b",
   "metadata": {},
   "source": [
    "## Atividade 2 – Complete\n",
    "\n",
    "Complete as expressões para que o resultado seja `True`.\n",
    "\n",
    "1. `print(____ and 4 > 2)`  \n",
    "2. `print(10 == 5 * 2 or ____)`  \n",
    "3. `print(not ____)`  \n",
    "4. `print((3 + 2 == 5) and (____))`"
   ]
  },
  {
   "cell_type": "code",
   "execution_count": null,
   "id": "53e74adb",
   "metadata": {},
   "outputs": [],
   "source": [
    "# Sugestões de resposta:\n",
    "print(7 > 3 and 4 > 2)      \n",
    "print(10 == 5 * 2 or 3 < 1)  \n",
    "print(not False)             \n",
    "print((3 + 2 == 5) and (8 >= 8))"
   ]
  },
  {
   "cell_type": "markdown",
   "id": "a1cdca72",
   "metadata": {},
   "source": [
    "## Atividade 3 – Crie você mesmo!\n",
    "\n",
    "Crie **3 expressões lógicas** diferentes usando `and`, `or` e `not` (pelo menos uma vez cada).  \n",
    "Escreva a previsão e depois rode o código para conferir se estava certo.\n",
    "\n",
    "Exemplo:\n",
    "```python\n",
    "idade = 20\n",
    "print(idade > 18 and idade < 30)  # Previsão: True\n",
    "```"
   ]
  },
  {
   "cell_type": "code",
   "execution_count": null,
   "id": "f1328546",
   "metadata": {},
   "outputs": [],
   "source": [
    "# Agora é com você!\n",
    "\n",
    "# Expressão 1:\n",
    "print()\n",
    "\n",
    "# Expressão 2:\n",
    "print()\n",
    "\n",
    "# Expressão 3:\n",
    "print()"
   ]
  },
  {
   "cell_type": "markdown",
   "id": "0f513666",
   "metadata": {},
   "source": [
    "## Desafio 1 – Entrada no cinema\n",
    "\n",
    "Um cinema só permite a entrada gratuita se a pessoa:\n",
    "- For estudante (tem carteirinha) **OU**\n",
    "- Tiver menos de 12 anos **OU**\n",
    "- Tiver mais de 60 anos.\n",
    "\n",
    "Construa uma expressão lógica em Python que retorne `True` se a pessoa puder entrar de graça."
   ]
  },
  {
   "cell_type": "code",
   "execution_count": null,
   "id": "77d3a6ad",
   "metadata": {},
   "outputs": [],
   "source": [
    "# Variáveis de exemplo\n",
    "idade = 16\n",
    "estudante = True\n",
    "\n",
    "# Sua expressão aqui:\n",
    "print()"
   ]
  },
  {
   "cell_type": "markdown",
   "id": "80e4c3d9",
   "metadata": {},
   "source": [
    "## Desafio 2 – Participação em campeonato escolar\n",
    "\n",
    "Para participar de um campeonato escolar de esportes, o aluno deve:\n",
    "- Ter idade entre 14 e 18 anos **E**\n",
    "- Ter frequência maior ou igual a 75%.\n",
    "\n",
    "👉 Construa a expressão lógica em Python que retorne `True` se o aluno puder participar."
   ]
  },
  {
   "cell_type": "code",
   "execution_count": null,
   "id": "d159e06b",
   "metadata": {},
   "outputs": [],
   "source": [
    "# Variáveis de exemplo\n",
    "idade = 15\n",
    "frequencia = 0.80\n",
    "\n",
    "# Sua expressão aqui:\n",
    "print()"
   ]
  }
 ],
 "metadata": {
  "kernelspec": {
   "display_name": "Python 3 (ipykernel)",
   "language": "python",
   "name": "python3"
  },
  "language_info": {
   "codemirror_mode": {
    "name": "ipython",
    "version": 3
   },
   "file_extension": ".py",
   "mimetype": "text/x-python",
   "name": "python",
   "nbconvert_exporter": "python",
   "pygments_lexer": "ipython3",
   "version": "3.12.8"
  }
 },
 "nbformat": 4,
 "nbformat_minor": 5
}
