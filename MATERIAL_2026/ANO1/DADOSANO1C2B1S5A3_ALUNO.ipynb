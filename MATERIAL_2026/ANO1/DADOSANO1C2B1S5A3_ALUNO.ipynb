{
 "cells": [
  {
   "cell_type": "markdown",
   "id": "03c00fea-63b9-47e9-b844-3768d6c0b497",
   "metadata": {},
   "source": [
    "\n",
    "<h1 style=\"text-align: center;\">TÉCNICO EM CIÊNCIA DE DADOS</h1>\n",
    "<h1 style=\"text-align: center;\">Roteiro de Atividade Prática</h1>\n",
    "<br>\n",
    "<br>\n",
    "\n",
    "**Componente:** Programação Aplicada à Ciência de Dados \n",
    "<br>\n",
    "**Unidade Curricular:** Lógica de Programação e Fundamentos de Python\n",
    "<br>\n",
    "**Tema da Semana:** Operadores Lógicos\n",
    "<br>"
   ]
  },
  {
   "cell_type": "markdown",
   "id": "b15304e7",
   "metadata": {},
   "source": [
    "# Aula 3 – Casos práticos com lógica booleana\n",
    "\n",
    "---"
   ]
  },
  {
   "cell_type": "markdown",
   "id": "e6ce2793",
   "metadata": {},
   "source": [
    "## Exemplo 1 – Acesso à biblioteca\n",
    "\n",
    "Na escola, só pode entrar na sala de estudos quem:\n",
    "- For aluno matriculado **e**\n",
    "- Estiver em dia com a carteirinha.\n",
    "\n",
    "Exemplo:"
   ]
  },
  {
   "cell_type": "code",
   "execution_count": null,
   "id": "653a11e7",
   "metadata": {},
   "outputs": [],
   "source": [
    "aluno_matriculado = True\n",
    "carteirinha_em_dia = False\n",
    "\n",
    "print(aluno_matriculado and carteirinha_em_dia)  # False"
   ]
  },
  {
   "cell_type": "markdown",
   "id": "e5379505",
   "metadata": {},
   "source": [
    "## Exemplo 2 – Promoção no shopping\n",
    "\n",
    "Uma loja dá desconto se:\n",
    "- O cliente for estudante **ou**\n",
    "- O cliente tiver menos de 12 anos.\n",
    "\n",
    "Exemplo:"
   ]
  },
  {
   "cell_type": "code",
   "execution_count": null,
   "id": "d0b3f86b",
   "metadata": {},
   "outputs": [],
   "source": [
    "idade = 14\n",
    "estudante = True\n",
    "\n",
    "print(estudante or idade < 12)  # True"
   ]
  },
  {
   "cell_type": "markdown",
   "id": "c7f82e05",
   "metadata": {},
   "source": [
    "## Atividade 1 – Preveja e teste\n",
    "\n",
    "Escreva no caderno a previsão antes de rodar o código.\n",
    "\n",
    "1. `idade = 17; estudante = False; print(idade < 18 and estudante)`  \n",
    "2. `nota = 6.5; frequencia = 0.7; print(nota >= 6 and frequencia >= 0.75)`  \n",
    "3. `chovendo = True; tem_guarda_chuva = False; print(chovendo and not tem_guarda_chuva)`  \n",
    "4. `dinheiro = 30; preco = 25; desconto = True; print(dinheiro >= preco or desconto)`"
   ]
  },
  {
   "cell_type": "code",
   "execution_count": null,
   "id": "882f21fe",
   "metadata": {},
   "outputs": [],
   "source": [
    "idade = 17; estudante = False\n",
    "print(idade < 18 and estudante)\n",
    "\n",
    "nota = 6.5; frequencia = 0.7\n",
    "print(nota >= 6 and frequencia >= 0.75)\n",
    "\n",
    "chovendo = True; tem_guarda_chuva = False\n",
    "print(chovendo and not tem_guarda_chuva)\n",
    "\n",
    "dinheiro = 30; preco = 25; desconto = True\n",
    "print(dinheiro >= preco or desconto)"
   ]
  },
  {
   "cell_type": "markdown",
   "id": "92d2bee2",
   "metadata": {},
   "source": [
    "## Atividade 2 – Complete\n",
    "\n",
    "Complete as expressões para que o resultado seja `True`.\n",
    "\n",
    "1. `idade = 15; print(idade >= 14 and ____ )`  \n",
    "2. `nota = 8; frequencia = 0.80; print(____ or frequencia >= 0.75)`  \n",
    "3. `tem_ingresso = False; vip = True; print(tem_ingresso or ____ )`  \n",
    "4. `celular = True; wifi = False; print(celular and not ____ )`"
   ]
  },
  {
   "cell_type": "code",
   "execution_count": null,
   "id": "c1728f1f",
   "metadata": {},
   "outputs": [],
   "source": [
    "# FAÇA O CÓDIGO AQUI"
   ]
  },
  {
   "cell_type": "markdown",
   "id": "ea3599df",
   "metadata": {},
   "source": [
    "## Desafio 1 – Campeonato de e-sports\n",
    "\n",
    "Um aluno só pode participar se:\n",
    "- Tiver entre 14 e 18 anos **e**\n",
    "- Tiver autorização dos pais **ou** for maior de 16.\n",
    "\n",
    "Construa a expressão lógica em Python que verifique essa situação."
   ]
  },
  {
   "cell_type": "code",
   "execution_count": null,
   "id": "53a80fff",
   "metadata": {},
   "outputs": [],
   "source": [
    "# FAÇA O CÓDIGO AQUI"
   ]
  },
  {
   "cell_type": "markdown",
   "id": "f297cb5b",
   "metadata": {},
   "source": [
    "## Desafio 2 – Uso do laboratório de informática\n",
    "\n",
    "Para usar o laboratório, o aluno precisa:\n",
    "- Ser matriculado, **e**\n",
    "- Não estar suspenso, **e**\n",
    "- Usar crachá de identificação.\n",
    "\n",
    "Construa a expressão lógica em Python que verifique essa situação."
   ]
  },
  {
   "cell_type": "code",
   "execution_count": null,
   "id": "6608bddc",
   "metadata": {},
   "outputs": [],
   "source": [
    "# FAÇA O CÓDIGO AQUI"
   ]
  },
  {
   "cell_type": "markdown",
   "id": "7cc1973b",
   "metadata": {},
   "source": [
    "## Desafio 3 – Entrada em festa escolar\n",
    "\n",
    "Para entrar na festa, é necessário:\n",
    "- Ter ingresso, **ou**\n",
    "- Estar na lista VIP, **e**\n",
    "- Não estar suspenso.\n",
    "\n",
    "Construa a expressão lógica em Python que verifique essa situação."
   ]
  },
  {
   "cell_type": "code",
   "execution_count": null,
   "id": "71a4812d",
   "metadata": {},
   "outputs": [],
   "source": [
    "# FAÇA O CÓDIGO AQUI"
   ]
  }
 ],
 "metadata": {
  "kernelspec": {
   "display_name": "Python 3 (ipykernel)",
   "language": "python",
   "name": "python3"
  },
  "language_info": {
   "codemirror_mode": {
    "name": "ipython",
    "version": 3
   },
   "file_extension": ".py",
   "mimetype": "text/x-python",
   "name": "python",
   "nbconvert_exporter": "python",
   "pygments_lexer": "ipython3",
   "version": "3.12.8"
  }
 },
 "nbformat": 4,
 "nbformat_minor": 5
}
