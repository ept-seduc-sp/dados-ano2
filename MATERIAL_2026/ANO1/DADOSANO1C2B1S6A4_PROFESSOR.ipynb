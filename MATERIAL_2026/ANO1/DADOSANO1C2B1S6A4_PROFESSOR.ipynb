{
 "cells": [
  {
   "cell_type": "markdown",
   "id": "0fde03d2-6cf8-47fe-9b12-6522d71ac4c6",
   "metadata": {},
   "source": [
    "\n",
    "<h1 style=\"text-align: center;\">TÉCNICO EM CIÊNCIA DE DADOS</h1>\n",
    "<h1 style=\"text-align: center;\">Roteiro de Atividade Prática - PROFESSOR</h1>\n",
    "<br>\n",
    "<br>\n",
    "\n",
    "**Componente:** Programação Aplicada à Ciência de Dados \n",
    "<br>\n",
    "**Unidade Curricular:** Lógica de Programação e Fundamentos de Python\n",
    "<br>\n",
    "**Tema da Semana:** Estruturas condicionais: if, else\n",
    "<br>"
   ]
  },
  {
   "cell_type": "markdown",
   "id": "df0e9e42",
   "metadata": {},
   "source": [
    "# Aula 4 – Comparando estruturas if, elif e else (Versão do Professor)\n",
    "Curso Técnico em Ciência de Dados – Ensino Médio Integrado\n",
    "\n",
    "Este notebook contém gabaritos, explicações e orientações pedagógicas para condução da Aula 4.\n",
    "\n",
    "**Objetivo da aula:** Consolidar o uso das estruturas condicionais `if`, `elif` e `else`, destacando diferenças estruturais e corrigindo erros lógicos."
   ]
  },
  {
   "cell_type": "markdown",
   "id": "bb607f4c",
   "metadata": {},
   "source": [
    "## Orientações para o professor\n",
    "\n",
    "- **Estratégia:** realizar comparações entre estruturas condicionais e identificar erros lógicos.\n",
    "- **Recursos:** projetar exemplos e permitir que os alunos testem diferentes valores no Jupyter Notebook.\n",
    "- **Enfoque:** promover reflexão sobre a ordem das condições e o uso correto do `elif`."
   ]
  },
  {
   "cell_type": "markdown",
   "id": "e8ada0b6",
   "metadata": {},
   "source": [
    "## Exemplo 1 – Comparação entre estruturas\n",
    "### Demonstração guiada pelo professor"
   ]
  },
  {
   "cell_type": "code",
   "execution_count": 1,
   "id": "55c1e44d",
   "metadata": {},
   "outputs": [
    {
     "name": "stdout",
     "output_type": "stream",
     "text": [
      "Adolescente\n"
     ]
    }
   ],
   "source": [
    "# Vários if independentes\n",
    "idade = 17\n",
    "\n",
    "if idade >= 18:\n",
    "    print('Adulto')\n",
    "if idade >= 12:\n",
    "    print('Adolescente')\n",
    "if idade < 12:\n",
    "    print('Criança')"
   ]
  },
  {
   "cell_type": "markdown",
   "id": "36dc3275",
   "metadata": {},
   "source": [
    "**Comentário pedagógico:** Mostre que mais de um `if` pode ser verdadeiro, resultando em saídas sobrepostas. Discuta por que isso é inadequado para classificações exclusivas."
   ]
  },
  {
   "cell_type": "code",
   "execution_count": 2,
   "id": "2f95e07c",
   "metadata": {},
   "outputs": [
    {
     "name": "stdout",
     "output_type": "stream",
     "text": [
      "Adolescente\n"
     ]
    }
   ],
   "source": [
    "# Correção com elif\n",
    "idade = 17\n",
    "\n",
    "if idade >= 18:\n",
    "    print('Adulto')\n",
    "elif idade >= 12:\n",
    "    print('Adolescente')\n",
    "else:\n",
    "    print('Criança')"
   ]
  },
  {
   "cell_type": "markdown",
   "id": "c21dc2b6",
   "metadata": {},
   "source": [
    "**Comentário pedagógico:** Explique que o uso de `elif` garante que apenas uma condição seja executada. Teste com idades 10, 15 e 20 para ilustrar."
   ]
  },
  {
   "cell_type": "markdown",
   "id": "bb4934fd",
   "metadata": {},
   "source": [
    "## Erros lógicos e correções"
   ]
  },
  {
   "cell_type": "code",
   "execution_count": 3,
   "id": "315e6799",
   "metadata": {},
   "outputs": [
    {
     "name": "stdout",
     "output_type": "stream",
     "text": [
      "Recuperação\n"
     ]
    }
   ],
   "source": [
    "# Exemplo incorreto\n",
    "nota = 8\n",
    "if nota >= 4:\n",
    "    print('Recuperação')\n",
    "elif nota >= 6:\n",
    "    print('Aprovado')\n",
    "else:\n",
    "    print('Reprovado')"
   ]
  },
  {
   "cell_type": "code",
   "execution_count": 4,
   "id": "0ad5f817",
   "metadata": {},
   "outputs": [
    {
     "name": "stdout",
     "output_type": "stream",
     "text": [
      "Aprovado\n"
     ]
    }
   ],
   "source": [
    "# Correção sugerida\n",
    "if nota >= 6:\n",
    "    print('Aprovado')\n",
    "elif nota >= 4:\n",
    "    print('Recuperação')\n",
    "else:\n",
    "    print('Reprovado')"
   ]
  },
  {
   "cell_type": "markdown",
   "id": "7a3aca80",
   "metadata": {},
   "source": [
    "**Comentário pedagógico:** Destaque que o Python avalia condições de cima para baixo. A ordem incorreta altera a saída lógica."
   ]
  },
  {
   "cell_type": "markdown",
   "id": "c049e8f6",
   "metadata": {},
   "source": [
    "## Atividades com gabaritos e explicações"
   ]
  },
  {
   "cell_type": "markdown",
   "id": "50924fa2",
   "metadata": {},
   "source": [
    "### Atividade 1 – Correção de lógica escolar"
   ]
  },
  {
   "cell_type": "code",
   "execution_count": 5,
   "id": "38bf61ee",
   "metadata": {},
   "outputs": [
    {
     "name": "stdout",
     "output_type": "stream",
     "text": [
      "Aprovado\n"
     ]
    }
   ],
   "source": [
    "nota = 8\n",
    "if nota >= 6:\n",
    "    print('Aprovado')\n",
    "elif nota >= 4:\n",
    "    print('Recuperação')\n",
    "else:\n",
    "    print('Reprovado')"
   ]
  },
  {
   "cell_type": "markdown",
   "id": "b80cb5b4",
   "metadata": {},
   "source": [
    "**Comentário pedagógico:** Oriente os alunos a testar com notas 3, 5 e 8. Discuta como a ordem das condições influencia o resultado."
   ]
  },
  {
   "cell_type": "markdown",
   "id": "f39e71b0",
   "metadata": {},
   "source": [
    "### Atividade 2 – Classificação de IMC (gabarito)"
   ]
  },
  {
   "cell_type": "code",
   "execution_count": 6,
   "id": "3b230c40",
   "metadata": {},
   "outputs": [
    {
     "name": "stdin",
     "output_type": "stream",
     "text": [
      "Informe o peso:  75\n",
      "Informe a altura:  175\n"
     ]
    },
    {
     "name": "stdout",
     "output_type": "stream",
     "text": [
      "Abaixo do peso\n"
     ]
    }
   ],
   "source": [
    "peso = float(input('Informe o peso: '))\n",
    "altura = float(input('Informe a altura: '))\n",
    "imc = peso / (altura ** 2)\n",
    "\n",
    "if imc < 18.5:\n",
    "    print('Abaixo do peso')\n",
    "elif imc < 25:\n",
    "    print('Peso normal')\n",
    "elif imc < 30:\n",
    "    print('Sobrepeso')\n",
    "else:\n",
    "    print('Obesidade')"
   ]
  },
  {
   "cell_type": "markdown",
   "id": "f6a70312",
   "metadata": {},
   "source": [
    "**Comentário pedagógico:** Use essa atividade para revisar operadores relacionais e faixas lógicas. Peça para testarem IMCs limítrofes (18.5, 25, 30)."
   ]
  },
  {
   "cell_type": "markdown",
   "id": "ba8419a5",
   "metadata": {},
   "source": [
    "### Atividade 3 – Faixa de consumo de energia (gabarito)"
   ]
  },
  {
   "cell_type": "code",
   "execution_count": 7,
   "id": "c19cc35e",
   "metadata": {},
   "outputs": [
    {
     "name": "stdin",
     "output_type": "stream",
     "text": [
      "Informe o consumo em kWh:  100\n"
     ]
    },
    {
     "name": "stdout",
     "output_type": "stream",
     "text": [
      "Baixo consumo. Valor a pagar: R$75.00\n"
     ]
    }
   ],
   "source": [
    "consumo = float(input('Informe o consumo em kWh: '))\n",
    "valor_total = consumo * 0.75\n",
    "\n",
    "if consumo < 150:\n",
    "    faixa = 'Baixo consumo'\n",
    "elif consumo <= 300:\n",
    "    faixa = 'Consumo moderado'\n",
    "elif consumo <= 500:\n",
    "    faixa = 'Consumo alto'\n",
    "else:\n",
    "    faixa = 'Consumo muito alto'\n",
    "\n",
    "print(f'{faixa}. Valor a pagar: R${valor_total:.2f}')"
   ]
  },
  {
   "cell_type": "markdown",
   "id": "08d1993f",
   "metadata": {},
   "source": [
    "**Comentário pedagógico:** Mostre como a estrutura sequencial do `elif` evita conflitos de faixa. Discuta possíveis ajustes de tarifas."
   ]
  },
  {
   "cell_type": "markdown",
   "id": "1b88fe33",
   "metadata": {},
   "source": [
    "### Atividade 4 – Sistema de notas com bônus (gabarito)"
   ]
  },
  {
   "cell_type": "code",
   "execution_count": 8,
   "id": "f4a07cff",
   "metadata": {},
   "outputs": [
    {
     "name": "stdin",
     "output_type": "stream",
     "text": [
      "Informe a primeira nota:  10\n",
      "Informe a segunda nota:  3\n",
      "Participou de atividades complementares? (s/n):  n\n"
     ]
    },
    {
     "name": "stdout",
     "output_type": "stream",
     "text": [
      "Aprovado\n"
     ]
    }
   ],
   "source": [
    "nota1 = float(input('Informe a primeira nota: '))\n",
    "nota2 = float(input('Informe a segunda nota: '))\n",
    "participou = input('Participou de atividades complementares? (s/n): ')\n",
    "\n",
    "media = (nota1 + nota2) / 2\n",
    "if participou == 's':\n",
    "    media += 1\n",
    "\n",
    "if media >= 7:\n",
    "    print('Aprovado com bônus')\n",
    "elif media >= 6:\n",
    "    print('Aprovado')\n",
    "elif media >= 4:\n",
    "    print('Recuperação')\n",
    "else:\n",
    "    print('Reprovado')"
   ]
  },
  {
   "cell_type": "markdown",
   "id": "3da153f2",
   "metadata": {},
   "source": [
    "**Comentário pedagógico:** Use para reforçar a integração de operações aritméticas e condicionais. Estimule a experimentação com e sem bônus."
   ]
  },
  {
   "cell_type": "markdown",
   "id": "7bbbbda3",
   "metadata": {},
   "source": [
    "### Atividade 5 – Diagnóstico automático de sensores (gabarito)"
   ]
  },
  {
   "cell_type": "code",
   "execution_count": 9,
   "id": "5b769af8",
   "metadata": {},
   "outputs": [
    {
     "name": "stdin",
     "output_type": "stream",
     "text": [
      "Informe a temperatura:  75\n"
     ]
    },
    {
     "name": "stdout",
     "output_type": "stream",
     "text": [
      "Alerta de aquecimento\n"
     ]
    }
   ],
   "source": [
    "temp = float(input('Informe a temperatura: '))\n",
    "\n",
    "if temp < 20:\n",
    "    print('Sistema frio')\n",
    "elif temp <= 70:\n",
    "    print('Sistema normal')\n",
    "elif temp <= 90:\n",
    "    print('Alerta de aquecimento')\n",
    "else:\n",
    "    print('Risco de superaquecimento')"
   ]
  },
  {
   "cell_type": "markdown",
   "id": "2d5fa523",
   "metadata": {},
   "source": [
    "**Comentário pedagógico:** Contextualize com exemplos industriais. Mostre que a lógica condicional é aplicada em sistemas automatizados e IoT."
   ]
  },
  {
   "cell_type": "markdown",
   "id": "a8c3c8aa",
   "metadata": {},
   "source": [
    "## Conclusão\n",
    "\n",
    "Reforce os conceitos centrais:\n",
    "- A importância da **ordem das condições**;\n",
    "- A clareza no uso de `elif` para decisões exclusivas;\n",
    "- O impacto de erros lógicos em resultados práticos.\n",
    "\n",
    "**Discussão final sugerida:**\n",
    "> Como garantir que o computador execute exatamente a lógica que imaginamos?\n",
    "\n",
    "Essa reflexão consolida o pensamento computacional e prepara os alunos para estruturas de repetição nas próximas aulas."
   ]
  }
 ],
 "metadata": {
  "kernelspec": {
   "display_name": "Python 3 (ipykernel)",
   "language": "python",
   "name": "python3"
  },
  "language_info": {
   "codemirror_mode": {
    "name": "ipython",
    "version": 3
   },
   "file_extension": ".py",
   "mimetype": "text/x-python",
   "name": "python",
   "nbconvert_exporter": "python",
   "pygments_lexer": "ipython3",
   "version": "3.12.8"
  }
 },
 "nbformat": 4,
 "nbformat_minor": 5
}
