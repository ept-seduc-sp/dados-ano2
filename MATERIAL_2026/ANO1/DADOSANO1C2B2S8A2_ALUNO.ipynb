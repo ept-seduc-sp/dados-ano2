{
 "cells": [
  {
   "cell_type": "markdown",
   "metadata": {},
   "source": [
    "<h1 style=\"text-align: center;\">TÉCNICO EM CIÊNCIA DE DADOS</h1>\n",
    "<h1 style=\"text-align: center;\">Roteiro de Atividade Prática</h1>\n",
    "<br>\n",
    "<br>\n",
    "\n",
    "**Componente:** Programação Aplicada à Ciência de Dados\n",
    "<br>\n",
    "**Unidade Curricular:** Lógica de Programação e Fundamentos de Python\n",
    "<br>\n",
    "**Tema da Semana:** Revisão geral e prática de condicionais\n",
    "<br>"
   ]
  },
  {
   "cell_type": "markdown",
   "metadata": {},
   "source": [
    "# Aula 2 - Estrutura de repetição while\n",
    "\n",
    "Nesta aula prática, vamos aprender a usar o laço `while`, uma ferramenta poderosa para criar repetições baseadas em condições. Veremos os conceitos, exemplos e resolveremos uma série de exercícios para consolidar o conhecimento."
   ]
  },
  {
   "cell_type": "markdown",
   "metadata": {},
   "source": [
    "## Colocando em Prática"
   ]
  },
  {
   "cell_type": "markdown",
   "metadata": {},
   "source": [
    "### Parte 1: Construindo o Conceito - O `while`\n",
    "\n",
    "O laço `while` é a ferramenta perfeita quando não sabemos quantas vezes uma ação precisa ser repetida. Ele funciona como um \"**`if` que se repete**\".\n",
    "\n",
    "#### A Sintaxe\n",
    "\n",
    "A sintaxe é muito parecida com a do `if`:\n",
    "```python\n",
    "while condicao:\n",
    "    # Bloco de código que se repete\n",
    "    # ENQUANTO a condição for verdadeira\n",
    "```\n",
    "- **`condicao`**: É uma expressão que resulta em `True` ou `False`, exatamente como em um `if`.\n",
    "- **Bloco de código**: É o conjunto de instruções que será executado repetidamente.\n",
    "\n",
    "#### O Ponto Mais Importante: A Condição de Parada\n",
    "\n",
    "Para que um laço `while` não se repita para sempre (um *loop infinito*), algo **dentro** do laço precisa, em algum momento, fazer com que a condição se torne `False`. Geralmente, isso envolve atualizar o valor de uma variável que está sendo testada."
   ]
  },
  {
   "cell_type": "markdown",
   "metadata": {},
   "source": [
    "### Parte 2: Exemplos Guiados\n",
    "\n",
    "Vamos ver na prática como isso funciona.\n",
    "\n",
    "#### Exemplo 1: Um Contador Simples de 1 a 5\n",
    "\n",
    "Queremos que o programa conte e imprima os números de 1 até 5. Para isso, precisamos de 3 coisas:\n",
    "1.  **Inicializar** uma variável contadora (começando em 1).\n",
    "2.  Criar um laço `while` que continue **enquanto** o contador for menor ou igual a 5.\n",
    "3.  **Atualizar** o contador a cada ciclo, somando 1 a ele."
   ]
  },
  {
   "cell_type": "code",
   "execution_count": null,
   "metadata": {},
   "outputs": [],
   "source": [
    "# 1. Inicialização\n",
    "contador = 1\n",
    "\n",
    "# 2. Condição\n",
    "while contador <= 5:\n",
    "    print(contador)\n",
    "    # 3. Atualização (essencial para não criar um loop infinito!)\n",
    "    contador = contador + 1\n",
    "\n",
    "print(\"Laço finalizado!\")"
   ]
  },
  {
   "cell_type": "markdown",
   "metadata": {},
   "source": [
    "#### Exemplo 2: O Validador de Senha\n",
    "\n",
    "Agora, o problema que discutimos: pedir uma senha até que o usuário acerte.\n",
    "\n",
    "1.  **Definir** a senha secreta.\n",
    "2.  **Pedir** ao usuário para digitar uma senha pela primeira vez.\n",
    "3.  Criar um laço `while` que continue **enquanto** a senha digitada for diferente da senha secreta.\n",
    "4.  Dentro do laço, avisar que a senha está errada e **pedir novamente**."
   ]
  },
  {
   "cell_type": "code",
   "execution_count": null,
   "metadata": {},
   "outputs": [],
   "source": [
    "senha_secreta = \"1234\"\n",
    "\n",
    "# Pedimos a senha uma vez, fora do laço\n",
    "senha_digitada = input(\"Digite a senha: \")\n",
    "\n",
    "# O laço só começa se a primeira tentativa estiver errada\n",
    "while senha_digitada != senha_secreta:\n",
    "    print(\"Senha incorreta. Tente novamente.\")\n",
    "    # Pedimos a senha novamente. Esta é a atualização da variável!\n",
    "    senha_digitada = input(\"Digite a senha: \")\n",
    "\n",
    "# Este código só será executado quando o laço terminar\n",
    "print(\"Acesso permitido!\")"
   ]
  },
  {
   "cell_type": "markdown",
   "metadata": {},
   "source": [
    "---\n",
    "### Parte 3: Exercícios Práticos\n",
    "\n",
    "Agora é a sua vez! Resolva os exercícios abaixo, focando na criação da **condição de parada** correta para cada laço `while`.\n",
    "\n",
    "**Importante:** Este é nosso primeiro contato prático com o `while`. Aprofundaremos seu uso e aplicações na **Semana 10**."
   ]
  },
  {
   "cell_type": "markdown",
   "metadata": {},
   "source": [
    "#### Exercício 1: Contagem Regressiva\n",
    "Crie um programa que faça uma contagem regressiva de 10 até 1 e, no final, exiba a mensagem \"Fogo!\"."
   ]
  },
  {
   "cell_type": "code",
   "execution_count": null,
   "metadata": {},
   "outputs": [],
   "source": [
    "# Escreva sua solução aqui\n",
    "\n"
   ]
  },
  {
   "cell_type": "markdown",
   "metadata": {},
   "source": [
    "---\n",
    "#### Exercício 2: Adivinhe o Número\n",
    "Crie um jogo simples onde o computador \"pensa\" em um número secreto (neste caso, vamos defini-lo como 42). O programa deve pedir ao usuário para adivinhar o número. Enquanto o palpite do usuário estiver errado, o programa deve dizer \"Errado, tente de novo!\" e pedir um novo palpite. Quando o usuário acertar, o programa deve exibir \"Parabéns, você acertou!\"."
   ]
  },
  {
   "cell_type": "code",
   "execution_count": null,
   "metadata": {},
   "outputs": [],
   "source": [
    "# Escreva sua solução aqui\n",
    "\n"
   ]
  },
  {
   "cell_type": "markdown",
   "metadata": {},
   "source": [
    "---\n",
    "#### Exercício 3: Menu Interativo\n",
    "Crie um programa que exibe um menu simples com as opções: 1. Ver saldo, 2. Fazer depósito, 3. Sair. O programa deve continuar exibindo o menu e pedindo uma opção ao usuário enquanto a opção digitada não for \"3\" (a opção de sair). Para as opções 1 e 2, apenas exiba uma mensagem simples como \"Exibindo saldo...\" ou \"Realizando depósito...\"."
   ]
  },
  {
   "cell_type": "code",
   "execution_count": null,
   "metadata": {},
   "outputs": [],
   "source": [
    "# Escreva sua solução aqui\n",
    "\n"
   ]
  },
  {
   "cell_type": "markdown",
   "metadata": {},
   "source": [
    "---\n",
    "#### Exercício 4 (Desafio): Somando até Parar\n",
    "Crie um programa que peça ao usuário para digitar números inteiros um após o outro. O programa deve somar todos os números digitados. A repetição deve parar quando o usuário digitar o número 0. No final, o programa deve exibir a soma total dos números inseridos (sem incluir o 0)."
   ]
  },
  {
   "cell_type": "code",
   "execution_count": null,
   "metadata": {},
   "outputs": [],
   "source": [
    "# Escreva sua solução aqui\n",
    "\n"
   ]
  }
 ],
 "metadata": {
  "kernelspec": {
   "display_name": "Python 3 (ipykernel)",
   "language": "python",
   "name": "python3"
  },
  "language_info": {
   "codemirror_mode": {
    "name": "ipython",
    "version": 3
   },
   "file_extension": ".py",
   "mimetype": "text/x-python",
   "name": "python",
   "nbconvert_exporter": "python",
   "pygments_lexer": "ipython3",
   "version": "3.12.8"
  }
 },
 "nbformat": 4,
 "nbformat_minor": 4
}
