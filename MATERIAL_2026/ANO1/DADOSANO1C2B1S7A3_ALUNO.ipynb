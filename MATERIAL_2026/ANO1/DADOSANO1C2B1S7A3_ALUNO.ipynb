{
 "cells": [
  {
   "cell_type": "markdown",
   "metadata": {},
   "source": [
    "<h1 style=\"text-align: center;\">TÉCNICO EM CIÊNCIA DE DADOS</h1>\n",
    "<h1 style=\"text-align: center;\">Roteiro de Atividade Prática</h1>\n",
    "<br>\n",
    "<br>\n",
    "\n",
    "**Componente:** Programação Aplicada à Ciência de Dados\n",
    "<br>\n",
    "**Unidade Curricular:** Lógica de Programação e Fundamentos de Python\n",
    "<br>\n",
    "**Tema da Semana:** Estruturas condicionais: if-elif-else\n",
    "<br>"
   ]
  },
  {
   "cell_type": "markdown",
   "metadata": {},
   "source": [
    "# Aula 3 - Revisão e exercícios guiados\n",
    "\n",
    "Nesta atividade prática, nosso objetivo é consolidar o conhecimento sobre estruturas condicionais. Vamos revisar os conceitos fundamentais e, em seguida, resolver uma série de desafios que nos ajudarão a aplicar a lógica de programação em diferentes contextos."
   ]
  },
  {
   "cell_type": "markdown",
   "metadata": {},
   "source": [
    "## Parte 1: Revisão de Conceitos Essenciais\n",
    "\n",
    "Antes de começar, vamos revisar três pontos fundamentais.\n",
    "\n",
    "### 1. As Estruturas Condicionais: `if`, `elif` e `else`\n",
    "\n",
    "- **`if` (Se):** Inicia uma verificação. Se a condição for `True`, o bloco de código dentro dele é executado.\n",
    "- **`elif` (Senão se):** É uma nova verificação, testada apenas se o `if` anterior (ou outro `elif`) for `False`. Podemos ter vários `elif` em sequência.\n",
    "- **`else` (Senão):** É o caminho final, executado somente se NENHUMA das condições anteriores (`if` ou `elif`) for `True`.\n",
    "\n",
    "### 2. A Importância da Indentação\n",
    "\n",
    "Em Python, a **indentação** (o espaço no início da linha, geralmente 4 espaços) não é opcional. É ela que define quais linhas de código pertencem a um bloco. Um código com indentação errada não funciona.\n",
    "\n",
    "**Exemplo:**\n",
    "```python\n",
    "# CORRETO\n",
    "idade = 20\n",
    "if idade >= 18:\n",
    "    print(\"Esta linha está DENTRO do if.\")\n",
    "    print(\"Esta também.\")\n",
    "print(\"Esta linha está FORA do if.\")\n",
    "\n",
    "# ERRADO (gerará um IndentationError)\n",
    "# if idade >= 18:\n",
    "# print(\"Falta indentação aqui!\")\n",
    "```\n",
    "\n",
    "### 3. Código Limpo e Organizado\n",
    "\n",
    "Como vimos na aula anterior, um bom código é:\n",
    "- **Legível:** Use nomes de variáveis claros (ex: `media_final` em vez de `mf`).\n",
    "- **Lógico:** Organize as condições `if-elif-else` do caso mais específico para o mais geral.\n",
    "- **Eficiente:** Evite passos desnecessários."
   ]
  },
  {
   "cell_type": "markdown",
   "metadata": {},
   "source": [
    "## Parte 2: Exercícios Práticos\n",
    "\n",
    "Agora, vamos aplicar esses conceitos. Resolva os exercícios abaixo, prestando atenção não apenas na solução, mas também na qualidade e clareza do seu código."
   ]
  },
  {
   "cell_type": "markdown",
   "metadata": {},
   "source": [
    "---\n",
    "### Exercício 1: Verificador de Temperatura\n",
    "Crie um programa que verifica se a temperatura atual é considerada \"fria\" ou \"agradável\". Defina uma variável `temperatura` com um valor numérico e use uma estrutura `if-else` para imprimir a mensagem apropriada, considerando que abaixo de 18 graus é \"frio\"."
   ]
  },
  {
   "cell_type": "code",
   "execution_count": null,
   "metadata": {},
   "outputs": [],
   "source": [
    "# Escreva sua solução aqui\n",
    "\n"
   ]
  },
  {
   "cell_type": "markdown",
   "metadata": {},
   "source": [
    "---\n",
    "### Exercício 2: Acesso por Idade\n",
    "Crie um programa que pergunta a idade do usuário e, com base no número digitado, informa se ele tem ou não idade para dirigir (considerando a idade mínima de 18 anos)."
   ]
  },
  {
   "cell_type": "code",
   "execution_count": null,
   "metadata": {},
   "outputs": [],
   "source": [
    "# Escreva sua solução aqui\n",
    "\n"
   ]
  },
  {
   "cell_type": "markdown",
   "metadata": {},
   "source": [
    "---\n",
    "### Exercício 3: Classificação de Notas\n",
    "Crie um programa que recebe a nota final de um aluno (um valor de 0 a 10) e a classifica em uma das seguintes categorias:\n",
    "- **Reprovado:** nota menor que 5.0\n",
    "- **Recuperação:** nota entre 5.0 e 6.9\n",
    "- **Aprovado:** nota 7.0 ou superior"
   ]
  },
  {
   "cell_type": "code",
   "execution_count": null,
   "metadata": {},
   "outputs": [],
   "source": [
    "# Escreva sua solução aqui\n",
    "\n"
   ]
  },
  {
   "cell_type": "markdown",
   "metadata": {},
   "source": [
    "---\n",
    "### Exercício 4: Calculadora de Desconto Simples\n",
    "Crie um programa para uma loja que pergunta o valor de uma compra. Se o valor for maior que R$ 200,00, a loja aplica um desconto de 10%. O programa deve calcular e exibir o valor final que o cliente deve pagar."
   ]
  },
  {
   "cell_type": "code",
   "execution_count": null,
   "metadata": {},
   "outputs": [],
   "source": [
    "# Escreva sua solução aqui\n",
    "\n"
   ]
  },
  {
   "cell_type": "markdown",
   "metadata": {},
   "source": [
    "---\n",
    "### Exercício 5: Validador de Login\n",
    "Crie um programa que simula uma tela de login. Peça ao usuário um nome de usuário e uma senha. O acesso só será concedido se o nome de usuário for \"admin\" E a senha for \"1234\". Caso contrário, o programa deve exibir uma mensagem de \"Acesso negado\"."
   ]
  },
  {
   "cell_type": "code",
   "execution_count": null,
   "metadata": {},
   "outputs": [],
   "source": [
    "# Escreva sua solução aqui\n",
    "\n"
   ]
  },
  {
   "cell_type": "markdown",
   "metadata": {},
   "source": [
    "---\n",
    "### Exercício 6: Bônus para Funcionários\n",
    "Uma empresa decide dar um bônus aos seus funcionários. O critério é: o funcionário deve ter mais de 3 anos de casa OU ter uma avaliação de desempenho acima de 8.5. Crie um programa que pergunta o tempo de casa (em anos) e a nota de avaliação de um funcionário, e informa se ele está elegível para o bônus."
   ]
  },
  {
   "cell_type": "code",
   "execution_count": null,
   "metadata": {},
   "outputs": [],
   "source": [
    "# Escreva sua solução aqui\n",
    "\n"
   ]
  },
  {
   "cell_type": "markdown",
   "metadata": {},
   "source": [
    "---\n",
    "### Exercício 7 (Desafio): Análise de Crédito Simplificada\n",
    "Crie um programa que simula uma análise de crédito para um empréstimo. O programa deve solicitar três informações:\n",
    "1.  A renda mensal do solicitante.\n",
    "2.  A idade do solicitante.\n",
    "3.  O valor do empréstimo desejado.\n",
    "\n",
    "O empréstimo será **aprovado** apenas se TODAS as seguintes condições forem verdadeiras:\n",
    "- A renda mensal for de pelo menos R$ 3.000,00.\n",
    "- A idade for entre 21 e 65 anos.\n",
    "- O valor do empréstimo for no máximo 10 vezes a renda mensal.\n",
    "\n",
    "Caso contrário, o empréstimo será **negado**. O programa deve informar ao usuário o resultado da análise."
   ]
  },
  {
   "cell_type": "code",
   "execution_count": null,
   "metadata": {},
   "outputs": [],
   "source": [
    "# Escreva sua solução aqui\n",
    "\n"
   ]
  }
 ],
 "metadata": {
  "kernelspec": {
   "display_name": "Python 3 (ipykernel)",
   "language": "python",
   "name": "python3"
  },
  "language_info": {
   "codemirror_mode": {
    "name": "ipython",
    "version": 3
   },
   "file_extension": ".py",
   "mimetype": "text/x-python",
   "name": "python",
   "nbconvert_exporter": "python",
   "pygments_lexer": "ipython3",
   "version": "3.12.8"
  }
 },
 "nbformat": 4,
 "nbformat_minor": 4
}
