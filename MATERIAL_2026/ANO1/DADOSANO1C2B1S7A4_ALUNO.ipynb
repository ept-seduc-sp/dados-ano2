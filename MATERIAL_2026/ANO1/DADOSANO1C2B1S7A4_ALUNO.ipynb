{
 "cells": [
  {
   "cell_type": "markdown",
   "metadata": {},
   "source": [
    "<h1 style=\"text-align: center;\">TÉCNICO EM CIÊNCIA DE DADOS</h1>\n",
    "<h1 style=\"text-align: center;\">Roteiro de Atividade Prática</h1>\n",
    "<br>\n",
    "<br>\n",
    "\n",
    "**Componente:** Programação Aplicada à Ciência de Dados\n",
    "<br>\n",
    "**Unidade Curricular:** Lógica de Programação e Fundamentos de Python\n",
    "<br>\n",
    "**Tema da Semana:** Estruturas condicionais: if-elif-else\n",
    "<br>"
   ]
  },
  {
   "cell_type": "markdown",
   "metadata": {},
   "source": [
    "# Aula 4 - Correção e otimização de códigos com condicionais\n",
    "\n",
    "Bem-vindo(a) à nossa missão de hoje: ser um \"detetive de código\"! No mundo real da programação, passamos muito tempo analisando, corrigindo e melhorando códigos que já existem.\n",
    "\n",
    "Nesta atividade, vamos aprender a:\n",
    "1.  Identificar os tipos mais comuns de erros em programas.\n",
    "2.  Corrigir códigos que não funcionam como esperado.\n",
    "3.  Otimizar (refatorar) códigos para que fiquem mais limpos e eficientes."
   ]
  },
  {
   "cell_type": "markdown",
   "metadata": {},
   "source": [
    "## Parte 1: Os tipos de \"bugs\" que encontramos\n",
    "\n",
    "Um \"bug\" é um erro em um programa. Para sermos bons detetives, precisamos conhecer os suspeitos.\n",
    "\n",
    "### 1. Erros de Sintaxe (Syntax Errors)\n",
    "São os mais fáceis de encontrar, pois o próprio Python nos avisa. Acontecem quando escrevemos algo que quebra as regras da linguagem.\n",
    "- **Exemplos:** Esquecer os dois-pontos (`:`) no final de um `if`, usar `=` em vez de `==` para comparar, ou errar a indentação.\n",
    "\n",
    "### 2. Erros de Lógica (Logic Errors)\n",
    "São os mais perigosos! O código roda sem apresentar erros, mas o resultado final está errado.\n",
    "- **Exemplos:** A ordem do `if-elif-else` está incorreta, um operador relacional está trocado (`<` em vez de `<=`), ou a fórmula de um cálculo está errada.\n",
    "\n",
    "### 3. Código Ineficiente ou \"Sujo\"\n",
    "O código funciona e o resultado está certo, mas ele é confuso, repetitivo ou mais complexo do que o necessário.\n",
    "- **Exemplos:** `if`s aninhados que poderiam ser um simples `elif`, nomes de variáveis confusos (como `x`, `y`, `z`), ou verificações desnecessárias. O objetivo aqui é **refatorar**: reescrever para melhorar a clareza e a eficiência."
   ]
  },
  {
   "cell_type": "markdown",
   "metadata": {},
   "source": [
    "## Parte 2: Mão na Massa Guiada - Investigando Casos\n",
    "\n",
    "Vamos investigar juntos alguns códigos que apresentam problemas, do mais simples ao mais complexo.\n",
    "\n",
    "### Caso 1: O Classificador de Faixa de Jogo\n",
    "**Regras:**\n",
    "- Pontuação menor que 1000: Faixa \"Bronze\"\n",
    "- Pontuação entre 1000 e 3000: Faixa \"Prata\"\n",
    "- Pontuação maior que 3000: Faixa \"Ouro\"\n",
    "\n",
    "**Código suspeito:**\n",
    "```python\n",
    "pontos = 3500\n",
    "if pontos > 1000:\n",
    "    faixa = \"Prata\"\n",
    "elif pontos > 3000:\n",
    "    faixa = \"Ouro\"\n",
    "else:\n",
    "    faixa = \"Bronze\"\n",
    "print(f\"Com {pontos} pontos, sua faixa é: {faixa}\")\n",
    "```\n",
    "**Análise Rápida:** O código roda, mas para 3500 pontos o resultado é \"Prata\", o que é um **erro de lógica** causado pela ordem incorreta das condições."
   ]
  },
  {
   "cell_type": "markdown",
   "metadata": {},
   "source": [
    "### Caso 2: O Cinema com Preços Confusos\n",
    "Este é um caso mais complexo, com vários problemas. Vamos resolvê-lo passo a passo.\n",
    "\n",
    "**Regras do Cinema:**\n",
    "- Menores de 12 anos pagam meia-entrada (R\\$ 15).\n",
    "- Maiores de 60 anos pagam meia-entrada (R\\$ 15).\n",
    "- Estudantes (qualquer idade) pagam meia-entrada (R\\$ 15).\n",
    "- Os demais pagam inteira (R\\$ 30).\n",
    "\n",
    "**Código Suspeito:**\n",
    "```python\n",
    "i = 65 # idade\n",
    "e = False # é estudante?\n",
    "v = 30 # valor do ingresso\n",
    "\n",
    "if i < 12\n",
    "    v = 15\n",
    "\n",
    "elif e == True:\n",
    "    v = 15\n",
    "elif i > 60:\n",
    "    v = 15\n",
    "\n",
    "print(f\"Valor do ingresso: R$ {v}\")\n",
    "```\n",
    "\n",
    "**Passo 1: Corrigindo o Erro de Sintaxe**\n",
    "Ao tentar rodar o código, o Python acusa um `SyntaxError`. Olhando com atenção, vemos que **faltam os dois-pontos (`:`)** no final da primeira linha do `if`.\n",
    "\n",
    "**Código com sintaxe corrigida:**\n",
    "```python\n",
    "i = 65\n",
    "e = False\n",
    "v = 30\n",
    "\n",
    "if i < 12: # Dois-pontos adicionados\n",
    "    v = 15\n",
    "elif e == True:\n",
    "    v = 15\n",
    "elif i > 60:\n",
    "    v = 15\n",
    "\n",
    "print(f\"Valor do ingresso: R$ {v}\")\n",
    "```\n",
    "\n",
    "**Passo 2: Investigando o Erro de Lógica**\n",
    "Agora o código roda. Mas vamos testar um caso: uma pessoa de 65 anos. Ela deveria pagar R\\$ 15, e o código parece funcionar. E se testarmos uma pessoa de 18 anos que **é estudante** (`i = 18`, `e = True`)? O valor continua R\\$ 30! Encontramos um **erro de lógica**. O programa não está considerando os estudantes corretamente em todas as situações. Além disso, o preço para quem não tem desconto nunca é explicitamente definido, ele apenas usa o valor inicial da variável `v`.\n",
    "\n",
    "**Passo 3: A Solução Final (Corrigida e Refatorada)**\n",
    "Agora vamos reescrever o código, corrigindo a lógica e aplicando boas práticas (nomes de variáveis claros, `else` para o caso padrão, sem `== True`).\n",
    "\n",
    "```python\n",
    "idade = 18\n",
    "eh_estudante = True\n",
    "\n",
    "# A lógica foi reescrita para ser mais clara.\n",
    "# Usamos 'or' para agrupar todas as condições de meia-entrada.\n",
    "if idade < 12 or idade > 60 or eh_estudante:\n",
    "    valor_ingresso = 15\n",
    "# O 'else' agora cobre todos os outros casos (quem paga inteira).\n",
    "else:\n",
    "    valor_ingresso = 30\n",
    "\n",
    "print(f\"Valor do ingresso: R$ {valor_ingresso}\")\n",
    "```"
   ]
  },
  {
   "cell_type": "markdown",
   "metadata": {},
   "source": [
    "## Parte 3: Desafios para Você Resolver\n",
    "\n",
    "Agora é sua vez de ser o detetive. Analise os códigos abaixo, encontre os problemas e apresente a solução corrigida."
   ]
  },
  {
   "cell_type": "markdown",
   "metadata": {},
   "source": [
    "---\n",
    "### Desafio 1: O Caso dos Dois-Pontos Faltantes (Erro de Sintaxe)\n",
    "O código abaixo deveria verificar se um número é par ou ímpar, mas ele nem sequer roda.\n",
    "\n",
    "**Sua Missão:**\n",
    "1.  Encontre o erro de sintaxe que está impedindo o programa de executar.\n",
    "2.  Corrigja o código para que ele funcione corretamente."
   ]
  },
  {
   "cell_type": "code",
   "execution_count": null,
   "metadata": {},
   "outputs": [],
   "source": [
    "# Código com erro de sintaxe\n",
    "numero = 10\n",
    "\n",
    "if numero % 2 == 0\n",
    "    print(\"O número é par.\")\n",
    "else:\n",
    "    print(\"O número é ímpar.\")"
   ]
  },
  {
   "cell_type": "code",
   "execution_count": null,
   "metadata": {},
   "outputs": [],
   "source": [
    "# Escreva sua solução aqui\n",
    "\n"
   ]
  },
  {
   "cell_type": "markdown",
   "metadata": {},
   "source": [
    "---\n",
    "### Desafio 2: O Caso do Bônus Injusto (Erro de Lógica)\n",
    "Uma empresa oferece um bônus com base no tempo de serviço de um funcionário:\n",
    "- Mais de 10 anos: Bônus de 20%\n",
    "- Mais de 5 anos: Bônus de 10%\n",
    "- 5 anos ou menos: Sem bônus\n",
    "\n",
    "O código abaixo foi criado, mas está dando 10% de bônus para um funcionário com 12 anos de casa.\n",
    "\n",
    "**Sua Missão:**\n",
    "1.  Identifique o erro de lógica na estrutura `if-elif-else`.\n",
    "2.  Reordene as condições para que o cálculo do bônus seja feito corretamente."
   ]
  },
  {
   "cell_type": "code",
   "execution_count": null,
   "metadata": {},
   "outputs": [],
   "source": [
    "# Código com erro de lógica\n",
    "anos_de_servico = 12\n",
    "salario = 3000\n",
    "bonus = 0\n",
    "\n",
    "if anos_de_servico > 5:\n",
    "    bonus = salario * 0.10\n",
    "elif anos_de_servico > 10:\n",
    "    bonus = salario * 0.20\n",
    "\n",
    "print(f\"Seu bônus é de R$ {bonus}\")"
   ]
  },
  {
   "cell_type": "code",
   "execution_count": null,
   "metadata": {},
   "outputs": [],
   "source": [
    "# Escreva sua solução aqui\n",
    "\n"
   ]
  },
  {
   "cell_type": "markdown",
   "metadata": {},
   "source": [
    "---\n",
    "### Desafio 3: O Caso do Código Aninhado (Refatoração)\n",
    "O código abaixo verifica se uma pessoa pode entrar em um evento. As regras são: ter 18 anos ou mais E ter um ingresso. O código funciona, mas está muito confuso com `if`s um dentro do outro.\n",
    "\n",
    "**Sua Missão:**\n",
    "1.  Reescreva (refatore) este código usando apenas um `if` com o operador lógico `and`.\n",
    "2.  Garanta que o código refatorado seja mais limpo, mais curto e faça exatamente a mesma coisa."
   ]
  },
  {
   "cell_type": "code",
   "execution_count": null,
   "metadata": {},
   "outputs": [],
   "source": [
    "# Código para refatorar\n",
    "idade = 25\n",
    "tem_ingresso = True\n",
    "\n",
    "if idade >= 18:\n",
    "    if tem_ingresso == True:\n",
    "        print(\"Entrada permitida.\")\n",
    "    else:\n",
    "        print(\"Entrada negada. Falta o ingresso.\")\n",
    "else:\n",
    "    print(\"Entrada negada. Evento para maiores de 18 anos.\")"
   ]
  },
  {
   "cell_type": "code",
   "execution_count": null,
   "metadata": {},
   "outputs": [],
   "source": [
    "# Escreva sua solução aqui\n",
    "\n"
   ]
  },
  {
   "cell_type": "markdown",
   "metadata": {},
   "source": [
    "---\n",
    "### Desafio 4 (Final): O Caso com Múltiplos Problemas\n",
    "Este programa final tem de tudo um pouco: nomes de variáveis ruins, um erro de lógica e poderia ser mais eficiente. Ele deveria calcular o custo de um frete baseado no peso de um pacote:\n",
    "- Até 1 kg: R\\$ 10.00\n",
    "- Entre 1 kg e 5 kg: R\\$ 25.00\n",
    "- Acima de 5 kg: R\\$ 50.00\n",
    "\n",
    "**Sua Missão:**\n",
    "1.  Renomeie as variáveis `p`, `v`, `f` para nomes claros e significativos.\n",
    "2.  Encontre e corrija o erro de lógica que faz com que pacotes com mais de 5kg tenham o frete errado.\n",
    "3.  Otimize o código, se possível."
   ]
  },
  {
   "cell_type": "code",
   "execution_count": null,
   "metadata": {},
   "outputs": [],
   "source": [
    "# Código com múltiplos problemas\n",
    "p = 10 # peso do pacote\n",
    "v = 0 # valor da compra para exemplo\n",
    "f = 0 # frete\n",
    "\n",
    "if p <= 1:\n",
    "    f = 10\n",
    "elif p > 1:\n",
    "    f = 25\n",
    "elif p > 5:\n",
    "    f = 50\n",
    "\n",
    "print(f\"O frete para um pacote de {p}kg é R$ {f:.2f}\")"
   ]
  },
  {
   "cell_type": "code",
   "execution_count": null,
   "metadata": {},
   "outputs": [],
   "source": [
    "# Escreva sua solução aqui\n",
    "\n"
   ]
  }
 ],
 "metadata": {
  "kernelspec": {
   "display_name": "Python 3 (ipykernel)",
   "language": "python",
   "name": "python3"
  },
  "language_info": {
   "codemirror_mode": {
    "name": "ipython",
    "version": 3
   },
   "file_extension": ".py",
   "mimetype": "text/x-python",
   "name": "python",
   "nbconvert_exporter": "python",
   "pygments_lexer": "ipython3",
   "version": "3.12.8"
  }
 },
 "nbformat": 4,
 "nbformat_minor": 4
}
