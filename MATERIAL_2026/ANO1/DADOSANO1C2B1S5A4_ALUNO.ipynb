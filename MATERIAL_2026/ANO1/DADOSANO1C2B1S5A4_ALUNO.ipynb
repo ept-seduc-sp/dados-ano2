{
 "cells": [
  {
   "cell_type": "markdown",
   "id": "c073f786-038c-4bdb-8e17-4d4abda104d0",
   "metadata": {},
   "source": [
    "\n",
    "<h1 style=\"text-align: center;\">TÉCNICO EM CIÊNCIA DE DADOS</h1>\n",
    "<h1 style=\"text-align: center;\">Roteiro de Atividade Prática</h1>\n",
    "<br>\n",
    "<br>\n",
    "\n",
    "**Componente:** Programação Aplicada à Ciência de Dados \n",
    "<br>\n",
    "**Unidade Curricular:** Lógica de Programação e Fundamentos de Python\n",
    "<br>\n",
    "**Tema da Semana:** Operadores Lógicos\n",
    "<br>"
   ]
  },
  {
   "cell_type": "markdown",
   "id": "7d9872da",
   "metadata": {},
   "source": [
    "\n",
    "# Aula 4\n",
    "Nesta aula, vamos revisar os **operadores aritméticos, relacionais e lógicos**  \n",
    "e aplicar em **situações contextualizadas**, resolvendo problemas reais **sem usar estruturas condicionais (assunto da próxima semana)**.\n",
    "\n",
    "---\n",
    "\n",
    "## Revisão rápida\n"
   ]
  },
  {
   "cell_type": "code",
   "execution_count": null,
   "id": "b3f3635b",
   "metadata": {},
   "outputs": [],
   "source": [
    "\n",
    "# Operadores aritméticos\n",
    "print(\"Soma:\", 10 + 5)\n",
    "print(\"Subtração:\", 10 - 3)\n",
    "print(\"Multiplicação:\", 4 * 2)\n",
    "print(\"Divisão inteira:\", 7 // 3)\n",
    "print(\"Resto da divisão:\", 12 % 5)\n"
   ]
  },
  {
   "cell_type": "code",
   "execution_count": null,
   "id": "83280a57",
   "metadata": {},
   "outputs": [],
   "source": [
    "\n",
    "# Operadores relacionais\n",
    "print(\"5 > 3:\", 5 > 3)\n",
    "print(\"7 == 2:\", 7 == 2)\n",
    "print(\"8 != 4:\", 8 != 4)\n"
   ]
  },
  {
   "cell_type": "code",
   "execution_count": null,
   "id": "4703ffef",
   "metadata": {},
   "outputs": [],
   "source": [
    "\n",
    "# Operadores lógicos\n",
    "print(\"(5 > 3) and (10 < 20):\", (5 > 3) and (10 < 20))\n",
    "print(\"not(7 == 5):\", not(7 == 5))\n"
   ]
  },
  {
   "cell_type": "markdown",
   "id": "7efa3e76",
   "metadata": {},
   "source": [
    "\n",
    "### Exercício 1 – Notas e aprovação 🎓  \n",
    "Na escola, para ser aprovado um aluno precisa ter:  \n",
    "- **média maior ou igual a 6**,  \n",
    "- **e frequência maior ou igual a 75%**.  \n",
    "\n",
    "Peça a média e a frequência do aluno e use **apenas operadores relacionais e lógicos**  \n",
    "para verificar se ele está aprovado (`True` ou `False`).\n"
   ]
  },
  {
   "cell_type": "code",
   "execution_count": null,
   "id": "02dc2401",
   "metadata": {},
   "outputs": [],
   "source": [
    "# FAÇA SEU CÓDIGO AQUI"
   ]
  },
  {
   "cell_type": "markdown",
   "id": "5f477797",
   "metadata": {},
   "source": [
    "\n",
    "### Exercício 2 – Promoção no cinema 🎬  \n",
    "Um cinema oferece desconto se o cliente tiver:  \n",
    "- **idade menor que 12**,  \n",
    "- **ou idade maior ou igual a 60**.  \n",
    "\n",
    "Peça a idade e use operadores relacionais e lógicos para verificar se tem desconto.\n"
   ]
  },
  {
   "cell_type": "code",
   "execution_count": null,
   "id": "0025a309",
   "metadata": {},
   "outputs": [],
   "source": [
    "# FAÇA SEU CÓDIGO AQUI"
   ]
  },
  {
   "cell_type": "markdown",
   "id": "00fc87bc",
   "metadata": {},
   "source": [
    "\n",
    "### Exercício 3 – Campeonato esportivo ⚽  \n",
    "Um jogador pode participar se:  \n",
    "- tiver **idade entre 16 e 18 anos (inclusive)**  \n",
    "- **e** tiver atestado médico.  \n",
    "\n",
    "Use operadores relacionais e lógicos para verificar se pode participar (`True` ou `False`).\n"
   ]
  },
  {
   "cell_type": "code",
   "execution_count": null,
   "id": "03e9856d",
   "metadata": {},
   "outputs": [],
   "source": [
    "# FAÇA SEU CÓDIGO AQUI"
   ]
  },
  {
   "cell_type": "markdown",
   "id": "16870ca7",
   "metadata": {},
   "source": [
    "\n",
    "### Exercício 4 – Loja online 🛒  \n",
    "Uma loja oferece **frete grátis** se:  \n",
    "- o valor da compra for maior ou igual a 200 reais  \n",
    "- **ou** se o cliente for assinante premium.  \n",
    "\n",
    "Use operadores aritméticos, relacionais e lógicos para resolver.\n"
   ]
  },
  {
   "cell_type": "code",
   "execution_count": null,
   "id": "ba74a9f6",
   "metadata": {},
   "outputs": [],
   "source": [
    "# FAÇA SEU CÓDIGO AQUI"
   ]
  },
  {
   "cell_type": "markdown",
   "id": "a37817dd",
   "metadata": {},
   "source": [
    "\n",
    "### Exercício 5 – Videogame à noite 🎮  \n",
    "Um estudante só pode jogar videogame à noite se:  \n",
    "- **terminou a lição de casa**,  \n",
    "- **e** (não precisa acordar cedo no dia seguinte **ou** hoje é sexta-feira).  \n",
    "\n",
    "Use apenas operadores lógicos para verificar (`True` ou `False`).\n"
   ]
  },
  {
   "cell_type": "code",
   "execution_count": null,
   "id": "56fb39ad",
   "metadata": {},
   "outputs": [],
   "source": [
    "# FAÇA SEU CÓDIGO AQUI"
   ]
  },
  {
   "cell_type": "markdown",
   "id": "1603ec6d",
   "metadata": {},
   "source": [
    "\n",
    "### Exercício 6 – Bilhete de ônibus 🚌  \n",
    "O valor da passagem é R$ 4,40.  \n",
    "- Estudantes pagam metade.  \n",
    "- Idosos (60 anos ou mais) não pagam.  \n",
    "\n",
    "Leia idade e se é estudante (s/n).  \n",
    "Use operadores relacionais, aritméticos e lógicos para calcular o valor.\n"
   ]
  },
  {
   "cell_type": "code",
   "execution_count": null,
   "id": "5c3e22a7",
   "metadata": {},
   "outputs": [],
   "source": [
    "# FAÇA SEU CÓDIGO AQUI"
   ]
  },
  {
   "cell_type": "markdown",
   "id": "79688daf",
   "metadata": {},
   "source": [
    "\n",
    "### Exercício 7 – Média das provas 📘  \n",
    "Um aluno fez duas provas.  \n",
    "Calcule a média e use operadores relacionais e lógicos para verificar:  \n",
    "- Se a média é maior ou igual a 6 → `True`  \n",
    "- Caso contrário → `False`  \n",
    "\n",
    "Não use if/else, apenas operações.\n"
   ]
  },
  {
   "cell_type": "code",
   "execution_count": null,
   "id": "8364dd01",
   "metadata": {},
   "outputs": [],
   "source": [
    "# FAÇA SEU CÓDIGO AQUI"
   ]
  }
 ],
 "metadata": {
  "kernelspec": {
   "display_name": "Python 3 (ipykernel)",
   "language": "python",
   "name": "python3"
  },
  "language_info": {
   "codemirror_mode": {
    "name": "ipython",
    "version": 3
   },
   "file_extension": ".py",
   "mimetype": "text/x-python",
   "name": "python",
   "nbconvert_exporter": "python",
   "pygments_lexer": "ipython3",
   "version": "3.12.8"
  }
 },
 "nbformat": 4,
 "nbformat_minor": 5
}
