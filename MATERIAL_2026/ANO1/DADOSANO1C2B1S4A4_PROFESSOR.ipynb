{
 "cells": [
  {
   "cell_type": "markdown",
   "id": "9482aafa-0d89-4157-a840-2cd3fdc094f1",
   "metadata": {},
   "source": [
    "\n",
    "<h1 style=\"text-align: center;\">TÉCNICO EM CIÊNCIA DE DADOS</h1>\n",
    "<h1 style=\"text-align: center;\">GABARITO PROFESSOR</h1>\n",
    "<br>\n",
    "<br>\n",
    "\n",
    "**Componente:** Programação Aplicada à Ciência de Dados \n",
    "<br>\n",
    "**Unidade Curricular:** Lógica de Programação e Fundamentos de Python\n",
    "<br>\n",
    "**Tema da Semana:** Operadores aritméticos e relacionais\n",
    "<br>"
   ]
  },
  {
   "cell_type": "markdown",
   "id": "52add307",
   "metadata": {},
   "source": [
    "# Aula 4 – Operadores e expressões compostas em prática\n",
    "\n",
    "Hoje vamos revisar e consolidar o que aprendemos sobre:\n",
    "\n",
    "- Operadores aritméticos e relacionais\n",
    "- Expressões compostas\n",
    "- Precedência de operadores\n",
    "- Operadores encadeados (ex: 5 < x < 10)\n",
    "\n",
    "Nosso objetivo é praticar a construção e interpretação de **expressões lógicas e matemáticas** em Python.\n",
    "\n",
    "Vamos colocar tudo em prática! "
   ]
  },
  {
   "cell_type": "code",
   "execution_count": 1,
   "id": "7d820ca3",
   "metadata": {},
   "outputs": [
    {
     "name": "stdout",
     "output_type": "stream",
     "text": [
      "True\n",
      "False\n",
      "True\n",
      "False\n"
     ]
    }
   ],
   "source": [
    "# O que cada expressão abaixo retorna? (True ou False?)\n",
    "# Escreva sua previsão antes de executar.\n",
    "\n",
    "a = 10\n",
    "b = 5\n",
    "c = 2\n",
    "\n",
    "# A\n",
    "print(a > b + c)\n",
    "\n",
    "# B\n",
    "print(b * 2 == a - c)\n",
    "\n",
    "# C\n",
    "print(a / c < b + 1)\n",
    "\n",
    "# D\n",
    "print(a - b * c != 0)\n",
    "# Gabarito:\n",
    "# A: 10 > (5 + 2) → 10 > 7 → True\n",
    "# B: 5 * 2 = 10; 10 - 2 = 8 → 10 == 8 → False\n",
    "# C: 10 / 2 = 5; 5 < 6 → True\n",
    "# D: 5 * 2 = 10; 10 - 10 = 0 → 0 != 0 → False\n"
   ]
  },
  {
   "cell_type": "code",
   "execution_count": 2,
   "id": "e2c560d2",
   "metadata": {},
   "outputs": [
    {
     "name": "stdout",
     "output_type": "stream",
     "text": [
      "True\n",
      "False\n",
      "True\n",
      "True\n",
      "False\n"
     ]
    }
   ],
   "source": [
    "# Python permite escrever comparações encadeadas:\n",
    "# Exemplo: 5 < x < 10 (verifica se x está entre 5 e 10)\n",
    "\n",
    "x = 7\n",
    "print(5 < x < 10)  # True\n",
    "\n",
    "# Experimente com outros valores de x:\n",
    "x = 12\n",
    "print(5 < x < 10)  # False\n",
    "\n",
    "# Agora é com você: preveja e teste\n",
    "\n",
    "# Desafio 1\n",
    "x = 4\n",
    "print(2 < x <= 4)\n",
    "\n",
    "# Desafio 2\n",
    "y = 15\n",
    "print(10 <= y < 20)\n",
    "\n",
    "# Desafio 3\n",
    "z = 5\n",
    "print(3 < z < 4)\n",
    "# Gabarito:\n",
    "# Desafio 1: x = 4 → 2 < 4 <= 4 → True\n",
    "# Desafio 2: y = 15 → 10 <= 15 < 20 → True\n",
    "# Desafio 3: z = 5 → 3 < 5 < 4 → False\n"
   ]
  },
  {
   "cell_type": "code",
   "execution_count": 3,
   "id": "f97a67de",
   "metadata": {},
   "outputs": [
    {
     "name": "stdout",
     "output_type": "stream",
     "text": [
      "True\n",
      "True\n",
      "True\n"
     ]
    }
   ],
   "source": [
    "# Complete as expressões abaixo com operadores para que o resultado seja True\n",
    "\n",
    "# Use +, -, *, /, ==, !=, >, <, >=, <=\n",
    "\n",
    "# A\n",
    "print(3 + 1 == 4)  # True\n",
    "\n",
    "# B\n",
    "print(4 * 2 == 7 + 1)  # True\n",
    "\n",
    "# C\n",
    "print(10 - 3 == 2 + 5)  # True\n",
    "# Gabarito:\n",
    "# A: 3 + 1 == 4 → True\n",
    "# B: 4 * 2 == 8; 7 + 1 == 8 → True\n",
    "# C: 10 - 3 = 7; 2 + 5 = 7 → 7 == 7 → True\n"
   ]
  },
  {
   "cell_type": "code",
   "execution_count": 4,
   "id": "8f322e0d",
   "metadata": {},
   "outputs": [
    {
     "name": "stdout",
     "output_type": "stream",
     "text": [
      "True\n",
      "False\n",
      "True\n",
      "True\n"
     ]
    }
   ],
   "source": [
    "# Interprete as situações abaixo e transforme em expressões em Python\n",
    "\n",
    "# Situação 1:\n",
    "# Um ingresso só pode ser comprado se a idade for entre 12 e 17 anos (inclusive).\n",
    "idade = 15\n",
    "print(12 <= idade <= 17)  # True\n",
    "\n",
    "# Situação 2:\n",
    "# Um estudante passou se a nota for maior ou igual a 6.\n",
    "nota = 5.8\n",
    "print(nota >= 6)  # False\n",
    "\n",
    "# Situação 3:\n",
    "# Uma promoção é válida apenas se o valor estiver entre 100 e 200 reais.\n",
    "valor = 150\n",
    "print(100 <= valor <= 200)  # True\n",
    "\n",
    "# Agora escreva uma expressão para a seguinte situação:\n",
    "# Um aluno tem que ter mais de 13 anos e menos de 18 anos para participar de um grupo.\n",
    "idade = 14\n",
    "print(13 < idade < 18)\n",
    "# Gabarito:\n",
    "# idade = 14 → 13 < 14 < 18 → True\n"
   ]
  },
  {
   "cell_type": "code",
   "execution_count": 5,
   "id": "7d6d2e58",
   "metadata": {},
   "outputs": [
    {
     "name": "stdout",
     "output_type": "stream",
     "text": [
      "True\n",
      "\n",
      "\n",
      "\n",
      "True\n",
      "True\n",
      "True\n"
     ]
    }
   ],
   "source": [
    "# Crie 3 expressões compostas envolvendo:\n",
    "# - Operadores aritméticos\n",
    "# - Operadores relacionais\n",
    "# - (Se quiser) operadores encadeados\n",
    "\n",
    "# Para cada uma:\n",
    "# 1. Escreva o valor das variáveis\n",
    "# 2. Escreva a expressão\n",
    "# 3. Preveja o resultado\n",
    "# 4. Teste no Python\n",
    "\n",
    "# Exemplo:\n",
    "a = 8\n",
    "b = 3\n",
    "# Previsão: True\n",
    "print(a - b == 5)\n",
    "\n",
    "# Agora você cria:\n",
    "\n",
    "# Expressão 1:\n",
    "print()\n",
    "\n",
    "# Expressão 2:\n",
    "print()\n",
    "\n",
    "# Expressão 3:\n",
    "print()\n",
    "# Gabarito sugerido:\n",
    "# Expressão 1:\n",
    "x = 5\n",
    "print(2 * x == 10)  # True\n",
    "\n",
    "# Expressão 2:\n",
    "nota = 7\n",
    "print(nota + 1 > 7)  # True\n",
    "\n",
    "# Expressão 3:\n",
    "idade = 16\n",
    "print(13 < idade <= 18)  # True\n"
   ]
  }
 ],
 "metadata": {
  "kernelspec": {
   "display_name": "Python 3 (ipykernel)",
   "language": "python",
   "name": "python3"
  },
  "language_info": {
   "codemirror_mode": {
    "name": "ipython",
    "version": 3
   },
   "file_extension": ".py",
   "mimetype": "text/x-python",
   "name": "python",
   "nbconvert_exporter": "python",
   "pygments_lexer": "ipython3",
   "version": "3.12.8"
  }
 },
 "nbformat": 4,
 "nbformat_minor": 5
}
