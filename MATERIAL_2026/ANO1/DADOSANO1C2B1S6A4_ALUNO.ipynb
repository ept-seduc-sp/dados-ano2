{
 "cells": [
  {
   "cell_type": "markdown",
   "id": "5ab154d6-83c3-4b88-9e61-7776a6bac2f6",
   "metadata": {},
   "source": [
    "\n",
    "<h1 style=\"text-align: center;\">TÉCNICO EM CIÊNCIA DE DADOS</h1>\n",
    "<h1 style=\"text-align: center;\">Roteiro de Atividade Prática</h1>\n",
    "<br>\n",
    "<br>\n",
    "\n",
    "**Componente:** Programação Aplicada à Ciência de Dados \n",
    "<br>\n",
    "**Unidade Curricular:** Lógica de Programação e Fundamentos de Python\n",
    "<br>\n",
    "**Tema da Semana:** Estruturas condicionais: if, else\n",
    "<br>"
   ]
  },
  {
   "cell_type": "markdown",
   "id": "127eae1a",
   "metadata": {},
   "source": [
    "# Aula 4 – Comparando estruturas if, elif e else\n",
    "\n",
    "Nesta aula, vamos comparar as estruturas condicionais `if`, `elif` e `else`, analisando como elas funcionam em conjunto e como a ordem das condições pode mudar completamente o resultado de um programa.\n",
    "\n",
    "Você também aprenderá a identificar e corrigir erros lógicos comuns em códigos que utilizam essas estruturas."
   ]
  },
  {
   "cell_type": "markdown",
   "id": "8d0b3734",
   "metadata": {},
   "source": [
    "## Relembrando o que já aprendemos\n",
    "\n",
    "O comando `if` executa um bloco de código **se uma condição for verdadeira**.  \n",
    "O `else` define o que deve acontecer **quando essa condição é falsa**.  \n",
    "E o `elif` permite **analisar várias condições diferentes**, evitando repetições.\n",
    "\n",
    "📘 Exemplo:"
   ]
  },
  {
   "cell_type": "code",
   "execution_count": null,
   "id": "43243327",
   "metadata": {},
   "outputs": [],
   "source": [
    "nota = 7.5\n",
    "\n",
    "if nota >= 6:\n",
    "    print('Aprovado')\n",
    "elif nota >= 4:\n",
    "    print('Recuperação')\n",
    "else:\n",
    "    print('Reprovado')"
   ]
  },
  {
   "cell_type": "markdown",
   "id": "1102ffec",
   "metadata": {},
   "source": [
    "O programa testa as condições **de cima para baixo**, até encontrar uma verdadeira.  \n",
    "Assim que uma é satisfeita, o restante das condições é **ignorado**."
   ]
  },
  {
   "cell_type": "markdown",
   "id": "c10bfb6b",
   "metadata": {},
   "source": [
    "## Comparando estruturas na prática"
   ]
  },
  {
   "cell_type": "code",
   "execution_count": null,
   "id": "56161695",
   "metadata": {},
   "outputs": [],
   "source": [
    "# Exemplo 1 – Vários if independentes\n",
    "idade = 17\n",
    "\n",
    "if idade >= 18:\n",
    "    print('Adulto')\n",
    "\n",
    "if idade >= 12:\n",
    "    print('Adolescente')\n",
    "\n",
    "if idade < 12:\n",
    "    print('Criança')"
   ]
  },
  {
   "cell_type": "markdown",
   "id": "621ce791",
   "metadata": {},
   "source": [
    "Neste exemplo, o Python **executa todos os blocos `if`** cujas condições são verdadeiras.  \n",
    "Como não há `elif` ou `else`, mais de um bloco pode ser executado.  \n",
    "Observe que o resultado pode gerar **classificações incorretas**."
   ]
  },
  {
   "cell_type": "code",
   "execution_count": null,
   "id": "436103a6",
   "metadata": {},
   "outputs": [],
   "source": [
    "# Exemplo 2 – Usando if, elif e else\n",
    "idade = 17\n",
    "\n",
    "if idade >= 18:\n",
    "    print('Adulto')\n",
    "elif idade >= 12:\n",
    "    print('Adolescente')\n",
    "else:\n",
    "    print('Criança')"
   ]
  },
  {
   "cell_type": "markdown",
   "id": "543ba547",
   "metadata": {},
   "source": [
    "Agora o programa testa **em sequência**:\n",
    "1. Se a idade for maior ou igual a 18 → “Adulto”\n",
    "2. Caso contrário, se for maior ou igual a 12 → “Adolescente”\n",
    "3. Se nenhuma condição anterior for verdadeira → “Criança”\n",
    "\n",
    "✅ Apenas **um bloco** será executado."
   ]
  },
  {
   "cell_type": "markdown",
   "id": "e58c670e",
   "metadata": {},
   "source": [
    "## Erros lógicos comuns"
   ]
  },
  {
   "cell_type": "code",
   "execution_count": null,
   "id": "6c7e89af",
   "metadata": {},
   "outputs": [],
   "source": [
    "# Erro lógico: ordem incorreta das condições\n",
    "nota = 8\n",
    "\n",
    "if nota >= 4:\n",
    "    print('Recuperação')\n",
    "elif nota >= 6:\n",
    "    print('Aprovado')\n",
    "else:\n",
    "    print('Reprovado')"
   ]
  },
  {
   "cell_type": "markdown",
   "id": "f6970dfa",
   "metadata": {},
   "source": [
    "❗ Erro lógico: o programa exibirá “Recuperação” mesmo para notas altas.  \n",
    "Isso acontece porque o Python lê **de cima para baixo**, e a primeira condição verdadeira é `nota >= 4`.  \n",
    "A ordem das condições é **fundamental**."
   ]
  },
  {
   "cell_type": "code",
   "execution_count": null,
   "id": "ffc163fe",
   "metadata": {},
   "outputs": [],
   "source": [
    "# Correção\n",
    "if nota >= 6:\n",
    "    print('Aprovado')\n",
    "elif nota >= 4:\n",
    "    print('Recuperação')\n",
    "else:\n",
    "    print('Reprovado')"
   ]
  },
  {
   "cell_type": "markdown",
   "id": "f12c362f",
   "metadata": {},
   "source": [
    "## Boas práticas no uso de estruturas condicionais\n",
    "\n",
    "✔️ Use `elif` para evitar repetições.  \n",
    "✔️ Organize as condições em ordem lógica.  \n",
    "✔️ Evite sobreposição de condições.  \n",
    "✔️ Comente o código para torná-lo mais claro."
   ]
  },
  {
   "cell_type": "markdown",
   "id": "363efcae",
   "metadata": {},
   "source": [
    "## Atividades práticas"
   ]
  },
  {
   "cell_type": "markdown",
   "id": "6cb8afa4",
   "metadata": {},
   "source": [
    "### Atividade 1 – Corrigindo o sistema escolar\n",
    "**Contexto:**  \n",
    "Um sistema escolar está mostrando resultados errados nas notas dos alunos.  \n",
    "O código foi feito por um programador iniciante e precisa ser corrigido para funcionar corretamente.\n",
    "\n",
    "Tarefa:\n",
    "Explique por que esse código exibe resultados incorretos.\n",
    "Corrija a ordem das condições.\n",
    "Teste o programa com notas 3, 5 e 8 e observe o comportamento.\n",
    "Escreva uma breve explicação sobre o que mudou.\n",
    "\n"
   ]
  },
  {
   "cell_type": "code",
   "execution_count": null,
   "id": "db4c6663",
   "metadata": {},
   "outputs": [],
   "source": [
    "nota = 8\n",
    "\n",
    "if nota >= 4:\n",
    "    print(\"Recuperação\")\n",
    "elif nota >= 6:\n",
    "    print(\"Aprovado\")\n",
    "else:\n",
    "    print(\"Reprovado\")"
   ]
  },
  {
   "cell_type": "code",
   "execution_count": null,
   "id": "967c3e13",
   "metadata": {},
   "outputs": [],
   "source": [
    "# Corrija aqui"
   ]
  },
  {
   "cell_type": "markdown",
   "id": "bec8ac07",
   "metadata": {},
   "source": [
    "### Atividade 2 – Calculando o IMC corretamente\n",
    "**Contexto:**  \n",
    "Um aplicativo de saúde precisa classificar o **Índice de Massa Corporal (IMC)** de uma pessoa.  \n",
    "Ele calcula o IMC usando a fórmula:  \n",
    "> IMC = peso / (altura²)\n",
    "\n",
    "**Comando:**  \n",
    "Crie um programa que:  \n",
    "1. Leia o peso (em kg) e a altura (em metros) de uma pessoa;  \n",
    "2. Calcule o IMC;  \n",
    "3. Exiba a classificação de acordo com a tabela abaixo:\n",
    "\n",
    "| Faixa de IMC | Classificação     |\n",
    "|---------------|------------------|\n",
    "| Abaixo de 18.5 | Abaixo do peso   |\n",
    "| 18.5 a 24.9   | Peso normal      |\n",
    "| 25 a 29.9     | Sobrepeso        |\n",
    "| 30 ou mais    | Obesidade        |\n",
    "\n",
    "**Dica:** use `elif` para criar as faixas de classificação.\n"
   ]
  },
  {
   "cell_type": "code",
   "execution_count": null,
   "id": "701889b1",
   "metadata": {},
   "outputs": [],
   "source": [
    "# Escreva seu código aqui"
   ]
  },
  {
   "cell_type": "markdown",
   "id": "c8248195",
   "metadata": {},
   "source": [
    "### Atividade 3 – Consumo de energia residencial\n",
    "**Contexto:**  \n",
    "Uma companhia elétrica quer gerar um relatório mensal de consumo e classificar os clientes por faixa de uso de energia elétrica.\n",
    "\n",
    "**Comando:**  \n",
    "Crie um programa que:  \n",
    "1. Leia o consumo mensal em kWh;  \n",
    "2. Calcule o valor da conta (R$ 0,75 por kWh);  \n",
    "3. Exiba a categoria do consumo:\n",
    "\n",
    "| Consumo (kWh) | Classificação       |\n",
    "|----------------|--------------------|\n",
    "| Menor que 150  | Baixo consumo      |\n",
    "| 150 a 300      | Consumo moderado   |\n",
    "| 301 a 500      | Consumo alto       |\n",
    "| Acima de 500   | Consumo muito alto |\n",
    "\n",
    "4. Mostre o valor total a pagar junto com a classificação.\n",
    "\n"
   ]
  },
  {
   "cell_type": "code",
   "execution_count": null,
   "id": "0eeef4d3",
   "metadata": {},
   "outputs": [],
   "source": [
    "# Escreva seu código aqui"
   ]
  },
  {
   "cell_type": "markdown",
   "id": "51632bae",
   "metadata": {},
   "source": [
    "### Atividade 4 – Sistema de notas com bônus\n",
    "**Contexto:**  \n",
    "Uma escola quer criar um sistema que considere a **participação dos alunos em atividades complementares**, somando 1 ponto extra à média final.\n",
    "\n",
    "**Comando:**  \n",
    "1. Leia as duas notas do aluno;  \n",
    "2. Pergunte se ele participou das atividades complementares (`s` ou `n`);  \n",
    "3. Calcule a média e adicione 1 ponto se tiver participado;  \n",
    "4. Classifique o aluno conforme as regras:\n",
    "\n",
    "| Média Final | Situação               |\n",
    "|--------------|-----------------------|\n",
    "| 7 ou mais    | Aprovado com bônus    |\n",
    "| 6 a 6.9      | Aprovado              |\n",
    "| 4 a 5.9      | Recuperação           |\n",
    "| Menor que 4  | Reprovado             |\n",
    "\n",
    "5. Exiba a média final e a situação do aluno.\n"
   ]
  },
  {
   "cell_type": "code",
   "execution_count": null,
   "id": "b8497ea4",
   "metadata": {},
   "outputs": [],
   "source": [
    "# Escreva seu código aqui"
   ]
  },
  {
   "cell_type": "markdown",
   "id": "4195f453",
   "metadata": {},
   "source": [
    "### Atividade 5 – Monitoramento de sensores industriais\n",
    "**Contexto:**  \n",
    "Um sistema de monitoramento de temperatura controla máquinas em uma linha de produção.  \n",
    "Dependendo da leitura do sensor, o sistema deve exibir o status da máquina.\n",
    "\n",
    "**Comando:**  \n",
    "Crie um programa que:  \n",
    "1. Leia a temperatura do sensor (em °C);  \n",
    "2. Exiba a mensagem adequada:\n",
    "\n",
    "| Temperatura | Situação do sistema        |\n",
    "|--------------|---------------------------|\n",
    "| Abaixo de 20°C | Sistema frio             |\n",
    "| 20°C a 70°C    | Sistema normal           |\n",
    "| 71°C a 90°C    | Alerta de aquecimento    |\n",
    "| Acima de 90°C  | Risco de superaquecimento |\n",
    "\n",
    "3. Teste o programa com valores variados e observe como o resultado muda.\n"
   ]
  },
  {
   "cell_type": "code",
   "execution_count": null,
   "id": "0050dd09",
   "metadata": {},
   "outputs": [],
   "source": [
    "# Escreva seu código aqui"
   ]
  },
  {
   "cell_type": "markdown",
   "id": "f7fe20d4",
   "metadata": {},
   "source": [
    "## Conclusão\n",
    "\n",
    "Nesta aula, aprendemos a comparar diferentes formas de usar o `if`, `elif` e `else`.  \n",
    "Vimos como a **ordem das condições**, o uso correto de **faixas lógicas** e a clareza da estrutura impactam o resultado final de um programa.\n",
    "\n",
    "> Compreender e corrigir erros lógicos é tão importante quanto escrever código — é o que transforma um bom programador em um pensador lógico."
   ]
  }
 ],
 "metadata": {
  "kernelspec": {
   "display_name": "Python 3 (ipykernel)",
   "language": "python",
   "name": "python3"
  },
  "language_info": {
   "codemirror_mode": {
    "name": "ipython",
    "version": 3
   },
   "file_extension": ".py",
   "mimetype": "text/x-python",
   "name": "python",
   "nbconvert_exporter": "python",
   "pygments_lexer": "ipython3",
   "version": "3.12.8"
  }
 },
 "nbformat": 4,
 "nbformat_minor": 5
}
