{
 "cells": [
  {
   "cell_type": "markdown",
   "metadata": {},
   "source": [
    "\n",
    "<h1 style=\"text-align: center;\">CIÊNCIA DE DADOS</h1>\n",
    "<h1 style=\"text-align: center;\">Roteiro de Atividade Prática</h1>\n",
    "<br>\n",
    "<br>\n",
    "\n",
    "Nome: ______________________________________________________________________________________      \n",
    "\n",
    "Turma: ______________\n",
    "\n",
    "\n",
    "**Componente:** Inteligência Artificial\n",
    "<br>\n",
    "**Unidade Curricular:** IA Generativa\n",
    "<br>\n",
    "**Tema da Semana:** Implantação de LLMs\n",
    "<br>\n"
   ]
  },
  {
   "cell_type": "markdown",
   "metadata": {},
   "source": [
    "# Aula 1: Introdução à implantação de LLMs"
   ]
  },
  {
   "cell_type": "markdown",
   "metadata": {},
   "source": [
    "## Tarefa\n",
    "- Executem o código abaixo.\n",
    "\n",
    "- Se as bibliotecas não tiverem instaladas, instale-as.\n",
    "\n",
    "- Acompanhem as instruções.\n",
    "\n",
    "- Observem a execução e discutam com seus colegas e professor.\n"
   ]
  },
  {
   "cell_type": "markdown",
   "metadata": {
    "id": "yqs7_xb9gNYM"
   },
   "source": [
    "### Atualizar bibliotecas\n"
   ]
  },
  {
   "cell_type": "code",
   "execution_count": null,
   "metadata": {
    "id": "03H2yz2ggSWk"
   },
   "outputs": [],
   "source": [
    "!pip install -U langchain langchain-huggingface langchain-community transformers faiss-cpu\n"
   ]
  },
  {
   "cell_type": "markdown",
   "metadata": {
    "id": "izPW-vbqgTjC"
   },
   "source": [
    "### Importar bibliotecas"
   ]
  },
  {
   "cell_type": "code",
   "execution_count": null,
   "metadata": {
    "id": "FIemO4HMgZ50"
   },
   "outputs": [],
   "source": [
    "\n",
    "import os\n",
    "from langchain.chains import RetrievalQA\n",
    "from langchain_huggingface import HuggingFacePipeline\n",
    "from langchain_community.vectorstores import FAISS\n",
    "from langchain_community.document_loaders import TextLoader\n",
    "from langchain.text_splitter import CharacterTextSplitter\n",
    "from langchain.embeddings import HuggingFaceEmbeddings\n",
    "from transformers import pipeline"
   ]
  },
  {
   "cell_type": "markdown",
   "metadata": {
    "id": "xHOX9LDKgb1c"
   },
   "source": [
    "## Criar embeddings para busca"
   ]
  },
  {
   "cell_type": "code",
   "execution_count": null,
   "metadata": {
    "id": "AmUClWg1gf9q"
   },
   "outputs": [],
   "source": [
    "\n",
    "embeddings = HuggingFaceEmbeddings(model_name=\"sentence-transformers/all-MiniLM-L6-v2\")\n"
   ]
  },
  {
   "cell_type": "markdown",
   "metadata": {
    "id": "LU5S8NCEgiWj"
   },
   "source": [
    "### Criar um arquivo com os textos desejados(para Políticas da Empresa, Regras de Segurança, etc..).\n",
    "\n",
    "Nome do arquivo criado é \"documento.txt\" e foi adicionado ao mesmo a Política de Privacidade da Empresa XYZ.\n",
    "\n",
    "**Neste exemplo iremos utilizar o texto em inglês, para isso utilize o google tradutor para adicionar mais informações**"
   ]
  },
  {
   "cell_type": "code",
   "execution_count": null,
   "metadata": {
    "id": "ztvSVrtxhFOz"
   },
   "outputs": [],
   "source": [
    "\n",
    "if not os.path.exists(\"dados\"):\n",
    "    os.makedirs(\"dados\")\n",
    "\n",
    "if not os.path.exists(\"dados/documento.txt\"):\n",
    "    with open(\"dados/documento.txt\", \"w\", encoding=\"utf-8\") as f:\n",
    "        f.write(\"XYZ Company Privacy Policy\\n\\n\"\n",
    "            \"1. Information Collection: XYZ Company collects personal information to improve its services.\\n\"\n",
    "            \"2. Use of Information: Data is used for customer support and recommendations.\\n\"\n",
    "            \"3. Data Sharing: We do not share information without consent.\\n\"\n",
    "            \"4. Security: We apply encryption to protect data.\\n\"\n",
    "            \"5. Updates: This policy may be changed and will be available on the website.\")\n",
    "\n",
    "print(\"Arquivo 'documento.txt' pronto!\")\n"
   ]
  },
  {
   "cell_type": "markdown",
   "metadata": {
    "id": "HNeyXXt_hlhL"
   },
   "source": [
    "\n",
    "### Carregar documentos e criar vetores"
   ]
  },
  {
   "cell_type": "code",
   "execution_count": null,
   "metadata": {
    "id": "jfsbuCOWhoNj"
   },
   "outputs": [],
   "source": [
    "caminho_arquivo = \"dados/documento.txt\"\n",
    "loader = TextLoader(caminho_arquivo)\n",
    "documentos = loader.load()\n"
   ]
  },
  {
   "cell_type": "markdown",
   "metadata": {
    "id": "v3oRLMCbhp4z"
   },
   "source": [
    "\n",
    "### Dividir os documentos para indexação\n"
   ]
  },
  {
   "cell_type": "code",
   "execution_count": null,
   "metadata": {
    "id": "BdN6LfHyhsb8"
   },
   "outputs": [],
   "source": [
    "text_splitter = CharacterTextSplitter(chunk_size=500, chunk_overlap=50)\n",
    "documentos_divididos = text_splitter.split_documents(documentos)\n"
   ]
  },
  {
   "cell_type": "markdown",
   "metadata": {
    "id": "IOe9i4cNhuEa"
   },
   "source": [
    "\n",
    "### Criar banco de vetores FAISS\n"
   ]
  },
  {
   "cell_type": "code",
   "execution_count": null,
   "metadata": {
    "id": "jxS5Ebr5hv4j"
   },
   "outputs": [],
   "source": [
    "\n",
    "vectorstore = FAISS.from_documents(documentos_divididos, embeddings)\n",
    "retriever = vectorstore.as_retriever()\n"
   ]
  },
  {
   "cell_type": "markdown",
   "metadata": {
    "id": "_kuhjR0mhyB6"
   },
   "source": [
    "\n",
    "### Criar modelo LLM leve\n"
   ]
  },
  {
   "cell_type": "code",
   "execution_count": null,
   "metadata": {
    "id": "v-Xwjp2sh15L"
   },
   "outputs": [],
   "source": [
    "llm_pipeline = pipeline(\n",
    "    \"text-generation\",\n",
    "    model=\"gpt2\",  #  Modelo mais leve para evitar estouro de RAM\n",
    "    max_new_tokens=100,  #  Ajuste do número de tokens gerados\n",
    "    temperature=0.7,  #  Controla a criatividade do texto gerado\n",
    "    pad_token_id=50256  #  Evita warnings de padding\n",
    ")\n"
   ]
  },
  {
   "cell_type": "markdown",
   "metadata": {
    "id": "m7UiWW2gh3ta"
   },
   "source": [
    "\n",
    "#  Criar o modelo LangChain\n"
   ]
  },
  {
   "cell_type": "code",
   "execution_count": null,
   "metadata": {
    "id": "Dhl04-cTh6l7"
   },
   "outputs": [],
   "source": [
    "llm = HuggingFacePipeline(pipeline=llm_pipeline)\n"
   ]
  },
  {
   "cell_type": "markdown",
   "metadata": {
    "id": "wY5rg8JPh8SD"
   },
   "source": [
    "\n",
    "### Criar a cadeia de recuperação e geração de resposta (RAG)\n"
   ]
  },
  {
   "cell_type": "code",
   "execution_count": null,
   "metadata": {
    "id": "fzJFqWtDh-xq"
   },
   "outputs": [],
   "source": [
    "qa = RetrievalQA.from_llm(llm=llm, retriever=retriever)\n"
   ]
  },
  {
   "cell_type": "markdown",
   "metadata": {
    "id": "Qvv_kb_PiAoz"
   },
   "source": [
    "### Testar a IA com recuperação de documentos\n",
    "\n",
    "Aproveite para testar outras perguntas e compare as respostas."
   ]
  },
  {
   "cell_type": "code",
   "execution_count": null,
   "metadata": {
    "id": "ka5r7bDg8WCi"
   },
   "outputs": [],
   "source": [
    "pergunta = \"What is the company's privacy policy about security?\"\n",
    "resposta = qa.invoke({\"query\": pergunta})\n",
    "\n",
    "print(f\"\\nPergunta/Query:\\n\", resposta['query'])\n",
    "print(f\"\\nResultado:\\n\", resposta['result'])\n"
   ]
  },
  {
   "cell_type": "code",
   "execution_count": null,
   "metadata": {},
   "outputs": [],
   "source": [
    "pergunta = \"What the company's privacy policy says about security\"\n",
    "resposta = qa.invoke({\"query\": pergunta})\n",
    "\n",
    "print(f\"\\nPergunta/Query:\\n\", resposta['query'])\n",
    "print(f\"\\nResultado:\\n\", resposta['result'])\n"
   ]
  }
 ],
 "metadata": {
  "colab": {
   "provenance": []
  },
  "kernelspec": {
   "display_name": "Python 3 (ipykernel)",
   "language": "python",
   "name": "python3"
  },
  "language_info": {
   "codemirror_mode": {
    "name": "ipython",
    "version": 3
   },
   "file_extension": ".py",
   "mimetype": "text/x-python",
   "name": "python",
   "nbconvert_exporter": "python",
   "pygments_lexer": "ipython3",
   "version": "3.12.8"
  }
 },
 "nbformat": 4,
 "nbformat_minor": 4
}
