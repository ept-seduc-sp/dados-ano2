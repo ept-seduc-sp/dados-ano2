{
 "cells": [
  {
   "cell_type": "markdown",
   "metadata": {
    "id": "K4tjB9gmp3ol"
   },
   "source": [
    "<h1 style=\"text-align: center;\">CIÊNCIA DE DADOS</h1>\n",
    "<h1 style=\"text-align: center;\">Roteiro de Atividade Prática</h1>\n",
    "<br>\n",
    "<br>\n",
    "\n",
    "Nome: ______________________________________________________________________________________      \n",
    "\n",
    "Turma: ______________\n",
    "\n",
    "\n",
    "**Componente:** Aprendizagem de Máquina\n",
    "<br>\n",
    "**Unidade Curricular:** Modelos, Algoritmos e Estimadores\n",
    "<br>\n",
    "**Tema da Semana:** Revisão\n",
    "<br>\n"
   ]
  },
  {
   "cell_type": "markdown",
   "metadata": {
    "id": "lLIi5hQUqGgk"
   },
   "source": [
    "# Aula 2: Revisão regressão logística"
   ]
  },
  {
   "cell_type": "markdown",
   "metadata": {
    "id": "wCkbKqU6qUQw"
   },
   "source": [
    "## Tarefa\n",
    "- Execute o código abaixo.\n",
    "\n",
    "- Se as bibliotecas não tiverem instaladas, instale-as.\n",
    "\n",
    "- Acompanhe as instruções.\n",
    "\n",
    "- Observe a execução e discuta com seus colegas e professor sobre os resultados gerados.\n"
   ]
  },
  {
   "cell_type": "markdown",
   "metadata": {
    "id": "Xazr4nDIqfiI"
   },
   "source": [
    "# Importação das bibliotecas necessárias"
   ]
  },
  {
   "cell_type": "code",
   "execution_count": null,
   "metadata": {
    "executionInfo": {
     "elapsed": 15,
     "status": "ok",
     "timestamp": 1741821924329,
     "user": {
      "displayName": "Sandra Menezes",
      "userId": "14176255677548792829"
     },
     "user_tz": 180
    },
    "id": "p7QP-zMLqpQ0"
   },
   "outputs": [],
   "source": [
    "import numpy as np\n",
    "import pandas as pd\n",
    "from sklearn.model_selection import train_test_split\n",
    "from sklearn.linear_model import LogisticRegression\n",
    "from sklearn.metrics import accuracy_score, confusion_matrix, classification_report\n",
    "\n"
   ]
  },
  {
   "cell_type": "markdown",
   "metadata": {
    "id": "rY4NUcyyqrbx"
   },
   "source": [
    "# Carregar o dataset\n"
   ]
  },
  {
   "cell_type": "code",
   "execution_count": null,
   "metadata": {
    "executionInfo": {
     "elapsed": 30,
     "status": "ok",
     "timestamp": 1741821930792,
     "user": {
      "displayName": "Sandra Menezes",
      "userId": "14176255677548792829"
     },
     "user_tz": 180
    },
    "id": "CELIdakrquEM"
   },
   "outputs": [],
   "source": [
    "data = pd.read_csv('[DADOS]ANO2C1B4S27A1A2A3A4_dataset_housing.csv')\n",
    "\n"
   ]
  },
  {
   "cell_type": "markdown",
   "metadata": {
    "id": "y_qcdB5HqwCl"
   },
   "source": [
    "# Remover valores nulos\n"
   ]
  },
  {
   "cell_type": "code",
   "execution_count": null,
   "metadata": {
    "executionInfo": {
     "elapsed": 21,
     "status": "ok",
     "timestamp": 1741821937234,
     "user": {
      "displayName": "Sandra Menezes",
      "userId": "14176255677548792829"
     },
     "user_tz": 180
    },
    "id": "_JHqM9_OqxyM"
   },
   "outputs": [],
   "source": [
    "data = data.dropna()\n"
   ]
  },
  {
   "cell_type": "markdown",
   "metadata": {
    "id": "ZTEpFfpLq0Rr"
   },
   "source": [
    "\n",
    "# Criar uma variável binária (1 = acima da mediana, 0 = abaixo da mediana)\n"
   ]
  },
  {
   "cell_type": "code",
   "execution_count": null,
   "metadata": {
    "executionInfo": {
     "elapsed": 11,
     "status": "ok",
     "timestamp": 1741821939296,
     "user": {
      "displayName": "Sandra Menezes",
      "userId": "14176255677548792829"
     },
     "user_tz": 180
    },
    "id": "FYMT5wibq5cb"
   },
   "outputs": [],
   "source": [
    "mediana = data['median_house_value'].median()\n",
    "data['above_median'] = (data['median_house_value'] > mediana).astype(int)\n",
    "\n"
   ]
  },
  {
   "cell_type": "markdown",
   "metadata": {
    "id": "PiP2yMwOq7cu"
   },
   "source": [
    "# Definir as variáveis\n"
   ]
  },
  {
   "cell_type": "code",
   "execution_count": null,
   "metadata": {
    "executionInfo": {
     "elapsed": 8,
     "status": "ok",
     "timestamp": 1741821945073,
     "user": {
      "displayName": "Sandra Menezes",
      "userId": "14176255677548792829"
     },
     "user_tz": 180
    },
    "id": "begNa_BSq9oJ"
   },
   "outputs": [],
   "source": [
    "X = data.drop(['median_house_value', 'ocean_proximity', 'above_median'], axis=1)\n",
    "y = data['above_median']\n",
    "\n"
   ]
  },
  {
   "cell_type": "markdown",
   "metadata": {
    "id": "_SJQHAZKrANK"
   },
   "source": [
    "# Divisão treino/teste\n"
   ]
  },
  {
   "cell_type": "code",
   "execution_count": null,
   "metadata": {
    "executionInfo": {
     "elapsed": 10,
     "status": "ok",
     "timestamp": 1741821951883,
     "user": {
      "displayName": "Sandra Menezes",
      "userId": "14176255677548792829"
     },
     "user_tz": 180
    },
    "id": "k-sf9lU9rCjT"
   },
   "outputs": [],
   "source": [
    "X_train, X_test, y_train, y_test = train_test_split(X, y, test_size=0.2, random_state=42)\n",
    "\n"
   ]
  },
  {
   "cell_type": "markdown",
   "metadata": {
    "id": "9FnRWf8VrE0u"
   },
   "source": [
    "# Criar e treinar o modelo\n"
   ]
  },
  {
   "cell_type": "code",
   "execution_count": null,
   "metadata": {
    "colab": {
     "base_uri": "https://localhost:8080/",
     "height": 239
    },
    "executionInfo": {
     "elapsed": 285,
     "status": "ok",
     "timestamp": 1741821954673,
     "user": {
      "displayName": "Sandra Menezes",
      "userId": "14176255677548792829"
     },
     "user_tz": 180
    },
    "id": "CTlJZavArHEG",
    "outputId": "5602cce5-0c39-4b32-e054-ccca52dff48b"
   },
   "outputs": [],
   "source": [
    "modelo = LogisticRegression()\n",
    "modelo.fit(X_train, y_train)\n"
   ]
  },
  {
   "cell_type": "markdown",
   "metadata": {
    "id": "bU46ojTVrKJG"
   },
   "source": [
    "\n",
    "# Fazer previsões\n"
   ]
  },
  {
   "cell_type": "code",
   "execution_count": null,
   "metadata": {
    "executionInfo": {
     "elapsed": 34,
     "status": "ok",
     "timestamp": 1741821968204,
     "user": {
      "displayName": "Sandra Menezes",
      "userId": "14176255677548792829"
     },
     "user_tz": 180
    },
    "id": "1hn6uZ18rNYL"
   },
   "outputs": [],
   "source": [
    "y_pred = modelo.predict(X_test)"
   ]
  },
  {
   "cell_type": "markdown",
   "metadata": {
    "id": "9kR4iCLPrP_h"
   },
   "source": [
    "\n",
    "\n",
    "# Avaliar o modelo\n"
   ]
  },
  {
   "cell_type": "code",
   "execution_count": null,
   "metadata": {
    "colab": {
     "base_uri": "https://localhost:8080/"
    },
    "executionInfo": {
     "elapsed": 29,
     "status": "ok",
     "timestamp": 1741821974862,
     "user": {
      "displayName": "Sandra Menezes",
      "userId": "14176255677548792829"
     },
     "user_tz": 180
    },
    "id": "4Nx9WzWCpDTL",
    "outputId": "071bb77d-b560-4280-f5db-eb398f342413"
   },
   "outputs": [],
   "source": [
    "print(f'Acurácia: {accuracy_score(y_test, y_pred):.2f}')\n",
    "print('Matriz de Confusão:\\n', confusion_matrix(y_test, y_pred))\n",
    "print('Relatório de Classificação:\\n', classification_report(y_test, y_pred))"
   ]
  }
 ],
 "metadata": {
  "colab": {
   "authorship_tag": "ABX9TyP9FjMbh92AVOR1w4kzKE8N",
   "provenance": []
  },
  "kernelspec": {
   "display_name": "Python 3 (ipykernel)",
   "language": "python",
   "name": "python3"
  },
  "language_info": {
   "codemirror_mode": {
    "name": "ipython",
    "version": 3
   },
   "file_extension": ".py",
   "mimetype": "text/x-python",
   "name": "python",
   "nbconvert_exporter": "python",
   "pygments_lexer": "ipython3",
   "version": "3.12.8"
  }
 },
 "nbformat": 4,
 "nbformat_minor": 4
}
