{
 "cells": [
  {
   "cell_type": "markdown",
   "metadata": {
    "id": "7z012HwY1TPg"
   },
   "source": [
    "<h1 style=\"text-align: center;\">CIÊNCIA DE DADOS</h1>\n",
    "<h1 style=\"text-align: center;\">Roteiro de Atividade Prática</h1>\n",
    "<br>\n",
    "<br>\n",
    "\n",
    "Nome: ______________________________________________________________________________________      \n",
    "\n",
    "Turma: ______________\n",
    "\n",
    "\n",
    "**Componente:** Aprendizagem de Máquina\n",
    "<br>\n",
    "**Unidade Curricular:** Modelos, Algoritmos e Estimadores\n",
    "<br>\n",
    "**Tema da Semana:** Revisão\n",
    "<br>\n",
    "\n",
    "\n",
    "\n"
   ]
  },
  {
   "cell_type": "markdown",
   "metadata": {
    "id": "i-H7AyiV1ioC"
   },
   "source": [
    "# Aula 3: Revisão Árvore de Decisão"
   ]
  },
  {
   "cell_type": "markdown",
   "metadata": {
    "id": "ULfvkwWB1ugX"
   },
   "source": [
    "## Tarefa\n",
    "- Execute o código abaixo.\n",
    "\n",
    "- Se as bibliotecas não tiverem instaladas, instale-as.\n",
    "\n",
    "- Acompanhe as instruções.\n",
    "\n",
    "- Observe a execução e discuta com seus colegas e professor sobre as variáveis e acurária do algorítmo de árvore de decisão.\n"
   ]
  },
  {
   "cell_type": "markdown",
   "metadata": {
    "id": "nS5VZJzi17Cl"
   },
   "source": [
    "# Passo 1 - Importação de bibliotecas"
   ]
  },
  {
   "cell_type": "code",
   "execution_count": null,
   "metadata": {
    "executionInfo": {
     "elapsed": 4,
     "status": "ok",
     "timestamp": 1741908938171,
     "user": {
      "displayName": "Sandra Menezes",
      "userId": "14176255677548792829"
     },
     "user_tz": 180
    },
    "id": "K51XzYrd2DtA"
   },
   "outputs": [],
   "source": [
    "import matplotlib.pyplot as plt\n",
    "import pandas as pd\n",
    "from sklearn.model_selection import train_test_split\n",
    "from sklearn.tree import DecisionTreeClassifier\n",
    "from sklearn.metrics import accuracy_score, confusion_matrix\n",
    "from sklearn import tree\n"
   ]
  },
  {
   "cell_type": "markdown",
   "metadata": {
    "id": "OMBoEe5N2H-S"
   },
   "source": [
    "# Passo 2 - Carregar o dataset"
   ]
  },
  {
   "cell_type": "code",
   "execution_count": null,
   "metadata": {
    "executionInfo": {
     "elapsed": 10,
     "status": "ok",
     "timestamp": 1741908955996,
     "user": {
      "displayName": "Sandra Menezes",
      "userId": "14176255677548792829"
     },
     "user_tz": 180
    },
    "id": "3lk-zxeV2QVh"
   },
   "outputs": [],
   "source": [
    "url = '[DADOS]ANO2C1B4S27A1A2A3A4_dataset_housing.csv'\n",
    "data = pd.read_csv(url)\n"
   ]
  },
  {
   "cell_type": "markdown",
   "metadata": {
    "id": "3uPXwPde2RQ2"
   },
   "source": [
    "# Passo 3 - Remover valores nulos\n",
    "### Criação da variável binária (1 = acima da mediana, 0 = abaixo da mediana)\n"
   ]
  },
  {
   "cell_type": "code",
   "execution_count": null,
   "metadata": {
    "executionInfo": {
     "elapsed": 9,
     "status": "ok",
     "timestamp": 1741908962548,
     "user": {
      "displayName": "Sandra Menezes",
      "userId": "14176255677548792829"
     },
     "user_tz": 180
    },
    "id": "aJOMNy3h2d_i"
   },
   "outputs": [],
   "source": [
    "mediana = data['median_house_value'].median()\n",
    "data['above_median'] = (data['median_house_value'] > mediana).astype(int)\n"
   ]
  },
  {
   "cell_type": "markdown",
   "metadata": {
    "id": "Cfr86YkJ2flA"
   },
   "source": [
    "\n",
    "# Passo 4 - Definir variáveis independentes e dependentes\n"
   ]
  },
  {
   "cell_type": "code",
   "execution_count": null,
   "metadata": {
    "executionInfo": {
     "elapsed": 7,
     "status": "ok",
     "timestamp": 1741908965106,
     "user": {
      "displayName": "Sandra Menezes",
      "userId": "14176255677548792829"
     },
     "user_tz": 180
    },
    "id": "lDA7D2S42jQQ"
   },
   "outputs": [],
   "source": [
    "X = data.drop(['median_house_value', 'ocean_proximity', 'above_median'], axis=1)\n",
    "y = data['above_median']\n",
    "\n"
   ]
  },
  {
   "cell_type": "markdown",
   "metadata": {
    "id": "wrx4ySOf2nG6"
   },
   "source": [
    "# Passo 5 - Divisão treino/teste\n"
   ]
  },
  {
   "cell_type": "code",
   "execution_count": null,
   "metadata": {
    "executionInfo": {
     "elapsed": 10,
     "status": "ok",
     "timestamp": 1741908972351,
     "user": {
      "displayName": "Sandra Menezes",
      "userId": "14176255677548792829"
     },
     "user_tz": 180
    },
    "id": "o2LpVq8b2pYo"
   },
   "outputs": [],
   "source": [
    "X_train, X_test, y_train, y_test = train_test_split(X, y, test_size=0.2, random_state=42)\n"
   ]
  },
  {
   "cell_type": "markdown",
   "metadata": {
    "id": "PktYlxOq2uML"
   },
   "source": [
    "# Passo 6 - Criar o modelo de Árvore de Decisão\n"
   ]
  },
  {
   "cell_type": "code",
   "execution_count": null,
   "metadata": {
    "colab": {
     "base_uri": "https://localhost:8080/",
     "height": 80
    },
    "executionInfo": {
     "elapsed": 105,
     "status": "ok",
     "timestamp": 1741908974917,
     "user": {
      "displayName": "Sandra Menezes",
      "userId": "14176255677548792829"
     },
     "user_tz": 180
    },
    "id": "3qcwZqrt2y6N",
    "outputId": "229bbaeb-33bb-4cea-90f9-ced0190148b9"
   },
   "outputs": [],
   "source": [
    "modelo = DecisionTreeClassifier(random_state=42)\n",
    "modelo.fit(X_train, y_train)\n"
   ]
  },
  {
   "cell_type": "markdown",
   "metadata": {
    "id": "x_dY2-Ex22lu"
   },
   "source": [
    "# Passo 7- Fazer previsões\n"
   ]
  },
  {
   "cell_type": "code",
   "execution_count": null,
   "metadata": {
    "executionInfo": {
     "elapsed": 40,
     "status": "ok",
     "timestamp": 1741908983175,
     "user": {
      "displayName": "Sandra Menezes",
      "userId": "14176255677548792829"
     },
     "user_tz": 180
    },
    "id": "h-fHm4Eq28F9"
   },
   "outputs": [],
   "source": [
    "y_pred = modelo.predict(X_test)\n",
    "\n"
   ]
  },
  {
   "cell_type": "markdown",
   "metadata": {
    "id": "_xzFcIKT2-JN"
   },
   "source": [
    "# Passo 8 - Avaliar o modelo\n"
   ]
  },
  {
   "cell_type": "code",
   "execution_count": null,
   "metadata": {
    "colab": {
     "base_uri": "https://localhost:8080/"
    },
    "executionInfo": {
     "elapsed": 29,
     "status": "ok",
     "timestamp": 1741908985403,
     "user": {
      "displayName": "Sandra Menezes",
      "userId": "14176255677548792829"
     },
     "user_tz": 180
    },
    "id": "H1_DwGbF3BkD",
    "outputId": "d460152a-0458-44a2-845c-5939bb933674"
   },
   "outputs": [],
   "source": [
    "print(f'Acurácia: {accuracy_score(y_test, y_pred):.2f}')\n",
    "print('Matriz de Confusão:\\n', confusion_matrix(y_test, y_pred))\n"
   ]
  },
  {
   "cell_type": "markdown",
   "metadata": {
    "id": "NFq8_rac3Dm6"
   },
   "source": [
    "# Passo 9 - Visualizar a Árvore de Decisão\n"
   ]
  },
  {
   "cell_type": "code",
   "execution_count": null,
   "metadata": {
    "colab": {
     "base_uri": "https://localhost:8080/",
     "height": 653
    },
    "executionInfo": {
     "elapsed": 66064,
     "status": "ok",
     "timestamp": 1741909058184,
     "user": {
      "displayName": "Sandra Menezes",
      "userId": "14176255677548792829"
     },
     "user_tz": 180
    },
    "id": "Xgkp-GGk3LVu",
    "outputId": "a09a622f-0646-4e3f-fd9d-3ec74f7755f8"
   },
   "outputs": [],
   "source": [
    "plt.figure(figsize=(10,8))\n",
    "tree.plot_tree(modelo, filled=True, feature_names=X.columns, class_names=['Below Median', 'Above Median'], rounded=True)\n",
    "plt.show()\n"
   ]
  }
 ],
 "metadata": {
  "colab": {
   "authorship_tag": "ABX9TyOECFav/WHel6I+00/vcCWX",
   "provenance": []
  },
  "kernelspec": {
   "display_name": "Python 3 (ipykernel)",
   "language": "python",
   "name": "python3"
  },
  "language_info": {
   "codemirror_mode": {
    "name": "ipython",
    "version": 3
   },
   "file_extension": ".py",
   "mimetype": "text/x-python",
   "name": "python",
   "nbconvert_exporter": "python",
   "pygments_lexer": "ipython3",
   "version": "3.12.8"
  }
 },
 "nbformat": 4,
 "nbformat_minor": 4
}
