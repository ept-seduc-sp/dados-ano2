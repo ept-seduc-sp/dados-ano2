{
 "cells": [
  {
   "cell_type": "markdown",
   "metadata": {},
   "source": [
    "\n",
    "<h1 style=\"text-align: center;\">CIÊNCIA DE DADOS</h1>\n",
    "<h1 style=\"text-align: center;\">Roteiro de Atividade Prática</h1>\n",
    "<br>\n",
    "<br>\n",
    "\n",
    "Nome: ______________________________________________________________________________________      \n",
    "\n",
    "Turma: ______________\n",
    "\n",
    "\n",
    "**Componente:** Aprendizagem de Máquina\n",
    "<br>\n",
    "**Unidade Curricular:** Preparação de Dados e Otimização\n",
    "<br>\n",
    "**Tema da Semana:** Pipeline\n",
    "<br>\n"
   ]
  },
  {
   "cell_type": "markdown",
   "metadata": {},
   "source": [
    "## Aula 3: Aplicações práticas de pipelines"
   ]
  },
  {
   "cell_type": "markdown",
   "metadata": {},
   "source": [
    "## Tarefa\n",
    "- Execute o código abaixo.\n",
    "\n",
    "- Se as bibliotecas não tiverem instaladas, instale-as.\n",
    "\n",
    "- Acompanhe as instruções.\n",
    "\n",
    "- Observe a execução e discuta com seus colegas e professor.\n"
   ]
  },
  {
   "cell_type": "markdown",
   "metadata": {
    "id": "OwPnW2gXn4-C"
   },
   "source": [
    "**O que este código faz?**\n",
    "\n",
    "✅ Carrega e prepara os dados, removendo espaços extras nos nomes das colunas.\n",
    "\n",
    "✅ Cria um Pipeline de pré-processamento, incluindo tratamento de valores ausentes e normalização.\n",
    "\n",
    "✅ Divide os dados entre treino e teste para evitar overfitting.\n",
    "\n",
    "✅ Constrói um Pipeline completo (pré-processamento + modelagem com Random Forest).\n",
    "\n",
    "✅ Treina o modelo e faz previsões nos dados de teste.\n",
    "\n",
    "✅ Avalia o modelo com métricas de acurácia, precisão e recall.\n",
    "\n",
    "✅ Exibe um gráfico da importância das variáveis, ajudando a interpretar quais atributos mais impactam a previsão de diabetes.\n",
    "\n",
    "Agora, você pode rodar esse código diretamente no seu ambiente para testar o Pipeline real aplicado ao dataset de diabetes!"
   ]
  },
  {
   "cell_type": "markdown",
   "metadata": {
    "id": "lzV_taaEoQWT"
   },
   "source": [
    "### Importação de Bibliotecas"
   ]
  },
  {
   "cell_type": "code",
   "execution_count": null,
   "metadata": {
    "id": "TUVoVkHZoUmP"
   },
   "outputs": [],
   "source": [
    "import pandas as pd\n",
    "import numpy as np\n",
    "import matplotlib.pyplot as plt\n",
    "import seaborn as sns\n",
    "from sklearn.pipeline import Pipeline\n",
    "from sklearn.preprocessing import StandardScaler\n",
    "from sklearn.impute import SimpleImputer\n",
    "from sklearn.compose import ColumnTransformer\n",
    "from sklearn.model_selection import train_test_split\n",
    "from sklearn.ensemble import RandomForestClassifier\n",
    "from sklearn.metrics import accuracy_score, classification_report\n"
   ]
  },
  {
   "cell_type": "markdown",
   "metadata": {
    "id": "2FyG4DSIoYij"
   },
   "source": [
    "\n",
    "### Passo 1: Carregar os dados\n"
   ]
  },
  {
   "cell_type": "code",
   "execution_count": null,
   "metadata": {
    "id": "vQ2ZYWCgoeGh"
   },
   "outputs": [],
   "source": [
    "file_path = \"[DADOS]ANO2C1B4S26A3A4_diabet1.csv\"  # Certifique-se de que o caminho está correto\n",
    "df = pd.read_csv(file_path)\n"
   ]
  },
  {
   "cell_type": "markdown",
   "metadata": {
    "id": "wmyde9Y_ohd2"
   },
   "source": [
    "\n",
    "### Passo 2: Ajustar os nomes das colunas para evitar erros\n",
    "Convertendo para letras minúsculas e removendo espaços extras\n",
    "\n"
   ]
  },
  {
   "cell_type": "code",
   "execution_count": null,
   "metadata": {
    "id": "aXfydhsHojxh"
   },
   "outputs": [],
   "source": [
    "df.columns = df.columns.str.strip().str.lower()"
   ]
  },
  {
   "cell_type": "markdown",
   "metadata": {
    "id": "lUJevL6Gomtx"
   },
   "source": [
    "### Passo 3: Definir as colunas que serão usadas\n",
    "Variáveis numéricas que serão processadas"
   ]
  },
  {
   "cell_type": "code",
   "execution_count": null,
   "metadata": {
    "id": "ZbFr547WotIL"
   },
   "outputs": [],
   "source": [
    "num_features = [\"glucose\", \"bloodpressure\", \"bmi\", \"insulin\", \"age\", \"diabetespedigreefunction\"]\n"
   ]
  },
  {
   "cell_type": "markdown",
   "metadata": {
    "id": "ugrsVRpDovM7"
   },
   "source": [
    "\n",
    "### Passo 4: Criar um Pipeline para o pré-processamento\n"
   ]
  },
  {
   "cell_type": "code",
   "execution_count": null,
   "metadata": {
    "id": "95F6FqVJox3h"
   },
   "outputs": [],
   "source": [
    "num_pipeline = Pipeline([\n",
    "    ('imputer', SimpleImputer(strategy=\"mean\")),  # Substitui valores ausentes pela média da coluna\n",
    "    ('scaler', StandardScaler())  # Normaliza os dados para que fiquem na mesma escala\n",
    "])\n",
    "\n"
   ]
  },
  {
   "cell_type": "markdown",
   "metadata": {
    "id": "73xEBoCaozXY"
   },
   "source": [
    "### Passo 5: Criar um transformador para aplicar o pipeline nas colunas numéricas\n"
   ]
  },
  {
   "cell_type": "code",
   "execution_count": null,
   "metadata": {
    "id": "ywIx-sx0o20_"
   },
   "outputs": [],
   "source": [
    "preprocessor = ColumnTransformer([\n",
    "    ('num', num_pipeline, num_features)\n",
    "])\n",
    "\n"
   ]
  },
  {
   "cell_type": "markdown",
   "metadata": {
    "id": "o0NTcIUyo4D2"
   },
   "source": [
    "### Passo 6: Divisão dos dados entre variáveis de entrada (X) e saída (y)\n"
   ]
  },
  {
   "cell_type": "code",
   "execution_count": null,
   "metadata": {
    "id": "e8vG8tcXo7sr"
   },
   "outputs": [],
   "source": [
    "X = df.drop(columns=[\"outcome\"])  # \"Outcome\" é a variável-alvo\n",
    "y = df[\"outcome\"]\n",
    "\n",
    "# Divisão entre treino e teste (80% treino, 20% teste)\n",
    "X_train, X_test, y_train, y_test = train_test_split(X, y, test_size=0.2, random_state=42)\n"
   ]
  },
  {
   "cell_type": "markdown",
   "metadata": {
    "id": "wXIBwNVVpEL4"
   },
   "source": [
    "\n",
    "### Passo 7: Criar um Pipeline completo (Pré-processamento + Modelo)\n"
   ]
  },
  {
   "cell_type": "code",
   "execution_count": null,
   "metadata": {
    "id": "8T30zL5kpGUj"
   },
   "outputs": [],
   "source": [
    "pipeline = Pipeline([\n",
    "    ('preprocessor', preprocessor),  # Aplica o pré-processamento nos dados\n",
    "    ('classifier', RandomForestClassifier(n_estimators=100, random_state=42))  # Treina um modelo de Random Forest\n",
    "])\n"
   ]
  },
  {
   "cell_type": "markdown",
   "metadata": {
    "id": "uqXVxDf1pI9D"
   },
   "source": [
    "\n",
    "### Passo 8: Treinar o modelo usando o Pipeline\n"
   ]
  },
  {
   "cell_type": "code",
   "execution_count": null,
   "metadata": {
    "colab": {
     "base_uri": "https://localhost:8080/",
     "height": 303
    },
    "id": "oOQ7LYj8pKVl",
    "outputId": "6e5c5786-9c91-4845-a8db-28ca390b4c53"
   },
   "outputs": [],
   "source": [
    "pipeline.fit(X_train, y_train)\n"
   ]
  },
  {
   "cell_type": "markdown",
   "metadata": {
    "id": "TtGjvMl0pNiR"
   },
   "source": [
    "### Passo 9: Fazer previsões no conjunto de teste\n"
   ]
  },
  {
   "cell_type": "code",
   "execution_count": null,
   "metadata": {
    "id": "VbNYcILwpO70"
   },
   "outputs": [],
   "source": [
    "y_pred = pipeline.predict(X_test)\n"
   ]
  },
  {
   "cell_type": "markdown",
   "metadata": {
    "id": "5xB9PGfypSCS"
   },
   "source": [
    "### Passo 10: Avaliar o modelo\n"
   ]
  },
  {
   "cell_type": "code",
   "execution_count": null,
   "metadata": {
    "colab": {
     "base_uri": "https://localhost:8080/"
    },
    "id": "pNvagQLApT9M",
    "outputId": "31b6c984-6d8f-495d-9c76-adc893919c44"
   },
   "outputs": [],
   "source": [
    "print(\"Acurácia:\", accuracy_score(y_test, y_pred))\n",
    "print(\"Relatório de Classificação:\")\n",
    "print(classification_report(y_test, y_pred))\n"
   ]
  },
  {
   "cell_type": "markdown",
   "metadata": {
    "id": "fRGJpGd1pYE-"
   },
   "source": [
    "\n",
    "### Passo 11: Visualizar Importância das Features\n"
   ]
  },
  {
   "cell_type": "code",
   "execution_count": null,
   "metadata": {
    "colab": {
     "base_uri": "https://localhost:8080/",
     "height": 488
    },
    "id": "h7JR1LWGpa21",
    "outputId": "82e626aa-ac72-4e99-a382-74cd0dc36092"
   },
   "outputs": [],
   "source": [
    "feature_importances = pipeline.named_steps['classifier'].feature_importances_\n",
    "feature_names = num_features\n",
    "\n",
    "plt.figure(figsize=(8,5))\n",
    "sns.barplot(x=feature_importances, y=feature_names)\n",
    "plt.xlabel(\"Importância da Feature\")\n",
    "plt.ylabel(\"Variável\")\n",
    "plt.title(\"Importância das Features no Modelo Random Forest\")\n",
    "plt.show()\n"
   ]
  }
 ],
 "metadata": {
  "colab": {
   "provenance": []
  },
  "kernelspec": {
   "display_name": "Python 3 (ipykernel)",
   "language": "python",
   "name": "python3"
  },
  "language_info": {
   "codemirror_mode": {
    "name": "ipython",
    "version": 3
   },
   "file_extension": ".py",
   "mimetype": "text/x-python",
   "name": "python",
   "nbconvert_exporter": "python",
   "pygments_lexer": "ipython3",
   "version": "3.12.8"
  }
 },
 "nbformat": 4,
 "nbformat_minor": 4
}
