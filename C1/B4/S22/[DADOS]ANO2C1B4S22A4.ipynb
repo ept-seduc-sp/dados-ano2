{
 "cells": [
  {
   "cell_type": "markdown",
   "id": "88fe28b9-c4f7-45b2-9090-ee7a6f53ae5d",
   "metadata": {},
   "source": [
    "\n",
    "<h1 style=\"text-align: center;\">CIÊNCIA DE DADOS</h1>\n",
    "<h1 style=\"text-align: center;\">Roteiro de Atividade Prática</h1>\n",
    "<br>\n",
    "<br>\n",
    "\n",
    "Nome: ______________________________________________________________________________________      \n",
    "\n",
    "Turma: ______________\n",
    "\n",
    "\n",
    "**Componente:** Aprendizagem de Máquina\n",
    "<br>\n",
    "**Unidade Curricular:** Modelos, Algoritmos e Estimadores\n",
    "<br>\n",
    "**Tema da Semana:** K-Means\n",
    "<br>\n"
   ]
  },
  {
   "attachments": {},
   "cell_type": "markdown",
   "id": "0a9821e8-cd80-4fbe-8d42-60f1b2f226fe",
   "metadata": {},
   "source": [
    "## Aula 4: Exercícios de fixação"
   ]
  },
  {
   "cell_type": "markdown",
   "id": "0359ab80-1dc3-4783-9382-3cc736a30c17",
   "metadata": {},
   "source": [
    "## Tarefa\n",
    "- Execute o código abaixo.\n",
    "\n",
    "- Se as bibliotecas não tiverem instaladas, instale-as.\n",
    "\n",
    "- Acompanhe as instruções do código.\n",
    "\n",
    "- Complete o código faltante '#TO DO' seguindo as instruções fornecidas."
   ]
  },
  {
   "cell_type": "markdown",
   "id": "6b7ab419-aaac-4fa1-87c5-e8fd69b364c0",
   "metadata": {},
   "source": [
    "### 1) Importando as bibliotecas necessárias"
   ]
  },
  {
   "cell_type": "code",
   "execution_count": null,
   "id": "569cf12f-001a-47b5-85f5-75b5f3362c4e",
   "metadata": {},
   "outputs": [],
   "source": [
    "import pandas as pd\n",
    "import numpy as np\n",
    "import matplotlib.pyplot as plt\n",
    "from sklearn.preprocessing import StandardScaler\n",
    "from sklearn.cluster import KMeans\n",
    "from sklearn.decomposition import PCA\n",
    "from sklearn.datasets import make_blobs"
   ]
  },
  {
   "cell_type": "markdown",
   "id": "2bd85f84-f0db-4085-bb5d-f129ddfd6bc4",
   "metadata": {},
   "source": [
    "### 2) Criar um base de dados aleatório com 1000 registros e 5 features"
   ]
  },
  {
   "cell_type": "code",
   "execution_count": null,
   "id": "adff167e-86a1-43cf-b8bc-deec57e08e7a",
   "metadata": {},
   "outputs": [],
   "source": [
    "X, _ = make_blobs(n_samples=\"\"\" # TODO \"\"\" , centers=8, n_features= \"\"\" # TODO \"\"\", random_state=42)"
   ]
  },
  {
   "cell_type": "markdown",
   "id": "c0404968-22e2-4f3c-9189-068584016762",
   "metadata": {},
   "source": [
    "### 3) Normalizar os dados"
   ]
  },
  {
   "cell_type": "code",
   "execution_count": null,
   "id": "c4862066-c8ff-4151-b968-cc86ac5d4617",
   "metadata": {},
   "outputs": [],
   "source": [
    "scaler = \"\"\" # TODO \"\"\"\n",
    "X_scaled = scaler.\"\"\" # TODO \"\"\""
   ]
  },
  {
   "cell_type": "markdown",
   "id": "df6903b3-c0e8-41a8-9cce-019917b2d886",
   "metadata": {},
   "source": [
    "### 4) Determinar o número ideal de clusters usando o método do cotovelo"
   ]
  },
  {
   "cell_type": "code",
   "execution_count": null,
   "id": "2648f108-b606-4c7a-909b-b05ae8ba8589",
   "metadata": {},
   "outputs": [],
   "source": [
    "inertia = []\n",
    "k_values = range(1, 11)\n",
    "\n",
    "for k in k_values:\n",
    "    \"\"\" # TODO \"\"\"\n",
    "    inertia.append(kmeans.inertia_)\n",
    "\n",
    "# Plotar o método do cotovelo\n",
    "plt.figure(figsize=(8, 5))\n",
    "plt.plot(k_values, inertia, marker='o', linestyle='-')\n",
    "plt.xlabel('Número de Clusters (K)')\n",
    "plt.ylabel('Inércia')\n",
    "plt.title('Método do Cotovelo para Seleção de K')\n",
    "plt.show()"
   ]
  },
  {
   "cell_type": "markdown",
   "id": "38e3fb2a-b33a-4721-a225-787d496935c4",
   "metadata": {},
   "source": [
    "### 5) Determinar o melhor método de inicialização"
   ]
  },
  {
   "cell_type": "code",
   "execution_count": null,
   "id": "4c9689ff-a81f-445e-9ada-255c3a7ecdbc",
   "metadata": {},
   "outputs": [],
   "source": [
    "kmeans_random = \"\"\" # TODO \"\"\"\n",
    "kmeans_plus = \"\"\" # TODO \"\"\"\n",
    "\n",
    "# Treinar os modelos\n",
    "y_kmeans_random = \"\"\" # TODO \"\"\"\n",
    "y_kmeans_plus = \"\"\" # TODO \"\"\"\n",
    "\n",
    "# Comparação dos clusters\n",
    "fig, axes = plt.subplots(1, 2, figsize=(12, 5))\n",
    "\n",
    "# Inicialização Aleatória\n",
    "axes[0].scatter(X_scaled[:, 0], X_scaled[:, 1], c=y_kmeans_random, cmap='viridis', edgecolors='k')\n",
    "axes[0].set_title(\"Clusters com Inicialização Aleatória\")\n",
    "axes[0].set_xlabel(\"Feature 1\")\n",
    "axes[0].set_ylabel(\"Feature 2\")\n",
    "\n",
    "# K-Means++\n",
    "axes[1].scatter(X_scaled[:, 0], X_scaled[:, 1], c=y_kmeans_plus, cmap='viridis', edgecolors='k')\n",
    "axes[1].set_title(\"Clusters com K-Means++\")\n",
    "axes[1].set_xlabel(\"Feature 1\")\n",
    "axes[1].set_ylabel(\"Feature 2\")\n",
    "\n",
    "plt.show()\n"
   ]
  },
  {
   "cell_type": "markdown",
   "id": "ca9b48f7-e4e8-47d3-810b-9314356d0902",
   "metadata": {},
   "source": [
    "### 6) Determinar o melhor método de parada"
   ]
  },
  {
   "cell_type": "code",
   "execution_count": null,
   "id": "d0a006c5-64aa-4a70-a88d-ae968cc72643",
   "metadata": {},
   "outputs": [],
   "source": [
    "kmeans_tol_1e_4 = \"\"\" # TODO \"\"\"\n",
    "kmeans_tol_1e_2 = \"\"\" # TODO \"\"\"\n",
    "\n",
    "# Treinar os modelos\n",
    "y_kmeans_tol_1e_4 = \"\"\" # TODO \"\"\"\n",
    "y_kmeans_tol_1e_2 = \"\"\" # TODO \"\"\"\n",
    "\n",
    "# Comparação dos clusters com diferentes critérios de parada\n",
    "fig, axes = plt.subplots(1, 2, figsize=(12, 5))\n",
    "\n",
    "# Tolerância = 1e-4 (mais rigoroso)\n",
    "axes[0].scatter(X_scaled[:, 0], X_scaled[:, 1], c=y_kmeans_tol_1e_4, cmap='viridis', edgecolors='k')\n",
    "axes[0].set_title(\"Clusters com tol=1e-4 (Maior Precisão)\")\n",
    "axes[0].set_xlabel(\"Feature 1\")\n",
    "axes[0].set_ylabel(\"Feature 2\")\n",
    "\n",
    "# Tolerância = 1e-2 (menos rigoroso)\n",
    "axes[1].scatter(X_scaled[:, 0], X_scaled[:, 1], c=y_kmeans_tol_1e_2, cmap='viridis', edgecolors='k')\n",
    "axes[1].set_title(\"Clusters com tol=1e-2 (Menos Iterações)\")\n",
    "axes[1].set_xlabel(\"Feature 1\")\n",
    "axes[1].set_ylabel(\"Feature 2\")\n",
    "\n",
    "plt.show()\n"
   ]
  }
 ],
 "metadata": {
  "kernelspec": {
   "display_name": "Python 3 (ipykernel)",
   "language": "python",
   "name": "python3"
  },
  "language_info": {
   "codemirror_mode": {
    "name": "ipython",
    "version": 3
   },
   "file_extension": ".py",
   "mimetype": "text/x-python",
   "name": "python",
   "nbconvert_exporter": "python",
   "pygments_lexer": "ipython3",
   "version": "3.12.8"
  }
 },
 "nbformat": 4,
 "nbformat_minor": 5
}
