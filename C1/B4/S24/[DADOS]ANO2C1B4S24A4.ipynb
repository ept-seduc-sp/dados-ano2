{
 "cells": [
  {
   "cell_type": "markdown",
   "metadata": {},
   "source": [
    "\n",
    "<h1 style=\"text-align: center;\">CIÊNCIA DE DADOS</h1>\n",
    "<h1 style=\"text-align: center;\">Roteiro de Atividade Prática</h1>\n",
    "<br>\n",
    "<br>\n",
    "\n",
    "Nome: ______________________________________________________________________________________      \n",
    "\n",
    "Turma: ______________\n",
    "\n",
    "\n",
    "**Componente:** Aprendizagem de Máquina\n",
    "<br>\n",
    "**Unidade Curricular:** Modelos, Algoritmos e Estimadores\n",
    "<br>\n",
    "**Tema da Semana:** Hierarchical Clustering\n",
    "<br>\n"
   ]
  },
  {
   "attachments": {},
   "cell_type": "markdown",
   "metadata": {},
   "source": [
    "# Aula 4: Exercício de fixação"
   ]
  },
  {
   "cell_type": "markdown",
   "metadata": {},
   "source": [
    "## Tarefa\n",
    "- Executem o código abaixo.\n",
    "\n",
    "- Se as bibliotecas não tiverem instaladas, instale-as.\n",
    "\n",
    "- Acompanhem as instruções.\n",
    "\n",
    "- Observem a execução e discutam com seus colegas e professor sobre os clusters criados e a localização dos centróides.\n"
   ]
  },
  {
   "cell_type": "markdown",
   "metadata": {
    "id": "fLYVJOQkWZTw"
   },
   "source": [
    "### Importar bibliotecas necessárias"
   ]
  },
  {
   "cell_type": "code",
   "execution_count": null,
   "metadata": {
    "id": "XkUfNCcmWcZ9"
   },
   "outputs": [],
   "source": [
    "import numpy as np\n",
    "import matplotlib.pyplot as plt\n",
    "import seaborn as sns\n",
    "from scipy.cluster.hierarchy import dendrogram, linkage, fcluster\n",
    "from sklearn.datasets import make_blobs\n",
    "from sklearn.preprocessing import StandardScaler\n"
   ]
  },
  {
   "cell_type": "markdown",
   "metadata": {
    "id": "1EBvXr_HWebG"
   },
   "source": [
    "### Gerar dados simulados (grupos distintos)"
   ]
  },
  {
   "cell_type": "code",
   "execution_count": null,
   "metadata": {
    "id": "oLTBftlVWgy4"
   },
   "outputs": [],
   "source": [
    "X, _ = make_blobs(n_samples=100, centers=3, cluster_std=1.5, random_state=42)"
   ]
  },
  {
   "cell_type": "markdown",
   "metadata": {
    "id": "bdu2QtJzWi6X"
   },
   "source": [
    "### Normalizar os dados"
   ]
  },
  {
   "cell_type": "code",
   "execution_count": null,
   "metadata": {
    "id": "xGpBiYSQWk-O"
   },
   "outputs": [],
   "source": [
    "scaler = StandardScaler()\n",
    "X_scaled = scaler.fit_transform(X)\n"
   ]
  },
  {
   "cell_type": "markdown",
   "metadata": {
    "id": "LLTd6R6vWqNf"
   },
   "source": [
    "\n",
    "### Criar dendrograma usando Complete Linkage"
   ]
  },
  {
   "cell_type": "code",
   "execution_count": null,
   "metadata": {
    "id": "HfjEbYEIWsat"
   },
   "outputs": [],
   "source": [
    "Z = linkage(X_scaled, method='complete')"
   ]
  },
  {
   "cell_type": "markdown",
   "metadata": {
    "id": "DtgFo3fiWugV"
   },
   "source": [
    "### Exibir o dendrograma"
   ]
  },
  {
   "cell_type": "code",
   "execution_count": null,
   "metadata": {
    "colab": {
     "base_uri": "https://localhost:8080/",
     "height": 463
    },
    "id": "P8-PJ1jrWwq2",
    "outputId": "2003d5de-2bfb-4a6f-bd02-263e8c3b1f93"
   },
   "outputs": [],
   "source": [
    "\n",
    "plt.figure(figsize=(10, 5))\n",
    "plt.title(\"Dendrograma - Complete Linkage\")\n",
    "dendrogram(Z)\n",
    "plt.axhline(y=5, color='r', linestyle='--', label=\"Critério de Corte\")\n",
    "plt.legend()\n",
    "plt.show()\n"
   ]
  },
  {
   "cell_type": "markdown",
   "metadata": {
    "id": "3r6WoOz9Wyh-"
   },
   "source": [
    "\n",
    "### Criar clusters com base no critério de corte\n"
   ]
  },
  {
   "cell_type": "code",
   "execution_count": null,
   "metadata": {
    "id": "vF58PisVW2tG"
   },
   "outputs": [],
   "source": [
    "max_d = 5  # Definir critério de corte\n",
    "clusters = fcluster(Z, max_d, criterion='distance')\n"
   ]
  },
  {
   "cell_type": "markdown",
   "metadata": {
    "id": "olxbOm4FW4a2"
   },
   "source": [
    "\n",
    "### Exibir clusters no gráfico\n"
   ]
  },
  {
   "cell_type": "code",
   "execution_count": null,
   "metadata": {
    "colab": {
     "base_uri": "https://localhost:8080/",
     "height": 545
    },
    "id": "PS8N2vRhmZAc",
    "outputId": "64e12b10-f410-43a6-a351-e542383524d4"
   },
   "outputs": [],
   "source": [
    "plt.figure(figsize=(8, 6))\n",
    "sns.scatterplot(x=X_scaled[:, 0], y=X_scaled[:, 1], hue=clusters, palette=\"deep\")\n",
    "plt.title(\"Clusters Identificados pelo Hierarchical Clustering\")\n",
    "plt.show()\n"
   ]
  }
 ],
 "metadata": {
  "colab": {
   "provenance": []
  },
  "kernelspec": {
   "display_name": "Python 3 (ipykernel)",
   "language": "python",
   "name": "python3"
  },
  "language_info": {
   "codemirror_mode": {
    "name": "ipython",
    "version": 3
   },
   "file_extension": ".py",
   "mimetype": "text/x-python",
   "name": "python",
   "nbconvert_exporter": "python",
   "pygments_lexer": "ipython3",
   "version": "3.12.8"
  }
 },
 "nbformat": 4,
 "nbformat_minor": 4
}
