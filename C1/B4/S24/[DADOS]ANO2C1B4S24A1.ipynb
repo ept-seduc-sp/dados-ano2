{
 "cells": [
  {
   "cell_type": "markdown",
   "metadata": {},
   "source": [
    "\n",
    "<h1 style=\"text-align: center;\">CIÊNCIA DE DADOS</h1>\n",
    "<h1 style=\"text-align: center;\">Roteiro de Atividade Prática</h1>\n",
    "<br>\n",
    "<br>\n",
    "\n",
    "Nome: ______________________________________________________________________________________      \n",
    "\n",
    "Turma: ______________\n",
    "\n",
    "\n",
    "**Componente:** Aprendizagem de Máquina\n",
    "<br>\n",
    "**Unidade Curricular:** Modelos, Algoritmos e Estimadores\n",
    "<br>\n",
    "**Tema da Semana:** Hierarchical Clustering\n",
    "<br>\n"
   ]
  },
  {
   "attachments": {},
   "cell_type": "markdown",
   "metadata": {},
   "source": [
    "# Aula 1:  Introdução ao Hierarchical Clustering"
   ]
  },
  {
   "cell_type": "markdown",
   "metadata": {},
   "source": [
    "## Tarefa\n",
    "- Executem o código abaixo.\n",
    "\n",
    "- Se as bibliotecas não tiverem instaladas, instale-as.\n",
    "\n",
    "- Acompanhem as instruções.\n",
    "\n",
    "- Observem a execução e discutam com seus colegas e professor sobre os clusters criados e a localização dos centróides.\n"
   ]
  },
  {
   "cell_type": "markdown",
   "metadata": {
    "id": "q3CJG2kUt8rT"
   },
   "source": [
    "# Como Ler um Dendrograma\n",
    "## Etapa 1: Importação das Bibliotecas\n",
    "### Primeiro, importamos as bibliotecas necessárias para a construção do dendrograma."
   ]
  },
  {
   "cell_type": "code",
   "execution_count": null,
   "metadata": {
    "colab": {
     "base_uri": "https://localhost:8080/"
    },
    "id": "jhxqfHk9uKKL",
    "outputId": "172d460e-a467-42ae-ddf6-58ea44d8ca86"
   },
   "outputs": [],
   "source": [
    "import numpy as np\n",
    "import matplotlib.pyplot as plt\n",
    "import seaborn as sns\n",
    "from scipy.cluster.hierarchy import dendrogram, linkage, fcluster\n",
    "from sklearn.datasets import make_blobs\n",
    "from sklearn.preprocessing import StandardScaler\n",
    "\n",
    "print(\"Bibliotecas importadas com sucesso!\")\n"
   ]
  },
  {
   "cell_type": "markdown",
   "metadata": {
    "id": "GCyNo37kuLPq"
   },
   "source": [
    "## Etapa 2: Gerando Dados Simulados\n",
    "### Aqui criamos um conjunto de dados com 50 pontos e 4 grupos distintos.\n"
   ]
  },
  {
   "cell_type": "code",
   "execution_count": null,
   "metadata": {
    "colab": {
     "base_uri": "https://localhost:8080/"
    },
    "id": "UWDq1UvS8Os7",
    "outputId": "518fa130-fa2b-49aa-f2c4-d956846ad20b"
   },
   "outputs": [],
   "source": [
    "\n",
    "\n",
    "X, _ = make_blobs(n_samples=50, centers=4, cluster_std=1.5, random_state=42)\n",
    "print(\"Conjunto de dados gerado com sucesso!\")\n"
   ]
  },
  {
   "cell_type": "markdown",
   "metadata": {
    "id": "cZsY7X6v8QFS"
   },
   "source": [
    "## Etapa 3: Normalização dos Dados\n",
    "### Para garantir que os dados estejam na mesma escala, aplicamos a normalização.\n"
   ]
  },
  {
   "cell_type": "code",
   "execution_count": null,
   "metadata": {
    "colab": {
     "base_uri": "https://localhost:8080/"
    },
    "id": "vZj7fNUY8fbp",
    "outputId": "4cbde361-2913-43c5-ae47-8da9088d1978"
   },
   "outputs": [],
   "source": [
    "scaler = StandardScaler()\n",
    "X_scaled = scaler.fit_transform(X)\n",
    "print(\"Dados normalizados!\")"
   ]
  },
  {
   "cell_type": "markdown",
   "metadata": {
    "id": "v0EIPEld8iJq"
   },
   "source": [
    "\n",
    "\n",
    "## Etapa 4: Criando o Dendrograma\n",
    "### O dendrograma é uma árvore hierárquica que nos permite visualizar a fusão de clusters.\n"
   ]
  },
  {
   "cell_type": "code",
   "execution_count": null,
   "metadata": {
    "colab": {
     "base_uri": "https://localhost:8080/"
    },
    "id": "orJiwstF8rcj",
    "outputId": "bc5c7d65-7998-41c1-b8b2-87c54964b83a"
   },
   "outputs": [],
   "source": [
    "Z = linkage(X_scaled, method='ward')\n",
    "\n",
    "print(\"O dendrograma mostra a relação hierárquica entre os clusters.\")\n",
    "print(\"- O eixo X representa os pontos de dados (P1, P2, etc.).\")\n",
    "print(\"- O eixo Y representa a distância (ou dissimilaridade) entre os clusters.\")\n",
    "print(\"- Linhas horizontais indicam quando os clusters foram unidos.\")\n",
    "print(\"- Linhas verticais mostram o nível da hierarquia. Quanto maior a linha, mais distantes estavam os clusters antes de se unirem.\")\n"
   ]
  },
  {
   "cell_type": "markdown",
   "metadata": {
    "id": "LMvUZ5K28syp"
   },
   "source": [
    "##  Etapa 5: Plotando o Dendrograma"
   ]
  },
  {
   "cell_type": "code",
   "execution_count": null,
   "metadata": {
    "colab": {
     "base_uri": "https://localhost:8080/",
     "height": 692
    },
    "id": "CJu6xRmg9KPz",
    "outputId": "9c92fc6b-8d83-43d8-9ca2-8f2a1c5c9e4e"
   },
   "outputs": [],
   "source": [
    "plt.figure(figsize=(12, 6))\n",
    "plt.title(\"Dendrograma - Como Interpretar\")\n",
    "dendrogram(Z, labels=[f'P{i+1}' for i in range(len(X_scaled))])\n",
    "plt.axhline(y=4.5, color='b', linestyle='--', label=\"Ponto de Corte Alto (y = 4.5)\")\n",
    "plt.axhline(y=1.8, color='r', linestyle='--', label=\"Ponto de Corte Médio (y = 1.8)\")\n",
    "plt.axhline(y=1.0, color='g', linestyle='--', label=\"Ponto de Corte Baixo (y = 1.0)\")\n",
    "plt.legend()\n",
    "plt.xlabel(\"Pontos de Dados\")\n",
    "plt.ylabel(\"Distância (Dissimilaridade)\")\n",
    "plt.show()\n",
    "\n",
    "print(\"Como definir o número de clusters?\")\n",
    "print(\"- Olhe para os pontos de corte: As linhas azul (y = 4.5), vermelha (y = 1.8) e verde (y = 1.0) indicam diferentes cortes.\")\n",
    "print(\"- Conte quantas linhas verticais cruzam cada uma dessas linhas para ver como o número de clusters muda.\")\n",
    "print(\"- Neste exemplo:\")\n",
    "print(\"  - y = 4.5 resulta em aproximadamente 3 clusters.\")\n",
    "print(\"  - y = 1.8 resulta em aproximadamente 4 clusters.\")\n",
    "print(\"  - y = 1.0 resulta em aproximadamente 8 clusters.\")\n"
   ]
  },
  {
   "cell_type": "markdown",
   "metadata": {
    "id": "JkpqE6tG9SBR"
   },
   "source": [
    "## Etapa 6: Criando os Clusters\n",
    "### Aqui usamos os critérios de corte definidos anteriormente para segmentar os dados em clusters.\n"
   ]
  },
  {
   "cell_type": "code",
   "execution_count": null,
   "metadata": {
    "colab": {
     "base_uri": "https://localhost:8080/"
    },
    "id": "ZGuMlKNc9WlS",
    "outputId": "24e6dd6e-5ef7-432b-b7ed-ea6454745002"
   },
   "outputs": [],
   "source": [
    "y_cut_high = 4.5\n",
    "y_cut_mid = 1.8\n",
    "y_cut_low = 1.0\n",
    "\n",
    "grupos_high = fcluster(Z, y_cut_high, criterion='distance')\n",
    "grupos_mid = fcluster(Z, y_cut_mid, criterion='distance')\n",
    "grupos_low = fcluster(Z, y_cut_low, criterion='distance')\n",
    "\n",
    "print(f\"Clusters formados com y = 4.5: {len(np.unique(grupos_high))}\")\n",
    "print(f\"Clusters formados com y = 1.8: {len(np.unique(grupos_mid))}\")\n",
    "print(f\"Clusters formados com y = 1.0: {len(np.unique(grupos_low))}\")\n"
   ]
  },
  {
   "cell_type": "markdown",
   "metadata": {
    "id": "ZDMmwg6b9bZK"
   },
   "source": [
    "## Etapa 7: Visualizando os Clusters\n",
    "### Agora, plotamos os pontos em gráficos de dispersão coloridos por cluster.\n"
   ]
  },
  {
   "cell_type": "code",
   "execution_count": null,
   "metadata": {
    "colab": {
     "base_uri": "https://localhost:8080/",
     "height": 651
    },
    "id": "OpjWjDXv9ikE",
    "outputId": "04709aeb-c4d8-4824-9645-a6951219d593"
   },
   "outputs": [],
   "source": [
    "fig, axes = plt.subplots(1, 3, figsize=(18, 6))\n",
    "\n",
    "sns.scatterplot(x=X_scaled[:, 0], y=X_scaled[:, 1], hue=grupos_high, palette=\"deep\", ax=axes[0])\n",
    "axes[0].set_title(\"Clusters com y = 4.5\")\n",
    "axes[0].set_xlabel(\"Característica 1\")\n",
    "axes[0].set_ylabel(\"Característica 2\")\n",
    "\n",
    "sns.scatterplot(x=X_scaled[:, 0], y=X_scaled[:, 1], hue=grupos_mid, palette=\"deep\", ax=axes[1])\n",
    "axes[1].set_title(\"Clusters com y = 1.8\")\n",
    "axes[1].set_xlabel(\"Característica 1\")\n",
    "axes[1].set_ylabel(\"Característica 2\")\n",
    "\n",
    "sns.scatterplot(x=X_scaled[:, 0], y=X_scaled[:, 1], hue=grupos_low, palette=\"deep\", ax=axes[2])\n",
    "axes[2].set_title(\"Clusters com y = 1.0\")\n",
    "axes[2].set_xlabel(\"Característica 1\")\n",
    "axes[2].set_ylabel(\"Característica 2\")\n",
    "\n",
    "plt.show()\n",
    "\n",
    "print(\"Explicação Visual:\")\n",
    "print(\"- Se cortarmos o dendrograma mais alto (ex: y = 4.5), teremos menos clusters .\")\n",
    "print(\"- Se cortarmos no meio (ex: y = 1.8), teremos um número moderado de clusters .\")\n",
    "print(\"- Se cortarmos mais baixo (ex: y = 1.0), teremos mais clusters .\")\n",
    "print(\"- A decisão final depende do objetivo da análise.\")\n",
    "\n"
   ]
  }
 ],
 "metadata": {
  "colab": {
   "provenance": []
  },
  "kernelspec": {
   "display_name": "Python 3 (ipykernel)",
   "language": "python",
   "name": "python3"
  },
  "language_info": {
   "codemirror_mode": {
    "name": "ipython",
    "version": 3
   },
   "file_extension": ".py",
   "mimetype": "text/x-python",
   "name": "python",
   "nbconvert_exporter": "python",
   "pygments_lexer": "ipython3",
   "version": "3.12.8"
  }
 },
 "nbformat": 4,
 "nbformat_minor": 4
}
