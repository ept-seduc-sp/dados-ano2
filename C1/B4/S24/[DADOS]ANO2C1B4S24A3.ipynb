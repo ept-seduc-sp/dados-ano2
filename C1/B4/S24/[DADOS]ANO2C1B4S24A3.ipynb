{
 "cells": [
  {
   "cell_type": "markdown",
   "metadata": {},
   "source": [
    "\n",
    "<h1 style=\"text-align: center;\">CIÊNCIA DE DADOS</h1>\n",
    "<h1 style=\"text-align: center;\">Roteiro de Atividade Prática</h1>\n",
    "<br>\n",
    "<br>\n",
    "\n",
    "Nome: ______________________________________________________________________________________      \n",
    "\n",
    "Turma: ______________\n",
    "\n",
    "\n",
    "**Componente:** Aprendizagem de Máquina\n",
    "<br>\n",
    "**Unidade Curricular:** Modelos, Algoritmos e Estimadores\n",
    "<br>\n",
    "**Tema da Semana:** Hierarchical Clustering\n",
    "<br>\n"
   ]
  },
  {
   "cell_type": "markdown",
   "metadata": {},
   "source": [
    "# Aula 3: Aplicações práticas de Hierarchical Clustering"
   ]
  },
  {
   "cell_type": "markdown",
   "metadata": {
    "id": "S9i-3tjAPdsK"
   },
   "source": [
    "## Tarefa\n",
    "- Executem o código abaixo.\n",
    "\n",
    "- Se as bibliotecas não tiverem instaladas, instale-as.\n",
    "\n",
    "- Acompanhem as instruções.\n",
    "\n",
    "- Observem a execução e discutam com seus colegas e professor sobre os clusters criados e a localização dos centróides.\n"
   ]
  },
  {
   "cell_type": "markdown",
   "metadata": {
    "id": "9VP0hM99Pilg"
   },
   "source": [
    "# Hierarchical Clustering no Dataset Online Retail"
   ]
  },
  {
   "cell_type": "markdown",
   "metadata": {
    "id": "aahOxQzVPnJg"
   },
   "source": [
    "##  Etapa 1: Importação das Bibliotecas"
   ]
  },
  {
   "cell_type": "code",
   "execution_count": null,
   "metadata": {
    "id": "35Fvq2zBPqkS"
   },
   "outputs": [],
   "source": [
    "import pandas as pd\n",
    "import numpy as np\n",
    "import matplotlib.pyplot as plt\n",
    "import seaborn as sns\n",
    "from scipy.cluster.hierarchy import dendrogram, linkage, fcluster\n",
    "from sklearn.preprocessing import StandardScaler\n",
    "\n",
    "print(\"✔️ Bibliotecas importadas com sucesso!\")\n"
   ]
  },
  {
   "cell_type": "markdown",
   "metadata": {
    "id": "pofTAX5NPrmw"
   },
   "source": [
    "## Etapa 2: Carregando o Dataset\n",
    "### Substitua o caminho pelo local onde seu arquivo 'online_retail.csv' está salvo.\n"
   ]
  },
  {
   "cell_type": "code",
   "execution_count": null,
   "metadata": {
    "id": "yDFz9G4KPy1Y"
   },
   "outputs": [],
   "source": [
    "df = pd.read_csv(\"[DADOS]ANO2C1B4S24A3_online_retail.csv\", encoding=\"ISO-8859-1\")\n"
   ]
  },
  {
   "cell_type": "markdown",
   "metadata": {
    "id": "YIHF2iXTP2CA"
   },
   "source": [
    "\n",
    "### Exibir as primeiras linhas do dataset\n"
   ]
  },
  {
   "cell_type": "code",
   "execution_count": null,
   "metadata": {
    "id": "C20SD_slP4Gp"
   },
   "outputs": [],
   "source": [
    "df.head()"
   ]
  },
  {
   "cell_type": "markdown",
   "metadata": {
    "id": "CRhaljqMP6Qo"
   },
   "source": [
    "##  Etapa 3: Pré-Processamento dos Dados\n",
    "### Removendo valores nulos\n"
   ]
  },
  {
   "cell_type": "code",
   "execution_count": null,
   "metadata": {
    "id": "FySEQic4QAmZ"
   },
   "outputs": [],
   "source": [
    "df = df.dropna()"
   ]
  },
  {
   "cell_type": "markdown",
   "metadata": {
    "id": "9aFMaAGXQCzB"
   },
   "source": [
    "### Removendo valores negativos ou errados na quantidade e preço"
   ]
  },
  {
   "cell_type": "code",
   "execution_count": null,
   "metadata": {
    "id": "XzsUj34PQFkg"
   },
   "outputs": [],
   "source": [
    "df = df[(df['Quantity'] > 0) & (df['UnitPrice'] > 0)]\n"
   ]
  },
  {
   "cell_type": "markdown",
   "metadata": {
    "id": "zEGlDzF9QICP"
   },
   "source": [
    "\n",
    "### Criando uma métrica de gasto total\n"
   ]
  },
  {
   "cell_type": "code",
   "execution_count": null,
   "metadata": {
    "id": "6OGUk2i5QJxp"
   },
   "outputs": [],
   "source": [
    "df['TotalSpent'] = df['Quantity'] * df['UnitPrice']\n"
   ]
  },
  {
   "cell_type": "markdown",
   "metadata": {
    "id": "rbpEMLMlQLdA"
   },
   "source": [
    "\n",
    "### Selecionando colunas relevantes para clustering\n"
   ]
  },
  {
   "cell_type": "code",
   "execution_count": null,
   "metadata": {
    "id": "4rLnlPo6QOsI"
   },
   "outputs": [],
   "source": [
    "df_cluster = df.groupby('CustomerID').agg({'TotalSpent': 'sum', 'Quantity': 'sum'}).reset_index()\n",
    "\n"
   ]
  },
  {
   "cell_type": "markdown",
   "metadata": {
    "id": "NC2iXDUtQQLC"
   },
   "source": [
    "### Normalizando os dados\n"
   ]
  },
  {
   "cell_type": "code",
   "execution_count": null,
   "metadata": {
    "id": "VXRaPKZhQSi3"
   },
   "outputs": [],
   "source": [
    "scaler = StandardScaler()\n",
    "df_scaled = scaler.fit_transform(df_cluster[['TotalSpent', 'Quantity']])\n",
    "\n",
    "print(\"✔️ Dados normalizados e prontos para clustering!\")\n"
   ]
  },
  {
   "cell_type": "markdown",
   "metadata": {
    "id": "_5RAEt8uQVwR"
   },
   "source": [
    "## Etapa 4: Criando o Dendrograma\n",
    "###  Execute o código e analise o dendrograma gerado.\n"
   ]
  },
  {
   "cell_type": "code",
   "execution_count": null,
   "metadata": {
    "id": "DXVsmb6uQapx"
   },
   "outputs": [],
   "source": [
    "Z = linkage(df_scaled, method='ward')\n",
    "\n",
    "plt.figure(figsize=(12, 6))\n",
    "plt.title(\"Dendrograma - Hierarchical Clustering\")\n",
    "dendrogram(Z)\n",
    "plt.xlabel(\"Clientes\")\n",
    "plt.ylabel(\"Distância (Dissimilaridade)\")\n",
    "plt.show()\n",
    "\n",
    "print(\"✔️ Dendrograma criado com sucesso!\")"
   ]
  },
  {
   "cell_type": "markdown",
   "metadata": {
    "id": "vfoERegxQqkQ"
   },
   "source": [
    "\n",
    "##  Etapa 5: Modificando o Critério de Corte (max_d)\n"
   ]
  },
  {
   "cell_type": "code",
   "execution_count": null,
   "metadata": {
    "id": "mdph3whmQuVY"
   },
   "outputs": [],
   "source": [
    "max_d = 7  # Critério de corte inicial, pode ser ajustado\n",
    "clusters = fcluster(Z, max_d, criterion='distance')\n",
    "\n",
    "print(f\"✔️ Número de clusters formados com max_d = {max_d}: {len(np.unique(clusters))}\")\n"
   ]
  },
  {
   "cell_type": "markdown",
   "metadata": {
    "id": "S6Tf2UdcQxyD"
   },
   "source": [
    "\n",
    "##  Etapa 6: Visualizando os Clusters\n"
   ]
  },
  {
   "cell_type": "code",
   "execution_count": null,
   "metadata": {
    "id": "JHHgbT4lQ2KP"
   },
   "outputs": [],
   "source": [
    "plt.figure(figsize=(8, 6))\n",
    "sns.scatterplot(x=df_scaled[:, 0], y=df_scaled[:, 1], hue=clusters, palette=\"deep\")\n",
    "plt.title(\"Clusters Identificados pelo Hierarchical Clustering\")\n",
    "plt.xlabel(\"Total Gasto Normalizado\")\n",
    "plt.ylabel(\"Quantidade Comprada Normalizada\")\n",
    "plt.show()\n"
   ]
  },
  {
   "cell_type": "markdown",
   "metadata": {
    "id": "ar0gC2qOQ4s3"
   },
   "source": [
    "\n",
    "## Etapa 7: Responda às Perguntas\n",
    "\n",
    "1️⃣ Quantos clusters foram gerados com o critério de corte em max_d = 7?\n",
    "\n",
    "2️⃣ O que acontece se aumentarmos ou diminuirmos max_d?\n",
    "\n",
    "3️⃣ Os clusters encontrados fazem sentido em relação aos clientes do conjunto de dados?\n",
    "\n",
    "4️⃣ Se estivéssemos analisando clientes de um e-commerce, como poderíamos definir o critério de corte?\n"
   ]
  }
 ],
 "metadata": {
  "colab": {
   "provenance": []
  },
  "kernelspec": {
   "display_name": "Python 3 (ipykernel)",
   "language": "python",
   "name": "python3"
  },
  "language_info": {
   "codemirror_mode": {
    "name": "ipython",
    "version": 3
   },
   "file_extension": ".py",
   "mimetype": "text/x-python",
   "name": "python",
   "nbconvert_exporter": "python",
   "pygments_lexer": "ipython3",
   "version": "3.12.8"
  }
 },
 "nbformat": 4,
 "nbformat_minor": 4
}
