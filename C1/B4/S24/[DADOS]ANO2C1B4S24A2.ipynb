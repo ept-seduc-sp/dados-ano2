{
 "cells": [
  {
   "cell_type": "markdown",
   "metadata": {},
   "source": [
    "\n",
    "<h1 style=\"text-align: center;\">CIÊNCIA DE DADOS</h1>\n",
    "<h1 style=\"text-align: center;\">Roteiro de Atividade Prática</h1>\n",
    "<br>\n",
    "<br>\n",
    "\n",
    "Nome: ______________________________________________________________________________________      \n",
    "\n",
    "Turma: ______________\n",
    "\n",
    "\n",
    "**Componente:** Aprendizagem de Máquina\n",
    "<br>\n",
    "**Unidade Curricular:** Modelos, Algoritmos e Estimadores\n",
    "<br>\n",
    "**Tema da Semana:** Hierarchical Clustering\n",
    "<br>\n"
   ]
  },
  {
   "attachments": {},
   "cell_type": "markdown",
   "metadata": {},
   "source": [
    "# Aula 2: Hiperparâmetros do Hierarchical Clustering"
   ]
  },
  {
   "cell_type": "markdown",
   "metadata": {},
   "source": [
    "## Tarefa\n",
    "- Executem o código abaixo.\n",
    "\n",
    "- Se as bibliotecas não tiverem instaladas, instale-as.\n",
    "\n",
    "- Acompanhem as instruções.\n",
    "\n",
    "- Observem a execução e discutam com seus colegas e professor sobre os clusters criados e a localização dos centróides.\n"
   ]
  },
  {
   "cell_type": "markdown",
   "metadata": {
    "id": "pf-K_lyRBiDO"
   },
   "source": [
    "# Análise de Hierarchical Clustering com diferentes métodos de Linkage\n",
    "\n",
    "## Etapa 1: Importação das bibliotecas"
   ]
  },
  {
   "cell_type": "code",
   "execution_count": null,
   "metadata": {
    "colab": {
     "base_uri": "https://localhost:8080/"
    },
    "id": "sREPT5f-Bq7e",
    "outputId": "93a339c7-2bc8-4846-95fc-a151e8521ce1"
   },
   "outputs": [],
   "source": [
    "import numpy as np\n",
    "import pandas as pd\n",
    "import matplotlib.pyplot as plt\n",
    "import seaborn as sns\n",
    "from scipy.cluster.hierarchy import dendrogram, linkage, fcluster\n",
    "from sklearn.preprocessing import StandardScaler\n",
    "from sklearn.datasets import make_blobs\n",
    "\n",
    "print(\"✔️ Bibliotecas importadas com sucesso!\")\n"
   ]
  },
  {
   "cell_type": "markdown",
   "metadata": {
    "id": "Ya2DXr3YBxpF"
   },
   "source": [
    "##  Etapa 2: Gerando dados simulados (supermercado ou dataset conhecido)\n",
    "### Criamos um conjunto de dados simulando padrões de compra em um supermercado.\n"
   ]
  },
  {
   "cell_type": "code",
   "execution_count": null,
   "metadata": {
    "id": "6zdUxAzrB2ge"
   },
   "outputs": [],
   "source": [
    "X, _ = make_blobs(n_samples=100, centers=4, cluster_std=1.5, random_state=42)"
   ]
  },
  {
   "cell_type": "markdown",
   "metadata": {
    "id": "g70Ig1QFB7RW"
   },
   "source": [
    "\n",
    "\n",
    "### Convertendo para DataFrame\n"
   ]
  },
  {
   "cell_type": "code",
   "execution_count": null,
   "metadata": {
    "colab": {
     "base_uri": "https://localhost:8080/",
     "height": 223
    },
    "id": "ij2QfGuQB96G",
    "outputId": "b861681d-f0d5-43ec-e005-987c25aa8a5c"
   },
   "outputs": [],
   "source": [
    "colunas = ['Frequência de Compra', 'Valor Médio Gasto']\n",
    "df = pd.DataFrame(X, columns=colunas)\n",
    "print(\"✔️ Conjunto de dados gerado com sucesso!\")\n",
    "df.head()\n"
   ]
  },
  {
   "cell_type": "markdown",
   "metadata": {
    "id": "hOi6SQ4uCAh3"
   },
   "source": [
    "\n",
    "## Etapa 3: Normalização dos dados\n"
   ]
  },
  {
   "cell_type": "code",
   "execution_count": null,
   "metadata": {
    "colab": {
     "base_uri": "https://localhost:8080/"
    },
    "id": "ABJC-inoCDy1",
    "outputId": "620f8321-30ae-4a3b-be18-0a710058740f"
   },
   "outputs": [],
   "source": [
    "scaler = StandardScaler()\n",
    "X_scaled = scaler.fit_transform(X)\n",
    "print(\"✔️ Dados normalizados!\")\n"
   ]
  },
  {
   "cell_type": "markdown",
   "metadata": {
    "id": "afcWyNZqCGl1"
   },
   "source": [
    "## Etapa 4: Criando e comparando diferentes métodos de Linkage\n"
   ]
  },
  {
   "cell_type": "code",
   "execution_count": null,
   "metadata": {
    "colab": {
     "base_uri": "https://localhost:8080/",
     "height": 865
    },
    "id": "tanQNezdCMUk",
    "outputId": "d5ff824f-bc08-402c-a9d0-90e5e3bcba30"
   },
   "outputs": [],
   "source": [
    "linkage_methods = ['single', 'complete', 'average', 'ward']\n",
    "\n",
    "plt.figure(figsize=(15, 10))\n",
    "for i, method in enumerate(linkage_methods):\n",
    "    plt.subplot(2, 2, i + 1)\n",
    "    plt.title(f\"Dendrograma - Linkage: {method.capitalize()}\")\n",
    "    Z = linkage(X_scaled, method=method)\n",
    "    dendrogram(Z)\n",
    "plt.show()\n",
    "\n",
    "print(\" Observação: O método de linkage altera a estrutura dos clusters e pode resultar em grupos mais bem separados ou conectados.\")\n"
   ]
  },
  {
   "cell_type": "markdown",
   "metadata": {
    "id": "u9s7j4SXCa7a"
   },
   "source": [
    "## Etapa 5: Escolhendo um critério de parada adequado\n",
    "### Escolhemos um ponto de corte no dendrograma para definir os clusters\n"
   ]
  },
  {
   "cell_type": "code",
   "execution_count": null,
   "metadata": {
    "colab": {
     "base_uri": "https://localhost:8080/"
    },
    "id": "HqDd825lCWLU",
    "outputId": "4f7e6fba-5e7d-4476-d825-bd4b98e795b5"
   },
   "outputs": [],
   "source": [
    "y_cut = 4.5  # Alterar conforme a análise visual do dendrograma\n",
    "Z_ward = linkage(X_scaled, method='ward')\n",
    "clusters = fcluster(Z_ward, y_cut, criterion='distance')\n",
    "\n",
    "print(f\" Número de clusters formados com y = {y_cut}: {len(np.unique(clusters))}\")\n"
   ]
  },
  {
   "cell_type": "markdown",
   "metadata": {
    "id": "bkT7W6wuCiUF"
   },
   "source": [
    "##  Etapa 6: Visualizando os clusters\n"
   ]
  },
  {
   "cell_type": "code",
   "execution_count": null,
   "metadata": {
    "colab": {
     "base_uri": "https://localhost:8080/",
     "height": 565
    },
    "id": "3UAOI3igCqTV",
    "outputId": "05ea2f61-7ed0-4f7d-9249-657226ad98ba"
   },
   "outputs": [],
   "source": [
    "plt.figure(figsize=(8, 6))\n",
    "sns.scatterplot(x=X_scaled[:, 0], y=X_scaled[:, 1], hue=clusters, palette=\"deep\")\n",
    "plt.title(\"Clusters Identificados pelo Hierarchical Clustering\")\n",
    "plt.xlabel(\"Frequência de Compra\")\n",
    "plt.ylabel(\"Valor Médio Gasto\")\n",
    "plt.show()\n"
   ]
  },
  {
   "cell_type": "markdown",
   "metadata": {
    "id": "ac73DItOCuGl"
   },
   "source": [
    "## Etapa 7: Responda às perguntas\n",
    "\n",
    "Analise os resultados e responda:\n",
    "\n",
    "1️⃣ Mude o método de linkage e observe os resultados, comente o que você observou.\n",
    "\n",
    "2️⃣ Determine um critério de parada adequado analisando o dendrograma.\n",
    "\n",
    "3️⃣ Qual método de linkage gera os clusters mais bem separados?\n",
    "\n",
    "4️⃣ Como o ajuste dos hiperparâmetros afeta os resultados do clustering?\n",
    "\n",
    "5️⃣ Em quais situações o critério de parada baseado no dendrograma pode ser mais útil?\n",
    "\n",
    "6️⃣ Como o linkage afeta o formato dos clusters?\n"
   ]
  }
 ],
 "metadata": {
  "colab": {
   "provenance": []
  },
  "kernelspec": {
   "display_name": "Python 3 (ipykernel)",
   "language": "python",
   "name": "python3"
  },
  "language_info": {
   "codemirror_mode": {
    "name": "ipython",
    "version": 3
   },
   "file_extension": ".py",
   "mimetype": "text/x-python",
   "name": "python",
   "nbconvert_exporter": "python",
   "pygments_lexer": "ipython3",
   "version": "3.12.8"
  }
 },
 "nbformat": 4,
 "nbformat_minor": 4
}
