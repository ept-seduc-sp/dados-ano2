{
 "cells": [
  {
   "cell_type": "markdown",
   "metadata": {},
   "source": [
    "\n",
    "<h1 style=\"text-align: center;\">CIÊNCIA DE DADOS</h1>\n",
    "<h1 style=\"text-align: center;\">Roteiro de Atividade Prática</h1>\n",
    "<br>\n",
    "<br>\n",
    "\n",
    "Nome: ______________________________________________________________________________________      \n",
    "\n",
    "Turma: ______________\n",
    "\n",
    "\n",
    "**Componente:** Aprendizagem de Máquina\n",
    "<br>\n",
    "**Unidade Curricular:** Modelos, Algoritmos e Estimadores\n",
    "<br>\n",
    "**Tema da Semana:** Análise de Componentes Principais (PCA)\n",
    "<br>\n"
   ]
  },
  {
   "cell_type": "markdown",
   "metadata": {},
   "source": [
    "# Aula 2: Redução de dimensionalidade com PCA"
   ]
  },
  {
   "cell_type": "markdown",
   "metadata": {},
   "source": [
    "## Tarefa\n",
    "- Executem o código abaixo.\n",
    "\n",
    "- Se as bibliotecas não tiverem instaladas, instale-as.\n",
    "\n",
    "- Acompanhem as instruções.\n",
    "\n",
    "- Observem a execução e discutam com seus colegas e professor.\n"
   ]
  },
  {
   "cell_type": "markdown",
   "metadata": {
    "id": "nAyhEfIynxeD"
   },
   "source": [
    "# EXEMPLO DE APLICAÇÃO DO PCA\n",
    "\n",
    "Importação de bibliotecas"
   ]
  },
  {
   "cell_type": "code",
   "execution_count": null,
   "metadata": {
    "id": "ft8yF3trn_oC"
   },
   "outputs": [],
   "source": [
    "import numpy as np\n",
    "import pandas as pd\n",
    "from sklearn.decomposition import PCA\n",
    "from sklearn.preprocessing import StandardScaler\n",
    "import matplotlib.pyplot as plt\n"
   ]
  },
  {
   "cell_type": "markdown",
   "metadata": {
    "id": "pNMea9X5oA1G"
   },
   "source": [
    "### Passo 1: Criar o conjunto de dados fictício ou importar a base de dados, aqui usamos um conjunto de dados fictício."
   ]
  },
  {
   "cell_type": "code",
   "execution_count": null,
   "metadata": {
    "id": "hBKwrpYgoNNz"
   },
   "outputs": [],
   "source": [
    "\n",
    "dados = {\n",
    "    \"Taxa de Precisão (%)\": [78, 81, 79, 75, 80],\n",
    "    \"Tempo de Resposta (ms)\": [250, 270, 240, 290, 280],\n",
    "    \"Número de Eliminações\": [15, 18, 14, 10, 16],\n",
    "    \"Tempo de Sobrevivência (s)\": [200, 190, 220, 180, 195],\n",
    "    \"Agilidade (%)\": [85, 82, 88, 76, 79],\n",
    "    \"Reflexos (ms)\": [260, 275, 245, 300, 290]\n",
    "}\n",
    "\n",
    "df = pd.DataFrame(dados)\n",
    "print(\"Dados Originais:\")\n",
    "print(df.head())\n"
   ]
  },
  {
   "cell_type": "markdown",
   "metadata": {
    "id": "VFXgEZ7XoSvr"
   },
   "source": [
    "\n",
    "### Passo 2: Normalizar os dados\n"
   ]
  },
  {
   "cell_type": "code",
   "execution_count": null,
   "metadata": {
    "id": "-GGvXDq7oWC4"
   },
   "outputs": [],
   "source": [
    "scaler = StandardScaler()\n",
    "df_scaled = scaler.fit_transform(df)\n"
   ]
  },
  {
   "cell_type": "markdown",
   "metadata": {
    "id": "HKYaZ-fRoYCv"
   },
   "source": [
    "\n",
    "### Passo 3: Aplicar PCA para encontrar os componentes principais\n"
   ]
  },
  {
   "cell_type": "code",
   "execution_count": null,
   "metadata": {
    "id": "6AmkyA28oZ5w"
   },
   "outputs": [],
   "source": [
    "pca = PCA(n_components=5)  # Ajustado para evitar erro\n",
    "pca.fit(df_scaled)\n"
   ]
  },
  {
   "cell_type": "markdown",
   "metadata": {
    "id": "PlH8dMz1oh6f"
   },
   "source": [
    "\n",
    "Variância explicada por cada componente principal\n"
   ]
  },
  {
   "cell_type": "code",
   "execution_count": null,
   "metadata": {
    "id": "LrvO1VZ5omKH"
   },
   "outputs": [],
   "source": [
    "variancia_explicada = pca.explained_variance_ratio_\n",
    "componentes_principais = pd.DataFrame(pca.components_, columns=df.columns)\n"
   ]
  },
  {
   "cell_type": "markdown",
   "metadata": {
    "id": "W5wb8Sz2orQ7"
   },
   "source": [
    "Exibir variância explicada\n"
   ]
  },
  {
   "cell_type": "code",
   "execution_count": null,
   "metadata": {
    "id": "5hIslmbRotQi"
   },
   "outputs": [],
   "source": [
    "print(\"\\nVariância Explicada por Componente:\")\n",
    "for i, var in enumerate(variancia_explicada):\n",
    "    print(f\"PC{i+1}: {var:.2%}\")\n"
   ]
  },
  {
   "cell_type": "markdown",
   "metadata": {
    "id": "eld0lSntowde"
   },
   "source": [
    "\n",
    "### Passo 4: Reduzindo para 3 componentes principais\n"
   ]
  },
  {
   "cell_type": "code",
   "execution_count": null,
   "metadata": {
    "id": "da4kbzJPoyxo"
   },
   "outputs": [],
   "source": [
    "pca_reduzido = PCA(n_components=3)\n",
    "df_pca = pca_reduzido.fit_transform(df_scaled)\n",
    "\n",
    "df_pca_result = pd.DataFrame(df_pca, columns=[\"PC1\", \"PC2\", \"PC3\"])\n",
    "print(\"\\nDados Transformados com 3 Componentes Principais:\")\n",
    "print(df_pca_result.head())\n"
   ]
  },
  {
   "cell_type": "markdown",
   "metadata": {
    "id": "tRyZb94Eo1vN"
   },
   "source": [
    "\n",
    "### Passo 5: Visualizar os componentes principais\n"
   ]
  },
  {
   "cell_type": "code",
   "execution_count": null,
   "metadata": {
    "id": "f8Acan72o4OU",
    "scrolled": true
   },
   "outputs": [],
   "source": [
    "plt.figure(figsize=(8,5))\n",
    "plt.bar(range(1, len(variancia_explicada)+1), variancia_explicada, alpha=0.5, align='center', label='Variância Explicada')\n",
    "plt.xlabel('Componentes Principais')\n",
    "plt.ylabel('Proporção da Variância Explicada')\n",
    "plt.title('Variância Explicada por Cada Componente Principal')\n",
    "plt.legend()\n",
    "plt.show()\n"
   ]
  },
  {
   "cell_type": "markdown",
   "metadata": {
    "id": "zYCSsusso60M"
   },
   "source": [
    "Exibir os componentes principais\n"
   ]
  },
  {
   "cell_type": "code",
   "execution_count": null,
   "metadata": {
    "id": "iXRF4dWso9Jb"
   },
   "outputs": [],
   "source": [
    "print(\"\\nComponentes Principais:\")\n",
    "print(componentes_principais)"
   ]
  },
  {
   "cell_type": "code",
   "execution_count": null,
   "metadata": {
    "colab": {
     "base_uri": "https://localhost:8080/",
     "height": 1000
    },
    "id": "TnO5eYKQZa5H",
    "outputId": "e13896d8-b822-491c-ee47-ef2ceb30c729"
   },
   "outputs": [],
   "source": [
    "\n"
   ]
  }
 ],
 "metadata": {
  "colab": {
   "provenance": []
  },
  "kernelspec": {
   "display_name": "Python 3 (ipykernel)",
   "language": "python",
   "name": "python3"
  },
  "language_info": {
   "codemirror_mode": {
    "name": "ipython",
    "version": 3
   },
   "file_extension": ".py",
   "mimetype": "text/x-python",
   "name": "python",
   "nbconvert_exporter": "python",
   "pygments_lexer": "ipython3",
   "version": "3.12.8"
  }
 },
 "nbformat": 4,
 "nbformat_minor": 4
}
