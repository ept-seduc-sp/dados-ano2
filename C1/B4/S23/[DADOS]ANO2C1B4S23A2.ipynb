{
 "cells": [
  {
   "cell_type": "markdown",
   "metadata": {},
   "source": [
    "\n",
    "<h1 style=\"text-align: center;\">CIÊNCIA DE DADOS</h1>\n",
    "<h1 style=\"text-align: center;\">Roteiro de Atividade Prática</h1>\n",
    "<br>\n",
    "<br>\n",
    "\n",
    "Nome: ______________________________________________________________________________________      \n",
    "\n",
    "Turma: ______________\n",
    "\n",
    "\n",
    "**Componente:** Aprendizagem de Máquina\n",
    "<br>\n",
    "**Unidade Curricular:** Modelos, Algoritmos e Estimadores\n",
    "<br>\n",
    "**Tema da Semana:** DBSCAN\n",
    "<br>\n"
   ]
  },
  {
   "cell_type": "markdown",
   "metadata": {},
   "source": [
    "## Aula 2: Hiperparâmetros do DBSCAN"
   ]
  },
  {
   "cell_type": "markdown",
   "metadata": {},
   "source": [
    "## Tarefa\n",
    "- Execute o código abaixo.\n",
    "\n",
    "- Se as bibliotecas não tiverem instaladas, instalem-as.\n",
    "\n",
    "- Acompanhem as instruções.\n",
    "\n",
    "- Observem a execução e discutam com seus colegas e professor.\n"
   ]
  },
  {
   "cell_type": "markdown",
   "metadata": {
    "id": "nGRR_KJaafUq"
   },
   "source": [
    "Este notebook, foi desenvolvido com o código base para que vocês realizem uma análise exploratória do algorítimo e alterem o valor de algumas variáveis para compreender o seu impacto.\n",
    "\n",
    "**Após análise respondam as perguntas que estão no roteiro da atividade prática e também no notebook.**"
   ]
  },
  {
   "cell_type": "code",
   "execution_count": null,
   "metadata": {
    "colab": {
     "base_uri": "https://localhost:8080/",
     "height": 1000
    },
    "executionInfo": {
     "elapsed": 8468,
     "status": "ok",
     "timestamp": 1741716965977,
     "user": {
      "displayName": "Sandra Menezes",
      "userId": "14176255677548792829"
     },
     "user_tz": 180
    },
    "id": "KqbDgnYOaW_l",
    "outputId": "8fa9e6f2-2c48-4405-c858-96567c8ca6a0"
   },
   "outputs": [],
   "source": [
    "import numpy as np\n",
    "import matplotlib.pyplot as plt\n",
    "from sklearn.cluster import DBSCAN\n",
    "from sklearn.datasets import make_moons\n",
    "\n",
    "# Criando um dataset com clusters curvos\n",
    "X, _ = make_moons(n_samples=300, noise=0.05, random_state=42)\n",
    "\n",
    "# Testando diferentes valores de eps e min_samples\n",
    "parametros = [(0.1, 5), (0.2, 5), (0.3, 5), (0.2, 10)]\n",
    "\n",
    "for eps, min_samples in parametros:\n",
    "    dbscan = DBSCAN(eps=eps, min_samples=min_samples)\n",
    "    clusters = dbscan.fit_predict(X)\n",
    "\n",
    "    plt.scatter(X[:, 0], X[:, 1], c=clusters, cmap='viridis', edgecolors='k')\n",
    "    plt.title(f\"DBSCAN com eps={eps}, min_samples={min_samples}\")\n",
    "    plt.show()\n"
   ]
  },
  {
   "cell_type": "markdown",
   "metadata": {
    "id": "Sf9CNYF6bFTU"
   },
   "source": [
    "### Discutam com seus colegas e professor\n",
    "\n",
    "1- O que acontece quando aumentamos eps?\n",
    "\n",
    "2- O que acontece quando aumentamos min_samples?\n",
    "\n",
    "3- Como podemos identificar outliers nos resultados?"
   ]
  }
 ],
 "metadata": {
  "colab": {
   "authorship_tag": "ABX9TyOshdDYznYqr2HMr1Omjl5R",
   "provenance": []
  },
  "kernelspec": {
   "display_name": "Python 3 (ipykernel)",
   "language": "python",
   "name": "python3"
  },
  "language_info": {
   "codemirror_mode": {
    "name": "ipython",
    "version": 3
   },
   "file_extension": ".py",
   "mimetype": "text/x-python",
   "name": "python",
   "nbconvert_exporter": "python",
   "pygments_lexer": "ipython3",
   "version": "3.12.8"
  }
 },
 "nbformat": 4,
 "nbformat_minor": 4
}
