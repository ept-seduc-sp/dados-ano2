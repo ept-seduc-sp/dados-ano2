{
 "cells": [
  {
   "cell_type": "markdown",
   "metadata": {},
   "source": [
    "\n",
    "<h1 style=\"text-align: center;\">CIÊNCIA DE DADOS</h1>\n",
    "<h1 style=\"text-align: center;\">Roteiro de Atividade Prática</h1>\n",
    "<br>\n",
    "<br>\n",
    "\n",
    "Nome: ______________________________________________________________________________________      \n",
    "\n",
    "Turma: ______________\n",
    "\n",
    "\n",
    "**Componente:** Aprendizagem de Máquina\n",
    "<br>\n",
    "**Unidade Curricular:** Modelos, Algoritmos e Estimadores\n",
    "<br>\n",
    "**Tema da Semana:** DBSCAN\n",
    "<br>\n"
   ]
  },
  {
   "cell_type": "markdown",
   "metadata": {},
   "source": [
    "## Aula 1: Introdução ao DBSCAN"
   ]
  },
  {
   "cell_type": "markdown",
   "metadata": {},
   "source": [
    "## Tarefa\n",
    "- Executem o código abaixo.\n",
    "\n",
    "- Se as bibliotecas não tiverem instaladas, instalem-as.\n",
    "\n",
    "- Acompanhem as instruções.\n",
    "\n",
    "- Observem a execução e discutam com seus colegas e professor.\n"
   ]
  },
  {
   "cell_type": "markdown",
   "metadata": {
    "id": "4LaDF_0QKfq2"
   },
   "source": [
    "### PARTE I - Introdução\n",
    "\n",
    "Este notebook, foi desenvolvido como exemplo para que você realize uma análise exploratória do algorítimo DBSCAN, entendendo suas variáveis disponíveis, identificando os parâmetros e compreendendo o seu funcionamento.\n",
    "\n",
    "**Após análise responda as perguntas que estão no roteiro da atividade prática.**\n",
    "\n",
    "Siga o passo a passo da construção e aplicação do algoritmo DBSCAN."
   ]
  },
  {
   "cell_type": "markdown",
   "metadata": {
    "id": "LErmDMnrLdyU"
   },
   "source": [
    "### Passo1 - Importação de bibliotecas"
   ]
  },
  {
   "cell_type": "code",
   "execution_count": null,
   "metadata": {
    "executionInfo": {
     "elapsed": 6231,
     "status": "ok",
     "timestamp": 1741713086684,
     "user": {
      "displayName": "Sandra Menezes",
      "userId": "14176255677548792829"
     },
     "user_tz": 180
    },
    "id": "8aSUbYlGLiY0"
   },
   "outputs": [],
   "source": [
    "import numpy as np\n",
    "import matplotlib.pyplot as plt\n",
    "from sklearn.datasets import make_moons\n",
    "from sklearn.cluster import DBSCAN\n"
   ]
  },
  {
   "cell_type": "markdown",
   "metadata": {
    "id": "48OLkh0iLkpU"
   },
   "source": [
    "### Passo2 - Gerando um dataset com clusters não lineares\n"
   ]
  },
  {
   "cell_type": "code",
   "execution_count": null,
   "metadata": {
    "executionInfo": {
     "elapsed": 14,
     "status": "ok",
     "timestamp": 1741713088107,
     "user": {
      "displayName": "Sandra Menezes",
      "userId": "14176255677548792829"
     },
     "user_tz": 180
    },
    "id": "Gq14SHLuLsSH"
   },
   "outputs": [],
   "source": [
    "X, _ = make_moons(n_samples=300, noise=0.05, random_state=42)\n"
   ]
  },
  {
   "cell_type": "markdown",
   "metadata": {
    "id": "HUEsJ475LtYt"
   },
   "source": [
    "### Passo 3 - Aplicando o DBSCAN no dataset gerado\n"
   ]
  },
  {
   "cell_type": "code",
   "execution_count": null,
   "metadata": {
    "executionInfo": {
     "elapsed": 29,
     "status": "ok",
     "timestamp": 1741713091244,
     "user": {
      "displayName": "Sandra Menezes",
      "userId": "14176255677548792829"
     },
     "user_tz": 180
    },
    "id": "t62Zxl-8L6VD"
   },
   "outputs": [],
   "source": [
    "dbscan = DBSCAN(eps=0.2, min_samples=5)\n",
    "clusters = dbscan.fit_predict(X)\n"
   ]
  },
  {
   "cell_type": "markdown",
   "metadata": {
    "id": "Rg50zjw4L8pP"
   },
   "source": [
    "### Passo 4 - Visualizando os clusters\n"
   ]
  },
  {
   "cell_type": "code",
   "execution_count": null,
   "metadata": {
    "colab": {
     "base_uri": "https://localhost:8080/",
     "height": 472
    },
    "executionInfo": {
     "elapsed": 663,
     "status": "ok",
     "timestamp": 1741713098911,
     "user": {
      "displayName": "Sandra Menezes",
      "userId": "14176255677548792829"
     },
     "user_tz": 180
    },
    "id": "EydyJEcLLRe1",
    "outputId": "031b4a52-b9d5-4d76-f4c1-4a5bd6f12572"
   },
   "outputs": [],
   "source": [
    "plt.scatter(X[:, 0], X[:, 1], c=clusters, cmap='viridis', edgecolors='k')\n",
    "plt.title(\"Clusters gerados pelo DBSCAN\")\n",
    "plt.xlabel(\"Feature 1\")\n",
    "plt.ylabel(\"Feature 2\")\n",
    "plt.show()\n",
    "\n"
   ]
  },
  {
   "cell_type": "markdown",
   "metadata": {
    "id": "GNnKMfqQMYnU"
   },
   "source": [
    "### PARTE II\n",
    "**Criando um algoritmo que faz a comparação entre K-Means e DBSCAN e exibindo ambos gráficos gerados**\n"
   ]
  },
  {
   "cell_type": "markdown",
   "metadata": {
    "id": "ed74Opo2NJso"
   },
   "source": [
    "\n",
    "\n",
    "### Importando bibliotecas\n"
   ]
  },
  {
   "cell_type": "code",
   "execution_count": null,
   "metadata": {
    "executionInfo": {
     "elapsed": 47,
     "status": "ok",
     "timestamp": 1741713734640,
     "user": {
      "displayName": "Sandra Menezes",
      "userId": "14176255677548792829"
     },
     "user_tz": 180
    },
    "id": "-coCzz4GKPKQ"
   },
   "outputs": [],
   "source": [
    "import numpy as np\n",
    "import matplotlib.pyplot as plt\n",
    "from sklearn.cluster import KMeans, DBSCAN\n",
    "from sklearn.datasets import make_moons\n",
    "from sklearn.preprocessing import StandardScaler\n"
   ]
  },
  {
   "cell_type": "markdown",
   "metadata": {
    "id": "PKhOhgfNNSdS"
   },
   "source": [
    "\n",
    "### Criando um conjunto de dados com clusters não lineares\n"
   ]
  },
  {
   "cell_type": "code",
   "execution_count": null,
   "metadata": {
    "executionInfo": {
     "elapsed": 14,
     "status": "ok",
     "timestamp": 1741713738158,
     "user": {
      "displayName": "Sandra Menezes",
      "userId": "14176255677548792829"
     },
     "user_tz": 180
    },
    "id": "6-hetZsyNXj1"
   },
   "outputs": [],
   "source": [
    "X, _ = make_moons(n_samples=300, noise=0.05, random_state=42)\n",
    "\n"
   ]
  },
  {
   "cell_type": "markdown",
   "metadata": {
    "id": "exgRyhhFNwA4"
   },
   "source": [
    "### Padronizando os dados para melhorar a performance dos algoritmos\n"
   ]
  },
  {
   "cell_type": "code",
   "execution_count": null,
   "metadata": {
    "executionInfo": {
     "elapsed": 7,
     "status": "ok",
     "timestamp": 1741713741797,
     "user": {
      "displayName": "Sandra Menezes",
      "userId": "14176255677548792829"
     },
     "user_tz": 180
    },
    "id": "T89tSJQ_Nyok"
   },
   "outputs": [],
   "source": [
    "scaler = StandardScaler()\n",
    "X_scaled = scaler.fit_transform(X)\n"
   ]
  },
  {
   "cell_type": "markdown",
   "metadata": {
    "id": "wPQdWmM7N0_G"
   },
   "source": [
    "\n",
    "### Aplicando K-Means\n"
   ]
  },
  {
   "cell_type": "code",
   "execution_count": null,
   "metadata": {
    "executionInfo": {
     "elapsed": 110,
     "status": "ok",
     "timestamp": 1741713744370,
     "user": {
      "displayName": "Sandra Menezes",
      "userId": "14176255677548792829"
     },
     "user_tz": 180
    },
    "id": "0CyWZ7UBN6oR"
   },
   "outputs": [],
   "source": [
    "kmeans = KMeans(n_clusters=2, init='k-means++', random_state=42, n_init=10)\n",
    "y_kmeans = kmeans.fit_predict(X_scaled)\n"
   ]
  },
  {
   "cell_type": "markdown",
   "metadata": {
    "id": "QHeAkUueNsAo"
   },
   "source": [
    "\n",
    "### Aplicando DBSCAN\n"
   ]
  },
  {
   "cell_type": "code",
   "execution_count": null,
   "metadata": {
    "executionInfo": {
     "elapsed": 13,
     "status": "ok",
     "timestamp": 1741713746589,
     "user": {
      "displayName": "Sandra Menezes",
      "userId": "14176255677548792829"
     },
     "user_tz": 180
    },
    "id": "KNH_GEc-N_jH"
   },
   "outputs": [],
   "source": [
    "dbscan = DBSCAN(eps=0.3, min_samples=5)  # Parâmetros ajustados para esse conjunto de dados\n",
    "y_dbscan = dbscan.fit_predict(X_scaled)\n"
   ]
  },
  {
   "cell_type": "markdown",
   "metadata": {
    "id": "AerpBNSIOFz6"
   },
   "source": [
    "\n",
    "### Visualizando os Resultados\n"
   ]
  },
  {
   "cell_type": "code",
   "execution_count": null,
   "metadata": {
    "colab": {
     "base_uri": "https://localhost:8080/",
     "height": 487
    },
    "executionInfo": {
     "elapsed": 589,
     "status": "ok",
     "timestamp": 1741713963035,
     "user": {
      "displayName": "Sandra Menezes",
      "userId": "14176255677548792829"
     },
     "user_tz": 180
    },
    "id": "oOT1iZwAOIfP",
    "outputId": "42750049-c7bd-44f3-cde0-5b2c3751e72f"
   },
   "outputs": [],
   "source": [
    "fig, axes = plt.subplots(1, 2, figsize=(12, 5))\n",
    "\n",
    "# **K-Means**\n",
    "axes[0].scatter(X_scaled[:, 0], X_scaled[:, 1], c=y_kmeans, cmap='viridis', edgecolors='k')\n",
    "axes[0].scatter(kmeans.cluster_centers_[:, 0], kmeans.cluster_centers_[:, 1], c='red', marker='X', s=200, label=\"Centróides\")\n",
    "axes[0].set_title(\"Clusters gerados pelo K-Means\")\n",
    "axes[0].set_xlabel(\"Feature 1\")\n",
    "axes[0].set_ylabel(\"Feature 2\")\n",
    "axes[0].legend()\n",
    "\n",
    "# **DBSCAN**\n",
    "axes[1].scatter(X_scaled[:, 0], X_scaled[:, 1], c=y_dbscan, cmap='viridis', edgecolors='k')\n",
    "axes[1].set_title(\"Clusters gerados pelo DBSCAN\")\n",
    "axes[1].set_xlabel(\"Feature 1\")\n",
    "axes[1].set_ylabel(\"Feature 2\")\n",
    "\n",
    "# Exibir gráficos\n",
    "plt.show()\n",
    "\n"
   ]
  }
 ],
 "metadata": {
  "colab": {
   "authorship_tag": "ABX9TyMJM/W9g+5n4+hgwFDAtZQS",
   "provenance": []
  },
  "kernelspec": {
   "display_name": "Python 3 (ipykernel)",
   "language": "python",
   "name": "python3"
  },
  "language_info": {
   "codemirror_mode": {
    "name": "ipython",
    "version": 3
   },
   "file_extension": ".py",
   "mimetype": "text/x-python",
   "name": "python",
   "nbconvert_exporter": "python",
   "pygments_lexer": "ipython3",
   "version": "3.12.8"
  }
 },
 "nbformat": 4,
 "nbformat_minor": 4
}
