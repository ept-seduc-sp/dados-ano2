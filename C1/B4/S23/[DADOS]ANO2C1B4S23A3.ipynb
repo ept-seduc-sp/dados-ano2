{
 "cells": [
  {
   "cell_type": "markdown",
   "metadata": {},
   "source": [
    "\n",
    "<h1 style=\"text-align: center;\">CIÊNCIA DE DADOS</h1>\n",
    "<h1 style=\"text-align: center;\">Roteiro de Atividade Prática</h1>\n",
    "<br>\n",
    "<br>\n",
    "\n",
    "Nome: ______________________________________________________________________________________      \n",
    "\n",
    "Turma: ______________\n",
    "\n",
    "\n",
    "**Componente:** Aprendizagem de Máquina\n",
    "<br>\n",
    "**Unidade Curricular:** Modelos, Algoritmos e Estimadores\n",
    "<br>\n",
    "**Tema da Semana:** DBSCAN\n",
    "<br>\n"
   ]
  },
  {
   "cell_type": "markdown",
   "metadata": {},
   "source": [
    "## Aula 3: Aplicações práticas do DBSCAN"
   ]
  },
  {
   "cell_type": "markdown",
   "metadata": {},
   "source": [
    "## Tarefa\n",
    "- Execute o código abaixo.\n",
    "\n",
    "- Se as bibliotecas não tiverem instaladas, instale-as.\n",
    "\n",
    "- Acompanhe as instruções.\n",
    "\n",
    "- Observe a execução e discuta com seus colegas e professor.\n"
   ]
  },
  {
   "cell_type": "markdown",
   "metadata": {
    "id": "HyEDRdrAnosn"
   },
   "source": [
    "### Importando bibliotecas"
   ]
  },
  {
   "cell_type": "code",
   "execution_count": null,
   "metadata": {
    "executionInfo": {
     "elapsed": 4,
     "status": "ok",
     "timestamp": 1741720470198,
     "user": {
      "displayName": "Sandra Menezes",
      "userId": "14176255677548792829"
     },
     "user_tz": 180
    },
    "id": "OXwzvZPLnsvq"
   },
   "outputs": [],
   "source": [
    "import pandas as pd\n",
    "import numpy as np\n",
    "import matplotlib.pyplot as plt\n",
    "from sklearn.cluster import DBSCAN, KMeans\n",
    "from sklearn.preprocessing import StandardScaler\n",
    "from sklearn.decomposition import PCA\n"
   ]
  },
  {
   "cell_type": "markdown",
   "metadata": {
    "id": "XvuARTgtnu8A"
   },
   "source": [
    "\n",
    "### Carregar o dataset Mall Customers"
   ]
  },
  {
   "cell_type": "code",
   "execution_count": null,
   "metadata": {
    "executionInfo": {
     "elapsed": 23,
     "status": "ok",
     "timestamp": 1741720472787,
     "user": {
      "displayName": "Sandra Menezes",
      "userId": "14176255677548792829"
     },
     "user_tz": 180
    },
    "id": "Vn2J7HgInwld"
   },
   "outputs": [],
   "source": [
    "df = pd.read_csv(\"[DADOS]ANO2C1B4S23A1A2A3A4_Mall_Customers.csv\")\n"
   ]
  },
  {
   "cell_type": "markdown",
   "metadata": {
    "id": "T2JaTwmAnz4K"
   },
   "source": [
    "### Pré-processamento\n"
   ]
  },
  {
   "cell_type": "code",
   "execution_count": null,
   "metadata": {
    "executionInfo": {
     "elapsed": 3,
     "status": "ok",
     "timestamp": 1741720476247,
     "user": {
      "displayName": "Sandra Menezes",
      "userId": "14176255677548792829"
     },
     "user_tz": 180
    },
    "id": "K7OlMcNmn3Sr"
   },
   "outputs": [],
   "source": [
    "df.rename(columns={'Genre': 'Gender'}, inplace=True)  # Ajustando nome da coluna\n",
    "df['Gender'] = df['Gender'].map({'Male': 0, 'Female': 1})  # Convertendo categórico para numérico\n",
    "features = ['Age', 'Annual Income (k$)', 'Spending Score (1-100)', 'Gender']\n",
    "X = df[features]\n",
    "\n",
    "# Padronizando os dados\n",
    "scaler = StandardScaler()\n",
    "X_scaled = scaler.fit_transform(X)\n"
   ]
  },
  {
   "cell_type": "markdown",
   "metadata": {
    "id": "7z9Ti5qKn8af"
   },
   "source": [
    "### Aplicando K-Means para comparação\n"
   ]
  },
  {
   "cell_type": "code",
   "execution_count": null,
   "metadata": {
    "executionInfo": {
     "elapsed": 22,
     "status": "ok",
     "timestamp": 1741720480395,
     "user": {
      "displayName": "Sandra Menezes",
      "userId": "14176255677548792829"
     },
     "user_tz": 180
    },
    "id": "bF0dykUmn_Qx"
   },
   "outputs": [],
   "source": [
    "kmeans = KMeans(n_clusters=5, init='k-means++', random_state=42, n_init=10)\n",
    "y_kmeans = kmeans.fit_predict(X_scaled)\n"
   ]
  },
  {
   "cell_type": "markdown",
   "metadata": {
    "id": "Lgf4-s6DoBHC"
   },
   "source": [
    "### Aplicando DBSCAN\n"
   ]
  },
  {
   "cell_type": "code",
   "execution_count": null,
   "metadata": {
    "executionInfo": {
     "elapsed": 7,
     "status": "ok",
     "timestamp": 1741720484295,
     "user": {
      "displayName": "Sandra Menezes",
      "userId": "14176255677548792829"
     },
     "user_tz": 180
    },
    "id": "b0skSHjRoFDY"
   },
   "outputs": [],
   "source": [
    "dbscan = DBSCAN(eps=0.5, min_samples=5)  # Definindo hiperparâmetros\n",
    "y_dbscan = dbscan.fit_predict(X_scaled)\n"
   ]
  },
  {
   "cell_type": "markdown",
   "metadata": {
    "id": "XpXLtcOpoKa3"
   },
   "source": [
    "### Redução de dimensionalidade para visualização\n"
   ]
  },
  {
   "cell_type": "code",
   "execution_count": null,
   "metadata": {
    "executionInfo": {
     "elapsed": 7,
     "status": "ok",
     "timestamp": 1741720487597,
     "user": {
      "displayName": "Sandra Menezes",
      "userId": "14176255677548792829"
     },
     "user_tz": 180
    },
    "id": "SKRRcSumoI6y"
   },
   "outputs": [],
   "source": [
    "pca = PCA(n_components=2)\n",
    "X_pca = pca.fit_transform(X_scaled)\n"
   ]
  },
  {
   "cell_type": "markdown",
   "metadata": {
    "id": "ao0QWXqPoRLE"
   },
   "source": [
    "\n",
    "### Visualizando os clusters\n"
   ]
  },
  {
   "cell_type": "code",
   "execution_count": null,
   "metadata": {
    "colab": {
     "base_uri": "https://localhost:8080/",
     "height": 412
    },
    "executionInfo": {
     "elapsed": 572,
     "status": "ok",
     "timestamp": 1741720492708,
     "user": {
      "displayName": "Sandra Menezes",
      "userId": "14176255677548792829"
     },
     "user_tz": 180
    },
    "id": "jr4DW3swmpV1",
    "outputId": "977c8cb1-025e-4375-d5fa-ea56c5380175"
   },
   "outputs": [],
   "source": [
    "fig, axes = plt.subplots(1, 2, figsize=(12, 5))\n",
    "\n",
    "# **K-Means**\n",
    "axes[0].scatter(X_pca[:, 0], X_pca[:, 1], c=y_kmeans, cmap='viridis', edgecolors='k')\n",
    "axes[0].scatter(pca.transform(kmeans.cluster_centers_)[:, 0], pca.transform(kmeans.cluster_centers_)[:, 1],\n",
    "                c='red', marker='X', s=200, label=\"Centróides\")\n",
    "axes[0].set_title(\"Clusters gerados pelo K-Means\")\n",
    "axes[0].set_xlabel(\"Componente Principal 1\")\n",
    "axes[0].set_ylabel(\"Componente Principal 2\")\n",
    "axes[0].legend()\n",
    "\n",
    "# **DBSCAN**\n",
    "axes[1].scatter(X_pca[:, 0], X_pca[:, 1], c=y_dbscan, cmap='viridis', edgecolors='k')\n",
    "axes[1].set_title(\"Clusters gerados pelo DBSCAN\")\n",
    "axes[1].set_xlabel(\"Componente Principal 1\")\n",
    "axes[1].set_ylabel(\"Componente Principal 2\")\n",
    "\n",
    "plt.show()\n"
   ]
  }
 ],
 "metadata": {
  "colab": {
   "authorship_tag": "ABX9TyPW4ddbnHiazIJALfCsbcje",
   "provenance": []
  },
  "kernelspec": {
   "display_name": "Python 3 (ipykernel)",
   "language": "python",
   "name": "python3"
  },
  "language_info": {
   "codemirror_mode": {
    "name": "ipython",
    "version": 3
   },
   "file_extension": ".py",
   "mimetype": "text/x-python",
   "name": "python",
   "nbconvert_exporter": "python",
   "pygments_lexer": "ipython3",
   "version": "3.12.8"
  }
 },
 "nbformat": 4,
 "nbformat_minor": 4
}
