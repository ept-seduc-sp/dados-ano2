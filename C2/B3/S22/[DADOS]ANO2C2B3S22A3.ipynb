{
 "cells": [
  {
   "cell_type": "markdown",
   "id": "9be31bca",
   "metadata": {},
   "source": [
    "\n",
    "<h1 style=\"text-align: center;\">CIÊNCIA DE DADOS</h1>\n",
    "<h1 style=\"text-align: center;\">Roteiro de Atividade Prática</h1>\n",
    "<br>\n",
    "<br>\n",
    "\n",
    "Nome: ______________________________________________________________________________________      \n",
    "\n",
    "Turma: ______________\n",
    "\n",
    "\n",
    "**Componente:** Matemática e Estatística para Ciência de Dados \n",
    "<br>\n",
    "**Unidade Curricular:** Aplicações de distribuição normal\n",
    "<br>\n",
    "**Tema da Semana:** Distribuição Normal II\n",
    "<br>\n",
    "\n"
   ]
  },
  {
   "cell_type": "markdown",
   "id": "f2f91e0e",
   "metadata": {},
   "source": [
    "# Aula 3"
   ]
  },
  {
   "cell_type": "markdown",
   "id": "0ddfd64c",
   "metadata": {},
   "source": [
    "## Tarefa\n",
    "- Execute o código abaixo.\n",
    "\n",
    "- Se as bibliotecas não tiverem instaladas, instale-as.\n",
    "\n",
    "- Acompanhe as instruções.\n",
    "\n",
    "- Preencha o código onde está #TO DO\n",
    "\n",
    "- Responda as perguntas e conclua a atividade\n"
   ]
  },
  {
   "cell_type": "markdown",
   "id": "2398381f-4d9f-4df7-b334-a429194f6ead",
   "metadata": {},
   "source": [
    "#### Exercício 1 – Controle de Qualidade em uma Indústria\n",
    "\n",
    "**Enunciado:**\n",
    "\n",
    "Uma fábrica produz parafusos com um diâmetro médio de 5mm e um desvio padrão de 0,02mm. O controle de qualidade rejeita parafusos com diâmetro menor que 4,96mm ou maior que 5,04mm. Qual a porcentagem de parafusos que serão rejeitados?"
   ]
  },
  {
   "cell_type": "code",
   "execution_count": 2,
   "id": "7ba67d29-7e41-43ad-a677-f6aa1c0079e4",
   "metadata": {
    "tags": []
   },
   "outputs": [],
   "source": [
    "# TO DO"
   ]
  },
  {
   "cell_type": "markdown",
   "id": "5a1cd477-d011-4903-a630-4bffba5c1bc8",
   "metadata": {},
   "source": [
    "#### Exercício 2 – Notas de um Exame Escolar\n",
    "\n",
    "**Enunciado:**\n",
    "\n",
    "As notas de um exame seguem uma distribuição normal com média 70 pontos e desvio padrão de 10 pontos. Um aluno precisa de pelo menos 85 pontos para ser aprovado com mérito. Qual a probabilidade de um aluno ser aprovado com mérito?"
   ]
  },
  {
   "cell_type": "code",
   "execution_count": 4,
   "id": "2de9eaeb-7f45-4d7b-a5cb-46a05029332a",
   "metadata": {},
   "outputs": [],
   "source": [
    "# TO DO"
   ]
  },
  {
   "cell_type": "markdown",
   "id": "bc81d5f9",
   "metadata": {},
   "source": [
    "### Perguntas e Conclusão"
   ]
  },
  {
   "cell_type": "markdown",
   "id": "6054cb20-7987-4996-8f85-cd6fd9586bdc",
   "metadata": {},
   "source": [
    "1. **O que significa dizer que uma variável segue uma distribuição normal?**\n",
    "\n",
    "\n",
    "      \n",
    "\n",
    "2. **Por que usamos a distribuição normal em controle de qualidade?**\n",
    "\n",
    "\n",
    "      \n",
    "\n",
    "3. **Como o desvio padrão influencia a dispersão dos dados?**\n"
   ]
  },
  {
   "cell_type": "code",
   "execution_count": null,
   "id": "d4ba0c74-3a08-4a6c-9435-3f2118b97608",
   "metadata": {},
   "outputs": [],
   "source": []
  }
 ],
 "metadata": {
  "kernelspec": {
   "display_name": "Python [conda env:base] *",
   "language": "python",
   "name": "conda-base-py"
  },
  "language_info": {
   "codemirror_mode": {
    "name": "ipython",
    "version": 3
   },
   "file_extension": ".py",
   "mimetype": "text/x-python",
   "name": "python",
   "nbconvert_exporter": "python",
   "pygments_lexer": "ipython3",
   "version": "3.12.7"
  }
 },
 "nbformat": 4,
 "nbformat_minor": 5
}
