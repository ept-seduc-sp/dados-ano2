{
 "cells": [
  {
   "cell_type": "markdown",
   "id": "6dae9006",
   "metadata": {},
   "source": [
    "\n",
    "<h1 style=\"text-align: center;\">CIÊNCIA DE DADOS</h1>\n",
    "<h1 style=\"text-align: center;\">Roteiro de Atividade Prática</h1>\n",
    "<br>\n",
    "<br>\n",
    "\n",
    "Nome: ______________________________________________________________________________________      \n",
    "\n",
    "Turma: ______________\n",
    "\n",
    "\n",
    "**Componente:** Matemática e Estatística para Ciência de Dados \n",
    "<br>\n",
    "**Unidade Curricular:** Estatística Aplicada\n",
    "<br>\n",
    "**Tema da Semana:** Inferência Estatística: Testes de hipóteses parte I\n",
    "<br>\n",
    "\n"
   ]
  },
  {
   "cell_type": "markdown",
   "id": "e056db02",
   "metadata": {},
   "source": [
    "# Aula 1"
   ]
  },
  {
   "cell_type": "markdown",
   "id": "15eed9b7",
   "metadata": {},
   "source": [
    "## Tarefa\n",
    "- Executem o código abaixo.\n",
    "\n",
    "- Se as bibliotecas não tiverem instaladas, instalem-as.\n",
    "\n",
    "- Acompanhem as instruções.\n",
    "\n",
    "- Preencham o código onde está #TO DO\n",
    "\n",
    "- Respondam as perguntas e concluam a atividade\n"
   ]
  },
  {
   "cell_type": "markdown",
   "id": "1bac51ac-8a1f-471a-b975-73f46b2db597",
   "metadata": {},
   "source": [
    "#### **Exercício 1:**\n",
    "\n",
    "Um grupo de alunos quer testar se a média de horas que estudam por semana é diferente de 10 horas, que é o tempo recomendado pela escola.\n",
    "\n",
    "    - Hipótese Nula (H₀): A média de horas de estudo = 10.\n",
    "    - Hipótese Alternativa (H₁): A média de horas de estudo ≠ 10.\n"
   ]
  },
  {
   "cell_type": "code",
   "execution_count": 4,
   "id": "f8f2ea91-5db3-4d8b-b643-2c1a4135de09",
   "metadata": {
    "tags": []
   },
   "outputs": [
    {
     "name": "stdout",
     "output_type": "stream",
     "text": [
      "Estatística de teste: 0.6348110542727399\n",
      "p-valor: 0.5413512976456845\n",
      "Não rejeitamos H0: média pode ser 10 horas\n"
     ]
    }
   ],
   "source": [
    "import numpy as np\n",
    "from scipy import stats\n",
    "\n",
    "# Suponha que esta seja a amostra de horas de estudo de alguns alunos\n",
    "horas_estudo = np.array([9, 11, 10, 12, 8, 10, 13, 9, 10, 11])\n",
    "\n",
    "# Teste t para uma amostra\n",
    "resultado = stats.ttest_1samp(horas_estudo, 10)\n",
    "\n",
    "print(\"Estatística de teste:\", resultado.statistic)\n",
    "print(\"p-valor:\", resultado.pvalue)\n",
    "\n",
    "# Interpretação básica:\n",
    "if resultado.pvalue < 0.05:  # nível de significância de 5%\n",
    "    print(\"Rejeitamos H0: média diferente de 10 horas\")\n",
    "else:\n",
    "    print(\"Não rejeitamos H0: média pode ser 10 horas\")"
   ]
  },
  {
   "cell_type": "markdown",
   "id": "6047081c-d6a5-408a-910d-ebb485900b13",
   "metadata": {},
   "source": [
    "#### **Perguntas: (responda com o professor)**\n",
    "\n",
    "1. Expliquem, de forma simples, a diferença entre rejeitar e não rejeitar a hipótese nula?\n",
    "\n",
    "\n",
    "<br>\n",
    "\n",
    "2. Por que definimos um nível de significância (5%, 1%, etc.)?\n",
    "\n",
    "<br>\n",
    "\n",
    "---\n"
   ]
  },
  {
   "cell_type": "markdown",
   "id": "9f1ca946-8295-4019-a0d7-1deed6b6923b",
   "metadata": {},
   "source": [
    "#### **Exercício 2:**\n",
    "\n",
    "Uma empresa quer comparar dois grupos de alunos que usaram materiais de estudo diferentes. Quer verificar se as médias de notas no teste final dos dois grupos são iguais ou diferentes.\n",
    "\n",
    "    - Hipótese Nula (H₀): As médias de notas dos grupos são iguais.\n",
    "    - Hipótese Alternativa (H₁): As médias de notas são diferentes."
   ]
  },
  {
   "cell_type": "code",
   "execution_count": 11,
   "id": "8d18b6ad-bf7c-4199-bf03-fa43aced37b8",
   "metadata": {
    "tags": []
   },
   "outputs": [
    {
     "name": "stdout",
     "output_type": "stream",
     "text": [
      "Estatística de teste: 1.9001384991072292\n",
      "p-valor: 0.07820885025458141\n",
      "Não rejeitamos H0: não há evidências de diferença significativa\n"
     ]
    }
   ],
   "source": [
    "import numpy as np\n",
    "from scipy import stats\n",
    "\n",
    "# Notas de dois grupos de alunos\n",
    "grupoA = np.array([8, 7, 9, 10, 8, 7.5, 9.5, 8])\n",
    "grupoB = np.array([7, 7, 8, 9, 6.5, 8, 7, 7.5])\n",
    "\n",
    "# Teste t para duas amostras independentes\n",
    "resultado = stats.ttest_ind(grupoA, grupoB)\n",
    "\n",
    "print(\"Estatística de teste:\", resultado.statistic)\n",
    "print(\"p-valor:\", resultado.pvalue)\n",
    "\n",
    "if resultado.pvalue < 0.05:\n",
    "    print(\"Rejeitamos H0: as médias são diferentes\")\n",
    "else:\n",
    "    print(\"Não rejeitamos H0: não há evidências de diferença significativa\")"
   ]
  },
  {
   "cell_type": "markdown",
   "id": "93e1d145-7a57-40cc-b87a-e2b5c0203078",
   "metadata": {},
   "source": [
    "#### **Perguntas: (responda com o professor)**\n",
    "\n",
    "1. Por que é importante comparar duas amostras independentes em pesquisas educacionais?\n",
    "\n",
    "\n",
    "<br>\n",
    "\n",
    "2. Se as variâncias dos grupos fossem muito diferentes, qual tipo de teste poderíamos usar?\n",
    "\n",
    "\n",
    "\n",
    "---"
   ]
  },
  {
   "cell_type": "markdown",
   "id": "2daea9a2-27ef-4d77-9926-063a66aea359",
   "metadata": {},
   "source": [
    "#### **Exercício 3:**\n",
    "\n",
    "Uma enquete questionou se os alunos preferem aulas presenciais ou online. Queremos verificar se a proporção que prefere aulas online é de 50% ou não.\n",
    "\n",
    "    - Hipótese Nula (H₀): A proporção de preferência por aulas online é 0,50.\n",
    "    - Hipótese Alternativa (H₁): A proporção de preferência por aulas online é diferente de 0,50.\n"
   ]
  },
  {
   "cell_type": "code",
   "execution_count": 17,
   "id": "da7dd397-deb6-482d-8561-2f4927cc9b82",
   "metadata": {
    "tags": []
   },
   "outputs": [
    {
     "name": "stdout",
     "output_type": "stream",
     "text": [
      "Estatística de teste: 0.0\n",
      "p-valor: 1.0\n",
      "Não rejeitamos H0: a proporção pode ser 50%\n"
     ]
    }
   ],
   "source": [
    "import numpy as np\n",
    "from statsmodels.stats.proportion import proportions_ztest\n",
    "\n",
    "# Suponha que 40 de 80 alunos preferem aulas online\n",
    "contagem = 40\n",
    "n = 80\n",
    "prop_esperada = 0.50\n",
    "\n",
    "estatistica, p_valor = proportions_ztest(count=contagem, nobs=n, value=prop_esperada)\n",
    "\n",
    "print(\"Estatística de teste:\", estatistica)\n",
    "print(\"p-valor:\", p_valor)\n",
    "\n",
    "if p_valor < 0.05:\n",
    "    print(\"Rejeitamos H0: a proporção não é 50%\")\n",
    "else:\n",
    "    print(\"Não rejeitamos H0: a proporção pode ser 50%\")"
   ]
  },
  {
   "cell_type": "markdown",
   "id": "5443b12a-0ea8-404f-acbc-cf224bc3d22f",
   "metadata": {},
   "source": [
    "#### **Perguntas: (responda com o professor)**\n",
    "\n",
    "\n",
    "1. Por que usar um teste para proporções em vez de um teste t?\n",
    "\n",
    "\n",
    "<br>\n",
    "\n",
    "2. Em que outros cenários escolares poderíamos usar esse tipo de teste?\n",
    "\n",
    "<br>\n",
    "\n",
    "---"
   ]
  },
  {
   "cell_type": "markdown",
   "id": "9b374bfd-2440-440f-8b7f-c43b189be579",
   "metadata": {},
   "source": [
    "#### **Exercício 4:**\n",
    "\n",
    "Um professor aplica duas avaliações diferentes para testar se o desempenho dos alunos no primeiro teste consegue prever o desempenho no segundo.\n",
    "\n",
    "    - Hipótese Nula (H₀): Não há relação significativa entre as notas do teste 1 e do teste 2.\n",
    "    - Hipótese Alternativa (H₁): Existe alguma relação significativa entre as notas dos testes.\n"
   ]
  },
  {
   "cell_type": "code",
   "execution_count": 21,
   "id": "11d86bef-1223-48a7-83c2-18ad16a68c15",
   "metadata": {
    "tags": []
   },
   "outputs": [
    {
     "name": "stdout",
     "output_type": "stream",
     "text": [
      "Coeficiente de Correlação: 0.8798826901281199\n",
      "p-valor: 0.003951736188212003\n",
      "Rejeitamos H0: há correlação significativa\n"
     ]
    }
   ],
   "source": [
    "import numpy as np\n",
    "from scipy.stats import pearsonr\n",
    "\n",
    "# Notas do Teste 1 e Teste 2\n",
    "teste1 = np.array([6, 7, 8, 9, 8, 7, 10, 9])\n",
    "teste2 = np.array([5, 7, 8, 8, 9, 7, 10, 8])\n",
    "\n",
    "correlacao, p_valor = pearsonr(teste1, teste2)\n",
    "\n",
    "print(\"Coeficiente de Correlação:\", correlacao)\n",
    "print(\"p-valor:\", p_valor)\n",
    "\n",
    "if p_valor < 0.05:\n",
    "    print(\"Rejeitamos H0: há correlação significativa\")\n",
    "else:\n",
    "    print(\"Não rejeitamos H0: não há evidência de correlação significativa\")"
   ]
  },
  {
   "cell_type": "markdown",
   "id": "aed8bf3c-7767-4f27-a0fd-e39d2642c88c",
   "metadata": {},
   "source": [
    "#### **Perguntas: (responda com o professor)**\n",
    "\n",
    "\n",
    "1. Qual a vantagem de se investigar a correlação entre duas variáveis em um contexto escolar?\n",
    "\n",
    "\n",
    "<br>\n",
    "\n",
    "2. O que significa ter uma correlação negativa?\n",
    "\n",
    "\n",
    "<br>\n",
    "\n",
    "---"
   ]
  }
 ],
 "metadata": {
  "kernelspec": {
   "display_name": "Python 3 (ipykernel)",
   "language": "python",
   "name": "python3"
  },
  "language_info": {
   "codemirror_mode": {
    "name": "ipython",
    "version": 3
   },
   "file_extension": ".py",
   "mimetype": "text/x-python",
   "name": "python",
   "nbconvert_exporter": "python",
   "pygments_lexer": "ipython3",
   "version": "3.12.8"
  }
 },
 "nbformat": 4,
 "nbformat_minor": 5
}
