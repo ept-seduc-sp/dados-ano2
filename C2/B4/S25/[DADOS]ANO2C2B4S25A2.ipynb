{
 "cells": [
  {
   "cell_type": "markdown",
   "id": "afc3a56b",
   "metadata": {},
   "source": [
    "\n",
    "<h1 style=\"text-align: center;\">CIÊNCIA DE DADOS</h1>\n",
    "<h1 style=\"text-align: center;\">Roteiro de Atividade Prática</h1>\n",
    "<br>\n",
    "<br>\n",
    "\n",
    "Nome: ______________________________________________________________________________________      \n",
    "\n",
    "Turma: ______________\n",
    "\n",
    "\n",
    "**Componente:** Matemática e Estatística para Ciência de Dados \n",
    "<br>\n",
    "**Unidade Curricular:** Estatística Aplicada\n",
    "<br>\n",
    "**Tema da Semana:** Inferência Estatística: Testes de hipóteses parte I\n",
    "<br>\n"
   ]
  },
  {
   "cell_type": "markdown",
   "id": "832ab5d4",
   "metadata": {},
   "source": [
    "# Aula 2"
   ]
  },
  {
   "cell_type": "markdown",
   "id": "28f2c8c2",
   "metadata": {},
   "source": [
    "## Tarefa\n",
    "- Execute o código abaixo.\n",
    "\n",
    "- Se as bibliotecas não tiverem instaladas, instale-as.\n",
    "\n",
    "- Acompanhe as instruções.\n",
    "\n",
    "- Preencha o código onde está #TO DO\n",
    "\n",
    "- Responda as perguntas e conclua a atividade\n"
   ]
  },
  {
   "cell_type": "markdown",
   "id": "50bea5b8-ff5f-4caa-81b1-dc4c2891e050",
   "metadata": {},
   "source": [
    "#### **Exercício 1:**\n",
    "\n",
    "Imagine que um professor de Biologia do Ensino Médio resolveu implantar um projeto de pesquisa para incentivar seus alunos a monitorar o tempo que eles dedicam ao estudo fora da sala de aula. O objetivo principal é comparar o tempo médio de estudo semanal dos alunos que participam de um “Grupo de Estudos de Biologia” com o tempo médio daqueles que optaram por não participar. O professor acredita que, ao se envolver em um grupo de estudos estruturado, os alunos passariam mais tempo se dedicando ao conteúdo de Biologia por meio de pesquisas, resumos e discussões. Para testar essa percepção, ele organizou as turmas de modo que metade dos alunos participasse do grupo de estudos e a outra metade seguisse com o estudo individual. Em seguida, após quatro semanas de observação, ele solicitou que cada aluno registrasse as horas semanais dedicadas especificamente à Biologia, seja em leituras, resenhas ou trabalhos práticos.\n",
    "\n",
    "Os alunos ficaram animados, pois sabiam que estavam contribuindo para uma pesquisa real do próprio professor. Inclusive, alguns se engajaram mais do que o esperado, registrando cada sessão de estudo com detalhes, e outros perceberam que poderiam melhorar seus hábitos de estudo. No final do período, o professor reuniu todos os registros e decidiu utilizar uma ferramenta estatística em Python para comparar as médias das horas de estudo semanal nos dois grupos (participantes e não participantes) e, assim, avaliar se o grupo de estudos realmente influenciou o tempo médio dedicado à Biologia. Dessa forma, buscou-se verificar se as práticas colaborativas de estudo podem, de fato, trazer resultados quantitativos significativos no engajamento dos alunos.\n",
    "\n",
    "Hipóteses\n",
    "\n",
    "    - H₀ (Hipótese Nula): As médias de horas de estudo semanal dos dois grupos são iguais.\n",
    "    - H₁ (Hipótese Alternativa): A média de horas de estudo semanal do grupo de estudos é diferente (maior ou menor) em relação ao grupo de estudo individual.\n",
    "\n",
    "\n"
   ]
  },
  {
   "cell_type": "code",
   "execution_count": 26,
   "id": "d9e40529-b9de-4804-8df4-3046774f2afe",
   "metadata": {
    "tags": []
   },
   "outputs": [
    {
     "name": "stdout",
     "output_type": "stream",
     "text": [
      "Estatística t: 4.2301439274637955\n",
      "p-valor: 0.0005033674517777466\n",
      "Rejeitamos H0: há evidências de diferença significativa entre as médias.\n"
     ]
    }
   ],
   "source": [
    "import numpy as np\n",
    "from scipy import stats\n",
    "\n",
    "# Exemplo de dados simulados (em horas de estudo semanal)\n",
    "grupo_estudos = np.array([5, 6, 7, 8, 6, 7.5, 8, 9, 5.5, 7])\n",
    "grupo_individual = np.array([4, 4.5, 5, 5, 6, 4, 5.5, 6, 4.5, 5])\n",
    "\n",
    "# Teste t para duas amostras independentes\n",
    "t_stat, p_valor = stats.ttest_ind(grupo_estudos, grupo_individual)\n",
    "\n",
    "print(\"Estatística t:\", t_stat)\n",
    "print(\"p-valor:\", p_valor)\n",
    "\n",
    "significancia = 0.05\n",
    "if p_valor < significancia:\n",
    "    print(\"Rejeitamos H0: há evidências de diferença significativa entre as médias.\")\n",
    "else:\n",
    "    print(\"Não rejeitamos H0: não há evidências de diferença significativa entre as médias.\")"
   ]
  },
  {
   "cell_type": "markdown",
   "id": "ac38e0ba-e965-45b7-9fd8-460529833893",
   "metadata": {},
   "source": [
    "#### **Perguntas: (responda com o professor)**\n",
    "\n",
    "1. Por que é importante definir grupos distintos (participantes e não participantes) para realizar esse teste de hipóteses?\n",
    "\n",
    "\n",
    "\n",
    "<br>\n",
    "\n",
    "2. Qual o papel do valor de significância (por exemplo, 5%) no processo de decisão de rejeitar ou não a hipótese nula?\n",
    "\n",
    "\n",
    "<br>\n",
    "\n",
    "---"
   ]
  },
  {
   "cell_type": "markdown",
   "id": "83781ea2-48e4-499f-b1df-bc541b2ebb65",
   "metadata": {},
   "source": [
    "#### **Exemplo 2:**\n",
    "\n",
    "Em uma feira de ciências do Ensino Médio, cada turma ficou responsável por um estande interativo, onde os alunos demonstram experimentos que desenvolveram durante as aulas. Para atrair visitantes, muitas turmas focaram na apresentação visual e na qualidade das informações, e cada estande tinha um cartaz incentivando o público a dar uma nota ou marcar um “gostei” sobre a demonstração apresentada. A coordenação da feira de ciências quer descobrir se a proporção de “gostei” em um dos estandes, que exibiu um experimento de Química Ambiental, realmente ultrapassa 70%, pois a professora responsável relatou que a repercussão do experimento foi excepcionalmente boa.\n",
    "\n",
    "Para isso, os organizadores decidiram realizar uma pesquisa durante a feira, perguntando a cada visitante que passou pelo estande de Química Ambiental se eles marcariam ou não o “gostei”. Ao final, os professores receberam os dados consolidados: o número total de visitantes que responderam e quantos desses efetivamente afirmaram gostar da demonstração. Com base nessas informações, resolveram utilizar um teste de hipóteses de proporções para verificar se de fato o percentual de aprovação ultrapassa a marca de 70%. O resultado desse teste será útil para os futuros planejamentos de feiras de ciências, ajudando a entender o que mais chama a atenção do público e quais fatores influenciam a percepção positiva das apresentações dos alunos.\n",
    "\n",
    "Hipóteses\n",
    "\n",
    "    - H₀ (Hipótese Nula): A proporção de “gostei” não é maior que 70% (p ≤ 0,70).\n",
    "    - H₁ (Hipótese Alternativa): A proporção de “gostei” é maior que 70% (p > 0,70).o."
   ]
  },
  {
   "cell_type": "code",
   "execution_count": 30,
   "id": "7718e9f6-c67d-4271-983e-67ffff8a630e",
   "metadata": {
    "tags": []
   },
   "outputs": [
    {
     "name": "stdout",
     "output_type": "stream",
     "text": [
      "Estatística de teste: 1.2649110640673529\n",
      "p-valor: 0.10295160536603393\n",
      "Não rejeitamos H0: não há evidências para dizer que a proporção seja maior que 70%.\n"
     ]
    }
   ],
   "source": [
    "import numpy as np\n",
    "from statsmodels.stats.proportion import proportions_ztest\n",
    "\n",
    "# Exemplo de dados simulados\n",
    "# Suponha que 90 visitantes disseram \"gostei\" de um total de 120\n",
    "contagem = 90\n",
    "n = 120\n",
    "prop_esperada = 0.70\n",
    "\n",
    "# Teste de hipótese para proporções (unilateral)\n",
    "estatistica, p_valor = proportions_ztest(count=contagem, nobs=n, value=prop_esperada, alternative='larger')\n",
    "\n",
    "print(\"Estatística de teste:\", estatistica)\n",
    "print(\"p-valor:\", p_valor)\n",
    "\n",
    "significancia = 0.05\n",
    "if p_valor < significancia:\n",
    "    print(\"Rejeitamos H0: a proporção de 'gostei' é maior que 70%.\")\n",
    "else:\n",
    "    print(\"Não rejeitamos H0: não há evidências para dizer que a proporção seja maior que 70%.\")"
   ]
  },
  {
   "cell_type": "markdown",
   "id": "963f6380-2d69-47cf-9dfa-86fd1583c00c",
   "metadata": {},
   "source": [
    "#### **Perguntas: (responda com o professor)**\n",
    "\n",
    "1. Por que se escolhe um teste unilateral (alternative='larger') neste caso?\n",
    "\n",
    "\n",
    "\n",
    "2. Como a conclusão do teste pode influenciar futuras decisões sobre a organização da feira?\n",
    "\n",
    "\n",
    "\n",
    "<br>\n",
    "\n",
    "---"
   ]
  },
  {
   "cell_type": "markdown",
   "id": "243a74cd-6f29-4654-9e65-d4ae9d5c8c6c",
   "metadata": {},
   "source": [
    "#### **Exemplo 3:**\n",
    "\n",
    "Um grupo de alunos do Ensino Médio se inscreveu em um projeto de voluntariado para orientar colegas sobre técnicas de estudo e organização pessoal. Esses voluntários costumam anotar a quantidade de tempo que cada aluno dedica a atividades de reforço acadêmico e, posteriormente, verificam as notas desses alunos em diferentes disciplinas, como Matemática e Português. A coordenação pedagógica decidiu investigar se existe alguma relação entre a quantidade de horas semanais dedicadas ao reforço e as notas finais dos alunos. A hipótese é que, quanto mais os alunos se dedicam a praticar e revisar os conteúdos, melhores tendem a ser suas notas, porém há casos em que a rotina de estudos nem sempre se traduz em notas mais altas, pois fatores emocionais e de motivação também podem influenciar.\n",
    "\n",
    "Para analisar essa questão, os voluntários reuniram dados sobre horas de estudo voluntário (fora da carga horária regular) e as notas dessas mesmas turmas em uma avaliação semestral. Se uma correlação significativa for encontrada, os orientadores pretendem motivar outros estudantes a adotarem práticas de estudo mais sistemáticas e até sugerir à escola a criação de espaços apropriados para revisões, como salas de estudos, bibliotecas abertas em horários estendidos e grupos de monitoria. Caso contrário, vão investigar outros possíveis fatores, como ambientes de estudo e metodologias de ensino, que podem ser determinantes no desempenho acadêmico.\n",
    "\n",
    "Hipóteses\n",
    "\n",
    "    - H₀ (Hipótese Nula): Não existe correlação significativa entre horas de estudo e notas finais.\n",
    "    - H₁ (Hipótese Alternativa): Existe correlação significativa entre horas de estudo e notas finais."
   ]
  },
  {
   "cell_type": "code",
   "execution_count": 34,
   "id": "7ebf3b64-65d1-4614-858a-cbb26f73c165",
   "metadata": {
    "tags": []
   },
   "outputs": [
    {
     "name": "stdout",
     "output_type": "stream",
     "text": [
      "Coeficiente de Correlação de Pearson: 0.9748198832922823\n",
      "p-valor: 1.7061821723103027e-06\n",
      "Rejeitamos H0: há correlação significativa entre horas de estudo e notas.\n"
     ]
    }
   ],
   "source": [
    "import numpy as np\n",
    "from scipy.stats import pearsonr\n",
    "\n",
    "# Exemplo de dados simulados\n",
    "horas_estudo = np.array([2, 3, 5, 6, 4, 7, 8, 3, 6, 5])\n",
    "notas = np.array([6, 6.5, 7, 8, 7, 9, 9.5, 6.5, 8.5, 7.5])\n",
    "\n",
    "coef_correlacao, p_valor = pearsonr(horas_estudo, notas)\n",
    "\n",
    "print(\"Coeficiente de Correlação de Pearson:\", coef_correlacao)\n",
    "print(\"p-valor:\", p_valor)\n",
    "\n",
    "significancia = 0.05\n",
    "if p_valor < significancia:\n",
    "    print(\"Rejeitamos H0: há correlação significativa entre horas de estudo e notas.\")\n",
    "else:\n",
    "    print(\"Não rejeitamos H0: não há evidências de correlação significativa.\")"
   ]
  },
  {
   "cell_type": "markdown",
   "id": "c78e68c3-8140-4a7b-b337-38594bc7d37d",
   "metadata": {},
   "source": [
    "#### **Perguntas: (responda com o professor)**\n",
    "\n",
    "1. De que forma um coeficiente de correlação positivo pode ser interpretado no contexto desse estudo?\n",
    "\n",
    "\n",
    "\n",
    "2. Caso o p-valor seja alto, isso significa necessariamente que não há relação entre as variáveis?\n",
    "\n",
    "\n",
    "\n",
    "---"
   ]
  },
  {
   "cell_type": "markdown",
   "id": "73eb05b2-3817-4c49-958b-3691ff7640a3",
   "metadata": {},
   "source": [
    "#### **Exemplo 4:**\n",
    "\n",
    "\n",
    "Uma professora de Artes percebeu que seus alunos apresentavam diferentes desempenhos nos projetos finais, dependendo de como organizava as aulas: aula teórica, aula prática em grupo ou atividades individuais de criação. Para avaliar se essa diferença de abordagem realmente influencia as notas finais, ela aplicou três tipos de metodologia em turmas distintas. A primeira turma teve foco em conteúdos teóricos, com leituras sobre história da arte e discussões em sala. A segunda turma vivenciou atividades mais colaborativas, em que os alunos trabalhavam juntos em projetos de criação e compartilhavam responsabilidades. Já a terceira turma adotou um estilo individual de desenvolvimento de projetos, dando mais liberdade para cada estudante produzir sua obra artística de forma independente e autônoma.\n",
    "\n",
    "Ao final do semestre, cada aluno apresentou seu projeto final, que foi avaliado pela professora e outros dois jurados convidados, recebendo uma nota entre 0 e 10. Em seguida, a professora reuniu as notas de cada turma e pensou em utilizar um teste estatístico que permitisse comparar as médias entre mais de dois grupos. Ela acreditava que, com esse teste, seria possível identificar se as diferenças no desempenho final dos alunos estavam associadas à forma de conduzir as aulas ou se eram apenas variações aleatórias, sem significância estatística.\n",
    "\n",
    "Hipóteses\n",
    "\n",
    "    - H₀ (Hipótese Nula): As médias de notas dos três grupos (aula teórica, prática em grupo e trabalho individual) são iguais.\n",
    "    - H₁ (Hipótese Alternativa): Pelo menos uma das médias de notas é diferente das demais."
   ]
  },
  {
   "cell_type": "code",
   "execution_count": 38,
   "id": "26267afe-41b5-4f9b-a290-9b6a8cdaf601",
   "metadata": {
    "tags": []
   },
   "outputs": [
    {
     "name": "stdout",
     "output_type": "stream",
     "text": [
      "Estatística F: 6.475655430711613\n",
      "p-valor: 0.006446275323586403\n",
      "Rejeitamos H0: existe diferença significativa em pelo menos um dos grupos.\n"
     ]
    }
   ],
   "source": [
    "import numpy as np\n",
    "from scipy.stats import f_oneway\n",
    "\n",
    "# Exemplo de dados simulados\n",
    "aula_teorica = np.array([6, 7, 7.5, 8, 6.5, 7, 8, 7.5])\n",
    "aula_pratica_grupo = np.array([8, 8.5, 9, 7.5, 8, 9, 8, 8])\n",
    "atividade_individual = np.array([7, 7, 7.5, 8, 8.5, 7, 6.5, 7.5])\n",
    "\n",
    "f_stat, p_valor = f_oneway(aula_teorica, aula_pratica_grupo, atividade_individual)\n",
    "\n",
    "print(\"Estatística F:\", f_stat)\n",
    "print(\"p-valor:\", p_valor)\n",
    "\n",
    "significancia = 0.05\n",
    "if p_valor < significancia:\n",
    "    print(\"Rejeitamos H0: existe diferença significativa em pelo menos um dos grupos.\")\n",
    "else:\n",
    "    print(\"Não rejeitamos H0: não há evidência de diferença significativa entre as médias dos grupos.\")"
   ]
  },
  {
   "cell_type": "markdown",
   "id": "1d9df336-1096-4a43-812f-a1f6d3daaa49",
   "metadata": {},
   "source": [
    "#### **Perguntas: (responda com o professor)**\n",
    "\n",
    "1. Por que não é apropriado usar vários testes t independentes para comparar mais de dois grupos?\n",
    "\n",
    "\n",
    "<br>\n",
    "\n",
    "2. Se for identificado que há diferença significativa entre os grupos, quais possíveis ações a professora pode tomar?\n",
    "\n",
    "\n",
    "\n",
    "---"
   ]
  }
 ],
 "metadata": {
  "kernelspec": {
   "display_name": "Python 3 (ipykernel)",
   "language": "python",
   "name": "python3"
  },
  "language_info": {
   "codemirror_mode": {
    "name": "ipython",
    "version": 3
   },
   "file_extension": ".py",
   "mimetype": "text/x-python",
   "name": "python",
   "nbconvert_exporter": "python",
   "pygments_lexer": "ipython3",
   "version": "3.12.8"
  }
 },
 "nbformat": 4,
 "nbformat_minor": 5
}
