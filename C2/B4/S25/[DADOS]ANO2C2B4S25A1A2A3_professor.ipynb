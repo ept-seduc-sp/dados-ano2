{
 "cells": [
  {
   "cell_type": "markdown",
   "id": "1a157d9c",
   "metadata": {},
   "source": [
    "\n",
    "<h1 style=\"text-align: center;\">CIÊNCIA DE DADOS</h1>\n",
    "<h1 style=\"text-align: center;\">Roteiro de Atividade Prática</h1>\n",
    "<br>\n",
    "<br>\n",
    "\n",
    "Nome: ______________________________________________________________________________________      \n",
    "\n",
    "Turma: ______________\n",
    "\n",
    "\n",
    "**Componente:** Matemática e Estatística para Ciência de Dados \n",
    "<br>\n",
    "**Unidade Curricular:** Estatística Aplicada\n",
    "<br>\n",
    "**Tema da Semana:** Inferência Estatística: Testes de hipóteses parte I\n",
    "\n",
    "<br>\n"
   ]
  },
  {
   "cell_type": "markdown",
   "id": "aba84bdf",
   "metadata": {},
   "source": [
    "# NOTEBOOK DO PROFESSOR"
   ]
  },
  {
   "cell_type": "markdown",
   "id": "7535f6a4",
   "metadata": {
    "tags": []
   },
   "source": [
    "### Aula 1"
   ]
  },
  {
   "cell_type": "markdown",
   "id": "3bff4503-6d24-47d7-8280-800e54f1cdc5",
   "metadata": {},
   "source": [
    "#### **Exercício 1:**\n",
    "\n",
    "Um grupo de alunos quer testar se a média de horas que estudam por semana é diferente de 10 horas, que é o tempo recomendado pela escola.\n",
    "\n",
    "    - Hipótese Nula (H₀): A média de horas de estudo = 10.\n",
    "    - Hipótese Alternativa (H₁): A média de horas de estudo ≠ 10.\n"
   ]
  },
  {
   "cell_type": "code",
   "execution_count": 4,
   "id": "689f03a9-110c-426d-b95c-d997455cc67a",
   "metadata": {
    "tags": []
   },
   "outputs": [
    {
     "name": "stdout",
     "output_type": "stream",
     "text": [
      "Estatística de teste: 0.6348110542727399\n",
      "p-valor: 0.5413512976456845\n",
      "Não rejeitamos H0: média pode ser 10 horas\n"
     ]
    }
   ],
   "source": [
    "import numpy as np\n",
    "from scipy import stats\n",
    "\n",
    "# Suponha que esta seja a amostra de horas de estudo de alguns alunos\n",
    "horas_estudo = np.array([9, 11, 10, 12, 8, 10, 13, 9, 10, 11])\n",
    "\n",
    "# Teste t para uma amostra\n",
    "resultado = stats.ttest_1samp(horas_estudo, 10)\n",
    "\n",
    "print(\"Estatística de teste:\", resultado.statistic)\n",
    "print(\"p-valor:\", resultado.pvalue)\n",
    "\n",
    "# Interpretação básica:\n",
    "if resultado.pvalue < 0.05:  # nível de significância de 5%\n",
    "    print(\"Rejeitamos H0: média diferente de 10 horas\")\n",
    "else:\n",
    "    print(\"Não rejeitamos H0: média pode ser 10 horas\")"
   ]
  },
  {
   "cell_type": "markdown",
   "id": "ea2d7b77-02f6-4268-bfbc-e5e4dc58b550",
   "metadata": {},
   "source": [
    "#### **Perguntas:**\n",
    "\n",
    "1. Como você explicaria, de forma simples, a diferença entre rejeitar e não rejeitar a hipótese nula?\n",
    "    - Resposta: Rejeitar significa que os dados coletados sugerem uma diferença significativa, enquanto não rejeitar indica que não há evidências suficientes para concluir essa diferença.\n",
    "\n",
    "<br>\n",
    "\n",
    "2. Por que definimos um nível de significância (5%, 1%, etc.)?\n",
    "    - Resposta: É uma forma de controlar a probabilidade de cometer Erro Tipo I, ou seja, de rejeitar indevidamente a hipótese nula.\n",
    "<br>\n",
    "\n",
    "---\n"
   ]
  },
  {
   "cell_type": "markdown",
   "id": "55a3703c-0a6b-4eff-a9d6-79b727733893",
   "metadata": {},
   "source": [
    "#### **Exercício 2:**\n",
    "\n",
    "Uma empresa quer comparar dois grupos de alunos que usaram materiais de estudo diferentes. Quer verificar se as médias de notas no teste final dos dois grupos são iguais ou diferentes.\n",
    "\n",
    "    - Hipótese Nula (H₀): As médias de notas dos grupos são iguais.\n",
    "    - Hipótese Alternativa (H₁): As médias de notas são diferentes."
   ]
  },
  {
   "cell_type": "code",
   "execution_count": 11,
   "id": "0cdec1ff-3c0d-4892-b729-701b333e55fc",
   "metadata": {
    "tags": []
   },
   "outputs": [
    {
     "name": "stdout",
     "output_type": "stream",
     "text": [
      "Estatística de teste: 1.9001384991072292\n",
      "p-valor: 0.07820885025458141\n",
      "Não rejeitamos H0: não há evidências de diferença significativa\n"
     ]
    }
   ],
   "source": [
    "import numpy as np\n",
    "from scipy import stats\n",
    "\n",
    "# Notas de dois grupos de alunos\n",
    "grupoA = np.array([8, 7, 9, 10, 8, 7.5, 9.5, 8])\n",
    "grupoB = np.array([7, 7, 8, 9, 6.5, 8, 7, 7.5])\n",
    "\n",
    "# Teste t para duas amostras independentes\n",
    "resultado = stats.ttest_ind(grupoA, grupoB)\n",
    "\n",
    "print(\"Estatística de teste:\", resultado.statistic)\n",
    "print(\"p-valor:\", resultado.pvalue)\n",
    "\n",
    "if resultado.pvalue < 0.05:\n",
    "    print(\"Rejeitamos H0: as médias são diferentes\")\n",
    "else:\n",
    "    print(\"Não rejeitamos H0: não há evidências de diferença significativa\")"
   ]
  },
  {
   "cell_type": "markdown",
   "id": "f62114f8-baba-45e3-b0e6-3a84d9c7644e",
   "metadata": {},
   "source": [
    "#### **Perguntas:**\n",
    "\n",
    "1. Por que pode ser importante comparar duas amostras independentes em pesquisas educacionais?\n",
    "    - Resposta: Para verificar se metodologias, materiais ou grupos de alunos apresentam resultados significativamente diferentes, orientando decisões pedagógicas.\n",
    "\n",
    "<br>\n",
    "\n",
    "2. Se as variâncias dos grupos fossem muito diferentes, qual tipo de teste poderíamos usar?\n",
    "    - Resposta: Poderíamos recorrer a variantes do teste t com correção para variâncias desiguais (teste Welch) ou até testes não paramétricos, dependendo do caso.\n",
    "\n",
    "\n",
    "---"
   ]
  },
  {
   "cell_type": "markdown",
   "id": "1470b812-42a4-4e82-ab4b-88d2985abbe7",
   "metadata": {},
   "source": [
    "#### **Exercício 3:**\n",
    "\n",
    "Uma enquete questionou se os alunos preferem aulas presenciais ou online. Queremos verificar se a proporção que prefere aulas online é de 50% ou não.\n",
    "\n",
    "    - Hipótese Nula (H₀): A proporção de preferência por aulas online é 0,50.\n",
    "    - Hipótese Alternativa (H₁): A proporção de preferência por aulas online é diferente de 0,50.\n"
   ]
  },
  {
   "cell_type": "code",
   "execution_count": 17,
   "id": "7d5bf2b7-e09b-45af-b494-af93b2ee5c4a",
   "metadata": {
    "tags": []
   },
   "outputs": [
    {
     "name": "stdout",
     "output_type": "stream",
     "text": [
      "Estatística de teste: 0.0\n",
      "p-valor: 1.0\n",
      "Não rejeitamos H0: a proporção pode ser 50%\n"
     ]
    }
   ],
   "source": [
    "import numpy as np\n",
    "from statsmodels.stats.proportion import proportions_ztest\n",
    "\n",
    "# Suponha que 40 de 80 alunos preferem aulas online\n",
    "contagem = 40\n",
    "n = 80\n",
    "prop_esperada = 0.50\n",
    "\n",
    "estatistica, p_valor = proportions_ztest(count=contagem, nobs=n, value=prop_esperada)\n",
    "\n",
    "print(\"Estatística de teste:\", estatistica)\n",
    "print(\"p-valor:\", p_valor)\n",
    "\n",
    "if p_valor < 0.05:\n",
    "    print(\"Rejeitamos H0: a proporção não é 50%\")\n",
    "else:\n",
    "    print(\"Não rejeitamos H0: a proporção pode ser 50%\")"
   ]
  },
  {
   "cell_type": "markdown",
   "id": "b4722428-94b3-4c9f-bfbe-27ccaaeee0d5",
   "metadata": {},
   "source": [
    "#### **Perguntas:**\n",
    "\n",
    "\n",
    "1. Por que usar um teste para proporções em vez de um teste t?\n",
    "    - Resposta: Porque lidamos com dados categóricos (preferem ou não preferem), não com médias numéricas.\n",
    "\n",
    "<br>\n",
    "\n",
    "2. Em que outros cenários escolares poderíamos usar esse tipo de teste?\n",
    "    - Resposta: Em pesquisas de opinião sobre merenda, transporte escolar, aprovação ou rejeição de projetos, e outras situações que envolvam contagens de preferências.\n",
    "<br>\n",
    "\n",
    "---"
   ]
  },
  {
   "cell_type": "markdown",
   "id": "fbfa5550-6134-43c5-8b20-00b88419b72c",
   "metadata": {},
   "source": [
    "#### **Exercício 4:**\n",
    "\n",
    "Um professor aplica duas avaliações diferentes para testar se o desempenho dos alunos no primeiro teste consegue prever o desempenho no segundo.\n",
    "\n",
    "    - Hipótese Nula (H₀): Não há relação significativa entre as notas do teste 1 e do teste 2.\n",
    "    - Hipótese Alternativa (H₁): Existe alguma relação significativa entre as notas dos testes.\n"
   ]
  },
  {
   "cell_type": "code",
   "execution_count": 21,
   "id": "9b1888ad-ebd4-4a9e-99e3-bcaa0b07253d",
   "metadata": {
    "tags": []
   },
   "outputs": [
    {
     "name": "stdout",
     "output_type": "stream",
     "text": [
      "Coeficiente de Correlação: 0.8798826901281199\n",
      "p-valor: 0.003951736188212003\n",
      "Rejeitamos H0: há correlação significativa\n"
     ]
    }
   ],
   "source": [
    "import numpy as np\n",
    "from scipy.stats import pearsonr\n",
    "\n",
    "# Notas do Teste 1 e Teste 2\n",
    "teste1 = np.array([6, 7, 8, 9, 8, 7, 10, 9])\n",
    "teste2 = np.array([5, 7, 8, 8, 9, 7, 10, 8])\n",
    "\n",
    "correlacao, p_valor = pearsonr(teste1, teste2)\n",
    "\n",
    "print(\"Coeficiente de Correlação:\", correlacao)\n",
    "print(\"p-valor:\", p_valor)\n",
    "\n",
    "if p_valor < 0.05:\n",
    "    print(\"Rejeitamos H0: há correlação significativa\")\n",
    "else:\n",
    "    print(\"Não rejeitamos H0: não há evidência de correlação significativa\")"
   ]
  },
  {
   "cell_type": "markdown",
   "id": "f2d0bb9c-059d-4475-b360-f3f937de3b48",
   "metadata": {},
   "source": [
    "#### **Perguntas:**\n",
    "\n",
    "\n",
    "1. Qual a vantagem de se investigar a correlação entre duas variáveis em um contexto escolar?\n",
    "    - Resposta: Para verificar se o desempenho em uma prova pode ser um indicador de desempenho futuro, ajudando professores a apoiar melhor os alunos.\n",
    "\n",
    "<br>\n",
    "\n",
    "2. O que significa ter uma correlação negativa?\n",
    "    - Resposta: Significa que quando uma variável aumenta, a outra tende a diminuir, indicando uma relação inversa entre elas.\n",
    "\n",
    "<br>\n",
    "\n",
    "---"
   ]
  },
  {
   "cell_type": "markdown",
   "id": "d0685314-e921-4fbc-bc25-a29b1f1660b9",
   "metadata": {
    "tags": []
   },
   "source": [
    "### Aula 2"
   ]
  },
  {
   "cell_type": "markdown",
   "id": "ade7fb8c-1267-43ee-8c73-a13f8b4a7a19",
   "metadata": {},
   "source": [
    "#### **Exercício 1:**\n",
    "\n",
    "Imagine que um professor de Biologia do Ensino Médio resolveu implantar um projeto de pesquisa para incentivar seus alunos a monitorar o tempo que eles dedicam ao estudo fora da sala de aula. O objetivo principal é comparar o tempo médio de estudo semanal dos alunos que participam de um “Grupo de Estudos de Biologia” com o tempo médio daqueles que optaram por não participar. O professor acredita que, ao se envolver em um grupo de estudos estruturado, os alunos passariam mais tempo se dedicando ao conteúdo de Biologia por meio de pesquisas, resumos e discussões. Para testar essa percepção, ele organizou as turmas de modo que metade dos alunos participasse do grupo de estudos e a outra metade seguisse com o estudo individual. Em seguida, após quatro semanas de observação, ele solicitou que cada aluno registrasse as horas semanais dedicadas especificamente à Biologia, seja em leituras, resenhas ou trabalhos práticos.\n",
    "\n",
    "Os alunos ficaram animados, pois sabiam que estavam contribuindo para uma pesquisa real do próprio professor. Inclusive, alguns se engajaram mais do que o esperado, registrando cada sessão de estudo com detalhes, e outros perceberam que poderiam melhorar seus hábitos de estudo. No final do período, o professor reuniu todos os registros e decidiu utilizar uma ferramenta estatística em Python para comparar as médias das horas de estudo semanal nos dois grupos (participantes e não participantes) e, assim, avaliar se o grupo de estudos realmente influenciou o tempo médio dedicado à Biologia. Dessa forma, buscou-se verificar se as práticas colaborativas de estudo podem, de fato, trazer resultados quantitativos significativos no engajamento dos alunos.\n",
    "\n",
    "Hipóteses\n",
    "\n",
    "    - H₀ (Hipótese Nula): As médias de horas de estudo semanal dos dois grupos são iguais.\n",
    "    - H₁ (Hipótese Alternativa): A média de horas de estudo semanal do grupo de estudos é diferente (maior ou menor) em relação ao grupo de estudo individual.\n",
    "\n",
    "\n"
   ]
  },
  {
   "cell_type": "code",
   "execution_count": 26,
   "id": "e81f613f-dd0b-4e42-91d9-4627f526a64e",
   "metadata": {
    "tags": []
   },
   "outputs": [
    {
     "name": "stdout",
     "output_type": "stream",
     "text": [
      "Estatística t: 4.2301439274637955\n",
      "p-valor: 0.0005033674517777466\n",
      "Rejeitamos H0: há evidências de diferença significativa entre as médias.\n"
     ]
    }
   ],
   "source": [
    "import numpy as np\n",
    "from scipy import stats\n",
    "\n",
    "# Exemplo de dados simulados (em horas de estudo semanal)\n",
    "grupo_estudos = np.array([5, 6, 7, 8, 6, 7.5, 8, 9, 5.5, 7])\n",
    "grupo_individual = np.array([4, 4.5, 5, 5, 6, 4, 5.5, 6, 4.5, 5])\n",
    "\n",
    "# Teste t para duas amostras independentes\n",
    "t_stat, p_valor = stats.ttest_ind(grupo_estudos, grupo_individual)\n",
    "\n",
    "print(\"Estatística t:\", t_stat)\n",
    "print(\"p-valor:\", p_valor)\n",
    "\n",
    "significancia = 0.05\n",
    "if p_valor < significancia:\n",
    "    print(\"Rejeitamos H0: há evidências de diferença significativa entre as médias.\")\n",
    "else:\n",
    "    print(\"Não rejeitamos H0: não há evidências de diferença significativa entre as médias.\")"
   ]
  },
  {
   "cell_type": "markdown",
   "id": "489fc454-02e7-48d2-8394-0d64d64b917c",
   "metadata": {},
   "source": [
    "#### **Perguntas:**\n",
    "\n",
    "1. Por que é importante definir grupos distintos (participantes e não participantes) para realizar esse teste de hipóteses?\n",
    "\n",
    "    - Resposta: Porque ter grupos bem definidos permite comparar médias de forma mais direta e evita que os resultados sejam influenciados por variáveis não controladas. Assim, conseguimos avaliar se a estratégia de estudo em grupo tem impacto real nas horas de dedicação.\n",
    "\n",
    "<br>\n",
    "\n",
    "2. Qual o papel do valor de significância (por exemplo, 5%) no processo de decisão de rejeitar ou não a hipótese nula?\n",
    "\n",
    "    - Resposta: O nível de significância estabelece o limite máximo de probabilidade de se cometer um Erro Tipo I (rejeitar a hipótese nula quando ela é verdadeira). Se o p-valor ficar abaixo desse valor, indica forte evidência contra a hipótese nula.\n",
    "<br>\n",
    "\n",
    "---"
   ]
  },
  {
   "cell_type": "markdown",
   "id": "0a3c0fa2-9629-4ba6-9a84-d4f0ad931995",
   "metadata": {},
   "source": [
    "#### **Exemplo 2:**\n",
    "\n",
    "Em uma feira de ciências do Ensino Médio, cada turma ficou responsável por um estande interativo, onde os alunos demonstram experimentos que desenvolveram durante as aulas. Para atrair visitantes, muitas turmas focaram na apresentação visual e na qualidade das informações, e cada estande tinha um cartaz incentivando o público a dar uma nota ou marcar um “gostei” sobre a demonstração apresentada. A coordenação da feira de ciências quer descobrir se a proporção de “gostei” em um dos estandes, que exibiu um experimento de Química Ambiental, realmente ultrapassa 70%, pois a professora responsável relatou que a repercussão do experimento foi excepcionalmente boa.\n",
    "\n",
    "Para isso, os organizadores decidiram realizar uma pesquisa durante a feira, perguntando a cada visitante que passou pelo estande de Química Ambiental se eles marcariam ou não o “gostei”. Ao final, os professores receberam os dados consolidados: o número total de visitantes que responderam e quantos desses efetivamente afirmaram gostar da demonstração. Com base nessas informações, resolveram utilizar um teste de hipóteses de proporções para verificar se de fato o percentual de aprovação ultrapassa a marca de 70%. O resultado desse teste será útil para os futuros planejamentos de feiras de ciências, ajudando a entender o que mais chama a atenção do público e quais fatores influenciam a percepção positiva das apresentações dos alunos.\n",
    "\n",
    "Hipóteses\n",
    "\n",
    "    - H₀ (Hipótese Nula): A proporção de “gostei” não é maior que 70% (p ≤ 0,70).\n",
    "    - H₁ (Hipótese Alternativa): A proporção de “gostei” é maior que 70% (p > 0,70).o."
   ]
  },
  {
   "cell_type": "code",
   "execution_count": 30,
   "id": "95a2bdee-590f-4f29-8f33-67facdd70bef",
   "metadata": {
    "tags": []
   },
   "outputs": [
    {
     "name": "stdout",
     "output_type": "stream",
     "text": [
      "Estatística de teste: 1.2649110640673529\n",
      "p-valor: 0.10295160536603393\n",
      "Não rejeitamos H0: não há evidências para dizer que a proporção seja maior que 70%.\n"
     ]
    }
   ],
   "source": [
    "import numpy as np\n",
    "from statsmodels.stats.proportion import proportions_ztest\n",
    "\n",
    "# Exemplo de dados simulados\n",
    "# Suponha que 90 visitantes disseram \"gostei\" de um total de 120\n",
    "contagem = 90\n",
    "n = 120\n",
    "prop_esperada = 0.70\n",
    "\n",
    "# Teste de hipótese para proporções (unilateral)\n",
    "estatistica, p_valor = proportions_ztest(count=contagem, nobs=n, value=prop_esperada, alternative='larger')\n",
    "\n",
    "print(\"Estatística de teste:\", estatistica)\n",
    "print(\"p-valor:\", p_valor)\n",
    "\n",
    "significancia = 0.05\n",
    "if p_valor < significancia:\n",
    "    print(\"Rejeitamos H0: a proporção de 'gostei' é maior que 70%.\")\n",
    "else:\n",
    "    print(\"Não rejeitamos H0: não há evidências para dizer que a proporção seja maior que 70%.\")"
   ]
  },
  {
   "cell_type": "markdown",
   "id": "5774139c-a062-4342-a0c9-4643b2d41d54",
   "metadata": {},
   "source": [
    "#### **Perguntas:**\n",
    "\n",
    "1. Por que se escolhe um teste unilateral (alternative='larger') neste caso?\n",
    "\n",
    "    - Resposta: Porque o objetivo é investigar especificamente se a proporção de “gostei” é maior que 70%. Um teste unilateral foca nessa direção, ao contrário de um teste bilateral, que avaliaria qualquer diferença (maior ou menor).\n",
    "\n",
    "<br>\n",
    "\n",
    "2. Como a conclusão do teste pode influenciar futuras decisões sobre a organização da feira?\n",
    "\n",
    "    - Resposta: Se ficar comprovado que a proporção foi realmente maior que 70%, a coordenação pode priorizar elementos semelhantes de apresentação em futuras feiras, pois indicam grande aceitação do público. Caso contrário, podem repensar as estratégias para tornar os estandes mais atrativos.\n",
    "\n",
    "<br>\n",
    "\n",
    "---"
   ]
  },
  {
   "cell_type": "markdown",
   "id": "c80f711f-bdb4-4077-8437-e8567581471d",
   "metadata": {},
   "source": [
    "#### **Exemplo 3:**\n",
    "\n",
    "Um grupo de alunos do Ensino Médio se inscreveu em um projeto de voluntariado para orientar colegas sobre técnicas de estudo e organização pessoal. Esses voluntários costumam anotar a quantidade de tempo que cada aluno dedica a atividades de reforço acadêmico e, posteriormente, verificam as notas desses alunos em diferentes disciplinas, como Matemática e Português. A coordenação pedagógica decidiu investigar se existe alguma relação entre a quantidade de horas semanais dedicadas ao reforço e as notas finais dos alunos. A hipótese é que, quanto mais os alunos se dedicam a praticar e revisar os conteúdos, melhores tendem a ser suas notas, porém há casos em que a rotina de estudos nem sempre se traduz em notas mais altas, pois fatores emocionais e de motivação também podem influenciar.\n",
    "\n",
    "Para analisar essa questão, os voluntários reuniram dados sobre horas de estudo voluntário (fora da carga horária regular) e as notas dessas mesmas turmas em uma avaliação semestral. Se uma correlação significativa for encontrada, os orientadores pretendem motivar outros estudantes a adotarem práticas de estudo mais sistemáticas e até sugerir à escola a criação de espaços apropriados para revisões, como salas de estudos, bibliotecas abertas em horários estendidos e grupos de monitoria. Caso contrário, vão investigar outros possíveis fatores, como ambientes de estudo e metodologias de ensino, que podem ser determinantes no desempenho acadêmico.\n",
    "\n",
    "Hipóteses\n",
    "\n",
    "    - H₀ (Hipótese Nula): Não existe correlação significativa entre horas de estudo e notas finais.\n",
    "    - H₁ (Hipótese Alternativa): Existe correlação significativa entre horas de estudo e notas finais."
   ]
  },
  {
   "cell_type": "code",
   "execution_count": 34,
   "id": "0e34383f-e8ed-4efe-921c-2ffb3507361a",
   "metadata": {
    "tags": []
   },
   "outputs": [
    {
     "name": "stdout",
     "output_type": "stream",
     "text": [
      "Coeficiente de Correlação de Pearson: 0.9748198832922823\n",
      "p-valor: 1.7061821723103027e-06\n",
      "Rejeitamos H0: há correlação significativa entre horas de estudo e notas.\n"
     ]
    }
   ],
   "source": [
    "import numpy as np\n",
    "from scipy.stats import pearsonr\n",
    "\n",
    "# Exemplo de dados simulados\n",
    "horas_estudo = np.array([2, 3, 5, 6, 4, 7, 8, 3, 6, 5])\n",
    "notas = np.array([6, 6.5, 7, 8, 7, 9, 9.5, 6.5, 8.5, 7.5])\n",
    "\n",
    "coef_correlacao, p_valor = pearsonr(horas_estudo, notas)\n",
    "\n",
    "print(\"Coeficiente de Correlação de Pearson:\", coef_correlacao)\n",
    "print(\"p-valor:\", p_valor)\n",
    "\n",
    "significancia = 0.05\n",
    "if p_valor < significancia:\n",
    "    print(\"Rejeitamos H0: há correlação significativa entre horas de estudo e notas.\")\n",
    "else:\n",
    "    print(\"Não rejeitamos H0: não há evidências de correlação significativa.\")"
   ]
  },
  {
   "cell_type": "markdown",
   "id": "43badc58-5042-463d-8a66-14c49ecbca19",
   "metadata": {},
   "source": [
    "#### **Perguntas:**\n",
    "\n",
    "1. De que forma um coeficiente de correlação positivo pode ser interpretado no contexto desse estudo?\n",
    "\n",
    "    - Resposta: Significa que, à medida que as horas de estudo aumentam, as notas também tendem a subir. Em outras palavras, existe uma associação direta em que mais horas de estudo se relacionam a um melhor desempenho acadêmico.\n",
    "\n",
    "<br>\n",
    "\n",
    "2. Caso o p-valor seja alto, isso significa necessariamente que não há relação entre as variáveis?\n",
    "\n",
    "    - Resposta: Não. Um p-valor alto indica apenas que não há evidências suficientes para afirmar a existência de correlação no nível de significância escolhido. Pode haver uma correlação fraca ou fatores externos influenciando os dados.\n",
    "\n",
    "---"
   ]
  },
  {
   "cell_type": "markdown",
   "id": "bc4f02cf-bf0a-494a-a3b4-a52546c2dee2",
   "metadata": {},
   "source": [
    "#### **Exemplo 4:**\n",
    "\n",
    "\n",
    "Uma professora de Artes percebeu que seus alunos apresentavam diferentes desempenhos nos projetos finais, dependendo de como organizava as aulas: aula teórica, aula prática em grupo ou atividades individuais de criação. Para avaliar se essa diferença de abordagem realmente influencia as notas finais, ela aplicou três tipos de metodologia em turmas distintas. A primeira turma teve foco em conteúdos teóricos, com leituras sobre história da arte e discussões em sala. A segunda turma vivenciou atividades mais colaborativas, em que os alunos trabalhavam juntos em projetos de criação e compartilhavam responsabilidades. Já a terceira turma adotou um estilo individual de desenvolvimento de projetos, dando mais liberdade para cada estudante produzir sua obra artística de forma independente e autônoma.\n",
    "\n",
    "Ao final do semestre, cada aluno apresentou seu projeto final, que foi avaliado pela professora e outros dois jurados convidados, recebendo uma nota entre 0 e 10. Em seguida, a professora reuniu as notas de cada turma e pensou em utilizar um teste estatístico que permitisse comparar as médias entre mais de dois grupos. Ela acreditava que, com esse teste, seria possível identificar se as diferenças no desempenho final dos alunos estavam associadas à forma de conduzir as aulas ou se eram apenas variações aleatórias, sem significância estatística.\n",
    "\n",
    "Hipóteses\n",
    "\n",
    "    - H₀ (Hipótese Nula): As médias de notas dos três grupos (aula teórica, prática em grupo e trabalho individual) são iguais.\n",
    "    - H₁ (Hipótese Alternativa): Pelo menos uma das médias de notas é diferente das demais."
   ]
  },
  {
   "cell_type": "code",
   "execution_count": 38,
   "id": "786efed5-4fe1-4ec7-b1b0-f8c564e40965",
   "metadata": {
    "tags": []
   },
   "outputs": [
    {
     "name": "stdout",
     "output_type": "stream",
     "text": [
      "Estatística F: 6.475655430711613\n",
      "p-valor: 0.006446275323586403\n",
      "Rejeitamos H0: existe diferença significativa em pelo menos um dos grupos.\n"
     ]
    }
   ],
   "source": [
    "import numpy as np\n",
    "from scipy.stats import f_oneway\n",
    "\n",
    "# Exemplo de dados simulados\n",
    "aula_teorica = np.array([6, 7, 7.5, 8, 6.5, 7, 8, 7.5])\n",
    "aula_pratica_grupo = np.array([8, 8.5, 9, 7.5, 8, 9, 8, 8])\n",
    "atividade_individual = np.array([7, 7, 7.5, 8, 8.5, 7, 6.5, 7.5])\n",
    "\n",
    "f_stat, p_valor = f_oneway(aula_teorica, aula_pratica_grupo, atividade_individual)\n",
    "\n",
    "print(\"Estatística F:\", f_stat)\n",
    "print(\"p-valor:\", p_valor)\n",
    "\n",
    "significancia = 0.05\n",
    "if p_valor < significancia:\n",
    "    print(\"Rejeitamos H0: existe diferença significativa em pelo menos um dos grupos.\")\n",
    "else:\n",
    "    print(\"Não rejeitamos H0: não há evidência de diferença significativa entre as médias dos grupos.\")"
   ]
  },
  {
   "cell_type": "markdown",
   "id": "d211cac7-35d6-464f-8caf-990de107aa80",
   "metadata": {},
   "source": [
    "#### **Perguntas:**\n",
    "\n",
    "1. Por que não é apropriado usar vários testes t independentes para comparar mais de dois grupos?\n",
    "\n",
    "    - Resposta: Porque isso aumenta a probabilidade de Erro Tipo I ao realizar múltiplas comparações. O teste ANOVA permite comparar simultaneamente três ou mais grupos sem inflar tanto essa probabilidade.\n",
    "\n",
    "<br>\n",
    "\n",
    "2. Se for identificado que há diferença significativa entre os grupos, quais possíveis ações a professora pode tomar?\n",
    "\n",
    "    - Resposta: Ela pode investigar quais grupos diferem mais, ajustando suas abordagens. Por exemplo, se as aulas práticas em grupo gerarem melhores resultados, pode considerar adotar esse método em mais turmas ou mesclar técnicas para atender diferentes perfis de alunos.\n",
    "\n",
    "---"
   ]
  },
  {
   "cell_type": "markdown",
   "id": "b7696f8f-8652-478a-a445-7f844d1e1e9a",
   "metadata": {
    "tags": []
   },
   "source": [
    "### Aula 3"
   ]
  },
  {
   "cell_type": "markdown",
   "id": "ea80e457-904c-4f51-a6d8-4f8df23e86fd",
   "metadata": {},
   "source": [
    "#### **Problema 1:**\n",
    "\n",
    "Imagine que uma professora de Matemática do Ensino Médio decidiu conduzir uma pesquisa sobre o desempenho dos estudantes em uma nova plataforma de estudos online. A plataforma oferece vídeos explicativos, atividades interativas e jogos educativos para revisar conteúdos. Ela supõe que os alunos que utilizam essa plataforma pelo menos três vezes por semana podem apresentar uma média de notas mais alta em comparação aos que não acessam tão regularmente. Como a escola possui recursos limitados e não pode disponibilizar a plataforma para todos, a professora selecionou duas turmas com características semelhantes: a Turma A, que teve acesso ao conteúdo online, e a Turma B, que só realizou as atividades tradicionais em sala de aula e no livro didático. Após um bimestre, foram aplicadas provas de nível equivalente para ambos os grupos.\n",
    "\n",
    "A professora, então, organizou as notas em uma planilha e verificou que a Turma A, em média, aparentava ter um desempenho levemente superior. Porém, antes de tirar conclusões sobre a efetividade da plataforma, ela entendeu que deveria aplicar um teste de hipóteses para analisar se essa diferença nas médias é estatisticamente significativa ou se poderia ter ocorrido por puro acaso. Ela também solicitou a ajuda dos estudantes para montarem as hipóteses nula e alternativa e, em seguida, utilizarem uma biblioteca de Python que auxiliasse na verificação dessa diferença de médias entre as duas turmas.\n",
    "\n",
    "**Instrução aos Alunos:**\n",
    "\n",
    "    - Monte a Hipótese Nula (H₀) e a Hipótese Alternativa (H₁) para esse cenário.\n",
    "    - Em seguida, utilize os dados fornecidos e execute o teste em Python para verificar se a diferença das médias é significativa.\n",
    "\n",
    "\n",
    "**Gabarito das Hipóteses**\n",
    "\n",
    "    - H₀ (Hipótese Nula): As médias das notas da Turma A (com plataforma) e da Turma B (sem plataforma) são iguais.\n",
    "    - H₁ (Hipótese Alternativa): As médias das notas da Turma A e da Turma B são diferentes (pode ser maior ou menor, dependendo da situação analisada)."
   ]
  },
  {
   "cell_type": "code",
   "execution_count": 42,
   "id": "f01c6bef-281e-49c3-be28-ca2c11995da7",
   "metadata": {
    "tags": []
   },
   "outputs": [
    {
     "name": "stdout",
     "output_type": "stream",
     "text": [
      "Estatística t: 4.109974682633933\n",
      "p-valor: 0.0006574683512230959\n",
      "Rejeitamos H0. Há evidências de diferença significativa entre as médias.\n"
     ]
    }
   ],
   "source": [
    "import numpy as np\n",
    "from scipy import stats\n",
    "\n",
    "# Dados simulados de notas (0 a 10)\n",
    "# Turma A: alunos que usaram a plataforma\n",
    "turmaA = np.array([7.5, 8.0, 6.5, 9.0, 8.5, 7.0, 7.5, 8.0, 9.0, 8.5])\n",
    "\n",
    "# Turma B: alunos que não usaram a plataforma\n",
    "turmaB = np.array([6.5, 6.0, 7.0, 7.0, 6.5, 7.5, 6.0, 7.0, 6.5, 7.0])\n",
    "\n",
    "# Teste t para amostras independentes\n",
    "t_stat, p_value = stats.ttest_ind(turmaA, turmaB)\n",
    "\n",
    "print(\"Estatística t:\", t_stat)\n",
    "print(\"p-valor:\", p_value)\n",
    "\n",
    "alpha = 0.05\n",
    "if p_value < alpha:\n",
    "    print(\"Rejeitamos H0. Há evidências de diferença significativa entre as médias.\")\n",
    "else:\n",
    "    print(\"Não rejeitamos H0. Não há evidências de diferença significativa.\")"
   ]
  },
  {
   "cell_type": "markdown",
   "id": "4e574458-932e-4d23-a33e-4574259d8afe",
   "metadata": {},
   "source": [
    "#### **Perguntas:**\n",
    "\n",
    "\n",
    "1.  Por que utilizar um teste t para comparar as médias das duas turmas?\n",
    "\n",
    "    - Gabarito: O teste t de amostras independentes é adequado para verificar se há diferença significativa entre as médias de dois grupos distintos, partindo da suposição de que os dados seguem aproximadamente uma distribuição normal.\n",
    "\n",
    "<br>\n",
    "\n",
    "\n",
    "2. Qual é o significado de “rejeitar H₀” neste contexto?\n",
    "\n",
    "    - Gabarito: Significa que há evidências estatísticas de que as médias das notas dos dois grupos são diferentes. Em outras palavras, a plataforma de estudos pode ter influenciado o desempenho, tornando improvável que a diferença seja mero acaso.\n",
    "\n",
    "<br>\n",
    "\n",
    "\n",
    "3. O que representa o valor de α (por exemplo, 0,05)?\n",
    "\n",
    "    - Gabarito: O nível de significância (α) define a probabilidade máxima de cometer Erro Tipo I (rejeitar a hipótese nula quando ela é verdadeira). Se o p-valor for menor que α, concluímos haver evidência suficiente para rejeitar H₀.\n",
    "<br>\n",
    "\n",
    "---\n"
   ]
  },
  {
   "cell_type": "markdown",
   "id": "13ff5a8e-fa12-4554-9d97-4fa45610b407",
   "metadata": {
    "jp-MarkdownHeadingCollapsed": true,
    "tags": []
   },
   "source": [
    "#### **Problema 2:**\n",
    "\n",
    "Um clube de ciências do Ensino Médio resolveu investigar se a prática de atividades físicas regulares poderia ter impacto na disposição dos estudantes para estudar e, consequentemente, na frequência com que realizam deveres de casa. A ideia surgiu depois que alguns integrantes notaram que alunos envolvidos em esportes escolares, como vôlei e basquete, pareciam ter uma rotina mais organizada e entregavam suas tarefas em dia com maior frequência. Para ter dados concretos, os membros do clube elaboraram um questionário rápido para todas as turmas do Ensino Médio, perguntando sobre quantas horas de atividade física cada aluno realizava por semana e quantos deveres de casa, em média, ele completava no mesmo período.\n",
    "\n",
    "Depois de coletados os questionários, eles reuniram os dados em uma planilha, armazenando as horas de atividade física e o número médio de tarefas concluídas. Então, decidiram aplicar um teste de correlação para verificar se há relação estatisticamente significativa entre atividade física semanal e frequência de conclusão de deveres de casa. Se confirmassem que existe uma correlação positiva, poderiam incentivar os colegas e até a direção da escola a adotarem políticas de promoção de atividades físicas para todos, acreditando que isso poderia melhorar o comprometimento com os estudos. Caso não houvesse correlação alguma, os integrantes do clube pretendiam investigar outras variáveis, como métodos de estudo ou horários de sono, que poderiam ser mais determinantes.\n",
    "\n",
    "**Instrução aos Alunos**\n",
    "\n",
    "    - Monte a Hipótese Nula (H₀) e a Hipótese Alternativa (H₁) deste cenário de correlação.\n",
    "    - Execute um teste de correlação apropriado em Python para verificar se a prática de atividades físicas e a frequência de conclusão de deveres de casa estão relacionadas.\n",
    "\n",
    "**Gabarito das Hipóteses**\n",
    "\n",
    "    - H₀ (Hipótese Nula): Não existe correlação significativa entre as horas de atividade física semanal e a quantidade de deveres de casa concluídos.\n",
    "    - H₁ (Hipótese Alternativa): Existe correlação significativa entre as horas de atividade física semanal e a quantidade de deveres de casa concluídos."
   ]
  },
  {
   "cell_type": "code",
   "execution_count": 46,
   "id": "9457bd7d-9126-4305-94a3-59c03d18025a",
   "metadata": {
    "tags": []
   },
   "outputs": [
    {
     "name": "stdout",
     "output_type": "stream",
     "text": [
      "Coeficiente de Correlação de Pearson: 1.0\n",
      "p-valor: 0.0\n",
      "Rejeitamos H0. Há evidências de correlação significativa.\n"
     ]
    }
   ],
   "source": [
    "import numpy as np\n",
    "from scipy.stats import pearsonr\n",
    "\n",
    "# Dados simulados\n",
    "# Horas de atividade física por semana\n",
    "horas_atividade = np.array([2, 1, 3, 5, 4, 2, 6, 3, 2, 4, 5, 6, 1, 3])\n",
    "\n",
    "# Número médio de deveres de casa concluídos por semana\n",
    "tarefas_concluidas = np.array([4, 3, 5, 7, 6, 4, 8, 5, 4, 6, 7, 8, 3, 5])\n",
    "\n",
    "correlacao, p_valor = pearsonr(horas_atividade, tarefas_concluidas)\n",
    "\n",
    "print(\"Coeficiente de Correlação de Pearson:\", correlacao)\n",
    "print(\"p-valor:\", p_valor)\n",
    "\n",
    "alpha = 0.05\n",
    "if p_valor < alpha:\n",
    "    print(\"Rejeitamos H0. Há evidências de correlação significativa.\")\n",
    "else:\n",
    "    print(\"Não rejeitamos H0. Não há evidências de correlação significativa.\")"
   ]
  },
  {
   "cell_type": "markdown",
   "id": "0c2b3a63-c0a2-4347-82fc-ceb73d32f8cb",
   "metadata": {
    "tags": []
   },
   "source": [
    "#### **Perguntas:**\n",
    "\n",
    "1. O que significa dizer que existe uma correlação significativa entre horas de atividade física e número de deveres concluídos?\n",
    "\n",
    "    - Gabarito: Significa que conforme as horas de atividade física variam, o número de deveres concluídos tende a variar de modo previsível. Se for uma correlação positiva, mais atividade física estaria associada a mais deveres concluídos; se negativa, o contrário.\n",
    "\n",
    "<br> \n",
    "\n",
    "2. Se o p-valor for maior que 0,05, podemos afirmar que não existe nenhuma relação entre as variáveis?\n",
    "\n",
    "    - Gabarito: Não necessariamente. Apenas não temos evidências estatísticas suficientes para rejeitar a hipótese de que não há correlação. A relação pode ser fraca ou ocorrerem outros fatores influenciando os resultados.\n",
    "\n",
    "<br> \n",
    "\n",
    "3. Por que é importante verificar se há normalidade ou outras condições antes de aplicar o teste de correlação de Pearson?\n",
    "\n",
    "    - Gabarito: Porque o teste de Pearson pressupõe que as variáveis tenham distribuição aproximadamente normal e uma relação linear. Se essas condições não forem atendidas, um teste diferente (como o de Spearman) pode ser mais adequado.\n",
    "<br>\n",
    "\n",
    "---"
   ]
  }
 ],
 "metadata": {
  "kernelspec": {
   "display_name": "Python 3 (ipykernel)",
   "language": "python",
   "name": "python3"
  },
  "language_info": {
   "codemirror_mode": {
    "name": "ipython",
    "version": 3
   },
   "file_extension": ".py",
   "mimetype": "text/x-python",
   "name": "python",
   "nbconvert_exporter": "python",
   "pygments_lexer": "ipython3",
   "version": "3.12.8"
  }
 },
 "nbformat": 4,
 "nbformat_minor": 5
}
