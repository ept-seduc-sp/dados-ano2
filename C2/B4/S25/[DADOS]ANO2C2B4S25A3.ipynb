{
 "cells": [
  {
   "cell_type": "markdown",
   "id": "9be31bca",
   "metadata": {},
   "source": [
    "\n",
    "<h1 style=\"text-align: center;\">CIÊNCIA DE DADOS</h1>\n",
    "<h1 style=\"text-align: center;\">Roteiro de Atividade Prática</h1>\n",
    "<br>\n",
    "<br>\n",
    "\n",
    "Nome: ______________________________________________________________________________________      \n",
    "\n",
    "Turma: ______________\n",
    "\n",
    "\n",
    "**Componente:** Matemática e Estatística para Ciência de Dados \n",
    "<br>\n",
    "**Unidade Curricular:** Estatística Aplicada\n",
    "<br>\n",
    "**Tema da Semana:** Inferência Estatística: Testes de hipóteses parte I\n",
    "<br>\n",
    "\n"
   ]
  },
  {
   "cell_type": "markdown",
   "id": "f2f91e0e",
   "metadata": {},
   "source": [
    "# Aula 3"
   ]
  },
  {
   "cell_type": "markdown",
   "id": "0ddfd64c",
   "metadata": {},
   "source": [
    "## Tarefa\n",
    "- Execute o código abaixo.\n",
    "\n",
    "- Se as bibliotecas não tiverem instaladas, instale-as.\n",
    "\n",
    "- Acompanhe as instruções.\n",
    "\n",
    "- Preencha o código onde está #TO DO\n",
    "\n",
    "- Responda as perguntas e conclua a atividade\n"
   ]
  },
  {
   "cell_type": "markdown",
   "id": "443ba3fb-fbb7-4609-9d15-80dda5bf93d4",
   "metadata": {},
   "source": [
    "#### **Problema 1:**\n",
    "\n",
    "Imagine que uma professora de Matemática do Ensino Médio decidiu conduzir uma pesquisa sobre o desempenho dos estudantes em uma nova plataforma de estudos online. A plataforma oferece vídeos explicativos, atividades interativas e jogos educativos para revisar conteúdos. Ela supõe que os alunos que utilizam essa plataforma pelo menos três vezes por semana podem apresentar uma média de notas mais alta em comparação aos que não acessam tão regularmente. Como a escola possui recursos limitados e não pode disponibilizar a plataforma para todos, a professora selecionou duas turmas com características semelhantes: a Turma A, que teve acesso ao conteúdo online, e a Turma B, que só realizou as atividades tradicionais em sala de aula e no livro didático. Após um bimestre, foram aplicadas provas de nível equivalente para ambos os grupos.\n",
    "\n",
    "A professora, então, organizou as notas em uma planilha e verificou que a Turma A, em média, aparentava ter um desempenho levemente superior. Porém, antes de tirar conclusões sobre a efetividade da plataforma, ela entendeu que deveria aplicar um teste de hipóteses para analisar se essa diferença nas médias é estatisticamente significativa ou se poderia ter ocorrido por puro acaso. Ela também solicitou a ajuda dos estudantes para montarem as hipóteses nula e alternativa e, em seguida, utilizarem uma biblioteca de Python que auxiliasse na verificação dessa diferença de médias entre as duas turmas.\n",
    "\n",
    "**Instrução aos Alunos:**\n",
    "\n",
    "    - Monte a Hipótese Nula (H₀) e a Hipótese Alternativa (H₁) para esse cenário.\n",
    "    - Em seguida, utilize os dados fornecidos e execute o teste em Python para verificar se a diferença das médias é significativa.\n"
   ]
  },
  {
   "cell_type": "code",
   "execution_count": 5,
   "id": "0134a577-bed9-4a19-891f-02f6ff8e591e",
   "metadata": {
    "tags": []
   },
   "outputs": [],
   "source": [
    "import numpy as np\n",
    "from scipy import stats\n",
    "\n",
    "# Dados simulados de notas (0 a 10)\n",
    "# Turma A: alunos que usaram a plataforma\n",
    "turmaA = np.array([7.5, 8.0, 6.5, 9.0, 8.5, 7.0, 7.5, 8.0, 9.0, 8.5])\n",
    "\n",
    "# Turma B: alunos que não usaram a plataforma\n",
    "turmaB = np.array([6.5, 6.0, 7.0, 7.0, 6.5, 7.5, 6.0, 7.0, 6.5, 7.0])\n",
    "\n",
    "# To do"
   ]
  },
  {
   "cell_type": "markdown",
   "id": "0b7424b0-43a2-460b-b924-78b2d2983452",
   "metadata": {},
   "source": [
    "#### **Perguntas:**\n",
    "\n",
    "\n",
    "1.  Por que utilizar um teste t para comparar as médias das duas turmas?\n",
    "\n",
    "\n",
    "\n",
    "<br>\n",
    "\n",
    "\n",
    "2. Qual é o significado de “rejeitar H₀” neste contexto?\n",
    "\n",
    "\n",
    "\n",
    "<br>\n",
    "\n",
    "\n",
    "3. O que representa o valor de α (por exemplo, 0,05)?\n",
    "\n",
    "\n",
    "<br>\n",
    "\n",
    "---\n"
   ]
  },
  {
   "cell_type": "markdown",
   "id": "51298d63-e96e-4e22-b211-9b935314e5ce",
   "metadata": {
    "tags": []
   },
   "source": [
    "#### **Problema 2:**\n",
    "\n",
    "Um clube de ciências do Ensino Médio resolveu investigar se a prática de atividades físicas regulares poderia ter impacto na disposição dos estudantes para estudar e, consequentemente, na frequência com que realizam deveres de casa. A ideia surgiu depois que alguns integrantes notaram que alunos envolvidos em esportes escolares, como vôlei e basquete, pareciam ter uma rotina mais organizada e entregavam suas tarefas em dia com maior frequência. Para ter dados concretos, os membros do clube elaboraram um questionário rápido para todas as turmas do Ensino Médio, perguntando sobre quantas horas de atividade física cada aluno realizava por semana e quantos deveres de casa, em média, ele completava no mesmo período.\n",
    "\n",
    "Depois de coletados os questionários, eles reuniram os dados em uma planilha, armazenando as horas de atividade física e o número médio de tarefas concluídas. Então, decidiram aplicar um teste de correlação para verificar se há relação estatisticamente significativa entre atividade física semanal e frequência de conclusão de deveres de casa. Se confirmassem que existe uma correlação positiva, poderiam incentivar os colegas e até a direção da escola a adotarem políticas de promoção de atividades físicas para todos, acreditando que isso poderia melhorar o comprometimento com os estudos. Caso não houvesse correlação alguma, os integrantes do clube pretendiam investigar outras variáveis, como métodos de estudo ou horários de sono, que poderiam ser mais determinantes.\n",
    "\n",
    "**Instrução aos Alunos**\n",
    "\n",
    "    - Monte a Hipótese Nula (H₀) e a Hipótese Alternativa (H₁) deste cenário de correlação.\n",
    "    - Execute um teste de correlação apropriado em Python para verificar se a prática de atividades físicas e a frequência de conclusão de deveres de casa estão relacionadas.\n"
   ]
  },
  {
   "cell_type": "code",
   "execution_count": 9,
   "id": "90781d3d-fe53-4947-973b-fc49c3bb6528",
   "metadata": {
    "tags": []
   },
   "outputs": [],
   "source": [
    "import numpy as np\n",
    "from scipy.stats import pearsonr\n",
    "\n",
    "# Dados simulados\n",
    "# Horas de atividade física por semana\n",
    "horas_atividade = np.array([2, 1, 3, 5, 4, 2, 6, 3, 2, 4, 5, 6, 1, 3])\n",
    "\n",
    "# Número médio de deveres de casa concluídos por semana\n",
    "tarefas_concluidas = np.array([4, 3, 5, 7, 6, 4, 8, 5, 4, 6, 7, 8, 3, 5])\n",
    "\n",
    "# To do"
   ]
  },
  {
   "cell_type": "markdown",
   "id": "2bb10392-79e3-4e9e-bd2a-3c2520f7d979",
   "metadata": {
    "tags": []
   },
   "source": [
    "#### **Perguntas:**\n",
    "\n",
    "1. O que significa dizer que existe uma correlação significativa entre horas de atividade física e número de deveres concluídos?\n",
    "\n",
    "\n",
    "\n",
    "<br> \n",
    "\n",
    "2. Se o p-valor for maior que 0,05, podemos afirmar que não existe nenhuma relação entre as variáveis?\n",
    "\n",
    "\n",
    "<br> \n",
    "\n",
    "3. Por que é importante verificar se há normalidade ou outras condições antes de aplicar o teste de correlação de Pearson?\n",
    "\n",
    "\n",
    "<br>\n",
    "\n",
    "---"
   ]
  }
 ],
 "metadata": {
  "kernelspec": {
   "display_name": "Python 3 (ipykernel)",
   "language": "python",
   "name": "python3"
  },
  "language_info": {
   "codemirror_mode": {
    "name": "ipython",
    "version": 3
   },
   "file_extension": ".py",
   "mimetype": "text/x-python",
   "name": "python",
   "nbconvert_exporter": "python",
   "pygments_lexer": "ipython3",
   "version": "3.12.8"
  }
 },
 "nbformat": 4,
 "nbformat_minor": 5
}
