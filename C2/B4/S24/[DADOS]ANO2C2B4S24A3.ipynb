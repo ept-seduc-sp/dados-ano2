{
 "cells": [
  {
   "cell_type": "markdown",
   "id": "9be31bca",
   "metadata": {},
   "source": [
    "\n",
    "<h1 style=\"text-align: center;\">CIÊNCIA DE DADOS</h1>\n",
    "<h1 style=\"text-align: center;\">Roteiro de Atividade Prática</h1>\n",
    "<br>\n",
    "<br>\n",
    "\n",
    "Nome: ______________________________________________________________________________________      \n",
    "\n",
    "Turma: ______________\n",
    "\n",
    "\n",
    "**Componente:** Matemática e Estatística para Ciência de Dados \n",
    "<br>\n",
    "**Unidade Curricular:** Estatística Aplicada\n",
    "<br>\n",
    "**Tema da Semana:** Inferência Estatística: Intervalos de Confiança II\n",
    "<br>\n",
    "\n"
   ]
  },
  {
   "cell_type": "markdown",
   "id": "f2f91e0e",
   "metadata": {},
   "source": [
    "# Aula 3"
   ]
  },
  {
   "cell_type": "markdown",
   "id": "0ddfd64c",
   "metadata": {},
   "source": [
    "## Tarefa\n",
    "- Execute o código abaixo.\n",
    "\n",
    "- Se as bibliotecas não tiverem instaladas, instale-as.\n",
    "\n",
    "- Acompanhe as instruções.\n",
    "\n",
    "- Preencha o código onde está #TO DO\n",
    "\n",
    "- Responda as perguntas e conclua a atividade\n"
   ]
  },
  {
   "cell_type": "markdown",
   "id": "88c11618-c78f-4e2c-b349-aab59f54617e",
   "metadata": {},
   "source": [
    "#### **Problema 1: Consumo de Água em uma Escola**\n",
    "\n",
    "Em uma escola com mais de 500 alunos, a direção quer estimar o consumo médio diário de água para planejar medidas de economia. Durante 30 dias, registrou-se o consumo diário, resultando em uma média de 12.000 litros com desvio padrão populacional de 1.500 litros. A direção deseja calcular um intervalo de confiança de 95% para o consumo médio diário, ajudando a decidir se o investimento em sistemas de reuso de água será viável e eficiente."
   ]
  },
  {
   "cell_type": "code",
   "execution_count": 8,
   "id": "ad2dbf34-c101-422f-8c6c-b2c7ccf75f97",
   "metadata": {
    "tags": []
   },
   "outputs": [],
   "source": [
    "# To DO"
   ]
  },
  {
   "cell_type": "markdown",
   "id": "9136f036-6d40-4adf-a3c3-8f31a9499fb1",
   "metadata": {},
   "source": [
    "#### **Perguntas:**\n",
    "\n",
    "\n",
    "1.  Qual distribuição devemos usar aqui e por que?\n",
    "\n",
    "\n",
    "<br>\n",
    "\n",
    "2. O que significa o intervalo obtido?\n",
    "\n",
    "\n",
    "<br>\n",
    "\n",
    "3. Como o desvio padrão influencia o intervalo?\n",
    "\n",
    "   \n",
    "<br>\n",
    "\n",
    "---\n"
   ]
  },
  {
   "cell_type": "markdown",
   "id": "b1e5abed-34fc-47d0-8ef9-1205ff345c47",
   "metadata": {},
   "source": [
    "#### **Problema 2: Notas de Redação**\n",
    "\n",
    "Uma escola quer avaliar o desempenho em redação dos alunos do terceiro ano para planejar reforços. Em uma amostra de 25 redações, a nota média foi 7,4 com desvio padrão amostral de 0,9. Calcule o intervalo de confiança de 99% para a média de notas e ajude a escola a decidir se ações pedagógicas são necessárias para melhorar o desempenho geral."
   ]
  },
  {
   "cell_type": "code",
   "execution_count": 6,
   "id": "047a1976-2948-4da8-ade0-3ebce68e4f1f",
   "metadata": {},
   "outputs": [],
   "source": [
    "# To Do"
   ]
  },
  {
   "cell_type": "markdown",
   "id": "6f093c92-1b70-4a31-9fc5-6f88846f568b",
   "metadata": {},
   "source": [
    "#### **Perguntas:**\n",
    "\n",
    "1. Qual distribuição devemos usar aqui e por que?\n",
    "\n",
    "  \n",
    "<br>\n",
    "\n",
    "2. O que o intervalo indica para a escola?\n",
    "\n",
    "  \n",
    "<br>\n",
    "\n",
    "3. Como o nível de confiança de 99% afeta o intervalo?\n",
    "\n",
    "  \n",
    "<br>\n",
    "\n",
    "---"
   ]
  },
  {
   "cell_type": "code",
   "execution_count": null,
   "id": "d4ba0c74-3a08-4a6c-9435-3f2118b97608",
   "metadata": {},
   "outputs": [],
   "source": []
  }
 ],
 "metadata": {
  "kernelspec": {
   "display_name": "Python [conda env:base] *",
   "language": "python",
   "name": "conda-base-py"
  },
  "language_info": {
   "codemirror_mode": {
    "name": "ipython",
    "version": 3
   },
   "file_extension": ".py",
   "mimetype": "text/x-python",
   "name": "python",
   "nbconvert_exporter": "python",
   "pygments_lexer": "ipython3",
   "version": "3.12.7"
  }
 },
 "nbformat": 4,
 "nbformat_minor": 5
}
