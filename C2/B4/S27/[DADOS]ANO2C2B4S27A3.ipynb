{
 "cells": [
  {
   "cell_type": "markdown",
   "id": "9be31bca",
   "metadata": {},
   "source": [
    "\n",
    "<h1 style=\"text-align: center;\">CIÊNCIA DE DADOS</h1>\n",
    "<h1 style=\"text-align: center;\">Roteiro de Atividade Prática</h1>\n",
    "<br>\n",
    "<br>\n",
    "\n",
    "Nome: ______________________________________________________________________________________      \n",
    "\n",
    "Turma: ______________\n",
    "\n",
    "\n",
    "**Componente:** Matemática e Estatística para Ciência de Dados \n",
    "<br>\n",
    "**Unidade Curricular:** Estatística Aplicada\n",
    "<br>\n",
    "**Tema da Semana:** Revisão Geral e Preparação para Avaliações\n",
    "<br>\n",
    "\n"
   ]
  },
  {
   "cell_type": "markdown",
   "id": "f2f91e0e",
   "metadata": {},
   "source": [
    "# Aula 3"
   ]
  },
  {
   "cell_type": "markdown",
   "id": "0ddfd64c",
   "metadata": {},
   "source": [
    "## Tarefa\n",
    "- Execute o código abaixo.\n",
    "\n",
    "- Se as bibliotecas não tiverem instaladas, instale-as.\n",
    "\n",
    "- Acompanhe as instruções.\n",
    "\n",
    "- Preencha o código onde está #TO DO\n",
    "\n",
    "- Responda as perguntas e conclua a atividade\n"
   ]
  },
  {
   "cell_type": "markdown",
   "id": "06aeed46-c5f9-4a3f-84f3-cb6896ba1418",
   "metadata": {},
   "source": [
    "#### Aula 3 – Revisão Geral e Preparação para Avaliações  \n",
    "\n",
    "\n",
    "#### Roteiro para Montar e Apresentar o Projeto\n",
    "\n",
    "A partir dos exercícios resolvidos nas aulas 1 e 2 (disponíveis no arquivo Python anexo), vocês deverão montar um projeto que integre as análises realizadas e responda a uma questão prática sobre o dataset de folha de pagamento da Empresa X. Este roteiro servirá de guia e inspiração. Responda às perguntas e siga os passos abaixo:\n",
    "\n",
    "#### **1. Definição do Problema e Objetivo do Projeto**\n",
    "\n",
    "- **Pergunta para reflexão:**  \n",
    "  - *Qual questão relevante sobre folha de pagamento você deseja responder?*  \n",
    "    - Exemplo: \"Os vencimentos dos funcionários variam significativamente entre diferentes cargos ou períodos de admissão?\"\n",
    "- **Passos:**  \n",
    "  1. **Escolha um tema:** Revise os exercícios anteriores e identifique um aspecto que você julgue interessante (por exemplo, comparação de vencimentos entre grupos, análise de encargos ou correlação entre vencimentos e outras remunerações).  \n",
    "  2. **Defina as hipóteses:**  \n",
    "     - **H0 (Hipótese nula):** Não existe diferença significativa (ou não há correlação, conforme o caso) entre os grupos analisados.  \n",
    "     - **H1 (Hipótese alternativa):** Existe uma diferença significativa (ou correlação relevante) entre os grupos.\n",
    "- **Dica:** Anote o problema e as hipóteses que serão respondidas com a análise dos dados.\n",
    "\n",
    "#### **2. Planejamento e Metodologia**\n",
    "\n",
    "- **Pergunta para reflexão:**  \n",
    "  - *Como os exercícios resolvidos podem ser integrados para responder à sua questão?*  \n",
    "    - Exemplo: \"Podemos combinar a análise de vencimentos com a comparação de benefícios para entender a estrutura remuneratória.\"\n",
    "- **Passos:**  \n",
    "  1. **Reúna os exercícios:** Selecione os exercícios que melhor abordam seu problema. Por exemplo, use o exercício que compara vencimentos entre funcionários admitidos antes e depois de 2015 e o que analisa a correlação entre vencimentos e outras remunerações.  \n",
    "  2. **Descreva a metodologia:** Explique brevemente como cada exercício contribui para a resposta da questão.  \n",
    "  3. **Limpeza e preparação dos dados:** Lembre-se de explicar como os dados foram filtrados (remoção de nulos, definição de grupos, etc.) conforme os exemplos do arquivo Python.\n",
    "\n",
    "#### **3. Análise e Interpretação dos Resultados**\n",
    "\n",
    "- **Pergunta para reflexão:**  \n",
    "  - *Quais resultados você espera encontrar e como eles podem influenciar decisões na Empresa X?*  \n",
    "    - Exemplo: \"Se os vencimentos aumentaram para funcionários admitidos após 2015, isso pode sugerir mudanças na política de remuneração.\"\n",
    "- **Passos:**  \n",
    "  1. **Apresente os resultados:** Utilize gráficos, tabelas ou estatísticas obtidas nos exercícios.  \n",
    "  2. **Interprete os dados:** Explique se os resultados corroboram ou refutam suas hipóteses e discuta as possíveis implicações práticas.\n",
    "\n",
    "#### **4. Preparação da Apresentação de 5 Minutos**\n",
    "\n",
    "- **Pergunta para reflexão:**  \n",
    "  - *Como você pode estruturar sua apresentação para ser clara e impactante em apenas 5 minutos?*  \n",
    "    - Exemplo: \"Dividindo a apresentação em introdução, metodologia, resultados e conclusões.\"\n",
    "- **Passos:**  \n",
    "  1. **Slide 1 – Introdução (1 minuto):**  \n",
    "     - Apresente o problema, os objetivos e as hipóteses.\n",
    "  2. **Slide 2 – Metodologia (1-2 minutos):**  \n",
    "     - Explique de forma resumida os métodos e os testes aplicados (por exemplo, testes t, análise de correlação, etc.).  \n",
    "  3. **Slide 3 – Resultados (1-2 minutos):**  \n",
    "     - Mostre gráficos ou tabelas que evidenciem os principais achados.\n",
    "  4. **Slide 4 – Conclusão e Recomendações (1 minuto):**  \n",
    "     - Resuma as conclusões, discuta as implicações e sugira possíveis próximos passos ou recomendações.\n",
    "  5. **Ensaiem a apresentação:** Pratiquem para garantir que o tempo total seja de 5 minutos, focando nos pontos mais importantes.\n",
    "\n",
    "---\n",
    "\n",
    "\n",
    "#### Dicas para a Apresentação de 5 Minutos\n",
    "\n",
    "- **Seja Claro e Conciso:** Utilize uma linguagem simples e direta, evitando jargões técnicos sem explicação.  \n",
    "- **Utilize Elementos Visuais:** Gráficos e tabelas facilitam a compreensão e tornam a apresentação mais dinâmica.  \n",
    "- **Divida o Tempo:** Planeje aproximadamente 1 minuto para a introdução, 2 minutos para a metodologia e resultados, e 1-2 minutos para conclusões e recomendações.  \n",
    "- **Ensaie a Apresentação:** Treine a apresentação para garantir que ela se encaixe no tempo e que você se sinta seguro para responder eventuais dúvidas.\n",
    "\n",
    "---\n",
    "\n"
   ]
  },
  {
   "cell_type": "markdown",
   "id": "d941cb55-a887-47dd-89ae-6674fce5030d",
   "metadata": {},
   "source": [
    "**Realize os códigos e análises pertinentes ao projeto escolhido**\n",
    "\n",
    "- Envie o tema e as respostas acima pelo AVA"
   ]
  },
  {
   "cell_type": "code",
   "execution_count": 1,
   "id": "d4ba0c74-3a08-4a6c-9435-3f2118b97608",
   "metadata": {},
   "outputs": [],
   "source": [
    "# To Do"
   ]
  },
  {
   "cell_type": "code",
   "execution_count": null,
   "id": "bb88a8b4-12db-4f9d-bac5-c8a4cc10bbcb",
   "metadata": {},
   "outputs": [],
   "source": []
  }
 ],
 "metadata": {
  "kernelspec": {
   "display_name": "Python 3 (ipykernel)",
   "language": "python",
   "name": "python3"
  },
  "language_info": {
   "codemirror_mode": {
    "name": "ipython",
    "version": 3
   },
   "file_extension": ".py",
   "mimetype": "text/x-python",
   "name": "python",
   "nbconvert_exporter": "python",
   "pygments_lexer": "ipython3",
   "version": "3.12.8"
  }
 },
 "nbformat": 4,
 "nbformat_minor": 5
}
