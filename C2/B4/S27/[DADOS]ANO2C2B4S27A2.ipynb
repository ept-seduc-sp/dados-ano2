{
 "cells": [
  {
   "cell_type": "markdown",
   "id": "afc3a56b",
   "metadata": {},
   "source": [
    "\n",
    "<h1 style=\"text-align: center;\">CIÊNCIA DE DADOS</h1>\n",
    "<h1 style=\"text-align: center;\">Roteiro de Atividade Prática</h1>\n",
    "<br>\n",
    "<br>\n",
    "\n",
    "Nome: ______________________________________________________________________________________      \n",
    "\n",
    "Turma: ______________\n",
    "\n",
    "\n",
    "**Componente:** Matemática e Estatística para Ciência de Dados \n",
    "<br>\n",
    "**Unidade Curricular:** Estatística Aplicada\n",
    "<br>\n",
    "**Tema da Semana:** Revisão Geral e Preparação para Avaliações\n",
    "<br>\n"
   ]
  },
  {
   "cell_type": "markdown",
   "id": "832ab5d4",
   "metadata": {},
   "source": [
    "# Aula 2"
   ]
  },
  {
   "cell_type": "markdown",
   "id": "28f2c8c2",
   "metadata": {},
   "source": [
    "## Tarefa\n",
    "- Executem o código abaixo.\n",
    "\n",
    "- Se as bibliotecas não estiverem instaladas, instalem-as.\n",
    "\n",
    "- Acompanhem as instruções.\n",
    "\n",
    "- Preencham o código onde está #TO DO\n",
    "\n",
    "- Respondam as perguntas e concluam a atividade\n"
   ]
  },
  {
   "cell_type": "markdown",
   "id": "4ff84e6b-0faa-41f0-b923-bd8a39312587",
   "metadata": {},
   "source": [
    "#### **Exercício 1: Comparando a média de ENCARGOS entre “assessor ii” e “assessor v”**\n",
    "\n",
    "Desta vez, você quer verificar se dois cargos distintos – “assessor ii” e “assessor v” – têm médias de encargos diferentes. O “assessor ii” lida com atividades externas, visitas a terminais, contato direto com ocorrências de transporte, enquanto o “assessor v” atua em ambiente de escritório. Em tese, o primeiro poderia acarretar mais adicionais de periculosidade ou seguros, refletindo encargos mais altos.\n",
    "\n",
    "Formulamos as hipóteses:\n",
    "\n",
    "- H0: A média de encargos para “assessor ii” = média de encargos para “assessor v”.\n",
    "- H1: Essas médias de encargos diferem significativamente entre os dois cargos.\n",
    "\n",
    "Se a análise mostrar que “assessor v” têm encargos mais elevados, possivelmente será preciso prever um orçamento maior para essas posições e avaliar se as políticas de segurança e seguros estão ajustadas. Caso não haja diferença estatística, a SPTrans pode interpretar que a variação de encargos não está ligada à natureza do trabalho (campo vs. escritório), mas talvez a outros fatores, como tempo de serviço ou data de admissão. Esse resultado servirá de base para reflexões sobre regras contratuais e eventuais ajustes em próximos acordos sindicais ou negociações de seguro coletivo."
   ]
  },
  {
   "cell_type": "code",
   "execution_count": null,
   "id": "a8a430d2-bacc-4f63-a6d2-10f96d85dffd",
   "metadata": {
    "tags": []
   },
   "outputs": [],
   "source": [
    "import pandas as pd\n",
    "from scipy.stats import ttest_ind\n",
    "\n",
    "df = pd.read_csv(\"[DADOS]ANO2C2B4S27A1A2A3_sptrans_corrigido.csv\")\n",
    "pd.set_option(\"display.max_rows\", None)"
   ]
  },
  {
   "cell_type": "code",
   "execution_count": null,
   "id": "895e1177-a27d-47a1-bb73-7895db9f1019",
   "metadata": {
    "tags": []
   },
   "outputs": [],
   "source": [
    "df[\"CARGO\"].value_counts()"
   ]
  },
  {
   "cell_type": "code",
   "execution_count": null,
   "id": "fe476b53-d71c-4aa8-a57e-f20c0136eb8b",
   "metadata": {
    "tags": []
   },
   "outputs": [],
   "source": [
    "agentes = df[df[\"CARGO\"] == \"assessor ii\"][\"ENCARGOS\"].dropna()\n",
    "assistentes = df[df[\"CARGO\"] == \"assessor v\"][\"ENCARGOS\"].dropna()\n",
    "\n",
    "stat, p_value = ttest_ind(agentes, assistentes, equal_var=False)\n",
    "\n",
    "print(\"Estatística do teste:\", stat)\n",
    "print(\"p-valor:\", p_value)\n",
    "if p_value < 0.05:\n",
    "    print(\"Rejeitamos H0: diferença significativa na média de ENCARGOS entre os dois cargos.\")\n",
    "else:\n",
    "    print(\"Não rejeitamos H0: não há evidência de diferença estatística.\")"
   ]
  },
  {
   "cell_type": "markdown",
   "id": "6502849f-98b3-4fa3-afac-335850ab7e4e",
   "metadata": {},
   "source": [
    "#### **Perguntas:**\n",
    "\n",
    "\n",
    "1. Por que faz sentido analisar ENCARGOS em vez de apenas VENCIMENTOS ao comparar esses cargos?\n",
    "2. Como as conclusões podem influenciar a previsão orçamentária da empresa?\n",
    "\n",
    "**Gabarito**\n",
    "\n",
    "Responda com seu professor.\n",
    "\n",
    "<br>\n",
    "\n",
    "---"
   ]
  },
  {
   "cell_type": "markdown",
   "id": "28dc848c-2930-442c-bab9-8b45aad2bd75",
   "metadata": {},
   "source": [
    "#### **Exemplo 2: TComparando “BENEFÍCIOS” entre dois vínculos distintos** \n",
    "\n",
    "Na SPTrans, existem várias formas de vínculo empregatício, como CLT (Consolidação das Leis do Trabalho) e Contrato Temporário, entre outras possíveis. Suponha que você queira investigar se há diferença significativa na média de “BENEFÍCIOS” entre dois vínculos específicos, por exemplo, “CLT” e “Estagiário”. Muitas vezes, empregados CLT têm direitos trabalhistas e benefícios previstos por lei, enquanto estagiários recebem apenas ajudas de custo.\n",
    "\n",
    "Formulamos as hipóteses:\n",
    "\n",
    "- H0: A média de BENEFÍCIOS é igual para “CLT” e “Estagiário”.\n",
    "- H1: A média de BENEFÍCIOS difere entre os dois vínculos.\n",
    "\n",
    "Se rejeitarmos H0, pode ficar comprovado estatisticamente que os valores de benefícios são mais elevados (ou diferentes) para quem tem carteira assinada em comparação aos estagiários, possivelmente justificando as reclamações de alguns estudantes que se sentem desassistidos. Por outro lado, se não houver evidência de diferença, conclui-se que, mesmo com regimes de contratação diversos, a SPTrans manteve um patamar de benefícios parecido. Esse achado pode interessar à equipe de RH que gerencia custos e políticas de retenção, garantindo uma experiência justa e compatível com as regras vigentes para cada tipo de vínculo."
   ]
  },
  {
   "cell_type": "code",
   "execution_count": null,
   "id": "0558e2cf-0cd9-4c9d-8c8f-124ad6cd12ac",
   "metadata": {
    "tags": []
   },
   "outputs": [],
   "source": [
    "df.head(2)"
   ]
  },
  {
   "cell_type": "code",
   "execution_count": null,
   "id": "29d78125-af42-4f1e-989f-9d68cbddadf6",
   "metadata": {
    "tags": []
   },
   "outputs": [],
   "source": [
    "df[\"VÍNCULO\"].value_counts()"
   ]
  },
  {
   "cell_type": "code",
   "execution_count": null,
   "id": "929be88e-930d-47b8-a4e0-03e46b96a3b4",
   "metadata": {
    "tags": []
   },
   "outputs": [],
   "source": [
    "benef_clt = df[df[\"VÍNCULO\"] == \"CLT: contrato por tempo indeterminado\"][\"BENEFÍCIOS\"].dropna()\n",
    "benef_estagio = df[df[\"VÍNCULO\"] == \"Estagiário\"][\"BENEFÍCIOS\"].dropna()\n",
    "\n",
    "stat, p_value = ttest_ind(benef_clt, benef_estagio, equal_var=False)\n",
    "\n",
    "print(\"Estatística do teste:\", stat)\n",
    "print(\"p-valor:\", p_value)\n",
    "if p_value < 0.05:\n",
    "    print(\"Rejeitamos H0: há diferença significativa nos benefícios.\")\n",
    "else:\n",
    "    print(\"Não rejeitamos H0: sem evidência de diferença estatística.\")"
   ]
  },
  {
   "cell_type": "markdown",
   "id": "ef81eb8c-5e28-4e39-b1d8-8781a1b281b7",
   "metadata": {},
   "source": [
    "#### **Perguntas:**\n",
    "\n",
    "\n",
    "1. Em termos práticos, o que significaria verificar que há diferença de benefícios entre CLT e Estagiário?\n",
    "2. Por que é relevante observar o p-valor ao comparar esses grupos?\n",
    "\n",
    "**Gabarito**\n",
    "\n",
    "\n",
    "Responda com seu professor.\n",
    "\n",
    "<br>\n",
    "\n",
    "---"
   ]
  },
  {
   "cell_type": "markdown",
   "id": "c6fa1eb1-8c18-49c2-9ef2-56dfc65b32b0",
   "metadata": {},
   "source": [
    "#### **Exemplo 3: Comparando a média de “VENCIMENTOS” entre funcionários admitidos antes e depois de 2015**\n",
    "\n",
    "Suponha que a SPTrans deseje investigar se houve mudanças importantes nos valores de “VENCIMENTOS” para os funcionários contratados em períodos diferentes. Alguns gestores acreditam que, a partir de 2015, ocorreram ajustes salariais maiores, além de novas regras de contratação que elevaram a remuneração média. Já para quem foi admitido antes de 2015, a impressão é de que houve menos reajustes e, por isso, os salários se mantiveram menores. Entretanto, é preciso verificar se esses comentários têm embasamento nos dados.\n",
    "\n",
    "Para isso, podemos criar dois grupos de acordo com o ano de admissão: “Antes de 2015” e “2015 ou depois”. Em seguida, aplicamos um teste de hipóteses para comparar as médias de “VENCIMENTOS” entre esses dois grupos. \n",
    "Definimos nossas hipóteses:\n",
    "\n",
    "- H0: A média de vencimentos é a mesma em ambos os grupos (funcionários admitidos antes de 2015 vs. em ou após 2015).\n",
    "- H1: A média de vencimentos difere de forma significativa entre os dois grupos.\n",
    "\n",
    "Se, ao final, rejeitarmos H0, há evidências de que os funcionários contratados depois de 2015 realmente possuem uma média salarial diferente. Isso pode influenciar a gestão de pessoas e a negociação sindical, pois, caso haja variação muito grande, poderá surgir a necessidade de revisar os planos de carreira ou de criar políticas de equiparação para funcionários mais antigos. Por outro lado, se os dados não indicarem diferença estatisticamente relevante, conclui-se que as variações salariais percebidas não passaram de especulações ou foram pequenas demais para caracterizar uma distinção consistente."
   ]
  },
  {
   "cell_type": "code",
   "execution_count": null,
   "id": "461c919f-73e8-497c-ac1b-fd4a2017d505",
   "metadata": {
    "tags": []
   },
   "outputs": [],
   "source": [
    "# Converter datas de admissão para datetime (ajustar formato conforme necessário)\n",
    "df[\"ADMISSÃO\"] = pd.to_datetime(df[\"ADMISSÃO\"], errors='coerce', dayfirst=True)\n",
    "\n",
    "# Separar grupos: antes de 2015 e em/apos 2015\n",
    "antes_2015 = df[df[\"ADMISSÃO\"].dt.year < 2015][\"VENCIMENTOS\"].dropna()\n",
    "apos_2015 = df[df[\"ADMISSÃO\"].dt.year >= 2015][\"VENCIMENTOS\"].dropna()\n",
    "\n",
    "# Teste t para comparar as duas médias\n",
    "stat, p_value = ttest_ind(antes_2015, apos_2015, equal_var=False)\n",
    "\n",
    "print(\"Estatística do teste:\", stat)\n",
    "print(\"p-valor:\", p_value)\n",
    "\n",
    "if p_value < 0.05:\n",
    "    print(\"Rejeitamos H0: diferença significativa de vencimentos entre os grupos.\")\n",
    "else:\n",
    "    print(\"Não rejeitamos H0: não há evidência de diferença estatística.\")\n"
   ]
  },
  {
   "cell_type": "markdown",
   "id": "ad415f29-6223-41f4-a225-8b7adc20d623",
   "metadata": {},
   "source": [
    "#### **Perguntas:**\n",
    "\n",
    "\n",
    "1. Por que faz sentido segmentar os funcionários com base em datas de admissão para analisar “VENCIMENTOS”?\n",
    "2. Como os resultados deste teste podem impactar políticas de equiparação salarial na SPTrans?\n",
    "\n",
    "**Gabarito**\n",
    "\n",
    "\n",
    "Responda com seu professor.\n",
    "<br>\n",
    "\n",
    "---"
   ]
  },
  {
   "cell_type": "code",
   "execution_count": null,
   "id": "7b631693-0f03-44f1-b2bc-fa72abcd4fc2",
   "metadata": {},
   "outputs": [],
   "source": []
  }
 ],
 "metadata": {
  "kernelspec": {
   "display_name": "Python 3 (ipykernel)",
   "language": "python",
   "name": "python3"
  },
  "language_info": {
   "codemirror_mode": {
    "name": "ipython",
    "version": 3
   },
   "file_extension": ".py",
   "mimetype": "text/x-python",
   "name": "python",
   "nbconvert_exporter": "python",
   "pygments_lexer": "ipython3",
   "version": "3.12.8"
  }
 },
 "nbformat": 4,
 "nbformat_minor": 5
}
