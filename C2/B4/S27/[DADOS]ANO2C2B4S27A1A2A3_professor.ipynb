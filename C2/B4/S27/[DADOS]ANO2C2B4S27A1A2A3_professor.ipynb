{
 "cells": [
  {
   "cell_type": "markdown",
   "id": "1a157d9c",
   "metadata": {},
   "source": [
    "\n",
    "<h1 style=\"text-align: center;\">CIÊNCIA DE DADOS</h1>\n",
    "<h1 style=\"text-align: center;\">Roteiro de Atividade Prática</h1>\n",
    "<br>\n",
    "<br>\n",
    "\n",
    "Nome: ______________________________________________________________________________________      \n",
    "\n",
    "Turma: ______________\n",
    "\n",
    "\n",
    "**Componente:** Matemática e Estatística para Ciência de Dados \n",
    "<br>\n",
    "**Unidade Curricular:** Estatística Aplicada\n",
    "<br>\n",
    "**Tema da Semana:** Revisão Geral e Preparação para Avaliações\n",
    "\n",
    "<br>\n"
   ]
  },
  {
   "cell_type": "markdown",
   "id": "aba84bdf",
   "metadata": {},
   "source": [
    "# NOTEBOOK DO PROFESSOR"
   ]
  },
  {
   "cell_type": "markdown",
   "id": "7535f6a4",
   "metadata": {
    "tags": []
   },
   "source": [
    "### Aula 1"
   ]
  },
  {
   "cell_type": "markdown",
   "id": "3bff4503-6d24-47d7-8280-800e54f1cdc5",
   "metadata": {
    "tags": []
   },
   "source": [
    "#### **Exercício 1: Comparando a média de vencimentos entre dois cargos**\n",
    "\n",
    "\n",
    "Suponha que o departamento de Recursos Humanos da Trans Transportes deseje investigar se há uma diferença significativa de remuneração entre dois cargos específicos, por exemplo, “Motorista” e “tecnico de sistema de transporte jr”. Muitas vezes, há a percepção de que os motoristas recebem vencimentos médios mais altos devido à complexidade de suas funções, enquanto os cobradores poderiam ter um salário inicial menor. Porém, essas percepções precisam ser confirmadas ou refutadas com dados reais.\n",
    "\n",
    "Com o dataset em mãos, podemos filtrar as linhas correspondentes a cada um desses cargos e calcular suas médias de vencimentos. Em seguida, aplicamos um teste de hipótese para duas amostras independentes (o famoso teste t). A hipótese nula (H0) é de que a média de vencimentos dos motoristas é igual à dos cobradores. A hipótese alternativa (H1) sugere que há uma diferença estatisticamente relevante entre elas, seja para cima ou para baixo (teste bicaudal). Se o p-valor for menor que 0.05, rejeitamos H0 e concluímos que existe diferença significativa. Essa informação pode orientar políticas internas de remuneração, ajustes salariais e até mesmo análises de mercado para garantir que a Empresa X ofereça uma remuneração condizente com cada função."
   ]
  },
  {
   "cell_type": "code",
   "execution_count": 1,
   "id": "0de1dbd6-947d-473b-ba81-f1f955785b26",
   "metadata": {
    "tags": []
   },
   "outputs": [
    {
     "name": "stdout",
     "output_type": "stream",
     "text": [
      "Estatística do teste: -0.11942548390094529\n",
      "p-valor: 0.9049999488102523\n",
      "Não rejeitamos H0: não há evidência de diferença significativa.\n"
     ]
    }
   ],
   "source": [
    "import pandas as pd\n",
    "from scipy.stats import ttest_ind\n",
    "\n",
    "# Leitura do dataset\n",
    "df = pd.read_csv(\"dataset.csv\")\n",
    "\n",
    "# Filtra dados para dois cargos específicos\n",
    "cargo_tec_sist_jr = df[df[\"CARGO\"] == \"tecnico de sistema de transporte jr\"][\"VENCIMENTOS\"]\n",
    "cargo_motorista = df[df[\"CARGO\"] == \"motorista\"][\"VENCIMENTOS\"]\n",
    "\n",
    "# Aplica o teste t para duas amostras independentes\n",
    "# equal_var=False caso suspeitemos que as variâncias sejam diferentes\n",
    "stat, p_value = ttest_ind(cargo_tec_sist_jr, cargo_motorista, equal_var=False)\n",
    "\n",
    "print(\"Estatística do teste:\", stat)\n",
    "print(\"p-valor:\", p_value)\n",
    "\n",
    "if p_value < 0.05:\n",
    "    print(\"Rejeitamos H0: há diferença significativa entre as médias.\")\n",
    "else:\n",
    "    print(\"Não rejeitamos H0: não há evidência de diferença significativa.\")"
   ]
  },
  {
   "cell_type": "code",
   "execution_count": 2,
   "id": "6c193879-bed8-47c5-96bb-9f358fafc705",
   "metadata": {
    "tags": []
   },
   "outputs": [
    {
     "data": {
      "text/html": [
       "<div>\n",
       "<style scoped>\n",
       "    .dataframe tbody tr th:only-of-type {\n",
       "        vertical-align: middle;\n",
       "    }\n",
       "\n",
       "    .dataframe tbody tr th {\n",
       "        vertical-align: top;\n",
       "    }\n",
       "\n",
       "    .dataframe thead th {\n",
       "        text-align: right;\n",
       "    }\n",
       "</style>\n",
       "<table border=\"1\" class=\"dataframe\">\n",
       "  <thead>\n",
       "    <tr style=\"text-align: right;\">\n",
       "      <th></th>\n",
       "      <th>EMPRESA</th>\n",
       "      <th>MÊS</th>\n",
       "      <th>ANO</th>\n",
       "      <th>CARGO</th>\n",
       "      <th>ADMISSÃO</th>\n",
       "      <th>NASCIMENTO</th>\n",
       "      <th>VENCIMENTOS</th>\n",
       "      <th>ENCARGOS</th>\n",
       "      <th>BENEFÍCIOS</th>\n",
       "      <th>OUTRAS REMUNERAÇÕES</th>\n",
       "      <th>VÍNCULO</th>\n",
       "    </tr>\n",
       "  </thead>\n",
       "  <tbody>\n",
       "    <tr>\n",
       "      <th>0</th>\n",
       "      <td>EMPRESA X</td>\n",
       "      <td>1</td>\n",
       "      <td>2024</td>\n",
       "      <td>tecnico de processos administrativos sr</td>\n",
       "      <td>01/03/1968</td>\n",
       "      <td>06/05/1905</td>\n",
       "      <td>26428.33</td>\n",
       "      <td>3830.09</td>\n",
       "      <td>3050.36</td>\n",
       "      <td>0.0</td>\n",
       "      <td>CLT: contrato por tempo indeterminado</td>\n",
       "    </tr>\n",
       "    <tr>\n",
       "      <th>1</th>\n",
       "      <td>EMPRESA X</td>\n",
       "      <td>1</td>\n",
       "      <td>2024</td>\n",
       "      <td>tecnico de inspea‡aƒo veicular sr</td>\n",
       "      <td>27/05/1971</td>\n",
       "      <td>05/05/1905</td>\n",
       "      <td>13747.39</td>\n",
       "      <td>4262.76</td>\n",
       "      <td>3381.46</td>\n",
       "      <td>0.0</td>\n",
       "      <td>CLT: contrato por tempo indeterminado</td>\n",
       "    </tr>\n",
       "  </tbody>\n",
       "</table>\n",
       "</div>"
      ],
      "text/plain": [
       "     EMPRESA  MÊS   ANO                                    CARGO    ADMISSÃO  \\\n",
       "0  EMPRESA X    1  2024  tecnico de processos administrativos sr  01/03/1968   \n",
       "1  EMPRESA X    1  2024        tecnico de inspea‡aƒo veicular sr  27/05/1971   \n",
       "\n",
       "   NASCIMENTO  VENCIMENTOS  ENCARGOS  BENEFÍCIOS  OUTRAS REMUNERAÇÕES  \\\n",
       "0  06/05/1905     26428.33   3830.09     3050.36                  0.0   \n",
       "1  05/05/1905     13747.39   4262.76     3381.46                  0.0   \n",
       "\n",
       "                                 VÍNCULO  \n",
       "0  CLT: contrato por tempo indeterminado  \n",
       "1  CLT: contrato por tempo indeterminado  "
      ]
     },
     "execution_count": 2,
     "metadata": {},
     "output_type": "execute_result"
    }
   ],
   "source": [
    "df.head(2)"
   ]
  },
  {
   "cell_type": "code",
   "execution_count": 3,
   "id": "01a4c69d-0877-49ab-8891-323ce113eb7f",
   "metadata": {
    "tags": []
   },
   "outputs": [
    {
     "data": {
      "text/plain": [
       "EMPRESA\n",
       "EMPRESA X    19916\n",
       "Name: count, dtype: int64"
      ]
     },
     "execution_count": 3,
     "metadata": {},
     "output_type": "execute_result"
    }
   ],
   "source": [
    "df[\"EMPRESA\"].value_counts()"
   ]
  },
  {
   "cell_type": "code",
   "execution_count": 4,
   "id": "640c8116-06b4-425b-aa8a-8cb4543eb48e",
   "metadata": {
    "tags": []
   },
   "outputs": [
    {
     "data": {
      "text/plain": [
       "Index(['EMPRESA', 'MÊS', 'ANO', 'CARGO', 'ADMISSÃO', 'NASCIMENTO',\n",
       "       'VENCIMENTOS', 'ENCARGOS', 'BENEFÍCIOS', 'OUTRAS REMUNERAÇÕES',\n",
       "       'VÍNCULO'],\n",
       "      dtype='object')"
      ]
     },
     "execution_count": 4,
     "metadata": {},
     "output_type": "execute_result"
    }
   ],
   "source": [
    "df.columns"
   ]
  },
  {
   "cell_type": "markdown",
   "id": "ea2d7b77-02f6-4268-bfbc-e5e4dc58b550",
   "metadata": {},
   "source": [
    "#### **Perguntas:**\n",
    "\n",
    "1. Por que faz sentido comparar as médias de vencimentos entre dois cargos usando um teste de hipótese?\n",
    "2. Qual é a interpretação de um p-valor abaixo de 0.05 no contexto deste teste?\n",
    "\n",
    "<br>\n",
    "\n",
    "**Respostas**\n",
    "\n",
    "1. Porque queremos saber se a diferença observada nos salários médios desses cargos é estatisticamente relevante ou resultado de variações aleatórias nos dados.\n",
    "\n",
    "2. Significa que as evidências encontradas nos dados sugerem, com 95% de confiança, que existe uma diferença real entre os salários médios de Motoristas e Cobradores.Perguntas\n",
    "\n",
    "<br>\n",
    "\n",
    "---\n"
   ]
  },
  {
   "cell_type": "markdown",
   "id": "55a3703c-0a6b-4eff-a9d6-79b727733893",
   "metadata": {},
   "source": [
    "#### **Exercício 2: Análise exploratória e identificação de valores extremos em vencimentos**\n",
    "\n",
    "\n",
    "Antes de aplicar testes de hipóteses, é essencial ter um panorama da distribuição dos vencimentos no dataset. Vencimentos muito altos ou muito baixos podem aparecer em determinados cargos de diretoria ou em contratos temporários, por exemplo. Esses valores extremos podem distorcer a média ou indicar casos especiais que merecem atenção, como gratificações únicas ou acúmulo de benefícios num único mês.\n",
    "\n",
    "Para entender melhor esses possíveis outliers, podemos construir um boxplot dos vencimentos, agrupando os dados por cargo ou por empresa, de modo a visualizar a variação interna de cada grupo. Um boxplot mostra rapidamente a mediana, o intervalo interquartil (IQ) e quaisquer valores considerados fora do intervalo esperado. Caso surjam diversos pontos fora da “caixa” do boxplot, especialmente em funções específicas, pode ser necessário investigar se há motivos legítimos (cargos de alta gerência) ou se há algum problema de registro (erro nos dados). Essa análise exploratória também auxiliará na decisão de qual teste estatístico utilizar mais à frente e se alguma limpeza prévia no dataset é aconselhável antes de rodar modelos de inferência mais sofisticados."
   ]
  },
  {
   "cell_type": "code",
   "execution_count": 5,
   "id": "0cdec1ff-3c0d-4892-b729-701b333e55fc",
   "metadata": {
    "tags": []
   },
   "outputs": [
    {
     "name": "stderr",
     "output_type": "stream",
     "text": [
      "C:\\ProgramData\\anaconda3\\envs\\SEDUC_SP\\Lib\\site-packages\\IPython\\core\\pylabtools.py:170: UserWarning: Glyph 141 (\\x8d) missing from font(s) DejaVu Sans.\n",
      "  fig.canvas.print_figure(bytes_io, **kw)\n",
      "C:\\ProgramData\\anaconda3\\envs\\SEDUC_SP\\Lib\\site-packages\\IPython\\core\\pylabtools.py:170: UserWarning: Glyph 129 (\\x81) missing from font(s) DejaVu Sans.\n",
      "  fig.canvas.print_figure(bytes_io, **kw)\n"
     ]
    },
    {
     "data": {
      "image/png": "[encoded data removed]",
      "text/plain": [
       "<Figure size 640x480 with 1 Axes>"
      ]
     },
     "metadata": {},
     "output_type": "display_data"
    }
   ],
   "source": [
    "import pandas as pd\n",
    "import matplotlib.pyplot as plt\n",
    "\n",
    "# Exemplo: boxplot dos vencimentos por cargo\n",
    "df.boxplot(column=\"VENCIMENTOS\", by=\"CARGO\")\n",
    "plt.title(\"Boxplot dos Vencimentos por Cargo\")\n",
    "plt.suptitle(\"\")  # remover título automático\n",
    "plt.xlabel(\"Cargo\")\n",
    "plt.ylabel(\"Vencimentos\")\n",
    "plt.show()\n"
   ]
  },
  {
   "cell_type": "markdown",
   "id": "4649b393-f33e-4b14-80a3-4165549ea0c0",
   "metadata": {},
   "source": [
    "Como ficou ilegível, faremos dos 10 maiores cargos em termos de volume de pssoas contratadas."
   ]
  },
  {
   "cell_type": "code",
   "execution_count": 6,
   "id": "8b16c971-b306-49f8-96ef-762d38550a9f",
   "metadata": {
    "tags": []
   },
   "outputs": [
    {
     "data": {
      "text/plain": [
       "<Figure size 1200x600 with 0 Axes>"
      ]
     },
     "metadata": {},
     "output_type": "display_data"
    },
    {
     "data": {
      "image/png": "[encoded data removed]",
      "text/plain": [
       "<Figure size 640x480 with 1 Axes>"
      ]
     },
     "metadata": {},
     "output_type": "display_data"
    }
   ],
   "source": [
    "import matplotlib.pyplot as plt\n",
    "\n",
    "# Selecionar os 10 cargos mais frequentes\n",
    "top_cargos = df[\"CARGO\"].value_counts().index[:10]\n",
    "\n",
    "# Filtrar o DataFrame para conter apenas esses cargos\n",
    "df_top_cargos = df[df[\"CARGO\"].isin(top_cargos)]\n",
    "\n",
    "# Criar o boxplot dos vencimentos por cargo\n",
    "plt.figure(figsize=(12, 6))\n",
    "df_top_cargos.boxplot(column=\"VENCIMENTOS\", by=\"CARGO\", vert=False)\n",
    "plt.title(\"Boxplot dos Vencimentos dos 10 Cargos Mais Frequentes\")\n",
    "plt.suptitle(\"\")  # Remover título automático gerado pelo Pandas\n",
    "plt.xlabel(\"Vencimentos\")\n",
    "plt.ylabel(\"Cargo\")\n",
    "plt.show()\n"
   ]
  },
  {
   "cell_type": "markdown",
   "id": "f62114f8-baba-45e3-b0e6-3a84d9c7644e",
   "metadata": {},
   "source": [
    "#### **Perguntas:**\n",
    "\n",
    "1. Por que é importante identificar valores atípicos em um conjunto de dados de folha de pagamento?\n",
    "2. Como o boxplot ajuda a destacar possíveis inconsistências ou casos especiais de remuneração?\n",
    "\n",
    "**Respostas**\n",
    "\n",
    "1. Valores atípicos podem indicar problemas de dados (lançamento incorreto) ou, se forem válidos, representar exceções como gratificações extraordinárias. Entendê-los evita conclusões estatísticas equivocadas.\n",
    "2. O boxplot exibe, de forma visual, a dispersão dos dados e sinaliza pontos fora do intervalo interquartil, ressaltando possíveis outliers que merecem investigação detalhada.Perguntas\n",
    "\n",
    "\n",
    "\n",
    "<br>\n",
    "\n",
    "---"
   ]
  },
  {
   "cell_type": "markdown",
   "id": "1470b812-42a4-4e82-ab4b-88d2985abbe7",
   "metadata": {},
   "source": [
    "#### **Exercício 3: Testando a proporção de funcionários com “ENCARGOS” acima de um valor específico**\n",
    "\n",
    "\n",
    "A Empresa X pode estabelecer uma métrica de acompanhamento dos encargos trabalhistas para cada funcionário. Imagine que exista uma preocupação de que 40% (ou mais) dos colaboradores estão gerando encargos acima de R$2.000,00 mensais, o que sobrecarregaria o orçamento destinado ao pagamento de tributos e contribuições. Para verificar essa suposição, podemos realizar um teste de proporção.\n",
    "\n",
    "A hipótese nula (H0) seria de que a proporção de funcionários com encargos acima desse valor não excede 40%. A hipótese alternativa (H1) é de que, na realidade, essa fração seja maior. Nesse tipo de teste, classificamos cada funcionário em “Sim, encargos acima de 2.000” ou “Não, encargos até 2.000”. Em seguida, calculamos a proporção de “Sim” e comparamos ao valor de referência de 0,40. Se os dados indicarem que a proporção real é significativamente maior, a Empresa X precisará rever aspectos como negociações sindicais, revisões de benefícios vinculados e até a forma de contratação, pois esse excedente pode comprometer parte do orçamento planejado. Se, por outro lado, a proporção estiver dentro do esperado, significa que os gastos com encargos ainda são condizentes com as previsões iniciais."
   ]
  },
  {
   "cell_type": "code",
   "execution_count": 7,
   "id": "7d5bf2b7-e09b-45af-b494-af93b2ee5c4a",
   "metadata": {
    "tags": []
   },
   "outputs": [
    {
     "name": "stdout",
     "output_type": "stream",
     "text": [
      "Proporção amostral: 0.617\n",
      "Estatística Z (aproximada): 62.5228\n",
      "Rejeitamos H0: proporção > 40%.\n"
     ]
    }
   ],
   "source": [
    "import pandas as pd\n",
    "from math import sqrt\n",
    "\n",
    "df[\"enc_acima_2000\"] = df[\"ENCARGOS\"] > 2000\n",
    "p_amostral = df[\"enc_acima_2000\"].mean()\n",
    "n = len(df)\n",
    "\n",
    "p0 = 0.40  # H0: proporção = 40%\n",
    "z = (p_amostral - p0) / sqrt((p0*(1-p0))/n)\n",
    "\n",
    "print(\"Proporção amostral:\", round(p_amostral, 3))\n",
    "print(\"Estatística Z (aproximada):\", round(z, 4))\n",
    "\n",
    "if z > 1.645:  # Teste unilateral ao nível ~5% (Z crítico ~1.645)\n",
    "    print(\"Rejeitamos H0: proporção > 40%.\")\n",
    "else:\n",
    "    print(\"Não rejeitamos H0: sem evidência forte de proporção > 40%.\")\n"
   ]
  },
  {
   "cell_type": "markdown",
   "id": "b4722428-94b3-4c9f-bfbe-27ccaaeee0d5",
   "metadata": {},
   "source": [
    "#### **Perguntas:**\n",
    "\n",
    "\n",
    "1. Por que um teste unilateral é adequado neste caso?\n",
    "2. Como interpretar a rejeição da hipótese nula neste contexto?\n",
    "\n",
    "**Respostas**\n",
    "\n",
    "1. Porque a suspeita específica é de que a proporção exceda um determinado valor (0,40), não apenas que seja diferente (maior ou menor).\n",
    "1. Significa que há evidências de que a proporção de funcionários com encargos acima de R$2.000,00 é maior do que 40%, exigindo atenção da gestão.Perguntas\n",
    "\n",
    "<br>\n",
    "\n",
    "---"
   ]
  },
  {
   "cell_type": "markdown",
   "id": "fbfa5550-6134-43c5-8b20-00b88419b72c",
   "metadata": {},
   "source": [
    "#### **Exercício 4: Correlação entre “VENCIMENTOS” e “OUTRAS REMUNERAÇÕES”**\n",
    "\n",
    "Algumas vezes, fora o valor fixo do salário, há componentes adicionais como gratificações, horas extras ou pagamentos eventuais, representados na coluna “OUTRAS REMUNERAÇÕES”. Uma dúvida comum é: esses adicionais crescem na mesma proporção que os vencimentos básicos? Ou seja, funcionários com salários maiores também costumam ter “OUTRAS REMUNERAÇÕES” elevadas? Se sim, a correlação entre as duas variáveis deve ser alta e positiva.\n",
    "\n",
    "Ao analisar essa correlação, conseguimos uma pista sobre a política remuneratória da empresa. Caso haja correlação próxima de zero, significa que essas remunerações extras não estão diretamente associadas aos vencimentos fixos, podendo depender de outros fatores, como participações em projetos específicos ou características do cargo. Já uma correlação alta indicaria que quem ganha mais também recebe mais complementos, o que pode reforçar uma desigualdade ou uma estrutura que privilegie cargos de alto escalão com benefícios extras. No entanto, sempre lembramos que correlação não implica causalidade. Não podemos afirmar que o vencimento maior cause outras remunerações maiores, apenas que ambas variam em conjunto. Esse tipo de insight, porém, auxilia o RH e a controladoria no entendimento de como a folha salarial se comporta e onde há maior concentração de gastos extras."
   ]
  },
  {
   "cell_type": "code",
   "execution_count": 8,
   "id": "9b1888ad-ebd4-4a9e-99e3-bcaa0b07253d",
   "metadata": {
    "tags": []
   },
   "outputs": [
    {
     "name": "stdout",
     "output_type": "stream",
     "text": [
      "Correlação entre VENCIMENTOS e OUTRAS REMUNERAÇÕES: 0.08456240192890936\n"
     ]
    }
   ],
   "source": [
    "import pandas as pd\n",
    "\n",
    "corr_valor = df[\"VENCIMENTOS\"].corr(df[\"OUTRAS REMUNERAÇÕES\"])\n",
    "print(\"Correlação entre VENCIMENTOS e OUTRAS REMUNERAÇÕES:\", corr_valor)"
   ]
  },
  {
   "cell_type": "markdown",
   "id": "f2d0bb9c-059d-4475-b360-f3f937de3b48",
   "metadata": {},
   "source": [
    "#### **Perguntas:**\n",
    "\n",
    "\n",
    "1. O que significa uma correlação próxima de +1 entre as duas variáveis?\n",
    "2. Por que uma correlação próxima de zero não implica necessariamente que não haja relação alguma?\n",
    "\n",
    "**Respostas**\n",
    "\n",
    "1. Indica uma forte associação linear positiva, ou seja, à medida que os vencimentos aumentam, as outras remunerações tendem a aumentar proporcionalmente.\n",
    "2. Correlação mede apenas relações lineares. Pode haver relação não linear ou existir fatores que ofusquem esse vínculo.Perguntas\n",
    "\n",
    "<br>\n",
    "\n",
    "---"
   ]
  },
  {
   "cell_type": "markdown",
   "id": "d0685314-e921-4fbc-bc25-a29b1f1660b9",
   "metadata": {
    "tags": []
   },
   "source": [
    "### Aula 2"
   ]
  },
  {
   "cell_type": "markdown",
   "id": "ade7fb8c-1267-43ee-8c73-a13f8b4a7a19",
   "metadata": {},
   "source": [
    "#### **Exercício 1: Comparando a média de ENCARGOS entre “assessor ii” e “assessor v”**\n",
    "\n",
    "Desta vez, você quer verificar se dois cargos distintos – “assessor ii” e “assessor v” – têm médias de encargos diferentes. O “assessor ii” lida com atividades externas, visitas a terminais, contato direto com ocorrências de transporte, enquanto o “assessor v” atua em ambiente de escritório. Em tese, o primeiro poderia acarretar mais adicionais de periculosidade ou seguros, refletindo encargos mais altos.\n",
    "\n",
    "Formulamos as hipóteses:\n",
    "\n",
    "- H0: A média de encargos para “assessor ii” = média de encargos para “assessor v”.\n",
    "- H1: Essas médias de encargos diferem significativamente entre os dois cargos.\n",
    "\n",
    "Se a análise mostrar que “assessor v” têm encargos mais elevados, possivelmente será preciso prever um orçamento maior para essas posições e avaliar se as políticas de segurança e seguros estão ajustadas. Caso não haja diferença estatística, a Empresa X pode interpretar que a variação de encargos não está ligada à natureza do trabalho (campo vs. escritório), mas talvez a outros fatores, como tempo de serviço ou data de admissão. Esse resultado servirá de base para reflexões sobre regras contratuais e eventuais ajustes em próximos acordos sindicais ou negociações de seguro coletivo."
   ]
  },
  {
   "cell_type": "code",
   "execution_count": 9,
   "id": "3e9737c8-7d61-49ff-9b52-50d7460034bf",
   "metadata": {
    "tags": []
   },
   "outputs": [],
   "source": [
    "import pandas as pd\n",
    "from scipy.stats import ttest_ind\n",
    "\n",
    "df = pd.read_csv(\"dataset.csv\")\n",
    "pd.set_option(\"display.max_rows\", None)"
   ]
  },
  {
   "cell_type": "code",
   "execution_count": 10,
   "id": "6f0eb3b1-99e7-40e2-98ef-894c479cf346",
   "metadata": {
    "tags": []
   },
   "outputs": [
    {
     "data": {
      "text/plain": [
       "CARGO\n",
       "tecnico de sistema de transporte jr           3788\n",
       "tecnico de sistema de transporte pl           3229\n",
       "tecnico de monitoramento de transp jr         1532\n",
       "tecnico de processos administrativos jr       1031\n",
       "tecnico de proc. adm. pl - adm. geral          984\n",
       "tecnico de sistema de transporte sr            374\n",
       "motorista                                      352\n",
       "tecnico de inspea‡aƒo veicular pl              327\n",
       "assessor ii                                    325\n",
       "assessor iv                                    287\n",
       "assessor v                                     282\n",
       "tecnico de processos administrativos sr        266\n",
       "assessor vi                                    253\n",
       "assessor iii                                   252\n",
       "analista de gestaƒo pl - adm. geral            246\n",
       "analista de gestaƒo sr - adm. geral            240\n",
       "agente de informaa‡a•es                        235\n",
       "assessor assistente ii                         223\n",
       "tecnico de desenvolv administrativo            222\n",
       "tecnico de inspea‡aƒo veicular sr              184\n",
       "analista de gestaƒo sr - transporte            160\n",
       "estagiario ensino superior ii (6)             158\n",
       "analista de gestaƒo pleno                      155\n",
       "analista de informatica ii                    141\n",
       "administ tecn de projetos ii                   138\n",
       "assessor i                                     131\n",
       "analista de gestaƒo pl - transporte            130\n",
       "estagiario ensino superior i (6)              130\n",
       "gerente                                        120\n",
       "administ tecn de projetos iii                  110\n",
       "assessor vii                                   110\n",
       "assessor i - assistente navegacao fluvia       101\n",
       "estagiario ensino ma‰dio (6)                   93\n",
       "conselheiro de administraa‡aƒo                  85\n",
       "analista de gestaƒo master - adm. geral         80\n",
       "analista de gestaƒo master - transporte         80\n",
       "tecnico de proc. adm. pl - rec. humanos         77\n",
       "analista de informatica i                      74\n",
       "auxiliar de servia‡os                           71\n",
       "ma‰dico auditor - servia‡o atende               70\n",
       "superintendente                                 66\n",
       "estagiario ensino superior iii (6)             63\n",
       "encarregado de servia‡os                        61\n",
       "analista de gestaƒo sr - econ. financ.          60\n",
       "cobrador                                        55\n",
       "agente serv. operacionais - serv.gerais         55\n",
       "assessor assistente ii - chefe adjunto n        53\n",
       "agente serv. operacionais - man. geral          50\n",
       "supervisor de suporte de informatica           50\n",
       "advogado sr  - cavel                           50\n",
       "analista de marketing pl                        49\n",
       "assessor tecnico i                              44\n",
       "conselheiro fiscal                              44\n",
       "engenheiro pl - engenharia civil                44\n",
       "guincheiro                                      44\n",
       "auditor pl                                      43\n",
       "administ tecn de projetos i                     41\n",
       "analista de gestaƒo pl - econ. financ.          40\n",
       "analista de gestaƒo sr - bilhetagem             40\n",
       "analista de gestaƒo pl - contabil              40\n",
       "analista de gestaƒo pl - planej. estrut.        40\n",
       "tecnico de manutena‡aƒo                         40\n",
       "analista de informatica master                 40\n",
       "assessor assistente ii - especialista me        38\n",
       "tecnico de informatica                         37\n",
       "estagiario ensino ma‰dio (4)                   36\n",
       "estagiario ensino superior iv (6)              34\n",
       "advogado pl - trabalhista                       33\n",
       "membro comite de auditoria                      33\n",
       "administ tecn de projetos iv                    33\n",
       "advogado sr - trabalhista                       33\n",
       "advogado pl - tributario                        33\n",
       "analista de gestaƒo pl - bilhetagem             30\n",
       "advogado pl - cavel                            30\n",
       "analista de gestaƒo pl - desenv. de r.h.        30\n",
       "analista de gestaƒo sr - compras                30\n",
       "arquiteto pl                                    28\n",
       "tecnico de inspecao veicular pl                 28\n",
       "ajudante geral - servia‡os gerais               26\n",
       "analista de gestao pl - adm. geral              25\n",
       "tecnico em segurana‡a do trabalho               24\n",
       "telefonista                                     24\n",
       "analista de gestao sr - adm. geral              24\n",
       "analista de comunicaa‡aƒo pl                    24\n",
       "advogado pleno                                  23\n",
       "assistente de controle administrativo           22\n",
       "analista de marketing pl - web desig.           22\n",
       "engenheiro pl - engenharia veicular             22\n",
       "copeiro                                         22\n",
       "analista de gestaƒo master - financeiro         21\n",
       "tecnico de media‡a•es - rede ela‰trica          20\n",
       "ajudante geral - manutena‡aƒo predial           20\n",
       "engenheiro pl - engenharia ela‰trica            20\n",
       "agente de informacoes                           20\n",
       "analista de gestaƒo master - plan. estr.        20\n",
       "analista de gestaƒo sr - contabil              20\n",
       "analista de gestaƒo sr - ora‡amento             20\n",
       "analista de gestaƒo master - bilhetagem         20\n",
       "analista de gestaƒo sr - recrut. desenv.        20\n",
       "analista de gestaƒo sr - financeiro             20\n",
       "analista de gestaƒo pl - financeiro             20\n",
       "analista de gestaƒo sr - licit. contrat.        20\n",
       "analista de comunicaa‡aƒo sr                    20\n",
       "analista de gestaƒo sr - folha pagto.           20\n",
       "analista de gestaƒo sr - planej. estrut.        20\n",
       "engenheiro pleno                                19\n",
       "tecnico de inspecao veicular sr                 19\n",
       "estagiario ensino superior v (6)               17\n",
       "analista de gestao sr - transporte              16\n",
       "assistente social                               15\n",
       "estagiario ensino superior ii (6)               15\n",
       "analista de informatica ii                      14\n",
       "assessor iii - chefe navegacao fluvial          13\n",
       "analista de gestao pl - transporte              13\n",
       "estagiario ensino superior i (6)                12\n",
       "mensageiro                                      11\n",
       "assistente administrativo                       11\n",
       "tecnico de enfermagem do trabalho               11\n",
       "tecnico de projetos                             11\n",
       "assessor viii                                   11\n",
       "diretor de planejamento de transporte           11\n",
       "chefe de gabinete                               11\n",
       "auxiliar de enfermagem do trabalho              11\n",
       "aux servicos gerais                             11\n",
       "operador de pabx                                11\n",
       "diretor presidente                              11\n",
       "12.assistente operacional                       11\n",
       "auditor sr                                      11\n",
       "secretaria pleno                                11\n",
       "aux serv administr i                            11\n",
       "tec serv transporte ii                          11\n",
       "31.consultor interno em transporte              11\n",
       "auditor master                                  11\n",
       "analista de gestaƒo sr - med. seg. trab.        11\n",
       "11.auxiliar administrativo ii                   11\n",
       "encarregado de controle administrativo          11\n",
       "advogado master                                 11\n",
       "especial transporte ii                          11\n",
       "advogado pl - administrativo                    11\n",
       "assessor tecnico ii                             11\n",
       "11.assistente administrativo                    11\n",
       "arquiteto master                                11\n",
       "analista de gestaƒo pl - cargos e sal.          10\n",
       "analista de gestaƒo pl - compras                10\n",
       "engenheiro de segurana‡a do trabalho sr         10\n",
       "analista de gestaƒo pl - assistente soc.        10\n",
       "analista de gestaƒo master - ora‡amento         10\n",
       "analista de gestaƒo sr - prea‡os e custos       10\n",
       "analista de gestaƒo master - econ finan.        10\n",
       "analista de gest mast-lic comp prea‡ cust       10\n",
       "supervisor de servia‡os                         10\n",
       "analista de desenvolv e comercializaa‡aƒo       10\n",
       "analista de gestaƒo sr - plano saašde ben.      10\n",
       "analista de gestaƒo master - comun/ mkt.        10\n",
       "diretor administraa‡aƒo e de infraestrutur      10\n",
       "estagiario ensino tecnico (4)                  10\n",
       "diretor gestaƒo da receita e remuneraa‡aƒo      10\n",
       "diretor de operaa‡a•es                          10\n",
       "estagiario ensino tecnico (6)                  10\n",
       "analista de gestaƒo pl - licit. contrat.        10\n",
       "tecnico de proc. adm. pl - contabil            10\n",
       "diretor relaa‡a•es internas                     10\n",
       "ma‰dico do trabalho                             10\n",
       "estagiario ensino medio (6)                      9\n",
       "ma‰dico auditor                                  9\n",
       "conselheiro de administracao                     9\n",
       "analista de gestao master - adm. geral           8\n",
       "analista de gestao master - transporte           8\n",
       "medico auditor - servico atende                  7\n",
       "estagiario ensino superior iv (4)               7\n",
       "estagiario ensino superior iii (4)              7\n",
       "auxiliar de servicos                             7\n",
       "encarregado de servicos                          6\n",
       "analista de gestao sr - econ. financ.            6\n",
       "administ tecn de projetos i - naval              6\n",
       "tecnico de manutena‡aƒo - ela‰trica              5\n",
       "advogado sr  - civel                             5\n",
       "analista de informatica i                        5\n",
       "supervisor de suporte de informatica             5\n",
       "estagiario ensino superior ii (4)               5\n",
       "analista de gestao pl - planej. estrut.          4\n",
       "tecnico de manutencao                            4\n",
       "analista de gestao pl - econ. financ.            4\n",
       "analista de informatica master                   4\n",
       "estagiario ensino superior iii (6)               4\n",
       "analista de gestao sr - bilhetagem               4\n",
       "estagiario ensino medio (4)                      4\n",
       "engenheiro de segurana‡a do trabalho pl          4\n",
       "analista de gestao pl - contabil                 4\n",
       "estagiario ensino superior i (4)                3\n",
       "estagiario ensino superior iv (6)                3\n",
       "estagiario ensino superior v (6)                 3\n",
       "analista de gestao sr - compras                  3\n",
       "tecnico de informatica                           3\n",
       "analista de gestao pl - desenv. de r.h.          3\n",
       "advogado pl - civel                              3\n",
       "analista de gestao pl - bilhetagem               3\n",
       "analista de gestao sr - recrut. desenv.          2\n",
       "analista de gestao pl - financeiro               2\n",
       "analista de comunicacao pl                       2\n",
       "tecnico de medicoes - rede eletrica              2\n",
       "analista de gestao sr - licit. contrat.          2\n",
       "analista de gestao master - bilhetagem           2\n",
       "engenheiro pl - engenharia eletrica              2\n",
       "ajudante geral - servicos gerais                 2\n",
       "ajudante geral - manutencao predial              2\n",
       "analista de gestao master - financeiro           2\n",
       "analista de gestao sr - financeiro               2\n",
       "analista de gestao master - plan. estr.          2\n",
       "analista de gestao sr - folha pagto.             2\n",
       "analista de gestao sr - contabil                 2\n",
       "analista de comunicacao sr                       2\n",
       "analista de gestao sr - planej. estrut.          2\n",
       "tecnico em seguranca do trabalho                 2\n",
       "analista de gestao sr - orcamento                2\n",
       "analista de desenvolv e comercializacao          1\n",
       "tecnico de manutencao - eletrica                 1\n",
       "analista de gestao pl - cargos e sal.            1\n",
       "analista de gestao pl - compras                  1\n",
       "analista de gestao pl - licit. contrat.          1\n",
       "analista de gestao sr - plano saude ben.         1\n",
       "analista de gestao master - comun/ mkt.          1\n",
       "engenheiro de seguranca do trabalho sr           1\n",
       "analista de gest mast-lic comp prec cust         1\n",
       "analista de gestao master - econ finan.          1\n",
       "analista de gestao master - orcamento            1\n",
       "analista de gestao sr - precos e custos          1\n",
       "supervisor de servicos                           1\n",
       "analista de gestao sr - med. seg. trab.          1\n",
       "diretor relacoes internas                        1\n",
       "estagiario ensino tecnico (4)                    1\n",
       "estagiario ensino tecnico (6)                    1\n",
       "analista de gestao pl - assistente soc.          1\n",
       "tecnico de proc. adm. pl - contabil              1\n",
       "diretor de operacoes                             1\n",
       "diretor administracao e de infraestrutur         1\n",
       "diretor gestao da receita e remuneracao          1\n",
       "estagiario ensino superior ii (4)                1\n",
       "Name: count, dtype: int64"
      ]
     },
     "execution_count": 10,
     "metadata": {},
     "output_type": "execute_result"
    }
   ],
   "source": [
    "df[\"CARGO\"].value_counts()"
   ]
  },
  {
   "cell_type": "code",
   "execution_count": 11,
   "id": "9ab195b1-24c6-45f4-983f-7f5ab73c2c39",
   "metadata": {
    "tags": []
   },
   "outputs": [
    {
     "name": "stdout",
     "output_type": "stream",
     "text": [
      "Estatística do teste: -44.453208699064895\n",
      "p-valor: 3.639656857385037e-188\n",
      "Rejeitamos H0: diferença significativa na média de ENCARGOS entre os dois cargos.\n"
     ]
    }
   ],
   "source": [
    "agentes = df[df[\"CARGO\"] == \"assessor ii\"][\"ENCARGOS\"].dropna()\n",
    "assistentes = df[df[\"CARGO\"] == \"assessor v\"][\"ENCARGOS\"].dropna()\n",
    "\n",
    "stat, p_value = ttest_ind(agentes, assistentes, equal_var=False)\n",
    "\n",
    "print(\"Estatística do teste:\", stat)\n",
    "print(\"p-valor:\", p_value)\n",
    "if p_value < 0.05:\n",
    "    print(\"Rejeitamos H0: diferença significativa na média de ENCARGOS entre os dois cargos.\")\n",
    "else:\n",
    "    print(\"Não rejeitamos H0: não há evidência de diferença estatística.\")"
   ]
  },
  {
   "cell_type": "markdown",
   "id": "489fc454-02e7-48d2-8394-0d64d64b917c",
   "metadata": {},
   "source": [
    "#### **Perguntas:**\n",
    "\n",
    "\n",
    "1. Por que faz sentido analisar ENCARGOS em vez de apenas VENCIMENTOS ao comparar esses cargos?\n",
    "2. Como as conclusões podem influenciar a previsão orçamentária da empresa?\n",
    "\n",
    "**Gabarito**\n",
    "\n",
    "1. Porque encargos podem incluir adicionais que refletem riscos ou obrigações legais distintos, algo muito relevante para cargos de campo.\n",
    "2. Se os encargos de “Agente de Campo” forem efetivamente maiores, o RH e a área financeira saberão que esse cargo demanda maior aporte de recursos.Perguntas de reflexão\n",
    "\n",
    "<br>\n",
    "\n",
    "---"
   ]
  },
  {
   "cell_type": "markdown",
   "id": "0a3c0fa2-9629-4ba6-9a84-d4f0ad931995",
   "metadata": {},
   "source": [
    "#### **Exemplo 2: TComparando “BENEFÍCIOS” entre dois vínculos distintos** \n",
    "\n",
    "Na Empresa X, existem várias formas de vínculo empregatício, como CLT (Consolidação das Leis do Trabalho) e Contrato Temporário, entre outras possíveis. Suponha que você queira investigar se há diferença significativa na média de “BENEFÍCIOS” entre dois vínculos específicos, por exemplo, “CLT” e “Estagiário”. Muitas vezes, empregados CLT têm direitos trabalhistas e benefícios previstos por lei, enquanto estagiários recebem apenas ajudas de custo.\n",
    "\n",
    "Formulamos as hipóteses:\n",
    "\n",
    "- H0: A média de BENEFÍCIOS é igual para “CLT” e “Estagiário”.\n",
    "- H1: A média de BENEFÍCIOS difere entre os dois vínculos.\n",
    "\n",
    "Se rejeitarmos H0, pode ficar comprovado estatisticamente que os valores de benefícios são mais elevados (ou diferentes) para quem tem carteira assinada em comparação aos estagiários, possivelmente justificando as reclamações de alguns estudantes que se sentem desassistidos. Por outro lado, se não houver evidência de diferença, conclui-se que, mesmo com regimes de contratação diversos, a Empresa X manteve um patamar de benefícios parecido. Esse achado pode interessar à equipe de RH que gerencia custos e políticas de retenção, garantindo uma experiência justa e compatível com as regras vigentes para cada tipo de vínculo."
   ]
  },
  {
   "cell_type": "code",
   "execution_count": 12,
   "id": "abcf607b-241c-4418-a746-7a4d4fc91f4b",
   "metadata": {
    "tags": []
   },
   "outputs": [
    {
     "data": {
      "text/html": [
       "<div>\n",
       "<style scoped>\n",
       "    .dataframe tbody tr th:only-of-type {\n",
       "        vertical-align: middle;\n",
       "    }\n",
       "\n",
       "    .dataframe tbody tr th {\n",
       "        vertical-align: top;\n",
       "    }\n",
       "\n",
       "    .dataframe thead th {\n",
       "        text-align: right;\n",
       "    }\n",
       "</style>\n",
       "<table border=\"1\" class=\"dataframe\">\n",
       "  <thead>\n",
       "    <tr style=\"text-align: right;\">\n",
       "      <th></th>\n",
       "      <th>EMPRESA</th>\n",
       "      <th>MÊS</th>\n",
       "      <th>ANO</th>\n",
       "      <th>CARGO</th>\n",
       "      <th>ADMISSÃO</th>\n",
       "      <th>NASCIMENTO</th>\n",
       "      <th>VENCIMENTOS</th>\n",
       "      <th>ENCARGOS</th>\n",
       "      <th>BENEFÍCIOS</th>\n",
       "      <th>OUTRAS REMUNERAÇÕES</th>\n",
       "      <th>VÍNCULO</th>\n",
       "    </tr>\n",
       "  </thead>\n",
       "  <tbody>\n",
       "    <tr>\n",
       "      <th>0</th>\n",
       "      <td>EMPRESA X</td>\n",
       "      <td>1</td>\n",
       "      <td>2024</td>\n",
       "      <td>tecnico de processos administrativos sr</td>\n",
       "      <td>01/03/1968</td>\n",
       "      <td>06/05/1905</td>\n",
       "      <td>26428.33</td>\n",
       "      <td>3830.09</td>\n",
       "      <td>3050.36</td>\n",
       "      <td>0.0</td>\n",
       "      <td>CLT: contrato por tempo indeterminado</td>\n",
       "    </tr>\n",
       "    <tr>\n",
       "      <th>1</th>\n",
       "      <td>EMPRESA X</td>\n",
       "      <td>1</td>\n",
       "      <td>2024</td>\n",
       "      <td>tecnico de inspea‡aƒo veicular sr</td>\n",
       "      <td>27/05/1971</td>\n",
       "      <td>05/05/1905</td>\n",
       "      <td>13747.39</td>\n",
       "      <td>4262.76</td>\n",
       "      <td>3381.46</td>\n",
       "      <td>0.0</td>\n",
       "      <td>CLT: contrato por tempo indeterminado</td>\n",
       "    </tr>\n",
       "  </tbody>\n",
       "</table>\n",
       "</div>"
      ],
      "text/plain": [
       "     EMPRESA  MÊS   ANO                                    CARGO    ADMISSÃO  \\\n",
       "0  EMPRESA X    1  2024  tecnico de processos administrativos sr  01/03/1968   \n",
       "1  EMPRESA X    1  2024        tecnico de inspea‡aƒo veicular sr  27/05/1971   \n",
       "\n",
       "   NASCIMENTO  VENCIMENTOS  ENCARGOS  BENEFÍCIOS  OUTRAS REMUNERAÇÕES  \\\n",
       "0  06/05/1905     26428.33   3830.09     3050.36                  0.0   \n",
       "1  05/05/1905     13747.39   4262.76     3381.46                  0.0   \n",
       "\n",
       "                                 VÍNCULO  \n",
       "0  CLT: contrato por tempo indeterminado  \n",
       "1  CLT: contrato por tempo indeterminado  "
      ]
     },
     "execution_count": 12,
     "metadata": {},
     "output_type": "execute_result"
    }
   ],
   "source": [
    "df.head(2)"
   ]
  },
  {
   "cell_type": "code",
   "execution_count": 13,
   "id": "6e2288f9-570c-41a9-b77a-2797c52338bc",
   "metadata": {
    "tags": []
   },
   "outputs": [
    {
     "data": {
      "text/plain": [
       "VÍNCULO\n",
       "CLT: contrato por tempo indeterminado                                 18878\n",
       "Estagiário                                                              597\n",
       "Desligado                                                               185\n",
       "Estatutário: conselho administrativo (estatuto social)                   92\n",
       "Estatutário: diretor (estatuto social)                                   66\n",
       "Estatutário: conselho fiscal (estatuto social)                           43\n",
       "Estatutário: comitê de auditoria estatutária                             33\n",
       "Servidor público cedido por outro ente: Servidor Público Municipal       22\n",
       "Name: count, dtype: int64"
      ]
     },
     "execution_count": 13,
     "metadata": {},
     "output_type": "execute_result"
    }
   ],
   "source": [
    "df[\"VÍNCULO\"].value_counts()"
   ]
  },
  {
   "cell_type": "code",
   "execution_count": 14,
   "id": "95a2bdee-590f-4f29-8f33-67facdd70bef",
   "metadata": {
    "tags": []
   },
   "outputs": [
    {
     "name": "stdout",
     "output_type": "stream",
     "text": [
      "Estatística do teste: 282.88594748823954\n",
      "p-valor: 0.0\n",
      "Rejeitamos H0: há diferença significativa nos benefícios.\n"
     ]
    }
   ],
   "source": [
    "benef_clt = df[df[\"VÍNCULO\"] == \"CLT: contrato por tempo indeterminado\"][\"BENEFÍCIOS\"].dropna()\n",
    "benef_estagio = df[df[\"VÍNCULO\"] == \"Estagiário\"][\"BENEFÍCIOS\"].dropna()\n",
    "\n",
    "stat, p_value = ttest_ind(benef_clt, benef_estagio, equal_var=False)\n",
    "\n",
    "print(\"Estatística do teste:\", stat)\n",
    "print(\"p-valor:\", p_value)\n",
    "if p_value < 0.05:\n",
    "    print(\"Rejeitamos H0: há diferença significativa nos benefícios.\")\n",
    "else:\n",
    "    print(\"Não rejeitamos H0: sem evidência de diferença estatística.\")"
   ]
  },
  {
   "cell_type": "markdown",
   "id": "5774139c-a062-4342-a0c9-4643b2d41d54",
   "metadata": {},
   "source": [
    "#### **Perguntas:**\n",
    "\n",
    "\n",
    "1. Em termos práticos, o que significaria verificar que há diferença de benefícios entre CLT e Estagiário?\n",
    "2. Por que é relevante observar o p-valor ao comparar esses grupos?\n",
    "\n",
    "**Gabarito**\n",
    "\n",
    "1. Significa que um dos grupos pode estar recebendo pacotes de benefícios claramente distintos, implicando potenciais ajustes para equidade ou revisão de políticas internas.\n",
    "2. O p-valor indica se as diferenças observadas podem ser atribuídas ao acaso; se for muito baixo (<0.05), rejeitamos H0 e concluímos pela diferença.\n",
    "\n",
    "<br>\n",
    "\n",
    "---"
   ]
  },
  {
   "cell_type": "markdown",
   "id": "c80f711f-bdb4-4077-8437-e8567581471d",
   "metadata": {},
   "source": [
    "#### **Exemplo 3: Comparando a média de “VENCIMENTOS” entre funcionários admitidos antes e depois de 2015**\n",
    "\n",
    "Suponha que a Empresa X deseje investigar se houve mudanças importantes nos valores de “VENCIMENTOS” para os funcionários contratados em períodos diferentes. Alguns gestores acreditam que, a partir de 2015, ocorreram ajustes salariais maiores, além de novas regras de contratação que elevaram a remuneração média. Já para quem foi admitido antes de 2015, a impressão é de que houve menos reajustes e, por isso, os salários se mantiveram menores. Entretanto, é preciso verificar se esses comentários têm embasamento nos dados.\n",
    "\n",
    "Para isso, podemos criar dois grupos de acordo com o ano de admissão: “Antes de 2015” e “2015 ou depois”. Em seguida, aplicamos um teste de hipóteses para comparar as médias de “VENCIMENTOS” entre esses dois grupos. \n",
    "Definimos nossas hipóteses:\n",
    "\n",
    "- H0: A média de vencimentos é a mesma em ambos os grupos (funcionários admitidos antes de 2015 vs. em ou após 2015).\n",
    "- H1: A média de vencimentos difere de forma significativa entre os dois grupos.\n",
    "\n",
    "Se, ao final, rejeitarmos H0, há evidências de que os funcionários contratados depois de 2015 realmente possuem uma média salarial diferente. Isso pode influenciar a gestão de pessoas e a negociação sindical, pois, caso haja variação muito grande, poderá surgir a necessidade de revisar os planos de carreira ou de criar políticas de equiparação para funcionários mais antigos. Por outro lado, se os dados não indicarem diferença estatisticamente relevante, conclui-se que as variações salariais percebidas não passaram de especulações ou foram pequenas demais para caracterizar uma distinção consistente."
   ]
  },
  {
   "cell_type": "code",
   "execution_count": 15,
   "id": "0e34383f-e8ed-4efe-921c-2ffb3507361a",
   "metadata": {
    "tags": []
   },
   "outputs": [
    {
     "name": "stdout",
     "output_type": "stream",
     "text": [
      "Estatística do teste: 10.477995631806783\n",
      "p-valor: 1.574429538384268e-25\n",
      "Rejeitamos H0: diferença significativa de vencimentos entre os grupos.\n"
     ]
    }
   ],
   "source": [
    "# Converter datas de admissão para datetime (ajustar formato conforme necessário)\n",
    "df[\"ADMISSÃO\"] = pd.to_datetime(df[\"ADMISSÃO\"], errors='coerce', dayfirst=True)\n",
    "\n",
    "# Separar grupos: antes de 2015 e em/apos 2015\n",
    "antes_2015 = df[df[\"ADMISSÃO\"].dt.year < 2015][\"VENCIMENTOS\"].dropna()\n",
    "apos_2015 = df[df[\"ADMISSÃO\"].dt.year >= 2015][\"VENCIMENTOS\"].dropna()\n",
    "\n",
    "# Teste t para comparar as duas médias\n",
    "stat, p_value = ttest_ind(antes_2015, apos_2015, equal_var=False)\n",
    "\n",
    "print(\"Estatística do teste:\", stat)\n",
    "print(\"p-valor:\", p_value)\n",
    "\n",
    "if p_value < 0.05:\n",
    "    print(\"Rejeitamos H0: diferença significativa de vencimentos entre os grupos.\")\n",
    "else:\n",
    "    print(\"Não rejeitamos H0: não há evidência de diferença estatística.\")\n"
   ]
  },
  {
   "cell_type": "markdown",
   "id": "43badc58-5042-463d-8a66-14c49ecbca19",
   "metadata": {},
   "source": [
    "#### **Perguntas:**\n",
    "\n",
    "\n",
    "1. Por que faz sentido segmentar os funcionários com base em datas de admissão para analisar “VENCIMENTOS”?\n",
    "2. Como os resultados deste teste podem impactar políticas de equiparação salarial na Empresa X?\n",
    "\n",
    "**Gabarito**\n",
    "\n",
    "1. Porque mudanças de legislação, acordos coletivos ou ajustes internos podem ter sido implementados após certo período, afetando quem foi contratado em datas distintas.\n",
    "2. Caso se confirme um aumento significativo para o grupo mais recente, pode haver pressões internas para revisar faixas salariais dos antigos, buscando maior equilíbrio entre colaboradores.\n",
    "<br>\n",
    "\n",
    "---"
   ]
  },
  {
   "cell_type": "markdown",
   "id": "b7696f8f-8652-478a-a445-7f844d1e1e9a",
   "metadata": {
    "tags": []
   },
   "source": [
    "### Aula 3"
   ]
  },
  {
   "cell_type": "markdown",
   "id": "4f2cb764-ffee-4cb2-8936-185848937ad4",
   "metadata": {},
   "source": [
    "#### Aula 3 – Revisão Geral e Preparação para Avaliações  \n",
    "\n",
    "\n",
    "#### Roteiro para Montar e Apresentar o Projeto\n",
    "\n",
    "A partir dos exercícios resolvidos nas aulas 1 e 2 (disponíveis no arquivo Python anexo), vocês deverão montar um projeto que integre as análises realizadas e responda a uma questão prática sobre o dataset de folha de pagamento da Empresa X. Este roteiro servirá de guia e inspiração. Responda às perguntas e siga os passos abaixo:\n",
    "\n",
    "#### **1. Definição do Problema e Objetivo do Projeto**\n",
    "\n",
    "- **Pergunta para reflexão:**  \n",
    "  - *Qual questão relevante sobre folha de pagamento você deseja responder?*  \n",
    "    - Exemplo: \"Os vencimentos dos funcionários variam significativamente entre diferentes cargos ou períodos de admissão?\"\n",
    "- **Passos:**  \n",
    "  1. **Escolha um tema:** Revise os exercícios anteriores e identifique um aspecto que você julgue interessante (por exemplo, comparação de vencimentos entre grupos, análise de encargos ou correlação entre vencimentos e outras remunerações).  \n",
    "  2. **Defina as hipóteses:**  \n",
    "     - **H0 (Hipótese nula):** Não existe diferença significativa (ou não há correlação, conforme o caso) entre os grupos analisados.  \n",
    "     - **H1 (Hipótese alternativa):** Existe uma diferença significativa (ou correlação relevante) entre os grupos.\n",
    "- **Dica:** Anote o problema e as hipóteses que serão respondidas com a análise dos dados.\n",
    "\n",
    "#### **2. Planejamento e Metodologia**\n",
    "\n",
    "- **Pergunta para reflexão:**  \n",
    "  - *Como os exercícios resolvidos podem ser integrados para responder à sua questão?*  \n",
    "    - Exemplo: \"Podemos combinar a análise de vencimentos com a comparação de benefícios para entender a estrutura remuneratória.\"\n",
    "- **Passos:**  \n",
    "  1. **Reúna os exercícios:** Selecione os exercícios que melhor abordam seu problema. Por exemplo, use o exercício que compara vencimentos entre funcionários admitidos antes e depois de 2015 e o que analisa a correlação entre vencimentos e outras remunerações.  \n",
    "  2. **Descreva a metodologia:** Explique brevemente como cada exercício contribui para a resposta da questão.  \n",
    "  3. **Limpeza e preparação dos dados:** Lembre-se de explicar como os dados foram filtrados (remoção de nulos, definição de grupos, etc.) conforme os exemplos do arquivo Python.\n",
    "\n",
    "#### **3. Análise e Interpretação dos Resultados**\n",
    "\n",
    "- **Pergunta para reflexão:**  \n",
    "  - *Quais resultados você espera encontrar e como eles podem influenciar decisões na Empresa X?*  \n",
    "    - Exemplo: \"Se os vencimentos aumentaram para funcionários admitidos após 2015, isso pode sugerir mudanças na política de remuneração.\"\n",
    "- **Passos:**  \n",
    "  1. **Apresente os resultados:** Utilize gráficos, tabelas ou estatísticas obtidas nos exercícios.  \n",
    "  2. **Interprete os dados:** Explique se os resultados corroboram ou refutam suas hipóteses e discuta as possíveis implicações práticas.\n",
    "\n",
    "#### **4. Preparação da Apresentação de 5 Minutos**\n",
    "\n",
    "- **Pergunta para reflexão:**  \n",
    "  - *Como você pode estruturar sua apresentação para ser clara e impactante em apenas 5 minutos?*  \n",
    "    - Exemplo: \"Dividindo a apresentação em introdução, metodologia, resultados e conclusões.\"\n",
    "- **Passos:**  \n",
    "  1. **Slide 1 – Introdução (1 minuto):**  \n",
    "     - Apresente o problema, os objetivos e as hipóteses.\n",
    "  2. **Slide 2 – Metodologia (1-2 minutos):**  \n",
    "     - Explique de forma resumida os métodos e os testes aplicados (por exemplo, testes t, análise de correlação, etc.).  \n",
    "  3. **Slide 3 – Resultados (1-2 minutos):**  \n",
    "     - Mostre gráficos ou tabelas que evidenciem os principais achados.\n",
    "  4. **Slide 4 – Conclusão e Recomendações (1 minuto):**  \n",
    "     - Resuma as conclusões, discuta as implicações e sugira possíveis próximos passos ou recomendações.\n",
    "  5. **Ensaiem a apresentação:** Pratiquem para garantir que o tempo total seja de 5 minutos, focando nos pontos mais importantes.\n",
    "\n",
    "---\n",
    "\n",
    "#### Gabarito para o Roteiro\n",
    "\n",
    "1. **Definição do Problema:**  \n",
    "   - Exemplo de problema: \"Existe diferença significativa nos vencimentos entre funcionários admitidos antes e depois de 2015?\"  \n",
    "   - Hipóteses:  \n",
    "     - H0: Não há diferença significativa.  \n",
    "     - H1: Há diferença significativa.\n",
    "\n",
    "2. **Planejamento e Metodologia:**  \n",
    "   - Integre os exercícios que comparam vencimentos, analisam encargos e investigam correlações.  \n",
    "   - Justifique a escolha dos métodos (por exemplo, teste t para comparação de médias, análise de correlação para entender relações).\n",
    "\n",
    "3. **Análise e Interpretação:**  \n",
    "   - Organize os resultados em um relatório resumido.  \n",
    "   - Discuta como os dados podem indicar ajustes na política de remuneração ou na gestão de benefícios.\n",
    "\n",
    "4. **Apresentação de 5 Minutos:**  \n",
    "   - Estruture sua apresentação em 3 a 4 slides, abordando:  \n",
    "     - Introdução e problema  \n",
    "     - Metodologia e dados  \n",
    "     - Resultados e conclusões  \n",
    "   - Pratique para manter a clareza e o foco durante os 5 minutos.\n",
    "\n",
    "---\n",
    "\n",
    "#### Dicas para a Apresentação de 5 Minutos\n",
    "\n",
    "- **Seja Claro e Conciso:** Utilize uma linguagem simples e direta, evitando jargões técnicos sem explicação.  \n",
    "- **Utilize Elementos Visuais:** Gráficos e tabelas facilitam a compreensão e tornam a apresentação mais dinâmica.  \n",
    "- **Divida o Tempo:** Planeje aproximadamente 1 minuto para a introdução, 2 minutos para a metodologia e resultados, e 1-2 minutos para conclusões e recomendações.  \n",
    "- **Ensaie a Apresentação:** Treine a apresentação para garantir que ela se encaixe no tempo e que você se sinta seguro para responder eventuais dúvidas.\n",
    "\n",
    "---\n",
    "\n"
   ]
  },
  {
   "cell_type": "code",
   "execution_count": null,
   "id": "1af2993f-77be-4578-9580-b4b37f514055",
   "metadata": {},
   "outputs": [],
   "source": []
  }
 ],
 "metadata": {
  "kernelspec": {
   "display_name": "Python 3 (ipykernel)",
   "language": "python",
   "name": "python3"
  },
  "language_info": {
   "codemirror_mode": {
    "name": "ipython",
    "version": 3
   },
   "file_extension": ".py",
   "mimetype": "text/x-python",
   "name": "python",
   "nbconvert_exporter": "python",
   "pygments_lexer": "ipython3",
   "version": "3.12.8"
  }
 },
 "nbformat": 4,
 "nbformat_minor": 5
}
