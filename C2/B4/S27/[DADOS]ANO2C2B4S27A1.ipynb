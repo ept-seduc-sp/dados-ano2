{
 "cells": [
  {
   "cell_type": "markdown",
   "id": "6dae9006",
   "metadata": {},
   "source": [
    "\n",
    "<h1 style=\"text-align: center;\">CIÊNCIA DE DADOS</h1>\n",
    "<h1 style=\"text-align: center;\">Roteiro de Atividade Prática</h1>\n",
    "<br>\n",
    "<br>\n",
    "\n",
    "Nome: ______________________________________________________________________________________      \n",
    "\n",
    "Turma: ______________\n",
    "\n",
    "\n",
    "**Componente:** Matemática e Estatística para Ciência de Dados \n",
    "<br>\n",
    "**Unidade Curricular:** Estatística Aplicada\n",
    "<br>\n",
    "**Tema da Semana:** Revisão Geral e Preparação para Avaliações\n",
    "<br>\n",
    "\n"
   ]
  },
  {
   "cell_type": "markdown",
   "id": "e056db02",
   "metadata": {},
   "source": [
    "# Aula 1"
   ]
  },
  {
   "cell_type": "markdown",
   "id": "15eed9b7",
   "metadata": {},
   "source": [
    "## Tarefa\n",
    "- Execute o código abaixo.\n",
    "\n",
    "- Se as bibliotecas não tiverem instaladas, instale-as.\n",
    "\n",
    "- Acompanhe as instruções.\n",
    "\n",
    "- Preencha o código onde está #TO DO\n",
    "\n",
    "- Responda as perguntas e conclua a atividade\n"
   ]
  },
  {
   "cell_type": "markdown",
   "id": "34081c5b-61db-4b1f-95f9-ea982517bc8b",
   "metadata": {
    "tags": []
   },
   "source": [
    "#### **Exercício 1: Comparando a média de vencimentos entre dois cargos**\n",
    "\n",
    "\n",
    "Suponha que o departamento de Recursos Humanos da Trans Transportes deseje investigar se há uma diferença significativa de remuneração entre dois cargos específicos, por exemplo, “Motorista” e “tecnico de sistema de transporte jr”. Muitas vezes, há a percepção de que os motoristas recebem vencimentos médios mais altos devido à complexidade de suas funções, enquanto os cobradores poderiam ter um salário inicial menor. Porém, essas percepções precisam ser confirmadas ou refutadas com dados reais.\n",
    "\n",
    "Com o dataset em mãos, podemos filtrar as linhas correspondentes a cada um desses cargos e calcular suas médias de vencimentos. Em seguida, aplicamos um teste de hipótese para duas amostras independentes (o famoso teste t). A hipótese nula (H0) é de que a média de vencimentos dos motoristas é igual à dos cobradores. A hipótese alternativa (H1) sugere que há uma diferença estatisticamente relevante entre elas, seja para cima ou para baixo (teste bicaudal). Se o p-valor for menor que 0.05, rejeitamos H0 e concluímos que existe diferença significativa. Essa informação pode orientar políticas internas de remuneração, ajustes salariais e até mesmo análises de mercado para garantir que a Empresa X ofereça uma remuneração condizente com cada função."
   ]
  },
  {
   "cell_type": "code",
   "execution_count": null,
   "id": "adda7854-a652-41b8-9711-5c423bb19d10",
   "metadata": {
    "tags": []
   },
   "outputs": [],
   "source": [
    "import pandas as pd\n",
    "from scipy.stats import ttest_ind\n",
    "\n",
    "# Leitura do dataset\n",
    "df = pd.read_csv(\"dataset.csv\")\n",
    "\n",
    "# Filtra dados para dois cargos específicos\n",
    "cargo_tec_sist_jr = df[df[\"CARGO\"] == \"tecnico de sistema de transporte jr\"][\"VENCIMENTOS\"]\n",
    "cargo_motorista = df[df[\"CARGO\"] == \"motorista\"][\"VENCIMENTOS\"]\n",
    "\n",
    "# Aplica o teste t para duas amostras independentes\n",
    "# equal_var=False caso suspeitemos que as variâncias sejam diferentes\n",
    "stat, p_value = ttest_ind(cargo_tec_sist_jr, cargo_motorista, equal_var=False)\n",
    "\n",
    "print(\"Estatística do teste:\", stat)\n",
    "print(\"p-valor:\", p_value)\n",
    "\n",
    "if p_value < 0.05:\n",
    "    print(\"Rejeitamos H0: há diferença significativa entre as médias.\")\n",
    "else:\n",
    "    print(\"Não rejeitamos H0: não há evidência de diferença significativa.\")"
   ]
  },
  {
   "cell_type": "code",
   "execution_count": null,
   "id": "7845aa62-071b-466e-bcda-e863bb9da788",
   "metadata": {
    "tags": []
   },
   "outputs": [],
   "source": [
    "df.head(2)"
   ]
  },
  {
   "cell_type": "code",
   "execution_count": null,
   "id": "de5ffb5d-f9e6-4a62-98e4-6f5008b2752b",
   "metadata": {
    "tags": []
   },
   "outputs": [],
   "source": [
    "df[\"EMPRESA\"].value_counts()"
   ]
  },
  {
   "cell_type": "code",
   "execution_count": null,
   "id": "13e4abf6-8137-43d8-b8ba-5750999cdd4e",
   "metadata": {
    "tags": []
   },
   "outputs": [],
   "source": [
    "df.columns"
   ]
  },
  {
   "cell_type": "markdown",
   "id": "ed693577-e151-4a30-af36-9d83c45f560d",
   "metadata": {},
   "source": [
    "#### **Perguntas:**\n",
    "\n",
    "1. Por que faz sentido comparar as médias de vencimentos entre dois cargos usando um teste de hipótese?\n",
    "2. Qual é a interpretação de um p-valor abaixo de 0.05 no contexto deste teste?\n",
    "\n",
    "<br>\n",
    "\n",
    "**Respostas**\n",
    "\n",
    "Respondam com o auxílio do professor!\n",
    "\n",
    "<br>\n",
    "\n",
    "---\n"
   ]
  },
  {
   "cell_type": "markdown",
   "id": "9202bbc1-c530-4598-90b5-5e01b1e8512a",
   "metadata": {},
   "source": [
    "#### **Exercício 2: Análise exploratória e identificação de valores extremos em vencimentos**\n",
    "\n",
    "\n",
    "Antes de aplicar testes de hipóteses, é essencial ter um panorama da distribuição dos vencimentos no dataset. Vencimentos muito altos ou muito baixos podem aparecer em determinados cargos de diretoria ou em contratos temporários, por exemplo. Esses valores extremos podem distorcer a média ou indicar casos especiais que merecem atenção, como gratificações únicas ou acúmulo de benefícios num único mês.\n",
    "\n",
    "Para entender melhor esses possíveis outliers, podemos construir um boxplot dos vencimentos, agrupando os dados por cargo ou por empresa, de modo a visualizar a variação interna de cada grupo. Um boxplot mostra rapidamente a mediana, o intervalo interquartil (IQ) e quaisquer valores considerados fora do intervalo esperado. Caso surjam diversos pontos fora da “caixa” do boxplot, especialmente em funções específicas, pode ser necessário investigar se há motivos legítimos (cargos de alta gerência) ou se há algum problema de registro (erro nos dados). Essa análise exploratória também auxiliará na decisão de qual teste estatístico utilizar mais à frente e se alguma limpeza prévia no dataset é aconselhável antes de rodar modelos de inferência mais sofisticados."
   ]
  },
  {
   "cell_type": "code",
   "execution_count": null,
   "id": "a2113b84-df2a-4263-862f-2402427c797d",
   "metadata": {
    "tags": []
   },
   "outputs": [],
   "source": [
    "import pandas as pd\n",
    "import matplotlib.pyplot as plt\n",
    "\n",
    "# Exemplo: boxplot dos vencimentos por cargo\n",
    "df.boxplot(column=\"VENCIMENTOS\", by=\"CARGO\")\n",
    "plt.title(\"Boxplot dos Vencimentos por Cargo\")\n",
    "plt.suptitle(\"\")  # remover título automático\n",
    "plt.xlabel(\"Cargo\")\n",
    "plt.ylabel(\"Vencimentos\")\n",
    "plt.show()\n"
   ]
  },
  {
   "cell_type": "markdown",
   "id": "493dff4a-49a6-42aa-b315-7eaab01462a3",
   "metadata": {},
   "source": [
    "Como ficou ilegível, faremos dos 10 maiores cargos em termos de volume de pssoas contratadas."
   ]
  },
  {
   "cell_type": "code",
   "execution_count": null,
   "id": "8645a0f7-3238-4640-b6ae-5b9fab324070",
   "metadata": {
    "tags": []
   },
   "outputs": [],
   "source": [
    "import matplotlib.pyplot as plt\n",
    "\n",
    "# Selecionar os 10 cargos mais frequentes\n",
    "top_cargos = df[\"CARGO\"].value_counts().index[:10]\n",
    "\n",
    "# Filtrar o DataFrame para conter apenas esses cargos\n",
    "df_top_cargos = df[df[\"CARGO\"].isin(top_cargos)]\n",
    "\n",
    "# Criar o boxplot dos vencimentos por cargo\n",
    "plt.figure(figsize=(12, 6))\n",
    "df_top_cargos.boxplot(column=\"VENCIMENTOS\", by=\"CARGO\", vert=False)\n",
    "plt.title(\"Boxplot dos Vencimentos dos 10 Cargos Mais Frequentes\")\n",
    "plt.suptitle(\"\")  # Remover título automático gerado pelo Pandas\n",
    "plt.xlabel(\"Vencimentos\")\n",
    "plt.ylabel(\"Cargo\")\n",
    "plt.show()\n"
   ]
  },
  {
   "cell_type": "markdown",
   "id": "705a326e-aef2-4955-82d9-19148fecfd47",
   "metadata": {},
   "source": [
    "#### **Perguntas:**\n",
    "\n",
    "1. Por que é importante identificar valores atípicos em um conjunto de dados de folha de pagamento?\n",
    "2. Como o boxplot ajuda a destacar possíveis inconsistências ou casos especiais de remuneração?\n",
    "\n",
    "**Respostas**\n",
    "\n",
    "\n",
    "Respondam com o auxílio do professor!\n",
    "\n",
    "\n",
    "\n",
    "<br>\n",
    "\n",
    "---"
   ]
  },
  {
   "cell_type": "markdown",
   "id": "226a93d9-6dcc-404f-a26e-4b3c397e973b",
   "metadata": {},
   "source": [
    "#### **Exercício 3: Testando a proporção de funcionários com “ENCARGOS” acima de um valor específico**\n",
    "\n",
    "\n",
    "A Empresa X pode estabelecer uma métrica de acompanhamento dos encargos trabalhistas para cada funcionário. Imagine que exista uma preocupação de que 40% (ou mais) dos colaboradores estão gerando encargos acima de R$2.000,00 mensais, o que sobrecarregaria o orçamento destinado ao pagamento de tributos e contribuições. Para verificar essa suposição, podemos realizar um teste de proporção.\n",
    "\n",
    "A hipótese nula (H0) seria de que a proporção de funcionários com encargos acima desse valor não excede 40%. A hipótese alternativa (H1) é de que, na realidade, essa fração seja maior. Nesse tipo de teste, classificamos cada funcionário em “Sim, encargos acima de 2.000” ou “Não, encargos até 2.000”. Em seguida, calculamos a proporção de “Sim” e comparamos ao valor de referência de 0,40. Se os dados indicarem que a proporção real é significativamente maior, a Empresa X precisará rever aspectos como negociações sindicais, revisões de benefícios vinculados e até a forma de contratação, pois esse excedente pode comprometer parte do orçamento planejado. Se, por outro lado, a proporção estiver dentro do esperado, significa que os gastos com encargos ainda são condizentes com as previsões iniciais."
   ]
  },
  {
   "cell_type": "code",
   "execution_count": null,
   "id": "e7997d76-1ebd-4190-a5a2-a645b86c2647",
   "metadata": {
    "tags": []
   },
   "outputs": [],
   "source": [
    "import pandas as pd\n",
    "from math import sqrt\n",
    "\n",
    "df[\"enc_acima_2000\"] = df[\"ENCARGOS\"] > 2000\n",
    "p_amostral = df[\"enc_acima_2000\"].mean()\n",
    "n = len(df)\n",
    "\n",
    "p0 = 0.40  # H0: proporção = 40%\n",
    "z = (p_amostral - p0) / sqrt((p0*(1-p0))/n)\n",
    "\n",
    "print(\"Proporção amostral:\", round(p_amostral, 3))\n",
    "print(\"Estatística Z (aproximada):\", round(z, 4))\n",
    "\n",
    "if z > 1.645:  # Teste unilateral ao nível ~5% (Z crítico ~1.645)\n",
    "    print(\"Rejeitamos H0: proporção > 40%.\")\n",
    "else:\n",
    "    print(\"Não rejeitamos H0: sem evidência forte de proporção > 40%.\")\n"
   ]
  },
  {
   "cell_type": "markdown",
   "id": "daddfe29-979d-481f-a793-8e3b80a20ba1",
   "metadata": {},
   "source": [
    "#### **Perguntas:**\n",
    "\n",
    "\n",
    "1. Por que um teste unilateral é adequado neste caso?\n",
    "2. Como interpretar a rejeição da hipótese nula neste contexto?\n",
    "\n",
    "**Respostas**\n",
    "\n",
    "Respondam com o auxílio do professor!\n",
    "\n",
    "<br>\n",
    "\n",
    "---"
   ]
  },
  {
   "cell_type": "markdown",
   "id": "f1cc4702-5bd3-4ac9-9c95-5785aa3623c5",
   "metadata": {},
   "source": [
    "#### **Exercício 4: Correlação entre “VENCIMENTOS” e “OUTRAS REMUNERAÇÕES”**\n",
    "\n",
    "Algumas vezes, fora o valor fixo do salário, há componentes adicionais como gratificações, horas extras ou pagamentos eventuais, representados na coluna “OUTRAS REMUNERAÇÕES”. Uma dúvida comum é: esses adicionais crescem na mesma proporção que os vencimentos básicos? Ou seja, funcionários com salários maiores também costumam ter “OUTRAS REMUNERAÇÕES” elevadas? Se sim, a correlação entre as duas variáveis deve ser alta e positiva.\n",
    "\n",
    "Ao analisar essa correlação, conseguimos uma pista sobre a política remuneratória da empresa. Caso haja correlação próxima de zero, significa que essas remunerações extras não estão diretamente associadas aos vencimentos fixos, podendo depender de outros fatores, como participações em projetos específicos ou características do cargo. Já uma correlação alta indicaria que quem ganha mais também recebe mais complementos, o que pode reforçar uma desigualdade ou uma estrutura que privilegie cargos de alto escalão com benefícios extras. No entanto, sempre lembramos que correlação não implica causalidade. Não podemos afirmar que o vencimento maior cause outras remunerações maiores, apenas que ambas variam em conjunto. Esse tipo de insight, porém, auxilia o RH e a controladoria no entendimento de como a folha salarial se comporta e onde há maior concentração de gastos extras."
   ]
  },
  {
   "cell_type": "code",
   "execution_count": null,
   "id": "7169d03c-e9e2-480b-b1eb-abc1d2160eaf",
   "metadata": {
    "tags": []
   },
   "outputs": [],
   "source": [
    "import pandas as pd\n",
    "\n",
    "corr_valor = df[\"VENCIMENTOS\"].corr(df[\"OUTRAS REMUNERAÇÕES\"])\n",
    "print(\"Correlação entre VENCIMENTOS e OUTRAS REMUNERAÇÕES:\", corr_valor)"
   ]
  },
  {
   "cell_type": "markdown",
   "id": "7a0be5ed-2e68-488f-bd43-8f26bddc0116",
   "metadata": {},
   "source": [
    "#### **Perguntas:**\n",
    "\n",
    "\n",
    "1. O que significa uma correlação próxima de +1 entre as duas variáveis?\n",
    "2. Por que uma correlação próxima de zero não implica necessariamente que não haja relação alguma?\n",
    "\n",
    "**Respostas**\n",
    "\n",
    "\n",
    "Respondam com o auxílio do professor!\n",
    "\n",
    "<br>\n",
    "\n",
    "---"
   ]
  },
  {
   "cell_type": "markdown",
   "id": "36ce232a-92cd-49bf-8e1d-d7beb009c5fa",
   "metadata": {},
   "source": [
    "#### Reflexões sobre a aula 1:\n",
    "\n"
   ]
  },
  {
   "cell_type": "markdown",
   "id": "804f41ab-36b0-4a79-9638-f2454fb12e0f",
   "metadata": {},
   "source": []
  }
 ],
 "metadata": {
  "kernelspec": {
   "display_name": "Python 3 (ipykernel)",
   "language": "python",
   "name": "python3"
  },
  "language_info": {
   "codemirror_mode": {
    "name": "ipython",
    "version": 3
   },
   "file_extension": ".py",
   "mimetype": "text/x-python",
   "name": "python",
   "nbconvert_exporter": "python",
   "pygments_lexer": "ipython3",
   "version": "3.12.8"
  }
 },
 "nbformat": 4,
 "nbformat_minor": 5
}
