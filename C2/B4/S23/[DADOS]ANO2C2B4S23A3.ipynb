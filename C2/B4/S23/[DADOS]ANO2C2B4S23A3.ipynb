{
 "cells": [
  {
   "cell_type": "markdown",
   "id": "9be31bca",
   "metadata": {},
   "source": [
    "\n",
    "<h1 style=\"text-align: center;\">CIÊNCIA DE DADOS</h1>\n",
    "<h1 style=\"text-align: center;\">Roteiro de Atividade Prática</h1>\n",
    "<br>\n",
    "<br>\n",
    "\n",
    "Nome: ______________________________________________________________________________________      \n",
    "\n",
    "Turma: ______________\n",
    "\n",
    "\n",
    "**Componente:** Matemática e Estatística para Ciência de Dados \n",
    "<br>\n",
    "**Unidade Curricular:** Estatística Aplicada\n",
    "<br>\n",
    "**Tema da Semana:** Inferência Estatística: Intervalos de Confiança I\n",
    "<br>\n",
    "\n"
   ]
  },
  {
   "cell_type": "markdown",
   "id": "f2f91e0e",
   "metadata": {},
   "source": [
    "# Aula 3"
   ]
  },
  {
   "cell_type": "markdown",
   "id": "0ddfd64c",
   "metadata": {},
   "source": [
    "## Tarefa\n",
    "- Execute o código abaixo.\n",
    "\n",
    "- Se as bibliotecas não tiverem instaladas, instale-as.\n",
    "\n",
    "- Acompanhe as instruções.\n",
    "\n",
    "- Preencha o código onde está #TO DO\n",
    "\n",
    "- Responda as perguntas e conclua a atividade\n"
   ]
  },
  {
   "cell_type": "markdown",
   "id": "4bbc8b49-aeb8-44ce-9df0-280dc7e87bcf",
   "metadata": {},
   "source": [
    "#### **Exercício 1: Avaliação da Qualidade de um Produto**\n",
    "\n",
    "Uma fábrica de refrigerantes deseja estimar o teor médio de açúcar (em gramas) por lata. Foi coletada uma amostra aleatória de 30 latas, resultando em uma média de 35 gramas de açúcar, com um desvio padrão amostral de 3 gramas. Determine um intervalo de confiança de 95% para o teor médio de açúcar por lata. Represente a solução de forma gráfica."
   ]
  },
  {
   "cell_type": "code",
   "execution_count": 6,
   "id": "ee16952c-dd19-4984-b62a-a5b5176ca1e5",
   "metadata": {
    "tags": []
   },
   "outputs": [],
   "source": [
    "# to do"
   ]
  },
  {
   "cell_type": "markdown",
   "id": "bf2e6c95-8f95-45f3-ad7f-614736204fa6",
   "metadata": {},
   "source": [
    "#### **Perguntas sobre o Exercício 1:**\n",
    "\n",
    "1. **O que representa o intervalo de confiança encontrado?**\n",
    "\n",
    "\n",
    "\n",
    "2. **Se a confiança fosse de 99%, como o intervalo mudaria?**\n",
    "\n",
    "\n",
    "\n",
    "3. **Como o tamanho da amostra influencia o intervalo?**\n",
    "\n",
    "\n",
    "4. **Por que usamos a distribuição t-Student?**\n",
    "\n",
    "\n",
    "\n",
    "5. **O que o desvio padrão indica neste contexto?**\n",
    "\n"
   ]
  },
  {
   "cell_type": "markdown",
   "id": "4289c495-ad7d-408a-9b9a-ec1e7d7e53fe",
   "metadata": {},
   "source": [
    "#### **Exercício 2: Tempo Médio de Atendimento em um Banco**\n",
    "\n",
    "Um banco deseja estimar o tempo médio de espera dos clientes. Uma amostra de 50 clientes revelou um tempo médio de 20 minutos, com um desvio padrão populacional de 4 minutos. Determine um intervalo de confiança de 95% para o tempo médio de espera. Represente sua solução graficamente."
   ]
  },
  {
   "cell_type": "code",
   "execution_count": 9,
   "id": "bfdff1b1-bc50-45f3-9621-a9da34ef13b6",
   "metadata": {},
   "outputs": [],
   "source": [
    "# to do"
   ]
  },
  {
   "cell_type": "markdown",
   "id": "2d21c66c-f80e-49fe-960b-1ba9f40a188a",
   "metadata": {},
   "source": [
    "#### Perguntas sobre o Exercício 2:\n",
    "\n",
    "1. **Como interpretar o intervalo de confiança encontrado?**\n",
    "\n",
    "\n",
    "\n",
    "2. **Por que utilizamos a distribuição normal neste caso?**\n",
    "\n",
    "\n",
    "\n",
    "3. **Se coletássemos uma amostra maior, o que aconteceria?**\n",
    "\n",
    "\n",
    "\n",
    "4. **O que a margem de erro indica?**\n",
    "\n",
    "\n",
    "\n",
    "5. **O que significaria um intervalo de confiança mais estreito?**\n",
    "\n"
   ]
  }
 ],
 "metadata": {
  "kernelspec": {
   "display_name": "Python 3 (ipykernel)",
   "language": "python",
   "name": "python3"
  },
  "language_info": {
   "codemirror_mode": {
    "name": "ipython",
    "version": 3
   },
   "file_extension": ".py",
   "mimetype": "text/x-python",
   "name": "python",
   "nbconvert_exporter": "python",
   "pygments_lexer": "ipython3",
   "version": "3.12.8"
  }
 },
 "nbformat": 4,
 "nbformat_minor": 5
}
