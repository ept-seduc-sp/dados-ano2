{
 "cells": [
  {
   "cell_type": "markdown",
   "id": "6dae9006",
   "metadata": {},
   "source": [
    "\n",
    "<h1 style=\"text-align: center;\">CIÊNCIA DE DADOS</h1>\n",
    "<h1 style=\"text-align: center;\">Roteiro de Atividade Prática</h1>\n",
    "<br>\n",
    "<br>\n",
    "\n",
    "Nome: ______________________________________________________________________________________      \n",
    "\n",
    "Turma: ______________\n",
    "\n",
    "\n",
    "**Componente:** Matemática e Estatística para Ciência de Dados \n",
    "<br>\n",
    "**Unidade Curricular:** Estatística Aplicada\n",
    "<br>\n",
    "**Tema da Semana:** Inferência Estatística: Testes de hipóteses parte II\n",
    "<br>\n",
    "\n"
   ]
  },
  {
   "cell_type": "markdown",
   "id": "e056db02",
   "metadata": {},
   "source": [
    "# Aula 1"
   ]
  },
  {
   "cell_type": "markdown",
   "id": "15eed9b7",
   "metadata": {},
   "source": [
    "## Tarefa\n",
    "- Execute o código abaixo.\n",
    "\n",
    "- Se as bibliotecas não tiverem instaladas, instale-as.\n",
    "\n",
    "- Acompanhe as instruções.\n",
    "\n",
    "- Preencha o código onde está #TO DO\n",
    "\n",
    "- Responda as perguntas e conclua a atividade\n"
   ]
  },
  {
   "cell_type": "markdown",
   "id": "f62a2402-8d4e-448c-9314-839245fbeda1",
   "metadata": {},
   "source": [
    "#### **Exercício 1: Teste de Proporção (Unilateral)**\n",
    "\n",
    "Uma professora de Biologia quer avaliar se a proporção de estudantes interessados em participar de uma feira de ciências é maior do que 60%. Ela acredita que esse índice é o mínimo necessário para justificar a organização de um grande evento, envolvendo despesas consideráveis com estandes, materiais de laboratório e divulgação. Para verificar isso, preparou um questionário rápido que foi aplicado em todas as turmas do Ensino Médio, perguntando se os alunos “Gostariam” ou “Não gostariam” de participar ativamente de uma feira de ciências local.\n",
    "\n",
    "Depois de consolidar as respostas, a professora obteve uma contagem de quantos alunos responderam positivamente e o total de questionários válidos. Seu objetivo é verificar se, do ponto de vista estatístico, podemos afirmar que a proporção de interessados na feira realmente ultrapassa o patamar de 60%. Se o resultado for favorável, a organização terá base para seguir em frente com os preparativos e buscar patrocínio. Se o resultado não for significativo, podem repensar estratégias de motivação ou divulgar melhor a importância de eventos científicos para a comunidade escolar.\n"
   ]
  },
  {
   "cell_type": "code",
   "execution_count": 3,
   "id": "93ee0c0d-4833-4b8e-bf43-fcffdf8e2c20",
   "metadata": {
    "tags": []
   },
   "outputs": [
    {
     "name": "stdout",
     "output_type": "stream",
     "text": [
      "Estatística de teste: 2.6726124191242437\n",
      "p-valor: 0.0037631575832289435\n",
      "Rejeitamos H0. A proporção de interessados é maior que 60%.\n"
     ]
    }
   ],
   "source": [
    "import numpy as np\n",
    "from statsmodels.stats.proportion import proportions_ztest\n",
    "\n",
    "# Exemplo de valores coletados\n",
    "contagem_interessados = 72  # Alunos interessados\n",
    "total_alunos = 100\n",
    "prop_esperada = 0.60\n",
    "\n",
    "# Teste z para uma proporção (unilateral: H1 > 0.60)\n",
    "estatistica, p_valor = proportions_ztest(count=contagem_interessados,\n",
    "                                         nobs=total_alunos,\n",
    "                                         value=prop_esperada,\n",
    "                                         alternative='larger')\n",
    "\n",
    "print(\"Estatística de teste:\", estatistica)\n",
    "print(\"p-valor:\", p_valor)\n",
    "\n",
    "alpha = 0.05\n",
    "if p_valor < alpha:\n",
    "    print(\"Rejeitamos H0. A proporção de interessados é maior que 60%.\")\n",
    "else:\n",
    "    print(\"Não rejeitamos H0. Não há evidências de que a proporção seja maior que 60%.\")\n"
   ]
  },
  {
   "cell_type": "markdown",
   "id": "4607e5ef-b401-44b1-8199-75e908293a31",
   "metadata": {},
   "source": [
    "#### **Perguntas: (responda com o professor)**\n",
    "\n",
    "1. Por que utilizamos um teste unilateral aqui ao invés de bilateral?\n",
    "    - Resposta: \n",
    "    \n",
    "<br>\n",
    "\n",
    "2. O que a professora pode concluir se o resultado não rejeitar H₀?\n",
    "    - Resposta: \n",
    "\n",
    "<br>\n",
    "\n",
    "---\n"
   ]
  },
  {
   "cell_type": "markdown",
   "id": "f2889baa-679d-4b18-818e-b359d70837b6",
   "metadata": {},
   "source": [
    "#### **Exercício 2: Teste Pareado (Antes e Depois)**\n",
    "\n",
    "O coordenador de um programa de reforço escolar em Matemática notou que alguns alunos tinham muita dificuldade na resolução de problemas que envolvem lógica e raciocínio abstrato. Para solucionar isso, introduziu uma técnica de ensino baseada em jogos de tabuleiro e desafios lógicos, aplicada em um grupo de 15 alunos por três semanas. Ele acredita que esse método ajuda a desenvolver habilidades de resolução de problemas de forma mais lúdica.\n",
    "\n",
    "Para avaliar o impacto, o coordenador aplicou um teste de raciocínio antes do início do programa e repetiu o teste após as três semanas. O objetivo é verificar se houve aumento significativo na pontuação média desses alunos entre o “pré-teste” e o “pós-teste”. Se os resultados mostrarem melhora estatisticamente significativa, a escola poderá considerar implementar essa técnica de forma mais ampla em outras disciplinas. Caso contrário, deverão rever o material ou considerar outras metodologias que possam ser mais eficazes. A ideia é sempre usar recursos que tornem o aprendizado mais dinâmico, incentivando o aluno a pensar e resolver problemas de forma autônoma."
   ]
  },
  {
   "cell_type": "code",
   "execution_count": 9,
   "id": "fd8817e8-b2d1-4b95-b57f-293b63ab400d",
   "metadata": {
    "tags": []
   },
   "outputs": [
    {
     "name": "stdout",
     "output_type": "stream",
     "text": [
      "Estatística de teste: -inf\n",
      "p-valor: 0.0\n",
      "Rejeitamos H0. Há evidências de melhora significativa após a intervenção.\n"
     ]
    }
   ],
   "source": [
    "import numpy as np\n",
    "from scipy.stats import ttest_rel\n",
    "\n",
    "# Dados simulados: mesmas 15 pessoas antes e depois\n",
    "antes = np.array([5, 6, 4, 5, 7, 6, 5, 4, 6, 5, 7, 8, 5, 6, 5])\n",
    "depois = np.array([6, 7, 5, 6, 8, 7, 6, 5, 7, 6, 8, 9, 6, 7, 6])\n",
    "\n",
    "# Teste t pareado (paired)\n",
    "estatistica, p_valor = ttest_rel(antes, depois)\n",
    "\n",
    "print(\"Estatística de teste:\", estatistica)\n",
    "print(\"p-valor:\", p_valor)\n",
    "\n",
    "alpha = 0.05\n",
    "if p_valor < alpha:\n",
    "    print(\"Rejeitamos H0. Há evidências de melhora significativa após a intervenção.\")\n",
    "else:\n",
    "    print(\"Não rejeitamos H0. Não há evidências de melhora significativa.\")"
   ]
  },
  {
   "cell_type": "markdown",
   "id": "27bf917f-a6b6-4a82-9743-1ae63c2cbc5c",
   "metadata": {},
   "source": [
    "#### **Perguntas: (responda com o professor)**\n",
    "\n",
    "1. Por que usar um teste pareado, ao invés de um teste para amostras independentes?\n",
    "    - Resposta: \n",
    "\n",
    "<br>\n",
    "\n",
    "2. Como a escola poderia agir se o p-valor fosse muito baixo?\n",
    "    - Resposta: \n",
    "\n",
    "\n",
    "<br>\n",
    "\n",
    "---"
   ]
  },
  {
   "cell_type": "markdown",
   "id": "4339380f-38e7-4828-afa6-93130365df37",
   "metadata": {},
   "source": [
    "#### **Exercício 3: Teste de Independência (Qui-Quadrado)**\n",
    "\n",
    "Em uma pesquisa sobre hábitos de leitura, um grupo de alunos montou um questionário para descobrir a relação entre o ano escolar (1º, 2º ou 3º do Ensino Médio) e o tipo de leitura preferida (livros de ficção, quadrinhos, jornais/revistas ou conteúdo digital na internet). Eles acreditam que a predileção por certo tipo de leitura possa variar conforme a maturidade acadêmica e a proximidade dos vestibulares e exames finais. Assim, construíram uma tabela de contingência relacionando a série em que o aluno se encontra e a forma de leitura mais frequente.\n",
    "\n",
    "Depois de tabular as respostas, surgiu a dúvida: será que a preferência de leitura é independente do ano escolar, ou existe uma associação clara entre as duas variáveis? Para responder, decidiram aplicar o teste de independência baseado na distribuição qui-quadrado. Se constatarem que existe associação, podem direcionar ações específicas de incentivo à leitura, considerando as preferências de cada série. Se concluírem que não há associação, as estratégias de leitura poderão ser planejadas de forma mais geral, sem distinção de série.\n"
   ]
  },
  {
   "cell_type": "code",
   "execution_count": 15,
   "id": "af1f4e12-a8de-446b-a486-250c2b37f502",
   "metadata": {
    "tags": []
   },
   "outputs": [
    {
     "name": "stdout",
     "output_type": "stream",
     "text": [
      "Estatística Qui-Quadrado: 5.6577459820880875\n",
      "p-valor: 0.46259962345596817\n",
      "Graus de Liberdade: 6\n",
      "Frequências Esperadas:\n",
      " [[10.19512195 10.19512195  5.56097561 12.04878049]\n",
      " [12.07317073 12.07317073  6.58536585 14.26829268]\n",
      " [10.73170732 10.73170732  5.85365854 12.68292683]]\n",
      "Não rejeitamos H0. Não há evidências de associação entre a série e a preferência de leitura.\n"
     ]
    }
   ],
   "source": [
    "import numpy as np\n",
    "from scipy.stats import chi2_contingency\n",
    "\n",
    "# Tabela de contingência (linhas: séries, colunas: tipo de leitura)\n",
    "# Suponha que a pesquisa resultou em:\n",
    "tabela = np.array([\n",
    "    [15,  8,  5, 10],  # 1º ano\n",
    "    [10, 15,  6, 14],  # 2º ano\n",
    "    [ 8, 10,  7, 15]   # 3º ano\n",
    "])\n",
    "\n",
    "chi2, p_valor, dof, freq_esperada = chi2_contingency(tabela)\n",
    "\n",
    "print(\"Estatística Qui-Quadrado:\", chi2)\n",
    "print(\"p-valor:\", p_valor)\n",
    "print(\"Graus de Liberdade:\", dof)\n",
    "print(\"Frequências Esperadas:\\n\", freq_esperada)\n",
    "\n",
    "alpha = 0.05\n",
    "if p_valor < alpha:\n",
    "    print(\"Rejeitamos H0. Há evidências de que a preferência de leitura depende do ano escolar.\")\n",
    "else:\n",
    "    print(\"Não rejeitamos H0. Não há evidências de associação entre a série e a preferência de leitura.\")"
   ]
  },
  {
   "cell_type": "markdown",
   "id": "ec39fae3-11d9-4d59-90c1-b4f6a98388b5",
   "metadata": {},
   "source": [
    "#### **Perguntas: (responda com seu professor)**\n",
    "\n",
    "\n",
    "1. Por que o teste de qui-quadrado é apropriado para esse tipo de investigação?\n",
    "    - Resposta: \n",
    "\n",
    "\n",
    "<br>\n",
    "\n",
    "2. Se H₀ não for rejeitada, o que isso significa?\n",
    "- Resposta: \n",
    "\n",
    "<br>\n",
    "\n",
    "---"
   ]
  },
  {
   "cell_type": "markdown",
   "id": "cc568fe1-f730-4a95-9b2d-9f1d92a32379",
   "metadata": {},
   "source": [
    "#### **Exercício 4: Teste Não Paramétrico (Mann-Whitney)**\n",
    "\n",
    "Dois professores de Educação Física tiveram ideias diferentes para melhorar o condicionamento dos alunos: um deles propôs treinos intensivos de curta duração (HIIT), enquanto o outro preferiu treinos tradicionais de duração média e intensidade moderada. Para avaliar qual abordagem resultaria em melhor resistência física, eles aplicaram um teste de corrida com duração fixa de 12 minutos. O resultado mensurado seria a distância total percorrida em metros. Cada professor trabalhou com um grupo de alunos aleatórios, mas o primeiro grupo fez HIIT por quatro semanas, e o segundo grupo seguiu o método tradicional no mesmo período.\n",
    "\n",
    "No entanto, alguns alunos do primeiro grupo apresentaram resultados muito distintos, pois eram acostumados a treinar intensamente fora da escola, enquanto outros do segundo grupo tinham restrições de saúde. Isso pode violar a suposição de normalidade dos dados. Assim, os professores decidiram utilizar um teste não paramétrico para comparar as performances dos dois grupos, pois esse tipo de teste não exige que as amostras sigam uma distribuição normal. Se o teste mostrar diferença significativa, o método de treino que resultar em melhor resistência poderá ser expandido para outras turmas. Caso contrário, podem analisar se a execução do programa foi uniforme ou se existem outros fatores (alimentação, motivação, descanso) que prejudicam a interpretação dos resultados."
   ]
  },
  {
   "cell_type": "code",
   "execution_count": 19,
   "id": "536173c1-8f9e-4d0e-889b-068c8fe4f93b",
   "metadata": {
    "tags": []
   },
   "outputs": [
    {
     "name": "stdout",
     "output_type": "stream",
     "text": [
      "Estatística de teste: 53.5\n",
      "p-valor: 0.02674387793966026\n",
      "Rejeitamos H0. Há evidências de diferença significativa na resistência entre os métodos.\n"
     ]
    }
   ],
   "source": [
    "import numpy as np\n",
    "from scipy.stats import mannwhitneyu\n",
    "\n",
    "# Dados simulados (distância em metros percorridos em 12 min)\n",
    "grupo_HIIT = np.array([2100, 2500, 1950, 2200, 2800, 3000, 2600, 2300])\n",
    "grupo_tradicional = np.array([2000, 1900, 2100, 2050, 2200, 2100, 2000, 2150])\n",
    "\n",
    "estatistica, p_valor = mannwhitneyu(grupo_HIIT, grupo_tradicional, alternative='two-sided')\n",
    "\n",
    "print(\"Estatística de teste:\", estatistica)\n",
    "print(\"p-valor:\", p_valor)\n",
    "\n",
    "alpha = 0.05\n",
    "if p_valor < alpha:\n",
    "    print(\"Rejeitamos H0. Há evidências de diferença significativa na resistência entre os métodos.\")\n",
    "else:\n",
    "    print(\"Não rejeitamos H0. Não há evidências de diferença significativa entre os métodos.\")"
   ]
  },
  {
   "cell_type": "markdown",
   "id": "eb2725b8-e5ef-4510-80fc-75e53129b85a",
   "metadata": {},
   "source": [
    "#### **Perguntas: (responda com seu professor)**\n",
    "\n",
    "\n",
    "1. Por que escolher o teste Mann-Whitney ao invés de um teste t tradicional?\n",
    "    - Resposta: \n",
    "    \n",
    "<br>\n",
    "\n",
    "2. O que significa concluir que não há diferença significativa entre os grupos, mesmo usando um teste não paramétrico?\n",
    "    - Resposta:\n",
    "\n",
    "<br>\n",
    "\n",
    "---"
   ]
  },
  {
   "cell_type": "markdown",
   "id": "36ce232a-92cd-49bf-8e1d-d7beb009c5fa",
   "metadata": {},
   "source": [
    "#### Reflexões sobre a aula 1:\n",
    "\n"
   ]
  },
  {
   "cell_type": "markdown",
   "id": "804f41ab-36b0-4a79-9638-f2454fb12e0f",
   "metadata": {},
   "source": []
  }
 ],
 "metadata": {
  "kernelspec": {
   "display_name": "Python 3 (ipykernel)",
   "language": "python",
   "name": "python3"
  },
  "language_info": {
   "codemirror_mode": {
    "name": "ipython",
    "version": 3
   },
   "file_extension": ".py",
   "mimetype": "text/x-python",
   "name": "python",
   "nbconvert_exporter": "python",
   "pygments_lexer": "ipython3",
   "version": "3.11.7"
  }
 },
 "nbformat": 4,
 "nbformat_minor": 5
}
