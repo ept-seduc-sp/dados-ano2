{
 "cells": [
  {
   "cell_type": "markdown",
   "id": "1a157d9c",
   "metadata": {},
   "source": [
    "\n",
    "<h1 style=\"text-align: center;\">CIÊNCIA DE DADOS</h1>\n",
    "<h1 style=\"text-align: center;\">Roteiro de Atividade Prática</h1>\n",
    "<br>\n",
    "<br>\n",
    "\n",
    "Nome: ______________________________________________________________________________________      \n",
    "\n",
    "Turma: ______________\n",
    "\n",
    "\n",
    "**Componente:** Matemática e Estatística para Ciência de Dados \n",
    "<br>\n",
    "**Unidade Curricular:** Estatística Aplicada\n",
    "<br>\n",
    "**Tema da Semana:** Inferência Estatística: Testes de hipóteses parte II\n",
    "\n",
    "<br>\n"
   ]
  },
  {
   "cell_type": "markdown",
   "id": "aba84bdf",
   "metadata": {},
   "source": [
    "# NOTEBOOK DO PROFESSOR"
   ]
  },
  {
   "cell_type": "markdown",
   "id": "7535f6a4",
   "metadata": {
    "jp-MarkdownHeadingCollapsed": true,
    "tags": []
   },
   "source": [
    "### Aula 1"
   ]
  },
  {
   "cell_type": "markdown",
   "id": "3bff4503-6d24-47d7-8280-800e54f1cdc5",
   "metadata": {},
   "source": [
    "#### **Exercício 1: Teste de Proporção (Unilateral)**\n",
    "\n",
    "Uma professora de Biologia quer avaliar se a proporção de estudantes interessados em participar de uma feira de ciências é maior do que 60%. Ela acredita que esse índice é o mínimo necessário para justificar a organização de um grande evento, envolvendo despesas consideráveis com estandes, materiais de laboratório e divulgação. Para verificar isso, preparou um questionário rápido que foi aplicado em todas as turmas do Ensino Médio, perguntando se os alunos “Gostariam” ou “Não gostariam” de participar ativamente de uma feira de ciências local.\n",
    "\n",
    "Depois de consolidar as respostas, a professora obteve uma contagem de quantos alunos responderam positivamente e o total de questionários válidos. Seu objetivo é verificar se, do ponto de vista estatístico, podemos afirmar que a proporção de interessados na feira realmente ultrapassa o patamar de 60%. Se o resultado for favorável, a organização terá base para seguir em frente com os preparativos e buscar patrocínio. Se o resultado não for significativo, podem repensar estratégias de motivação ou divulgar melhor a importância de eventos científicos para a comunidade escolar.\n"
   ]
  },
  {
   "cell_type": "code",
   "execution_count": 3,
   "id": "689f03a9-110c-426d-b95c-d997455cc67a",
   "metadata": {
    "tags": []
   },
   "outputs": [
    {
     "name": "stdout",
     "output_type": "stream",
     "text": [
      "Estatística de teste: 2.6726124191242437\n",
      "p-valor: 0.0037631575832289435\n",
      "Rejeitamos H0. A proporção de interessados é maior que 60%.\n"
     ]
    }
   ],
   "source": [
    "import numpy as np\n",
    "from statsmodels.stats.proportion import proportions_ztest\n",
    "\n",
    "# Exemplo de valores coletados\n",
    "contagem_interessados = 72  # Alunos interessados\n",
    "total_alunos = 100\n",
    "prop_esperada = 0.60\n",
    "\n",
    "# Teste z para uma proporção (unilateral: H1 > 0.60)\n",
    "estatistica, p_valor = proportions_ztest(count=contagem_interessados,\n",
    "                                         nobs=total_alunos,\n",
    "                                         value=prop_esperada,\n",
    "                                         alternative='larger')\n",
    "\n",
    "print(\"Estatística de teste:\", estatistica)\n",
    "print(\"p-valor:\", p_valor)\n",
    "\n",
    "alpha = 0.05\n",
    "if p_valor < alpha:\n",
    "    print(\"Rejeitamos H0. A proporção de interessados é maior que 60%.\")\n",
    "else:\n",
    "    print(\"Não rejeitamos H0. Não há evidências de que a proporção seja maior que 60%.\")\n"
   ]
  },
  {
   "cell_type": "markdown",
   "id": "ea2d7b77-02f6-4268-bfbc-e5e4dc58b550",
   "metadata": {},
   "source": [
    "#### **Perguntas:**\n",
    "\n",
    "1. Por que utilizamos um teste unilateral aqui ao invés de bilateral?\n",
    "    - Resposta: Porque a professora quer verificar especificamente se a proporção ultrapassa 60%. Um teste unilateral foca na direção de interesse (p > 0,60).\n",
    "\n",
    "<br>\n",
    "\n",
    "2. O que a professora pode concluir se o resultado não rejeitar H₀?\n",
    "    - Resposta: Não há evidências estatísticas suficientes para afirmar que a proporção seja maior que 60%, podendo indicar necessidade de motivar mais alunos ou divulgar melhor a feira.\n",
    "\n",
    "<br>\n",
    "\n",
    "---\n"
   ]
  },
  {
   "cell_type": "markdown",
   "id": "55a3703c-0a6b-4eff-a9d6-79b727733893",
   "metadata": {},
   "source": [
    "#### **Exercício 2: Teste Pareado (Antes e Depois)**\n",
    "\n",
    "O coordenador de um programa de reforço escolar em Matemática notou que alguns alunos tinham muita dificuldade na resolução de problemas que envolvem lógica e raciocínio abstrato. Para solucionar isso, introduziu uma técnica de ensino baseada em jogos de tabuleiro e desafios lógicos, aplicada em um grupo de 15 alunos por três semanas. Ele acredita que esse método ajuda a desenvolver habilidades de resolução de problemas de forma mais lúdica.\n",
    "\n",
    "Para avaliar o impacto, o coordenador aplicou um teste de raciocínio antes do início do programa e repetiu o teste após as três semanas. O objetivo é verificar se houve aumento significativo na pontuação média desses alunos entre o “pré-teste” e o “pós-teste”. Se os resultados mostrarem melhora estatisticamente significativa, a escola poderá considerar implementar essa técnica de forma mais ampla em outras disciplinas. Caso contrário, deverão rever o material ou considerar outras metodologias que possam ser mais eficazes. A ideia é sempre usar recursos que tornem o aprendizado mais dinâmico, incentivando o aluno a pensar e resolver problemas de forma autônoma."
   ]
  },
  {
   "cell_type": "code",
   "execution_count": 9,
   "id": "0cdec1ff-3c0d-4892-b729-701b333e55fc",
   "metadata": {
    "tags": []
   },
   "outputs": [
    {
     "name": "stdout",
     "output_type": "stream",
     "text": [
      "Estatística de teste: -inf\n",
      "p-valor: 0.0\n",
      "Rejeitamos H0. Há evidências de melhora significativa após a intervenção.\n"
     ]
    }
   ],
   "source": [
    "import numpy as np\n",
    "from scipy.stats import ttest_rel\n",
    "\n",
    "# Dados simulados: mesmas 15 pessoas antes e depois\n",
    "antes = np.array([5, 6, 4, 5, 7, 6, 5, 4, 6, 5, 7, 8, 5, 6, 5])\n",
    "depois = np.array([6, 7, 5, 6, 8, 7, 6, 5, 7, 6, 8, 9, 6, 7, 6])\n",
    "\n",
    "# Teste t pareado (paired)\n",
    "estatistica, p_valor = ttest_rel(antes, depois)\n",
    "\n",
    "print(\"Estatística de teste:\", estatistica)\n",
    "print(\"p-valor:\", p_valor)\n",
    "\n",
    "alpha = 0.05\n",
    "if p_valor < alpha:\n",
    "    print(\"Rejeitamos H0. Há evidências de melhora significativa após a intervenção.\")\n",
    "else:\n",
    "    print(\"Não rejeitamos H0. Não há evidências de melhora significativa.\")"
   ]
  },
  {
   "cell_type": "markdown",
   "id": "f62114f8-baba-45e3-b0e6-3a84d9c7644e",
   "metadata": {},
   "source": [
    "#### **Perguntas:**\n",
    "\n",
    "1. Por que usar um teste pareado, ao invés de um teste para amostras independentes?\n",
    "    - Resposta: Porque comparamos os mesmos alunos em dois momentos diferentes (antes/depois), reduzindo a variação individual e capturando melhor o efeito da intervenção.\n",
    "\n",
    "<br>\n",
    "\n",
    "2. Como a escola poderia agir se o p-valor fosse muito baixo?\n",
    "    - Resposta: O resultado indicaria que a intervenção foi eficaz. A escola poderia expandir o programa, aplicar a outras disciplinas ou inserir mais recursos lúdicos na rotina de estudos.\n",
    "\n",
    "\n",
    "<br>\n",
    "\n",
    "---"
   ]
  },
  {
   "cell_type": "markdown",
   "id": "1470b812-42a4-4e82-ab4b-88d2985abbe7",
   "metadata": {},
   "source": [
    "#### **Exercício 3: Teste de Independência (Qui-Quadrado)**\n",
    "\n",
    "Em uma pesquisa sobre hábitos de leitura, um grupo de alunos montou um questionário para descobrir a relação entre o ano escolar (1º, 2º ou 3º do Ensino Médio) e o tipo de leitura preferida (livros de ficção, quadrinhos, jornais/revistas ou conteúdo digital na internet). Eles acreditam que a predileção por certo tipo de leitura possa variar conforme a maturidade acadêmica e a proximidade dos vestibulares e exames finais. Assim, construíram uma tabela de contingência relacionando a série em que o aluno se encontra e a forma de leitura mais frequente.\n",
    "\n",
    "Depois de tabular as respostas, surgiu a dúvida: será que a preferência de leitura é independente do ano escolar, ou existe uma associação clara entre as duas variáveis? Para responder, decidiram aplicar o teste de independência baseado na distribuição qui-quadrado. Se constatarem que existe associação, podem direcionar ações específicas de incentivo à leitura, considerando as preferências de cada série. Se concluírem que não há associação, as estratégias de leitura poderão ser planejadas de forma mais geral, sem distinção de série.\n"
   ]
  },
  {
   "cell_type": "code",
   "execution_count": 15,
   "id": "7d5bf2b7-e09b-45af-b494-af93b2ee5c4a",
   "metadata": {
    "tags": []
   },
   "outputs": [
    {
     "name": "stdout",
     "output_type": "stream",
     "text": [
      "Estatística Qui-Quadrado: 5.6577459820880875\n",
      "p-valor: 0.46259962345596817\n",
      "Graus de Liberdade: 6\n",
      "Frequências Esperadas:\n",
      " [[10.19512195 10.19512195  5.56097561 12.04878049]\n",
      " [12.07317073 12.07317073  6.58536585 14.26829268]\n",
      " [10.73170732 10.73170732  5.85365854 12.68292683]]\n",
      "Não rejeitamos H0. Não há evidências de associação entre a série e a preferência de leitura.\n"
     ]
    }
   ],
   "source": [
    "import numpy as np\n",
    "from scipy.stats import chi2_contingency\n",
    "\n",
    "# Tabela de contingência (linhas: séries, colunas: tipo de leitura)\n",
    "# Suponha que a pesquisa resultou em:\n",
    "tabela = np.array([\n",
    "    [15,  8,  5, 10],  # 1º ano\n",
    "    [10, 15,  6, 14],  # 2º ano\n",
    "    [ 8, 10,  7, 15]   # 3º ano\n",
    "])\n",
    "\n",
    "chi2, p_valor, dof, freq_esperada = chi2_contingency(tabela)\n",
    "\n",
    "print(\"Estatística Qui-Quadrado:\", chi2)\n",
    "print(\"p-valor:\", p_valor)\n",
    "print(\"Graus de Liberdade:\", dof)\n",
    "print(\"Frequências Esperadas:\\n\", freq_esperada)\n",
    "\n",
    "alpha = 0.05\n",
    "if p_valor < alpha:\n",
    "    print(\"Rejeitamos H0. Há evidências de que a preferência de leitura depende do ano escolar.\")\n",
    "else:\n",
    "    print(\"Não rejeitamos H0. Não há evidências de associação entre a série e a preferência de leitura.\")"
   ]
  },
  {
   "cell_type": "markdown",
   "id": "b4722428-94b3-4c9f-bfbe-27ccaaeee0d5",
   "metadata": {},
   "source": [
    "#### **Perguntas:**\n",
    "\n",
    "\n",
    "1. Por que o teste de qui-quadrado é apropriado para esse tipo de investigação?\n",
    "    - Resposta: Porque analisamos variáveis categóricas (série e tipo de leitura) e verificamos se há independência ou associação entre elas.\n",
    "\n",
    "\n",
    "<br>\n",
    "\n",
    "2. Se H₀ não for rejeitada, o que isso significa?\n",
    "- Resposta: Indica que a preferência de leitura não tem relação significativa com a série do aluno, sugerindo que as diferenças observadas podem ser explicadas pelo acaso.\n",
    "\n",
    "<br>\n",
    "\n",
    "---"
   ]
  },
  {
   "cell_type": "markdown",
   "id": "fbfa5550-6134-43c5-8b20-00b88419b72c",
   "metadata": {},
   "source": [
    "#### **Exercício 4: Teste Não Paramétrico (Mann-Whitney)**\n",
    "\n",
    "Dois professores de Educação Física tiveram ideias diferentes para melhorar o condicionamento dos alunos: um deles propôs treinos intensivos de curta duração (HIIT), enquanto o outro preferiu treinos tradicionais de duração média e intensidade moderada. Para avaliar qual abordagem resultaria em melhor resistência física, eles aplicaram um teste de corrida com duração fixa de 12 minutos. O resultado mensurado seria a distância total percorrida em metros. Cada professor trabalhou com um grupo de alunos aleatórios, mas o primeiro grupo fez HIIT por quatro semanas, e o segundo grupo seguiu o método tradicional no mesmo período.\n",
    "\n",
    "No entanto, alguns alunos do primeiro grupo apresentaram resultados muito distintos, pois eram acostumados a treinar intensamente fora da escola, enquanto outros do segundo grupo tinham restrições de saúde. Isso pode violar a suposição de normalidade dos dados. Assim, os professores decidiram utilizar um teste não paramétrico para comparar as performances dos dois grupos, pois esse tipo de teste não exige que as amostras sigam uma distribuição normal. Se o teste mostrar diferença significativa, o método de treino que resultar em melhor resistência poderá ser expandido para outras turmas. Caso contrário, podem analisar se a execução do programa foi uniforme ou se existem outros fatores (alimentação, motivação, descanso) que prejudicam a interpretação dos resultados."
   ]
  },
  {
   "cell_type": "code",
   "execution_count": 19,
   "id": "9b1888ad-ebd4-4a9e-99e3-bcaa0b07253d",
   "metadata": {
    "tags": []
   },
   "outputs": [
    {
     "name": "stdout",
     "output_type": "stream",
     "text": [
      "Estatística de teste: 53.5\n",
      "p-valor: 0.02674387793966026\n",
      "Rejeitamos H0. Há evidências de diferença significativa na resistência entre os métodos.\n"
     ]
    }
   ],
   "source": [
    "import numpy as np\n",
    "from scipy.stats import mannwhitneyu\n",
    "\n",
    "# Dados simulados (distância em metros percorridos em 12 min)\n",
    "grupo_HIIT = np.array([2100, 2500, 1950, 2200, 2800, 3000, 2600, 2300])\n",
    "grupo_tradicional = np.array([2000, 1900, 2100, 2050, 2200, 2100, 2000, 2150])\n",
    "\n",
    "estatistica, p_valor = mannwhitneyu(grupo_HIIT, grupo_tradicional, alternative='two-sided')\n",
    "\n",
    "print(\"Estatística de teste:\", estatistica)\n",
    "print(\"p-valor:\", p_valor)\n",
    "\n",
    "alpha = 0.05\n",
    "if p_valor < alpha:\n",
    "    print(\"Rejeitamos H0. Há evidências de diferença significativa na resistência entre os métodos.\")\n",
    "else:\n",
    "    print(\"Não rejeitamos H0. Não há evidências de diferença significativa entre os métodos.\")"
   ]
  },
  {
   "cell_type": "markdown",
   "id": "f2d0bb9c-059d-4475-b360-f3f937de3b48",
   "metadata": {},
   "source": [
    "#### **Perguntas:**\n",
    "\n",
    "\n",
    "1. Por que escolher o teste Mann-Whitney ao invés de um teste t tradicional?\n",
    "    - Resposta: Porque não é preciso pressupor que os dados sejam normalmente distribuídos. O teste Mann-Whitney é mais robusto para dados que podem ser assimétricos ou conter outliers.\n",
    "\n",
    "<br>\n",
    "\n",
    "2. O que significa concluir que não há diferença significativa entre os grupos, mesmo usando um teste não paramétrico?\n",
    "    - Resposta: Indica que não foi encontrada evidência estatística para afirmar que um método de treino seja melhor do que o outro em termos de resistência física, considerando as amostras coletadas.\n",
    "\n",
    "<br>\n",
    "\n",
    "---"
   ]
  },
  {
   "cell_type": "markdown",
   "id": "d0685314-e921-4fbc-bc25-a29b1f1660b9",
   "metadata": {
    "jp-MarkdownHeadingCollapsed": true,
    "tags": []
   },
   "source": [
    "### Aula 2"
   ]
  },
  {
   "cell_type": "markdown",
   "id": "ade7fb8c-1267-43ee-8c73-a13f8b4a7a19",
   "metadata": {},
   "source": [
    "#### **Exercício 1: Teste de Proporção (Unilateral)**\n",
    "\n",
    "Um grupo de alunos decidiu conduzir uma pesquisa sobre o uso de aplicativos de estudo no celular. A equipe suspeita que mais da metade dos estudantes utiliza pelo menos um aplicativo (como plataformas de flashcards, simuladores de prova ou cursos online) para se preparar para as avaliações. O interesse nesse dado surgiu de conversas informais, em que muitos afirmavam que esses aplicativos ajudam a otimizar o tempo de estudo e a tornar o aprendizado mais dinâmico. No entanto, outro grupo de alunos argumenta que a maioria prefere métodos tradicionais como livros e cadernos.\n",
    "\n",
    "Para esclarecer a questão, o grêmio estudantil elaborou uma enquete simples. Eles perguntaram a cada aluno do Ensino Médio se “usa ou não usa regularmente” algum aplicativo de estudo no celular. Após coletar as respostas, perceberam que uma quantidade aparentemente grande de alunos respondeu “sim”. Então, decidiram verificar se essa proporção é realmente maior do que 50%. Se a hipótese for confirmada, o grêmio planeja propor um projeto de integração desses aplicativos à rotina da escola, pedindo auxílio dos professores para recomendar ou criar conteúdos específicos. Caso contrário, preferem investir em outras iniciativas de incentivo ao estudo, acreditando que a adesão aos apps não seja tão expressiva quanto se imagina.\n",
    "\n",
    "Hipóteses\n",
    "\n",
    "    - H₀ (Hipótese Nula): A proporção de usuários de aplicativos de estudo é menor ou igual a 50% (p ≤ 0,50).\n",
    "    - H₁ (Hipótese Alternativa): A proporção de usuários de aplicativos de estudo é maior que 50% (p > 0,50)."
   ]
  },
  {
   "cell_type": "code",
   "execution_count": 23,
   "id": "e81f613f-dd0b-4e42-91d9-4627f526a64e",
   "metadata": {
    "tags": []
   },
   "outputs": [
    {
     "name": "stdout",
     "output_type": "stream",
     "text": [
      "Estatística de teste: 1.2087344460380713\n",
      "p-valor: 0.11338244176241857\n",
      "Não rejeitamos H0. Não há evidências de que a proporção seja maior que 50%.\n"
     ]
    }
   ],
   "source": [
    "import numpy as np\n",
    "from statsmodels.stats.proportion import proportions_ztest\n",
    "\n",
    "# Exemplo de valores\n",
    "contagem_usuarios = 56  # Alunos que usam aplicativos\n",
    "total_alunos = 100\n",
    "prop_esperada = 0.50\n",
    "\n",
    "estatistica, p_valor = proportions_ztest(count=contagem_usuarios,\n",
    "                                         nobs=total_alunos,\n",
    "                                         value=prop_esperada,\n",
    "                                         alternative='larger')\n",
    "\n",
    "print(\"Estatística de teste:\", estatistica)\n",
    "print(\"p-valor:\", p_valor)\n",
    "\n",
    "alpha = 0.05\n",
    "if p_valor < alpha:\n",
    "    print(\"Rejeitamos H0. Proporção maior que 50%.\")\n",
    "else:\n",
    "    print(\"Não rejeitamos H0. Não há evidências de que a proporção seja maior que 50%.\")\n"
   ]
  },
  {
   "cell_type": "markdown",
   "id": "489fc454-02e7-48d2-8394-0d64d64b917c",
   "metadata": {},
   "source": [
    "#### **Perguntas:**\n",
    "\n",
    "1. Por que um teste de proporção unilateral se adequa bem a esta situação?\n",
    "    - Gabarito: Porque o objetivo é verificar especificamente se a proporção de usuários é maior que 50%. Um teste unilateral se concentra nessa direção.\n",
    "\n",
    "<br>\n",
    "\n",
    "2. O que significaria se o p-valor fosse alto nesse teste?\n",
    "    - Gabarito: Significa que não há evidências suficientes para afirmar que a proporção seja maior que 50%. A diferença observada pode ter ocorrido por acaso.\n",
    "    \n",
    "<br>\n",
    "\n",
    "---"
   ]
  },
  {
   "cell_type": "markdown",
   "id": "0a3c0fa2-9629-4ba6-9a84-d4f0ad931995",
   "metadata": {},
   "source": [
    "#### **Exemplo 2: Teste Pareado (Antes e Depois)**\n",
    "\n",
    "Para melhorar a fluência em Inglês dos estudantes, a professora de Línguas propôs um programa de conversação semanal que duraria um mês. Nesse programa, cada aluno participaria de atividades orais, jogos interativos e discussões sobre temas atuais totalmente em Inglês, com foco na pronúncia, compreensão auditiva e na ampliação de vocabulário. Antes de iniciar o programa, a professora aplicou um teste de fluência oral que avaliava itens como pronúncia, variedade de vocabulário e estrutura das frases.\n",
    "\n",
    "Passadas quatro semanas, durante as quais os alunos tiveram atividades de conversação todas as sextas-feiras, a professora reaplicou o mesmo teste de fluência. A expectativa é que a exposição constante ao idioma e a prática intensiva em um ambiente mais descontraído ajudem a reduzir a ansiedade e melhorem o desempenho geral dos alunos. Caso se constate uma diferença significativa, a escola pode tornar o programa parte oficial do currículo de Línguas, incentivando até mesmo a criação de grupos de estudo em horários alternativos. Se, por outro lado, os resultados não forem convincentes, a professora pretende buscar outras estratégias e metodologias que auxiliem na aquisição de fluência.\n",
    "\n",
    "Hipóteses\n",
    "\n",
    "    - H₀ (Hipótese Nula): Não há diferença significativa nas notas de fluência antes e depois do programa.\n",
    "    - H₁ (Hipótese Alternativa): Há diferença significativa nas notas de fluência antes e depois do programa."
   ]
  },
  {
   "cell_type": "code",
   "execution_count": 27,
   "id": "95a2bdee-590f-4f29-8f33-67facdd70bef",
   "metadata": {
    "tags": []
   },
   "outputs": [
    {
     "name": "stdout",
     "output_type": "stream",
     "text": [
      "Estatística de teste: -9.797958971132712\n",
      "p-valor: 4.239738886259835e-06\n",
      "Rejeitamos H0. Há evidências de melhora significativa.\n"
     ]
    }
   ],
   "source": [
    "import numpy as np\n",
    "from scipy.stats import ttest_rel\n",
    "\n",
    "# Notas de fluência oral (antes e depois)\n",
    "antes = np.array([60, 62, 58, 55, 65, 59, 61, 63, 64, 58])\n",
    "depois = np.array([65, 66, 60, 57, 68, 63, 64, 66, 68, 60])\n",
    "\n",
    "estatistica, p_valor = ttest_rel(antes, depois)\n",
    "\n",
    "print(\"Estatística de teste:\", estatistica)\n",
    "print(\"p-valor:\", p_valor)\n",
    "\n",
    "alpha = 0.05\n",
    "if p_valor < alpha:\n",
    "    print(\"Rejeitamos H0. Há evidências de melhora significativa.\")\n",
    "else:\n",
    "    print(\"Não rejeitamos H0. Não há evidências de melhora significativa.\")"
   ]
  },
  {
   "cell_type": "markdown",
   "id": "5774139c-a062-4342-a0c9-4643b2d41d54",
   "metadata": {},
   "source": [
    "#### **Perguntas:**\n",
    "\n",
    "1. Por que esse tipo de teste requer dados emparelhados (mesmos alunos “antes” e “depois”)?\n",
    "    - Gabarito: Para que cada aluno sirva como seu próprio controle, reduzindo a variabilidade individual e focando no efeito da intervenção.\n",
    "\n",
    "<br>\n",
    "\n",
    "2. Se o teste mostrar melhora significativa, quais próximas medidas a professora pode adotar?\n",
    "    - Gabarito: Ampliar o programa, adicionar mais atividades orais e estimular a criação de grupos de estudo ou participação em eventos de conversação.\n",
    "\n",
    "<br>\n",
    "\n",
    "---"
   ]
  },
  {
   "cell_type": "markdown",
   "id": "c80f711f-bdb4-4077-8437-e8567581471d",
   "metadata": {},
   "source": [
    "#### **Exemplo 3: Teste de Independência (Qui-Quadrado)**\n",
    "\n",
    "O grêmio de estudantes realizou uma pesquisa entre os colegas para descobrir se há relação entre o período de estudo (matutino, vespertino ou noturno) e a preferência por atividades extracurriculares (esportes, música, artes visuais, teatro, entre outras). Muitos alunos acreditam que quem estuda de manhã estaria mais propenso a praticar esportes no contraturno, pois têm a tarde livre. Já os que estudam à noite teriam mais afinidade com atividades como música e teatro, podendo ensaiar pela manhã ou tarde. Para esclarecer essas suposições, o grêmio coletou dados sobre a série/turno de cada estudante e qual atividade extracurricular ele mais aprecia.\n",
    "\n",
    "Ao organizar esses dados em uma tabela de contingência, surgiu a curiosidade de verificar se a preferência por tais atividades realmente depende do período em que o aluno estuda. Se a análise apontar uma associação, o grêmio pode sugerir horários alternativos para cada tipo de atividade, de modo a aumentar a participação. Se, porém, não houver associação, as atividades podem ser planejadas de forma mais flexível e geral, sem a necessidade de segmentar horários conforme o período dos alunos.\n",
    "\n",
    "Hipóteses\n",
    "\n",
    "    - H₀ (Hipótese Nula): A preferência por atividades extracurriculares é independente do período em que o aluno estuda.\n",
    "    - H₁ (Hipótese Alternativa): A preferência por atividades extracurriculares depende do período em que o aluno estuda."
   ]
  },
  {
   "cell_type": "code",
   "execution_count": 31,
   "id": "0e34383f-e8ed-4efe-921c-2ffb3507361a",
   "metadata": {
    "tags": []
   },
   "outputs": [
    {
     "name": "stdout",
     "output_type": "stream",
     "text": [
      "Estatística Qui-Quadrado: 6.57849167281771\n",
      "p-valor: 0.36159078624944074\n",
      "Graus de Liberdade: 6\n",
      "Frequências Esperadas:\n",
      " [[ 8.96  9.92  6.72  6.4 ]\n",
      " [ 9.8  10.85  7.35  7.  ]\n",
      " [ 9.24 10.23  6.93  6.6 ]]\n",
      "Não rejeitamos H0. Não há evidências de associação entre o período de estudo e a preferência.\n"
     ]
    }
   ],
   "source": [
    "import numpy as np\n",
    "from scipy.stats import chi2_contingency\n",
    "\n",
    "# Tabela de contingência (linhas: período; colunas: atividade)\n",
    "tabela = np.array([\n",
    "    [12,  8,  5,  7],  # Manhã\n",
    "    [10, 14,  6,  5],  # Tarde\n",
    "    [ 6,  9, 10,  8]   # Noite\n",
    "])\n",
    "\n",
    "chi2, p_valor, dof, freq_esperada = chi2_contingency(tabela)\n",
    "\n",
    "print(\"Estatística Qui-Quadrado:\", chi2)\n",
    "print(\"p-valor:\", p_valor)\n",
    "print(\"Graus de Liberdade:\", dof)\n",
    "print(\"Frequências Esperadas:\\n\", freq_esperada)\n",
    "\n",
    "alpha = 0.05\n",
    "if p_valor < alpha:\n",
    "    print(\"Rejeitamos H0. Há evidências de que a preferência depende do período de estudo.\")\n",
    "else:\n",
    "    print(\"Não rejeitamos H0. Não há evidências de associação entre o período de estudo e a preferência.\")"
   ]
  },
  {
   "cell_type": "markdown",
   "id": "43badc58-5042-463d-8a66-14c49ecbca19",
   "metadata": {},
   "source": [
    "#### **Perguntas:**\n",
    "\n",
    "1. Por que é importante comparar as frequências observadas com as frequências esperadas nesse teste?\n",
    "    - Gabarito: Para verificar se a distribuição observada difere significativamente daquela que seria esperada caso não houvesse associação entre as variáveis.\n",
    "\n",
    "<br>\n",
    "\n",
    "2. Como o resultado do teste pode impactar a organização das atividades na escola?\n",
    "    - Gabarito: Se houver associação, o grêmio pode ajustar horários e ofertas conforme o período. Se não houver, é possível planejar atividades sem separar muito os alunos por turno.\n",
    "\n",
    "<br>\n",
    "\n",
    "---"
   ]
  },
  {
   "cell_type": "markdown",
   "id": "bc4f02cf-bf0a-494a-a3b4-a52546c2dee2",
   "metadata": {},
   "source": [
    "#### **Exemplo 4: Teste Não Paramétrico (Mann-Whitney)**\n",
    "\n",
    "Para incentivar hábitos mais saudáveis, um professor de Educação Física organizou dois programas distintos: um focado em treinos de força (exercícios de musculação e resistência), e outro em treinos de condicionamento aeróbico (corrida, ciclismo e outras atividades cardiorrespiratórias). Os alunos puderam escolher em qual programa se inscreveriam, resultando em dois grupos distintos. Depois de um mês de atividades, cada aluno passou por um teste de aptidão física que envolvia salto em distância, flexões e abdominais em um tempo cronometrado.\n",
    "\n",
    "No entanto, o professor notou que as notas variavam muito. Alguns alunos do grupo de força já treinavam fora da escola e tinham experiência em musculação. Outros, do grupo aeróbico, eram novatos, com pouca prática de exercícios intensos. Diante disso, ele desconfiou que a suposição de normalidade nos dados não seria válida. Para evitar conclusões equivocadas, o professor decidiu aplicar um teste não paramétrico para verificar se os desempenhos médios desses dois grupos são significativamente diferentes. Caso exista diferença, a escola poderá manter programas separados, cada qual maximizando resultados específicos. Se não, podem mesclar as turmas ou buscar outro método de treino conjunto que atenda melhor a todos os alunos.\n",
    "\n",
    "Hipóteses\n",
    "\n",
    "    - H₀ (Hipótese Nula): Não há diferença significativa no desempenho entre o grupo de força e o grupo aeróbico.\n",
    "    - H₁ (Hipótese Alternativa): Há diferença significativa no desempenho entre o grupo de força e o grupo aeróbico."
   ]
  },
  {
   "cell_type": "code",
   "execution_count": 36,
   "id": "786efed5-4fe1-4ec7-b1b0-f8c564e40965",
   "metadata": {
    "tags": []
   },
   "outputs": [
    {
     "name": "stdout",
     "output_type": "stream",
     "text": [
      "Estatística de teste: 50.5\n",
      "p-valor: 0.0581504645828711\n",
      "Não rejeitamos H0. Não há evidências de diferença significativa.\n"
     ]
    }
   ],
   "source": [
    "import numpy as np\n",
    "from scipy.stats import mannwhitneyu\n",
    "\n",
    "# Dados simulados de desempenho\n",
    "grupo_forca = np.array([65, 70, 75, 80, 85, 90, 68, 72])\n",
    "grupo_aerobico = np.array([60, 62, 65, 70, 75, 78, 64, 66])\n",
    "\n",
    "estatistica, p_valor = mannwhitneyu(grupo_forca, grupo_aerobico, alternative='two-sided')\n",
    "\n",
    "print(\"Estatística de teste:\", estatistica)\n",
    "print(\"p-valor:\", p_valor)\n",
    "\n",
    "alpha = 0.05\n",
    "if p_valor < alpha:\n",
    "    print(\"Rejeitamos H0. Há diferença significativa entre os grupos.\")\n",
    "else:\n",
    "    print(\"Não rejeitamos H0. Não há evidências de diferença significativa.\")"
   ]
  },
  {
   "cell_type": "markdown",
   "id": "d211cac7-35d6-464f-8caf-990de107aa80",
   "metadata": {},
   "source": [
    "#### **Perguntas:**\n",
    "\n",
    "1. Em que situação é preferível usar o teste Mann-Whitney em vez de um teste t?\n",
    "    - Gabarito: Quando não se pode assumir a normalidade dos dados ou há outliers que podem distorcer a média. O teste Mann-Whitney é robusto a distribuições não normais.\n",
    "\n",
    "<br>\n",
    "\n",
    "2. Como o professor pode usar as conclusões deste teste no planejamento das próximas atividades?\n",
    "    - Gabarito: Se houver diferença, pode manter treinos específicos para cada grupo. Se não houver, pode integrar os grupos ou testar estratégias mistas de força e aeróbico.\n",
    "\n",
    "<br>\n",
    "\n",
    "---"
   ]
  },
  {
   "cell_type": "markdown",
   "id": "b7696f8f-8652-478a-a445-7f844d1e1e9a",
   "metadata": {
    "jp-MarkdownHeadingCollapsed": true,
    "tags": []
   },
   "source": [
    "### Aula 3"
   ]
  },
  {
   "cell_type": "markdown",
   "id": "ea80e457-904c-4f51-a6d8-4f8df23e86fd",
   "metadata": {},
   "source": [
    "#### **Problema 1:**\n",
    "\n",
    "Imagine que a comissão de formatura do Ensino Médio está preocupada com o tempo que os alunos passam em redes sociais ao longo do dia. Eles temem que o uso excessivo do celular e de plataformas como Instagram e TikTok possa prejudicar o andamento das atividades de organização da festa e das aulas em geral. Para tentar mudar esse cenário, decidiram propor um “Desafio Digital”: durante duas semanas, os voluntários do projeto deveriam limitar o uso de redes sociais a no máximo 1 hora por dia. Ao final desse período, todos os participantes preencheram um questionário indicando o tempo médio diário que passaram nas redes sociais antes do desafio e o tempo médio após.\n",
    "\n",
    "O objetivo é verificar se, de fato, houve uma redução significativa no uso diário. Se a iniciativa se mostrar eficiente, a comissão pretende expandi-la para todas as turmas, promovendo orientações sobre como administrar melhor o tempo e evitar distrações durante os estudos. Caso os resultados não sejam convincentes, pretendem buscar outras estratégias, como palestras sobre saúde digital ou acompanhamento mais próximo de pais e professores na rotina de cada aluno. Agora, peça aos alunos que formulem a hipótese nula (H₀) e a hipótese alternativa (H₁) para esse cenário, considerando que estamos comparando duas medições da mesma pessoa (antes e depois).\n",
    "\n",
    "Peça aos alunos: Formulem H₀ e H₁.\n",
    "\n",
    "**Gabarito das Hipóteses para o Professor**\n",
    "\n",
    "    - H₀ (Hipótese Nula): Não há diferença significativa entre o tempo médio diário de uso de redes sociais antes e depois do desafio (ou seja, o uso diário não se reduz).\n",
    "    - H₁ (Hipótese Alternativa): Existe diferença significativa, com foco na redução do tempo médio diário após o desafio (o uso diário diminui)."
   ]
  },
  {
   "cell_type": "code",
   "execution_count": 40,
   "id": "f01c6bef-281e-49c3-be28-ca2c11995da7",
   "metadata": {
    "tags": []
   },
   "outputs": [
    {
     "name": "stdout",
     "output_type": "stream",
     "text": [
      "Estatística de teste: 12.658374688749166\n",
      "p-valor: 4.879135686211745e-07\n",
      "Rejeitamos H0. Há evidências de redução significativa no tempo de uso.\n"
     ]
    }
   ],
   "source": [
    "import numpy as np\n",
    "from scipy.stats import ttest_rel\n",
    "\n",
    "# Dados simulados (tempo de uso de redes sociais, em horas/dia)\n",
    "antes = np.array([2.0, 1.8, 2.5, 2.2, 3.0, 2.7, 1.9, 2.1, 2.4, 2.6])\n",
    "depois = np.array([1.2, 1.0, 1.7, 1.8, 2.5, 2.0, 1.4, 1.5, 1.9, 2.1])\n",
    "\n",
    "estatistica, p_valor = ttest_rel(antes, depois)\n",
    "\n",
    "print(\"Estatística de teste:\", estatistica)\n",
    "print(\"p-valor:\", p_valor)\n",
    "\n",
    "alpha = 0.05\n",
    "if p_valor < alpha:\n",
    "    print(\"Rejeitamos H0. Há evidências de redução significativa no tempo de uso.\")\n",
    "else:\n",
    "    print(\"Não rejeitamos H0. Não há evidências de redução significativa.\")"
   ]
  },
  {
   "cell_type": "markdown",
   "id": "4e574458-932e-4d23-a33e-4574259d8afe",
   "metadata": {},
   "source": [
    "#### **Perguntas:**\n",
    "\n",
    "\n",
    "1.  Por que usar um teste pareado neste caso?\n",
    "    - Gabarito: Porque comparamos duas medições da mesma pessoa (antes e depois), reduzindo a variabilidade individual e focando na mudança ocorrida.\n",
    "\n",
    "<br>\n",
    "\n",
    "2. O que significa não rejeitar H₀ neste contexto?\n",
    "    - Gabarito: Significa que não encontramos evidências estatísticas suficientes para afirmar que houve redução significativa no tempo de uso de redes sociais entre antes e depois do desafio.\n",
    "\n",
    "<br>\n",
    "\n",
    "3. Como a comissão de formatura poderia agir se o p-valor for muito baixo?\n",
    "    - Gabarito: Poderia concluir que o desafio funcionou, expandindo a iniciativa para mais turmas e investindo em estratégias semelhantes de conscientização digital.\n",
    "    \n",
    "<br>\n",
    "\n",
    "---\n"
   ]
  },
  {
   "cell_type": "markdown",
   "id": "13ff5a8e-fa12-4554-9d97-4fa45610b407",
   "metadata": {
    "tags": []
   },
   "source": [
    "#### **Problema 2:**\n",
    "\n",
    "Um professor de Química resolveu criar um projeto de incentivo à leitura de artigos científicos entre os alunos do Ensino Médio. Ele acredita que quem lê regularmente tais artigos, mesmo que sejam textos introdutórios, pode desenvolver uma visão mais ampla das aplicações práticas da Química e, assim, melhorar o desempenho em provas experimentais. Para testar essa hipótese, ele acompanhou duas turmas durante um bimestre: na Turma A, os alunos recebiam quinzenalmente artigos curtos e, em sala de aula, havia debates sobre os temas apresentados; na Turma B, a abordagem seguiu o padrão tradicional, com foco em livros didáticos e resolução de exercícios.\n",
    "\n",
    "No final do bimestre, o professor aplicou uma prova experimental de laboratório, na qual avaliou a capacidade dos alunos de relacionar teorias químicas aos experimentos práticos. Ele, então, comparou as notas médias das duas turmas para verificar se a introdução à literatura científica teve algum impacto. Se a Turma A apresentar resultados significativamente superiores, o professor pretende estender a prática de leitura de artigos científicos para todas as demais turmas da escola. Caso contrário, planeja investigar outros métodos que poderiam despertar o interesse dos alunos e aproximar a teoria da realidade da prática laboratorial.\n",
    "\n",
    "Peça aos alunos: Formulem H₀ e H₁.\n",
    "\n",
    "**Gabarito das Hipóteses para o Professor**\n",
    "\n",
    "    - H₀ (Hipótese Nula): As médias de notas da prova experimental são iguais nas duas turmas (ou seja, a leitura de artigos não faz diferença).\n",
    "    - H₁ (Hipótese Alternativa): A média de notas da Turma A difere significativamente (provavelmente maior) do que a da Turma B, indicando impacto positivo da leitura de artigos.\n"
   ]
  },
  {
   "cell_type": "code",
   "execution_count": 44,
   "id": "9457bd7d-9126-4305-94a3-59c03d18025a",
   "metadata": {
    "tags": []
   },
   "outputs": [
    {
     "name": "stdout",
     "output_type": "stream",
     "text": [
      "Estatística de teste: 4.312839952008031\n",
      "p-valor: 0.0015773929735001455\n",
      "Rejeitamos H0. As notas da Turma A diferem significativamente das da Turma B.\n"
     ]
    }
   ],
   "source": [
    "import numpy as np\n",
    "from scipy.stats import ttest_ind\n",
    "\n",
    "# Notas simuladas (0 a 10)\n",
    "turmaA = np.array([8.5, 7.0, 8.0, 7.5, 9.0, 8.2, 7.8, 8.5])\n",
    "turmaB = np.array([6.5, 7.0, 6.8, 7.2, 7.5, 6.9, 7.1, 7.0])\n",
    "\n",
    "estatistica, p_valor = ttest_ind(turmaA, turmaB, equal_var=False)\n",
    "\n",
    "print(\"Estatística de teste:\", estatistica)\n",
    "print(\"p-valor:\", p_valor)\n",
    "\n",
    "alpha = 0.05\n",
    "if p_valor < alpha:\n",
    "    print(\"Rejeitamos H0. As notas da Turma A diferem significativamente das da Turma B.\")\n",
    "else:\n",
    "    print(\"Não rejeitamos H0. Não há evidência de diferença significativa.\")"
   ]
  },
  {
   "cell_type": "markdown",
   "id": "0c2b3a63-c0a2-4347-82fc-ceb73d32f8cb",
   "metadata": {
    "tags": []
   },
   "source": [
    "#### **Perguntas:**\n",
    "\n",
    "1. Por que pode ser vantajoso comparar duas turmas diferentes em vez de analisar a mesma turma “antes e depois”?\n",
    "    - Gabarito: Porque essa abordagem permite medir o efeito de um método específico (leitura de artigos) aplicado a um grupo em comparação com outro que não teve essa intervenção, isolando melhor a variável de interesse.\n",
    "\n",
    "<br>\n",
    "\n",
    "2. O que significa assumir `equal_var=False` no teste t?\n",
    "    - Gabarito: Significa que não estamos assumindo variâncias iguais nas duas amostras, o que torna o teste mais robusto quando não se pode garantir homogeneidade das variâncias.\n",
    "\n",
    "<br>\n",
    "\n",
    "3. Como o professor pode usar esses resultados para decidir se deve continuar com a prática de leitura de artigos?\n",
    "    - Gabarito: Se houver diferença significativa a favor da Turma A, indica que a estratégia é eficaz. Se não, poderá revisar a metodologia ou buscar outras práticas pedagógicas para melhorar o desempenho experimental dos alunos.\n",
    "    \n",
    "<br>\n",
    "\n",
    "---"
   ]
  },
  {
   "cell_type": "code",
   "execution_count": null,
   "id": "1af2993f-77be-4578-9580-b4b37f514055",
   "metadata": {},
   "outputs": [],
   "source": []
  }
 ],
 "metadata": {
  "kernelspec": {
   "display_name": "Python 3 (ipykernel)",
   "language": "python",
   "name": "python3"
  },
  "language_info": {
   "codemirror_mode": {
    "name": "ipython",
    "version": 3
   },
   "file_extension": ".py",
   "mimetype": "text/x-python",
   "name": "python",
   "nbconvert_exporter": "python",
   "pygments_lexer": "ipython3",
   "version": "3.11.7"
  }
 },
 "nbformat": 4,
 "nbformat_minor": 5
}
