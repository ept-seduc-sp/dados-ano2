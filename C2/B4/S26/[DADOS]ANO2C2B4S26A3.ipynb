{
 "cells": [
  {
   "cell_type": "markdown",
   "id": "9be31bca",
   "metadata": {},
   "source": [
    "\n",
    "<h1 style=\"text-align: center;\">CIÊNCIA DE DADOS</h1>\n",
    "<h1 style=\"text-align: center;\">Roteiro de Atividade Prática</h1>\n",
    "<br>\n",
    "<br>\n",
    "\n",
    "Nome: ______________________________________________________________________________________      \n",
    "\n",
    "Turma: ______________\n",
    "\n",
    "\n",
    "**Componente:** Matemática e Estatística para Ciência de Dados \n",
    "<br>\n",
    "**Unidade Curricular:** Estatística Aplicada\n",
    "<br>\n",
    "**Tema da Semana:** Inferência Estatística: Testes de hipóteses parte II\n",
    "<br>\n",
    "\n"
   ]
  },
  {
   "cell_type": "markdown",
   "id": "f2f91e0e",
   "metadata": {},
   "source": [
    "# Aula 3"
   ]
  },
  {
   "cell_type": "markdown",
   "id": "0ddfd64c",
   "metadata": {},
   "source": [
    "## Tarefa\n",
    "- Execute o código abaixo.\n",
    "\n",
    "- Se as bibliotecas não tiverem instaladas, instale-as.\n",
    "\n",
    "- Acompanhe as instruções.\n",
    "\n",
    "- Preencha o código onde está #TO DO\n",
    "\n",
    "- Responda as perguntas e conclua a atividade\n"
   ]
  },
  {
   "cell_type": "markdown",
   "id": "d066cc5a-43b3-4bc0-88d7-e70b8135a871",
   "metadata": {},
   "source": [
    "#### **Problema 1:**\n",
    "\n",
    "Imagine que a comissão de formatura do Ensino Médio está preocupada com o tempo que os alunos passam em redes sociais ao longo do dia. Eles temem que o uso excessivo do celular e de plataformas como Instagram e TikTok possa prejudicar o andamento das atividades de organização da festa e das aulas em geral. Para tentar mudar esse cenário, decidiram propor um “Desafio Digital”: durante duas semanas, os voluntários do projeto deveriam limitar o uso de redes sociais a no máximo 1 hora por dia. Ao final desse período, todos os participantes preencheram um questionário indicando o tempo médio diário que passaram nas redes sociais antes do desafio e o tempo médio após.\n",
    "\n",
    "O objetivo é verificar se, de fato, houve uma redução significativa no uso diário. Se a iniciativa se mostrar eficiente, a comissão pretende expandi-la para todas as turmas, promovendo orientações sobre como administrar melhor o tempo e evitar distrações durante os estudos. Caso os resultados não sejam convincentes, pretendem buscar outras estratégias, como palestras sobre saúde digital ou acompanhamento mais próximo de pais e professores na rotina de cada aluno. Agora, peça aos alunos que formulem a hipótese nula (H₀) e a hipótese alternativa (H₁) para esse cenário, considerando que estamos comparando duas medições da mesma pessoa (antes e depois).\n",
    "\n",
    "Formule as hipóteses e resolva o problema."
   ]
  },
  {
   "cell_type": "code",
   "execution_count": 11,
   "id": "2f73d13a-2689-4441-aa70-aedca2c04d7c",
   "metadata": {
    "tags": []
   },
   "outputs": [],
   "source": [
    "import numpy as np\n",
    "from scipy.stats import ttest_rel\n",
    "\n",
    "# Dados simulados (tempo de uso de redes sociais, em horas/dia)\n",
    "antes = np.array([2.0, 1.8, 2.5, 2.2, 3.0, 2.7, 1.9, 2.1, 2.4, 2.6])\n",
    "depois = np.array([1.2, 1.0, 1.7, 1.8, 2.5, 2.0, 1.4, 1.5, 1.9, 2.1])\n",
    "\n",
    "# To do"
   ]
  },
  {
   "cell_type": "markdown",
   "id": "262d4fa5-40d7-4e43-8c46-a41808d2db75",
   "metadata": {},
   "source": [
    "#### **Perguntas:**\n",
    "\n",
    "\n",
    "1.  Por que usar um teste pareado neste caso?\n",
    "\n",
    "<br>\n",
    "\n",
    "2. O que significa não rejeitar H₀ neste contexto?\n",
    "\n",
    "\n",
    "<br>\n",
    "\n",
    "3. Como a comissão de formatura poderia agir se o p-valor for muito baixo?\n",
    "    \n",
    "<br>\n",
    "\n",
    "---\n"
   ]
  },
  {
   "cell_type": "markdown",
   "id": "e8e363cd-a1c3-4bea-9969-336117a0ee63",
   "metadata": {
    "tags": []
   },
   "source": [
    "#### **Problema 2:**\n",
    "\n",
    "Um professor de Química resolveu criar um projeto de incentivo à leitura de artigos científicos entre os alunos do Ensino Médio. Ele acredita que quem lê regularmente tais artigos, mesmo que sejam textos introdutórios, pode desenvolver uma visão mais ampla das aplicações práticas da Química e, assim, melhorar o desempenho em provas experimentais. Para testar essa hipótese, ele acompanhou duas turmas durante um bimestre: na Turma A, os alunos recebiam quinzenalmente artigos curtos e, em sala de aula, havia debates sobre os temas apresentados; na Turma B, a abordagem seguiu o padrão tradicional, com foco em livros didáticos e resolução de exercícios.\n",
    "\n",
    "No final do bimestre, o professor aplicou uma prova experimental de laboratório, na qual avaliou a capacidade dos alunos de relacionar teorias químicas aos experimentos práticos. Ele, então, comparou as notas médias das duas turmas para verificar se a introdução à literatura científica teve algum impacto. Se a Turma A apresentar resultados significativamente superiores, o professor pretende estender a prática de leitura de artigos científicos para todas as demais turmas da escola. Caso contrário, planeja investigar outros métodos que poderiam despertar o interesse dos alunos e aproximar a teoria da realidade da prática laboratorial.\n",
    "\n",
    "Formule as hipóses e resolva o problema"
   ]
  },
  {
   "cell_type": "code",
   "execution_count": 8,
   "id": "7f6d7649-f823-4478-bfc4-06351d737bb3",
   "metadata": {
    "tags": []
   },
   "outputs": [],
   "source": [
    "import numpy as np\n",
    "from scipy.stats import ttest_ind\n",
    "\n",
    "# Notas simuladas (0 a 10)\n",
    "turmaA = np.array([8.5, 7.0, 8.0, 7.5, 9.0, 8.2, 7.8, 8.5])\n",
    "turmaB = np.array([6.5, 7.0, 6.8, 7.2, 7.5, 6.9, 7.1, 7.0])\n",
    "\n",
    "# To do"
   ]
  },
  {
   "cell_type": "markdown",
   "id": "183df3dd-515d-405c-84d1-a09ff8feefaf",
   "metadata": {
    "tags": []
   },
   "source": [
    "#### **Perguntas:**\n",
    "\n",
    "1. Por que pode ser vantajoso comparar duas turmas diferentes em vez de analisar a mesma turma “antes e depois”?\n",
    "\n",
    "<br>\n",
    "\n",
    "2. O que significa assumir `equal_var=False` no teste t?\n",
    "\n",
    "<br>\n",
    "\n",
    "3. Como o professor pode usar esses resultados para decidir se deve continuar com a prática de leitura de artigos?\n",
    "\n",
    "    \n",
    "<br>\n",
    "\n",
    "---"
   ]
  },
  {
   "cell_type": "code",
   "execution_count": null,
   "id": "d4ba0c74-3a08-4a6c-9435-3f2118b97608",
   "metadata": {},
   "outputs": [],
   "source": []
  }
 ],
 "metadata": {
  "kernelspec": {
   "display_name": "Python 3 (ipykernel)",
   "language": "python",
   "name": "python3"
  },
  "language_info": {
   "codemirror_mode": {
    "name": "ipython",
    "version": 3
   },
   "file_extension": ".py",
   "mimetype": "text/x-python",
   "name": "python",
   "nbconvert_exporter": "python",
   "pygments_lexer": "ipython3",
   "version": "3.11.7"
  }
 },
 "nbformat": 4,
 "nbformat_minor": 5
}
