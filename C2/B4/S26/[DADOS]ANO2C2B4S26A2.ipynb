{
 "cells": [
  {
   "cell_type": "markdown",
   "id": "afc3a56b",
   "metadata": {},
   "source": [
    "\n",
    "<h1 style=\"text-align: center;\">CIÊNCIA DE DADOS</h1>\n",
    "<h1 style=\"text-align: center;\">Roteiro de Atividade Prática</h1>\n",
    "<br>\n",
    "<br>\n",
    "\n",
    "Nome: ______________________________________________________________________________________      \n",
    "\n",
    "Turma: ______________\n",
    "\n",
    "\n",
    "**Componente:** Matemática e Estatística para Ciência de Dados \n",
    "<br>\n",
    "**Unidade Curricular:** Estatística Aplicada\n",
    "<br>\n",
    "**Tema da Semana:** Inferência Estatística: Testes de hipóteses parte II\n",
    "<br>\n"
   ]
  },
  {
   "cell_type": "markdown",
   "id": "832ab5d4",
   "metadata": {},
   "source": [
    "# Aula 2"
   ]
  },
  {
   "cell_type": "markdown",
   "id": "28f2c8c2",
   "metadata": {},
   "source": [
    "## Tarefa\n",
    "- Execute o código abaixo.\n",
    "\n",
    "- Se as bibliotecas não tiverem instaladas, instale-as.\n",
    "\n",
    "- Acompanhe as instruções.\n",
    "\n",
    "- Preencha o código onde está #TO DO\n",
    "\n",
    "- Responda as perguntas e conclua a atividade\n"
   ]
  },
  {
   "cell_type": "markdown",
   "id": "cbe02f70-ed6f-4d6f-9e1f-45d8580a90da",
   "metadata": {},
   "source": [
    "#### **Exercício 1: Teste de Proporção (Unilateral)**\n",
    "\n",
    "Um grupo de alunos decidiu conduzir uma pesquisa sobre o uso de aplicativos de estudo no celular. A equipe suspeita que mais da metade dos estudantes utiliza pelo menos um aplicativo (como plataformas de flashcards, simuladores de prova ou cursos online) para se preparar para as avaliações. O interesse nesse dado surgiu de conversas informais, em que muitos afirmavam que esses aplicativos ajudam a otimizar o tempo de estudo e a tornar o aprendizado mais dinâmico. No entanto, outro grupo de alunos argumenta que a maioria prefere métodos tradicionais como livros e cadernos.\n",
    "\n",
    "Para esclarecer a questão, o grêmio estudantil elaborou uma enquete simples. Eles perguntaram a cada aluno do Ensino Médio se “usa ou não usa regularmente” algum aplicativo de estudo no celular. Após coletar as respostas, perceberam que uma quantidade aparentemente grande de alunos respondeu “sim”. Então, decidiram verificar se essa proporção é realmente maior do que 50%. Se a hipótese for confirmada, o grêmio planeja propor um projeto de integração desses aplicativos à rotina da escola, pedindo auxílio dos professores para recomendar ou criar conteúdos específicos. Caso contrário, preferem investir em outras iniciativas de incentivo ao estudo, acreditando que a adesão aos apps não seja tão expressiva quanto se imagina.\n",
    "\n",
    "Hipóteses\n",
    "\n",
    "    - H₀ (Hipótese Nula): A proporção de usuários de aplicativos de estudo é menor ou igual a 50% (p ≤ 0,50).\n",
    "    - H₁ (Hipótese Alternativa): A proporção de usuários de aplicativos de estudo é maior que 50% (p > 0,50)."
   ]
  },
  {
   "cell_type": "code",
   "execution_count": 23,
   "id": "bbe4ee32-6420-49bc-b83b-b499663b637f",
   "metadata": {
    "tags": []
   },
   "outputs": [
    {
     "name": "stdout",
     "output_type": "stream",
     "text": [
      "Estatística de teste: 1.2087344460380713\n",
      "p-valor: 0.11338244176241857\n",
      "Não rejeitamos H0. Não há evidências de que a proporção seja maior que 50%.\n"
     ]
    }
   ],
   "source": [
    "import numpy as np\n",
    "from statsmodels.stats.proportion import proportions_ztest\n",
    "\n",
    "# Exemplo de valores\n",
    "contagem_usuarios = 56  # Alunos que usam aplicativos\n",
    "total_alunos = 100\n",
    "prop_esperada = 0.50\n",
    "\n",
    "estatistica, p_valor = proportions_ztest(count=contagem_usuarios,\n",
    "                                         nobs=total_alunos,\n",
    "                                         value=prop_esperada,\n",
    "                                         alternative='larger')\n",
    "\n",
    "print(\"Estatística de teste:\", estatistica)\n",
    "print(\"p-valor:\", p_valor)\n",
    "\n",
    "alpha = 0.05\n",
    "if p_valor < alpha:\n",
    "    print(\"Rejeitamos H0. Proporção maior que 50%.\")\n",
    "else:\n",
    "    print(\"Não rejeitamos H0. Não há evidências de que a proporção seja maior que 50%.\")\n"
   ]
  },
  {
   "cell_type": "markdown",
   "id": "485dfe11-e6ae-4694-80ac-8ae64da6356c",
   "metadata": {},
   "source": [
    "#### **Perguntas: (responda com seu professor)**\n",
    "\n",
    "1. Por que um teste de proporção unilateral se adequa bem a esta situação?\n",
    "\n",
    "\n",
    "<br>\n",
    "\n",
    "2. O que significaria se o p-valor fosse alto nesse teste?\n",
    "\n",
    "    \n",
    "<br>\n",
    "\n",
    "---"
   ]
  },
  {
   "cell_type": "markdown",
   "id": "783c3313-3bda-4b8f-80b6-39a4878ff11d",
   "metadata": {},
   "source": [
    "#### **Exemplo 2: Teste Pareado (Antes e Depois)**\n",
    "\n",
    "Para melhorar a fluência em Inglês dos estudantes, a professora de Línguas propôs um programa de conversação semanal que duraria um mês. Nesse programa, cada aluno participaria de atividades orais, jogos interativos e discussões sobre temas atuais totalmente em Inglês, com foco na pronúncia, compreensão auditiva e na ampliação de vocabulário. Antes de iniciar o programa, a professora aplicou um teste de fluência oral que avaliava itens como pronúncia, variedade de vocabulário e estrutura das frases.\n",
    "\n",
    "Passadas quatro semanas, durante as quais os alunos tiveram atividades de conversação todas as sextas-feiras, a professora reaplicou o mesmo teste de fluência. A expectativa é que a exposição constante ao idioma e a prática intensiva em um ambiente mais descontraído ajudem a reduzir a ansiedade e melhorem o desempenho geral dos alunos. Caso se constate uma diferença significativa, a escola pode tornar o programa parte oficial do currículo de Línguas, incentivando até mesmo a criação de grupos de estudo em horários alternativos. Se, por outro lado, os resultados não forem convincentes, a professora pretende buscar outras estratégias e metodologias que auxiliem na aquisição de fluência.\n",
    "\n",
    "Hipóteses\n",
    "\n",
    "    - H₀ (Hipótese Nula): Não há diferença significativa nas notas de fluência antes e depois do programa.\n",
    "    - H₁ (Hipótese Alternativa): Há diferença significativa nas notas de fluência antes e depois do programa."
   ]
  },
  {
   "cell_type": "code",
   "execution_count": 27,
   "id": "7a42e4d8-475c-494e-a613-5ba83133dafc",
   "metadata": {
    "tags": []
   },
   "outputs": [
    {
     "name": "stdout",
     "output_type": "stream",
     "text": [
      "Estatística de teste: -9.797958971132712\n",
      "p-valor: 4.239738886259835e-06\n",
      "Rejeitamos H0. Há evidências de melhora significativa.\n"
     ]
    }
   ],
   "source": [
    "import numpy as np\n",
    "from scipy.stats import ttest_rel\n",
    "\n",
    "# Notas de fluência oral (antes e depois)\n",
    "antes = np.array([60, 62, 58, 55, 65, 59, 61, 63, 64, 58])\n",
    "depois = np.array([65, 66, 60, 57, 68, 63, 64, 66, 68, 60])\n",
    "\n",
    "estatistica, p_valor = ttest_rel(antes, depois)\n",
    "\n",
    "print(\"Estatística de teste:\", estatistica)\n",
    "print(\"p-valor:\", p_valor)\n",
    "\n",
    "alpha = 0.05\n",
    "if p_valor < alpha:\n",
    "    print(\"Rejeitamos H0. Há evidências de melhora significativa.\")\n",
    "else:\n",
    "    print(\"Não rejeitamos H0. Não há evidências de melhora significativa.\")"
   ]
  },
  {
   "cell_type": "markdown",
   "id": "b6137ceb-a8c9-4ac2-afbe-127cbd0afe85",
   "metadata": {},
   "source": [
    "#### **Perguntas: (responda com seu professor)**\n",
    "\n",
    "1. Por que esse tipo de teste requer dados emparelhados (mesmos alunos “antes” e “depois”)?\n",
    "\n",
    "<br>\n",
    "\n",
    "2. Se o teste mostrar melhora significativa, quais próximas medidas a professora pode adotar?\n",
    "\n",
    "<br>\n",
    "\n",
    "---"
   ]
  },
  {
   "cell_type": "markdown",
   "id": "33c14652-903a-45f7-b506-e65037975e03",
   "metadata": {},
   "source": [
    "#### **Exemplo 3: Teste de Independência (Qui-Quadrado)**\n",
    "\n",
    "O grêmio de estudantes realizou uma pesquisa entre os colegas para descobrir se há relação entre o período de estudo (matutino, vespertino ou noturno) e a preferência por atividades extracurriculares (esportes, música, artes visuais, teatro, entre outras). Muitos alunos acreditam que quem estuda de manhã estaria mais propenso a praticar esportes no contraturno, pois têm a tarde livre. Já os que estudam à noite teriam mais afinidade com atividades como música e teatro, podendo ensaiar pela manhã ou tarde. Para esclarecer essas suposições, o grêmio coletou dados sobre a série/turno de cada estudante e qual atividade extracurricular ele mais aprecia.\n",
    "\n",
    "Ao organizar esses dados em uma tabela de contingência, surgiu a curiosidade de verificar se a preferência por tais atividades realmente depende do período em que o aluno estuda. Se a análise apontar uma associação, o grêmio pode sugerir horários alternativos para cada tipo de atividade, de modo a aumentar a participação. Se, porém, não houver associação, as atividades podem ser planejadas de forma mais flexível e geral, sem a necessidade de segmentar horários conforme o período dos alunos.\n",
    "\n",
    "Hipóteses\n",
    "\n",
    "    - H₀ (Hipótese Nula): A preferência por atividades extracurriculares é independente do período em que o aluno estuda.\n",
    "    - H₁ (Hipótese Alternativa): A preferência por atividades extracurriculares depende do período em que o aluno estuda."
   ]
  },
  {
   "cell_type": "code",
   "execution_count": 31,
   "id": "cad91380-d8e8-41c8-9028-4b60a9c54602",
   "metadata": {
    "tags": []
   },
   "outputs": [
    {
     "name": "stdout",
     "output_type": "stream",
     "text": [
      "Estatística Qui-Quadrado: 6.57849167281771\n",
      "p-valor: 0.36159078624944074\n",
      "Graus de Liberdade: 6\n",
      "Frequências Esperadas:\n",
      " [[ 8.96  9.92  6.72  6.4 ]\n",
      " [ 9.8  10.85  7.35  7.  ]\n",
      " [ 9.24 10.23  6.93  6.6 ]]\n",
      "Não rejeitamos H0. Não há evidências de associação entre o período de estudo e a preferência.\n"
     ]
    }
   ],
   "source": [
    "import numpy as np\n",
    "from scipy.stats import chi2_contingency\n",
    "\n",
    "# Tabela de contingência (linhas: período; colunas: atividade)\n",
    "tabela = np.array([\n",
    "    [12,  8,  5,  7],  # Manhã\n",
    "    [10, 14,  6,  5],  # Tarde\n",
    "    [ 6,  9, 10,  8]   # Noite\n",
    "])\n",
    "\n",
    "chi2, p_valor, dof, freq_esperada = chi2_contingency(tabela)\n",
    "\n",
    "print(\"Estatística Qui-Quadrado:\", chi2)\n",
    "print(\"p-valor:\", p_valor)\n",
    "print(\"Graus de Liberdade:\", dof)\n",
    "print(\"Frequências Esperadas:\\n\", freq_esperada)\n",
    "\n",
    "alpha = 0.05\n",
    "if p_valor < alpha:\n",
    "    print(\"Rejeitamos H0. Há evidências de que a preferência depende do período de estudo.\")\n",
    "else:\n",
    "    print(\"Não rejeitamos H0. Não há evidências de associação entre o período de estudo e a preferência.\")"
   ]
  },
  {
   "cell_type": "markdown",
   "id": "98763857-accd-4d15-8d0f-fae62c912d3f",
   "metadata": {},
   "source": [
    "#### **Perguntas: (responda com seu professor)**\n",
    "\n",
    "1. Por que é importante comparar as frequências observadas com as frequências esperadas nesse teste?\n",
    "\n",
    "<br>\n",
    "\n",
    "2. Como o resultado do teste pode impactar a organização das atividades na escola?\n",
    "\n",
    "<br>\n",
    "\n",
    "---"
   ]
  },
  {
   "cell_type": "markdown",
   "id": "129f0c85-730c-4827-8bd7-c35853847155",
   "metadata": {},
   "source": [
    "#### **Exemplo 4: Teste Não Paramétrico (Mann-Whitney)**\n",
    "\n",
    "Para incentivar hábitos mais saudáveis, um professor de Educação Física organizou dois programas distintos: um focado em treinos de força (exercícios de musculação e resistência), e outro em treinos de condicionamento aeróbico (corrida, ciclismo e outras atividades cardiorrespiratórias). Os alunos puderam escolher em qual programa se inscreveriam, resultando em dois grupos distintos. Depois de um mês de atividades, cada aluno passou por um teste de aptidão física que envolvia salto em distância, flexões e abdominais em um tempo cronometrado.\n",
    "\n",
    "No entanto, o professor notou que as notas variavam muito. Alguns alunos do grupo de força já treinavam fora da escola e tinham experiência em musculação. Outros, do grupo aeróbico, eram novatos, com pouca prática de exercícios intensos. Diante disso, ele desconfiou que a suposição de normalidade nos dados não seria válida. Para evitar conclusões equivocadas, o professor decidiu aplicar um teste não paramétrico para verificar se os desempenhos médios desses dois grupos são significativamente diferentes. Caso exista diferença, a escola poderá manter programas separados, cada qual maximizando resultados específicos. Se não, podem mesclar as turmas ou buscar outro método de treino conjunto que atenda melhor a todos os alunos.\n",
    "\n",
    "Hipóteses\n",
    "\n",
    "    - H₀ (Hipótese Nula): Não há diferença significativa no desempenho entre o grupo de força e o grupo aeróbico.\n",
    "    - H₁ (Hipótese Alternativa): Há diferença significativa no desempenho entre o grupo de força e o grupo aeróbico."
   ]
  },
  {
   "cell_type": "code",
   "execution_count": 36,
   "id": "bf89f71d-11d0-44f6-830a-e2c9fa774ddd",
   "metadata": {
    "tags": []
   },
   "outputs": [
    {
     "name": "stdout",
     "output_type": "stream",
     "text": [
      "Estatística de teste: 50.5\n",
      "p-valor: 0.0581504645828711\n",
      "Não rejeitamos H0. Não há evidências de diferença significativa.\n"
     ]
    }
   ],
   "source": [
    "import numpy as np\n",
    "from scipy.stats import mannwhitneyu\n",
    "\n",
    "# Dados simulados de desempenho\n",
    "grupo_forca = np.array([65, 70, 75, 80, 85, 90, 68, 72])\n",
    "grupo_aerobico = np.array([60, 62, 65, 70, 75, 78, 64, 66])\n",
    "\n",
    "estatistica, p_valor = mannwhitneyu(grupo_forca, grupo_aerobico, alternative='two-sided')\n",
    "\n",
    "print(\"Estatística de teste:\", estatistica)\n",
    "print(\"p-valor:\", p_valor)\n",
    "\n",
    "alpha = 0.05\n",
    "if p_valor < alpha:\n",
    "    print(\"Rejeitamos H0. Há diferença significativa entre os grupos.\")\n",
    "else:\n",
    "    print(\"Não rejeitamos H0. Não há evidências de diferença significativa.\")"
   ]
  },
  {
   "cell_type": "markdown",
   "id": "ca8db6b2-480f-402f-a405-4a289c8fb76f",
   "metadata": {},
   "source": [
    "#### **Perguntas: (responda com seu professor)** \n",
    "\n",
    "1. Em que situação é preferível usar o teste Mann-Whitney em vez de um teste t?\n",
    "\n",
    "<br>\n",
    "\n",
    "2. Como o professor pode usar as conclusões deste teste no planejamento das próximas atividades?\n",
    "\n",
    "<br>\n",
    "\n",
    "---"
   ]
  },
  {
   "cell_type": "code",
   "execution_count": null,
   "id": "7b631693-0f03-44f1-b2bc-fa72abcd4fc2",
   "metadata": {},
   "outputs": [],
   "source": []
  }
 ],
 "metadata": {
  "kernelspec": {
   "display_name": "Python 3 (ipykernel)",
   "language": "python",
   "name": "python3"
  },
  "language_info": {
   "codemirror_mode": {
    "name": "ipython",
    "version": 3
   },
   "file_extension": ".py",
   "mimetype": "text/x-python",
   "name": "python",
   "nbconvert_exporter": "python",
   "pygments_lexer": "ipython3",
   "version": "3.11.7"
  }
 },
 "nbformat": 4,
 "nbformat_minor": 5
}
