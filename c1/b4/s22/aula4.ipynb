{
 "cells": [
  {
   "cell_type": "markdown",
   "id": "31b1acb4",
   "metadata": {},
   "source": [
    "\n",
    "<h1 style=\"text-align: center;\">CIÊNCIA DE DADOS</h1>\n",
    "<h1 style=\"text-align: center;\">Roteiro de Atividade Prática</h1>\n",
    "<br>\n",
    "<br>\n",
    "\n",
    "Nome: ______________________________________________________________________________________      \n",
    "![ChessUrl](https://github.com/arquivositinerarios/ano2/blob/main/C3/S15%20-%20A2%20-%20importando%20pasta%20do%20Excel.gif)",
    "\n",
    "Turma: ______________\n",
    "\n",
    "\n",
    "**Componente:** Aprendizagem de Máquina\n",
    "<br>\n",
    "**Unidade Curricular:** Modelos, Algoritmos e Estimadores\n",
    "<br>\n",
    "**Tema da Semana:** Support Vector Machine (SVM) II\n",
    "<br>\n"
   ]
  },
  {
   "cell_type": "markdown",
   "id": "a9d56667",
   "metadata": {},
   "source": [
    "# Aula 2: Regularização no SVM"
   ]
  },
  {
   "cell_type": "markdown",
   "id": "b59de4c2",
   "metadata": {},
   "source": [
    "## Tarefa\n",
    "- Execute o código abaixo.\n",
    "\n",
    "- Se as bibliotecas não tiverem instaladas, instale-as.\n",
    "\n",
    "- Acompanhe as instruções.\n",
    "\n",
    "- Preencha o código onde está #TO DO\n",
    "\n",
    "- Responda as perguntas e conclua a atividade\n"
   ]
  },
  {
   "cell_type": "markdown",
   "id": "15533d31",
   "metadata": {},
   "source": [
    "### Código"
   ]
  },
  {
   "cell_type": "code",
   "execution_count": null,
   "id": "07d41764",
   "metadata": {},
   "outputs": [],
   "source": [
    "import time\n",
    "start_time = time.time()"
   ]
  },
  {
   "cell_type": "markdown",
   "id": "104fdc06",
   "metadata": {},
   "source": [
    "### Importar bibliotecas"
   ]
  },
  {
   "cell_type": "code",
   "execution_count": null,
   "id": "edfd6d37",
   "metadata": {},
   "outputs": [],
   "source": [
    "import numpy as np\n",
    "import pandas as pd\n",
    "from sklearn.model_selection import train_test_split\n",
    "from sklearn.preprocessing import StandardScaler, LabelEncoder\n",
    "from sklearn.svm import SVC\n",
    "from sklearn.metrics import accuracy_score, classification_report, confusion_matrix\n",
    "from sklearn.metrics import accuracy_score, precision_score, recall_score, make_scorer, f1_score\n",
    "from sklearn.metrics import accuracy_score, classification_report, confusion_matrix\n",
    "from sklearn.model_selection import cross_val_score\n",
    "\n",
    "from sklearn.linear_model import SGDClassifier\n",
    "from sklearn.pipeline import make_pipeline\n"
   ]
  },
  {
   "cell_type": "markdown",
   "id": "dd262b1b",
   "metadata": {},
   "source": [
    "### Configurações"
   ]
  },
  {
   "cell_type": "code",
   "execution_count": null,
   "id": "284ae1fc",
   "metadata": {},
   "outputs": [],
   "source": [
    "SEED = 12\n",
    "np.random.seed(SEED)"
   ]
  },
  {
   "cell_type": "markdown",
   "id": "30baba04",
   "metadata": {},
   "source": [
    "### Leitura dos dados"
   ]
  },
  {
   "cell_type": "code",
   "execution_count": null,
   "id": "ba0fdc07",
   "metadata": {},
   "outputs": [],
   "source": [
    "!pip install kagglehub"
   ]
  },
  {
   "cell_type": "code",
   "execution_count": null,
   "id": "b50c5f61",
   "metadata": {},
   "outputs": [],
   "source": [
    "import kagglehub\n",
    "\n",
    "# Download latest version\n",
    "path = kagglehub.dataset_download(\"mlg-ulb/creditcardfraud\")\n",
    "\n",
    "print(\"Path to dataset files:\", path)"
   ]
  },
  {
   "cell_type": "code",
   "execution_count": null,
   "id": "176088c8",
   "metadata": {},
   "outputs": [],
   "source": [
    "csv_path = f\"{path}/creditcard.csv\"\n",
    "data = pd.read_csv(csv_path)"
   ]
  },
  {
   "cell_type": "code",
   "execution_count": null,
   "id": "7893c01e",
   "metadata": {},
   "outputs": [],
   "source": [
    "# Separar features (X) e o alvo (y)\n",
    "X = data.drop(columns=['Class'])  # Todas as colunas, exceto a classe (fraudulenta ou não)\n",
    "y = data['Class']  # Alvo: 1 (fraude), 0 (não fraude)"
   ]
  },
  {
   "cell_type": "markdown",
   "id": "ec931bf9",
   "metadata": {},
   "source": [
    "### Divisão do conjunto de dados em treino e teste"
   ]
  },
  {
   "cell_type": "code",
   "execution_count": null,
   "id": "793a9368",
   "metadata": {},
   "outputs": [],
   "source": [
    "X_train, X_test, y_train, y_test = train_test_split(X, y, test_size=0.2, random_state=SEED)"
   ]
  },
  {
   "cell_type": "code",
   "execution_count": null,
   "id": "bf189861",
   "metadata": {},
   "outputs": [],
   "source": [
    "# Escalar os dados (SVM é sensível à escala)\n",
    "scaler = StandardScaler()\n",
    "X_train = scaler.fit_transform(X_train)\n",
    "X_test = scaler.transform(X_test)"
   ]
  },
  {
   "cell_type": "code",
   "execution_count": null,
   "id": "fac67cf9",
   "metadata": {},
   "outputs": [],
   "source": [
    "# Criar e treinar o modelo SVM\n",
    "\n",
    "\n",
    "model = make_pipeline(\n",
    "    StandardScaler(),  # Normalização\n",
    "    SGDClassifier(loss='hinge',penalty='elasticnet', l1_ratio=0.5, max_iter=1000, class_weight='balanced'))\n",
    "\n",
    "'''model = make_pipeline(\n",
    "    StandardScaler(),  # Normalização\n",
    "    SGDClassifier(loss='hinge',penalty='elasticnet', l1_ratio=0.5, alpha=0.0001, max_iter=1000, tol=1e-3))'''\n",
    "\n",
    "model.fit(X_train, y_train)\n"
   ]
  },
  {
   "cell_type": "code",
   "execution_count": null,
   "id": "8f45c020",
   "metadata": {},
   "outputs": [],
   "source": [
    "# Fazer previsões\n",
    "y_pred = model.predict(X_test)"
   ]
  },
  {
   "cell_type": "markdown",
   "id": "fc02562f",
   "metadata": {},
   "source": [
    "### Definição das métricas precisão, revocação, f1 score e acurácia utilizando classification_report (scikit-learn)"
   ]
  },
  {
   "cell_type": "code",
   "execution_count": null,
   "id": "17272dad",
   "metadata": {},
   "outputs": [],
   "source": [
    "# Avaliar o modelo\n",
    "accuracy = accuracy_score(y_test, y_pred)\n",
    "print(\"Acurácia do modelo SVM:\", accuracy)\n",
    "print(\"\\nRelatório de Classificação:\")\n",
    "print(classification_report(y_test, y_pred))\n",
    "\n",
    "# Matriz de confusão\n",
    "print(\"Matriz de Confusão:\")\n",
    "print(confusion_matrix(y_test, y_pred))"
   ]
  },
  {
   "cell_type": "code",
   "execution_count": null,
   "id": "0e42dd30",
   "metadata": {},
   "outputs": [],
   "source": [
    "# Fim da medição\n",
    "end_time = time.time()\n",
    "execution_time = end_time - start_time\n",
    "\n",
    "# Converter para minutos e segundos\n",
    "minutes = int(execution_time // 60)\n",
    "seconds = execution_time % 60\n",
    "\n",
    "print(f\"Tempo total: {minutes} minutos e {seconds:.2f} segundos\")"
   ]
  },
  {
   "cell_type": "code",
   "execution_count": null,
   "id": "9f734831",
   "metadata": {},
   "outputs": [],
   "source": [
    "import time\n",
    "start_time = time.time()"
   ]
  },
  {
   "cell_type": "markdown",
   "id": "5cc16e65",
   "metadata": {},
   "source": [
    "### Definição das métricas precisão, revocação, f1 score e acurácia utilizando Cross Validation"
   ]
  },
  {
   "cell_type": "code",
   "execution_count": null,
   "id": "82a89c80",
   "metadata": {},
   "outputs": [],
   "source": [
    "precision_scorer = make_scorer(precision_score, average='weighted')\n",
    "\n",
    "recall_scorer = make_scorer(recall_score, average='weighted')\n",
    "\n",
    "f1_scorer = make_scorer(f1_score, average='weighted')\n",
    "\n",
    "accuracy_scorer = 'accuracy'"
   ]
  },
  {
   "cell_type": "code",
   "execution_count": null,
   "id": "e9d01a0c",
   "metadata": {},
   "outputs": [],
   "source": [
    "recall_scores = cross_val_score(model, X_train, y_train, cv=2, scoring=recall_scorer)\n",
    "print(f'Cross-Validation Recall Scores: {recall_scores}')\n",
    "print(f'Mean Recall Score: {recall_scores.mean():.4f}')\n",
    "\n",
    "f1_scores = cross_val_score(model, X_train, y_train, cv=2, scoring=f1_scorer)\n",
    "print(f'Cross-Validation F1 Scores: {f1_scores}')\n",
    "print(f'Mean F1 Score: {f1_scores.mean():.4f}')"
   ]
  },
  {
   "cell_type": "code",
   "execution_count": null,
   "id": "fb56cba5",
   "metadata": {},
   "outputs": [],
   "source": [
    "# Fim da medição\n",
    "end_time = time.time()\n",
    "execution_time = end_time - start_time\n",
    "\n",
    "# Converter para minutos e segundos\n",
    "minutes = int(execution_time // 60)\n",
    "seconds = execution_time % 60\n",
    "\n",
    "print(f\"Tempo total: {minutes} minutos e {seconds:.2f} segundos\")"
   ]
  },
  {
   "cell_type": "markdown",
   "id": "3d2153a2",
   "metadata": {},
   "source": [
    "### Perguntas e Conclusão"
   ]
  },
  {
   "cell_type": "code",
   "execution_count": null,
   "id": "e6dcea95",
   "metadata": {},
   "outputs": [],
   "source": [
    "## Tarefa\n",
    "Qual o hiperparâmetro que garante a utilização do SVM no SGDClassifier? Com que valor foi configurado este hiper parâmetro nesta execução? \n",
    "\n",
    "Qual o hiperparâmetro que garante a utilização do Elastnet no SGDClassifier? Com que valor foi configurado este hiper parâmetro nesta execução? \n",
    "\n",
    "Quanto tempo o SGDClassifier levou para executar? \n",
    "\n",
    "Por que você acha que o SGDClassifier performou melhor em questão de rapidez na execução ? Justifique a resposta "
   ]
  },
  {
   "cell_type": "code",
   "execution_count": null,
   "id": "16f9f8ff",
   "metadata": {},
   "outputs": [],
   "source": []
  }
 ],
 "metadata": {
  "kernelspec": {
   "display_name": "Python 3 (ipykernel)",
   "language": "python",
   "name": "python3"
  },
  "language_info": {
   "codemirror_mode": {
    "name": "ipython",
    "version": 3
   },
   "file_extension": ".py",
   "mimetype": "text/x-python",
   "name": "python",
   "nbconvert_exporter": "python",
   "pygments_lexer": "ipython3",
   "version": "3.9.7"
  }
 },
 "nbformat": 4,
 "nbformat_minor": 5
}
